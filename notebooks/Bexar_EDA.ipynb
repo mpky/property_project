{
 "cells": [
  {
   "cell_type": "markdown",
   "metadata": {},
   "source": [
    "#### Goal\n",
    "Goal of this notebook is to provide some visualizations for data inspection and feature engineering."
   ]
  },
  {
   "cell_type": "code",
   "execution_count": 2,
   "metadata": {
    "ExecuteTime": {
     "end_time": "2019-12-31T18:43:29.858482Z",
     "start_time": "2019-12-31T18:43:29.812914Z"
    }
   },
   "outputs": [],
   "source": [
    "import numpy as np\n",
    "import pandas as pd\n",
    "import matplotlib.pyplot as plt\n",
    "import seaborn as sns\n",
    "%matplotlib inline\n",
    "import os\n",
    "import json\n",
    "\n",
    "sns.set_style('darkgrid')"
   ]
  },
  {
   "cell_type": "code",
   "execution_count": 3,
   "metadata": {
    "ExecuteTime": {
     "end_time": "2019-12-31T18:44:24.042115Z",
     "start_time": "2019-12-31T18:44:18.964572Z"
    },
    "scrolled": true
   },
   "outputs": [],
   "source": [
    "# Load in data\n",
    "prop_df = pd.read_hdf('../data/processed/bexar_processed.h5')"
   ]
  },
  {
   "cell_type": "markdown",
   "metadata": {},
   "source": [
    "##### Plot Properties on Map"
   ]
  },
  {
   "cell_type": "code",
   "execution_count": 8,
   "metadata": {
    "ExecuteTime": {
     "end_time": "2019-12-31T18:47:40.792080Z",
     "start_time": "2019-12-31T18:47:40.784391Z"
    }
   },
   "outputs": [],
   "source": [
    "import folium\n",
    "from folium.plugins import HeatMap\n",
    "from folium import plugins\n",
    "\n",
    "from geopy import geocoders\n",
    "from geopy.extra.rate_limiter import RateLimiter"
   ]
  },
  {
   "cell_type": "code",
   "execution_count": 16,
   "metadata": {
    "ExecuteTime": {
     "end_time": "2019-12-31T18:52:45.928880Z",
     "start_time": "2019-12-31T18:52:45.644665Z"
    }
   },
   "outputs": [
    {
     "data": {
      "text/plain": [
       "array([nan, '25319 BOERNE STAGE RD SAN ANTONIO, TX 78255',\n",
       "       '24424 BLANCO RD SAN ANTONIO, TX 78260',\n",
       "       '2227 SAWGRASS RDG SAN ANTONIO, TX 78260',\n",
       "       '2243 WINDING VW SAN ANTONIO, TX 78260',\n",
       "       '1115 LINKS CV SAN ANTONIO, TX 78260',\n",
       "       '1220 LINKS LN SAN ANTONIO, TX 78260',\n",
       "       '1228 LINKS LN SAN ANTONIO, TX 78260',\n",
       "       '1247 LINKS LN SAN ANTONIO, TX 78260',\n",
       "       '1103 OLYMPIC CLB SAN ANTONIO, TX 78260',\n",
       "       '1220 PINYON HL SAN ANTONIO, TX 78260',\n",
       "       '5 BOWOOD SAN ANTONIO , TX 78218',\n",
       "       '1422 TWILIGHT RDG SAN ANTONIO, TX 78258',\n",
       "       '1214 SUNSET VW SAN ANTONIO, TX 78258',\n",
       "       '107 CHAMPIONS ML SAN ANTONIO, TX 78258',\n",
       "       '6643 BISCAY BAY SAN ANTONIO, TX 78249',\n",
       "       '6613 BISCAY BAY SAN ANTONIO, TX 78249',\n",
       "       '25319 BUNKER DR SAN ANTONIO, TX 78260',\n",
       "       '25118 CALLAWAY SAN ANTONIO, TX 78260',\n",
       "       'HUNTRESS LN SAN ANTONIO, TX 78255',\n",
       "       '19422 US HIGHWAY 281 N SAN ANTONIO, TX 78258',\n",
       "       'N US HWY 281 SAN ANTONIO, TX 78259',\n",
       "       '19314 US HIGHWAY 281 N SAN ANTONIO, TX 78258',\n",
       "       '2310 N LOOP 1604 W SAN ANTONIO, TX 78248',\n",
       "       '7819 KINGSBURY WOOD SAN ANTONIO, TX 78240',\n",
       "       '8615 KINGSBURY VW SAN ANTONIO, TX 78240',\n",
       "       '7822 KINGSBURY WAY SAN ANTONIO, TX 78240',\n",
       "       '26922 VILLA TOSCANA SAN ANTONIO, TX 78260',\n",
       "       '3823 OLIVE GRN SAN ANTONIO, TX 78260',\n",
       "       '5018 SUMMIT PASS SAN ANTONIO, TX 78229',\n",
       "       '3911 LUZ DEL FARO SAN ANTONIO, TX 78261',\n",
       "       '3915 LUZ DEL FARO SAN ANTONIO, TX 78261', '3519 PAESANOS PKWY TX',\n",
       "       'TOUTANT BEAUREGARD RD  SAN ANTONIO, TX 78255',\n",
       "       '25205 TOUTANT BEAUREGARD RD  BOERNE, TX 78006',\n",
       "       '20203 STONE OAK PKWY SAN ANTONIO, TX 78258',\n",
       "       'STONE OAK PKWY SAN ANTONIO, TX 78258',\n",
       "       '25211 SPIDER ROCK  BOERNE, TX 78006',\n",
       "       '10618 STAR MICA  BOERNE, TX 78006',\n",
       "       '10607 STAR MICA  BOERNE, TX 78006',\n",
       "       '10611 STAR MICA  BOERNE, TX 78006',\n",
       "       '10615 STAR MICA  BOERNE, TX 78006',\n",
       "       '10619 STAR MICA  BOERNE, TX 78006',\n",
       "       '10623 STAR MICA  BOERNE, TX 78006',\n",
       "       'TOUTANT BEAUREGARD RD  BOERNE, TX 78006',\n",
       "       '1227 W OAK ESTATES DR SAN ANTONIO, TX 78260'], dtype=object)"
      ]
     },
     "execution_count": 16,
     "metadata": {},
     "output_type": "execute_result"
    }
   ],
   "source": [
    "prop_df.crim_address.unique()"
   ]
  },
  {
   "cell_type": "code",
   "execution_count": 31,
   "metadata": {
    "ExecuteTime": {
     "end_time": "2019-12-31T19:06:41.952058Z",
     "start_time": "2019-12-31T19:06:41.397010Z"
    }
   },
   "outputs": [],
   "source": [
    "mapping_crim_df = pd.DataFrame(data=prop_df.crim_address.unique())\n",
    "mapping_crim_df.dropna(inplace=True)"
   ]
  },
  {
   "cell_type": "code",
   "execution_count": 35,
   "metadata": {
    "ExecuteTime": {
     "end_time": "2019-12-31T19:08:40.180541Z",
     "start_time": "2019-12-31T19:08:40.168326Z"
    }
   },
   "outputs": [
    {
     "data": {
      "text/html": [
       "<div>\n",
       "<style scoped>\n",
       "    .dataframe tbody tr th:only-of-type {\n",
       "        vertical-align: middle;\n",
       "    }\n",
       "\n",
       "    .dataframe tbody tr th {\n",
       "        vertical-align: top;\n",
       "    }\n",
       "\n",
       "    .dataframe thead th {\n",
       "        text-align: right;\n",
       "    }\n",
       "</style>\n",
       "<table border=\"1\" class=\"dataframe\">\n",
       "  <thead>\n",
       "    <tr style=\"text-align: right;\">\n",
       "      <th></th>\n",
       "      <th>0</th>\n",
       "    </tr>\n",
       "  </thead>\n",
       "  <tbody>\n",
       "    <tr>\n",
       "      <th>1</th>\n",
       "      <td>25319 BOERNE STAGE RD SAN ANTONIO, TX 78255</td>\n",
       "    </tr>\n",
       "    <tr>\n",
       "      <th>2</th>\n",
       "      <td>24424 BLANCO RD SAN ANTONIO, TX 78260</td>\n",
       "    </tr>\n",
       "    <tr>\n",
       "      <th>3</th>\n",
       "      <td>2227 SAWGRASS RDG SAN ANTONIO, TX 78260</td>\n",
       "    </tr>\n",
       "    <tr>\n",
       "      <th>4</th>\n",
       "      <td>2243 WINDING VW SAN ANTONIO, TX 78260</td>\n",
       "    </tr>\n",
       "    <tr>\n",
       "      <th>5</th>\n",
       "      <td>1115 LINKS CV SAN ANTONIO, TX 78260</td>\n",
       "    </tr>\n",
       "  </tbody>\n",
       "</table>\n",
       "</div>"
      ],
      "text/plain": [
       "                                             0\n",
       "1  25319 BOERNE STAGE RD SAN ANTONIO, TX 78255\n",
       "2        24424 BLANCO RD SAN ANTONIO, TX 78260\n",
       "3      2227 SAWGRASS RDG SAN ANTONIO, TX 78260\n",
       "4        2243 WINDING VW SAN ANTONIO, TX 78260\n",
       "5          1115 LINKS CV SAN ANTONIO, TX 78260"
      ]
     },
     "execution_count": 35,
     "metadata": {},
     "output_type": "execute_result"
    }
   ],
   "source": [
    "mapping_crim_df.head()"
   ]
  },
  {
   "cell_type": "code",
   "execution_count": 47,
   "metadata": {
    "ExecuteTime": {
     "end_time": "2019-12-31T19:43:48.625142Z",
     "start_time": "2019-12-31T19:41:39.100630Z"
    },
    "scrolled": true
   },
   "outputs": [
    {
     "name": "stderr",
     "output_type": "stream",
     "text": [
      "/Users/matthewpokorny/anaconda3/envs/property_project_env/lib/python3.7/site-packages/ipykernel_launcher.py:1: DeprecationWarning: `country_bias` argument of the Nominatim.__init__ is deprecated and will be removed in geopy 2.0. Use Nominatim.geocode(country_codes='US') instead.\n",
      "  \"\"\"Entry point for launching an IPython kernel.\n"
     ]
    },
    {
     "name": "stdout",
     "output_type": "stream",
     "text": [
      "No geocode found at  2227 SAWGRASS RDG SAN ANTONIO, TX 78260\n",
      "No geocode found at  1103 OLYMPIC CLB SAN ANTONIO, TX 78260\n",
      "No geocode found at  1220 PINYON HL SAN ANTONIO, TX 78260\n",
      "No geocode found at  5 BOWOOD SAN ANTONIO , TX 78218\n",
      "No geocode found at  1422 TWILIGHT RDG SAN ANTONIO, TX 78258\n",
      "No geocode found at  107 CHAMPIONS ML SAN ANTONIO, TX 78258\n",
      "No geocode found at  25205 TOUTANT BEAUREGARD RD  BOERNE, TX 78006\n",
      "No geocode found at  25211 SPIDER ROCK  BOERNE, TX 78006\n",
      "No geocode found at  10618 STAR MICA  BOERNE, TX 78006\n",
      "No geocode found at  10607 STAR MICA  BOERNE, TX 78006\n",
      "No geocode found at  10611 STAR MICA  BOERNE, TX 78006\n",
      "No geocode found at  10615 STAR MICA  BOERNE, TX 78006\n",
      "No geocode found at  10619 STAR MICA  BOERNE, TX 78006\n",
      "No geocode found at  10623 STAR MICA  BOERNE, TX 78006\n",
      "No geocode found at  TOUTANT BEAUREGARD RD  BOERNE, TX 78006\n",
      "No geocode found at  1227 W OAK ESTATES DR SAN ANTONIO, TX 78260\n"
     ]
    }
   ],
   "source": [
    "locator = geocoders.Nominatim(user_agent=\"myGeocoder\", country_bias='US')\n",
    "geocode = RateLimiter(locator.geocode, min_delay_seconds=2)\n",
    "address_dict={}\n",
    "for i in mapping_crim_df[0].values:\n",
    "    try:\n",
    "        location = geocode(i, exactly_one=True)\n",
    "        address_dict[i] = (location.latitude,location.longitude)\n",
    "    \n",
    "    except Exception:\n",
    "        print('No geocode found at ', i)"
   ]
  },
  {
   "cell_type": "code",
   "execution_count": 48,
   "metadata": {
    "ExecuteTime": {
     "end_time": "2019-12-31T19:44:05.031627Z",
     "start_time": "2019-12-31T19:44:05.024259Z"
    }
   },
   "outputs": [],
   "source": [
    "mapping_crim_df['geolocation'] = mapping_crim_df[0].map(address_dict)"
   ]
  },
  {
   "cell_type": "code",
   "execution_count": 55,
   "metadata": {
    "ExecuteTime": {
     "end_time": "2019-12-31T19:45:11.085779Z",
     "start_time": "2019-12-31T19:45:11.074109Z"
    }
   },
   "outputs": [],
   "source": [
    "# mapping_crim_df.drop(columns=['latitude','longitude'],inplace=True)\n",
    "mapping_crim_df.head()\n",
    "mapping_crim_df[['latitude', 'longitude']] = pd.DataFrame(mapping_crim_df['geolocation'].tolist(), index=mapping_crim_df.index)"
   ]
  },
  {
   "cell_type": "code",
   "execution_count": 57,
   "metadata": {
    "ExecuteTime": {
     "end_time": "2019-12-31T19:45:19.403605Z",
     "start_time": "2019-12-31T19:45:19.393169Z"
    }
   },
   "outputs": [
    {
     "data": {
      "text/html": [
       "<div>\n",
       "<style scoped>\n",
       "    .dataframe tbody tr th:only-of-type {\n",
       "        vertical-align: middle;\n",
       "    }\n",
       "\n",
       "    .dataframe tbody tr th {\n",
       "        vertical-align: top;\n",
       "    }\n",
       "\n",
       "    .dataframe thead th {\n",
       "        text-align: right;\n",
       "    }\n",
       "</style>\n",
       "<table border=\"1\" class=\"dataframe\">\n",
       "  <thead>\n",
       "    <tr style=\"text-align: right;\">\n",
       "      <th></th>\n",
       "      <th>0</th>\n",
       "      <th>geolocation</th>\n",
       "      <th>latitude</th>\n",
       "      <th>longitude</th>\n",
       "    </tr>\n",
       "  </thead>\n",
       "  <tbody>\n",
       "    <tr>\n",
       "      <th>1</th>\n",
       "      <td>25319 BOERNE STAGE RD SAN ANTONIO, TX 78255</td>\n",
       "      <td>(29.6783461617647, -98.6669492205882)</td>\n",
       "      <td>29.67835</td>\n",
       "      <td>-98.66695</td>\n",
       "    </tr>\n",
       "    <tr>\n",
       "      <th>2</th>\n",
       "      <td>24424 BLANCO RD SAN ANTONIO, TX 78260</td>\n",
       "      <td>(29.7403439, -98.5129388)</td>\n",
       "      <td>29.74034</td>\n",
       "      <td>-98.51294</td>\n",
       "    </tr>\n",
       "    <tr>\n",
       "      <th>3</th>\n",
       "      <td>2227 SAWGRASS RDG SAN ANTONIO, TX 78260</td>\n",
       "      <td>NaN</td>\n",
       "      <td>nan</td>\n",
       "      <td>nan</td>\n",
       "    </tr>\n",
       "    <tr>\n",
       "      <th>4</th>\n",
       "      <td>2243 WINDING VW SAN ANTONIO, TX 78260</td>\n",
       "      <td>(29.6740033232973, -98.4645462110219)</td>\n",
       "      <td>29.67400</td>\n",
       "      <td>-98.46455</td>\n",
       "    </tr>\n",
       "    <tr>\n",
       "      <th>5</th>\n",
       "      <td>1115 LINKS CV SAN ANTONIO, TX 78260</td>\n",
       "      <td>(29.676438, -98.4751647477799)</td>\n",
       "      <td>29.67644</td>\n",
       "      <td>-98.47516</td>\n",
       "    </tr>\n",
       "  </tbody>\n",
       "</table>\n",
       "</div>"
      ],
      "text/plain": [
       "                                             0  \\\n",
       "1  25319 BOERNE STAGE RD SAN ANTONIO, TX 78255   \n",
       "2        24424 BLANCO RD SAN ANTONIO, TX 78260   \n",
       "3      2227 SAWGRASS RDG SAN ANTONIO, TX 78260   \n",
       "4        2243 WINDING VW SAN ANTONIO, TX 78260   \n",
       "5          1115 LINKS CV SAN ANTONIO, TX 78260   \n",
       "\n",
       "                             geolocation  latitude  longitude  \n",
       "1  (29.6783461617647, -98.6669492205882)  29.67835  -98.66695  \n",
       "2              (29.7403439, -98.5129388)  29.74034  -98.51294  \n",
       "3                                    NaN       nan        nan  \n",
       "4  (29.6740033232973, -98.4645462110219)  29.67400  -98.46455  \n",
       "5         (29.676438, -98.4751647477799)  29.67644  -98.47516  "
      ]
     },
     "execution_count": 57,
     "metadata": {},
     "output_type": "execute_result"
    }
   ],
   "source": [
    "mapping_crim_df.head()"
   ]
  },
  {
   "cell_type": "code",
   "execution_count": 58,
   "metadata": {
    "ExecuteTime": {
     "end_time": "2019-12-31T19:46:37.648297Z",
     "start_time": "2019-12-31T19:46:37.629479Z"
    }
   },
   "outputs": [],
   "source": [
    "data = [[row['latitude'],row['longitude']] for index, row in mapping_crim_df.dropna().iterrows()]"
   ]
  },
  {
   "cell_type": "code",
   "execution_count": 114,
   "metadata": {
    "ExecuteTime": {
     "end_time": "2019-12-31T20:17:37.677703Z",
     "start_time": "2019-12-31T20:17:37.664816Z"
    }
   },
   "outputs": [
    {
     "data": {
      "text/plain": [
       "[[29.6783461617647, -98.6669492205882],\n",
       " [29.7403439, -98.5129388],\n",
       " [29.6740033232973, -98.4645462110219],\n",
       " [29.676438, -98.4751647477799]]"
      ]
     },
     "execution_count": 114,
     "metadata": {},
     "output_type": "execute_result"
    }
   ],
   "source": [
    "data[:4]"
   ]
  },
  {
   "cell_type": "code",
   "execution_count": 113,
   "metadata": {
    "ExecuteTime": {
     "end_time": "2019-12-31T20:17:02.449400Z",
     "start_time": "2019-12-31T20:17:02.387301Z"
    }
   },
   "outputs": [
    {
     "data": {
      "text/html": [
       "<div style=\"width:100%;\"><div style=\"position:relative;width:100%;height:0;padding-bottom:60%;\"><iframe src=\"data:text/html;charset=utf-8;base64,PCFET0NUWVBFIGh0bWw+CjxoZWFkPiAgICAKICAgIDxtZXRhIGh0dHAtZXF1aXY9ImNvbnRlbnQtdHlwZSIgY29udGVudD0idGV4dC9odG1sOyBjaGFyc2V0PVVURi04IiAvPgogICAgCiAgICAgICAgPHNjcmlwdD4KICAgICAgICAgICAgTF9OT19UT1VDSCA9IGZhbHNlOwogICAgICAgICAgICBMX0RJU0FCTEVfM0QgPSBmYWxzZTsKICAgICAgICA8L3NjcmlwdD4KICAgIAogICAgPHNjcmlwdCBzcmM9Imh0dHBzOi8vY2RuLmpzZGVsaXZyLm5ldC9ucG0vbGVhZmxldEAxLjUuMS9kaXN0L2xlYWZsZXQuanMiPjwvc2NyaXB0PgogICAgPHNjcmlwdCBzcmM9Imh0dHBzOi8vY29kZS5qcXVlcnkuY29tL2pxdWVyeS0xLjEyLjQubWluLmpzIj48L3NjcmlwdD4KICAgIDxzY3JpcHQgc3JjPSJodHRwczovL21heGNkbi5ib290c3RyYXBjZG4uY29tL2Jvb3RzdHJhcC8zLjIuMC9qcy9ib290c3RyYXAubWluLmpzIj48L3NjcmlwdD4KICAgIDxzY3JpcHQgc3JjPSJodHRwczovL2NkbmpzLmNsb3VkZmxhcmUuY29tL2FqYXgvbGlicy9MZWFmbGV0LmF3ZXNvbWUtbWFya2Vycy8yLjAuMi9sZWFmbGV0LmF3ZXNvbWUtbWFya2Vycy5qcyI+PC9zY3JpcHQ+CiAgICA8bGluayByZWw9InN0eWxlc2hlZXQiIGhyZWY9Imh0dHBzOi8vY2RuLmpzZGVsaXZyLm5ldC9ucG0vbGVhZmxldEAxLjUuMS9kaXN0L2xlYWZsZXQuY3NzIi8+CiAgICA8bGluayByZWw9InN0eWxlc2hlZXQiIGhyZWY9Imh0dHBzOi8vbWF4Y2RuLmJvb3RzdHJhcGNkbi5jb20vYm9vdHN0cmFwLzMuMi4wL2Nzcy9ib290c3RyYXAubWluLmNzcyIvPgogICAgPGxpbmsgcmVsPSJzdHlsZXNoZWV0IiBocmVmPSJodHRwczovL21heGNkbi5ib290c3RyYXBjZG4uY29tL2Jvb3RzdHJhcC8zLjIuMC9jc3MvYm9vdHN0cmFwLXRoZW1lLm1pbi5jc3MiLz4KICAgIDxsaW5rIHJlbD0ic3R5bGVzaGVldCIgaHJlZj0iaHR0cHM6Ly9tYXhjZG4uYm9vdHN0cmFwY2RuLmNvbS9mb250LWF3ZXNvbWUvNC42LjMvY3NzL2ZvbnQtYXdlc29tZS5taW4uY3NzIi8+CiAgICA8bGluayByZWw9InN0eWxlc2hlZXQiIGhyZWY9Imh0dHBzOi8vY2RuanMuY2xvdWRmbGFyZS5jb20vYWpheC9saWJzL0xlYWZsZXQuYXdlc29tZS1tYXJrZXJzLzIuMC4yL2xlYWZsZXQuYXdlc29tZS1tYXJrZXJzLmNzcyIvPgogICAgPGxpbmsgcmVsPSJzdHlsZXNoZWV0IiBocmVmPSJodHRwczovL3Jhd2Nkbi5naXRoYWNrLmNvbS9weXRob24tdmlzdWFsaXphdGlvbi9mb2xpdW0vbWFzdGVyL2ZvbGl1bS90ZW1wbGF0ZXMvbGVhZmxldC5hd2Vzb21lLnJvdGF0ZS5jc3MiLz4KICAgIDxzdHlsZT5odG1sLCBib2R5IHt3aWR0aDogMTAwJTtoZWlnaHQ6IDEwMCU7bWFyZ2luOiAwO3BhZGRpbmc6IDA7fTwvc3R5bGU+CiAgICA8c3R5bGU+I21hcCB7cG9zaXRpb246YWJzb2x1dGU7dG9wOjA7Ym90dG9tOjA7cmlnaHQ6MDtsZWZ0OjA7fTwvc3R5bGU+CiAgICAKICAgICAgICAgICAgPG1ldGEgbmFtZT0idmlld3BvcnQiIGNvbnRlbnQ9IndpZHRoPWRldmljZS13aWR0aCwKICAgICAgICAgICAgICAgIGluaXRpYWwtc2NhbGU9MS4wLCBtYXhpbXVtLXNjYWxlPTEuMCwgdXNlci1zY2FsYWJsZT1ubyIgLz4KICAgICAgICAgICAgPHN0eWxlPgogICAgICAgICAgICAgICAgI21hcF82ZTQ5NTUxMDQzYjI0NWRiODRkMzBjNDkyYWNkNjQxYiB7CiAgICAgICAgICAgICAgICAgICAgcG9zaXRpb246IHJlbGF0aXZlOwogICAgICAgICAgICAgICAgICAgIHdpZHRoOiAxMDAuMCU7CiAgICAgICAgICAgICAgICAgICAgaGVpZ2h0OiAxMDAuMCU7CiAgICAgICAgICAgICAgICAgICAgbGVmdDogMC4wJTsKICAgICAgICAgICAgICAgICAgICB0b3A6IDAuMCU7CiAgICAgICAgICAgICAgICB9CiAgICAgICAgICAgIDwvc3R5bGU+CiAgICAgICAgCjwvaGVhZD4KPGJvZHk+ICAgIAogICAgCiAgICAgICAgICAgIDxkaXYgY2xhc3M9ImZvbGl1bS1tYXAiIGlkPSJtYXBfNmU0OTU1MTA0M2IyNDVkYjg0ZDMwYzQ5MmFjZDY0MWIiID48L2Rpdj4KICAgICAgICAKPC9ib2R5Pgo8c2NyaXB0PiAgICAKICAgIAogICAgICAgICAgICB2YXIgbWFwXzZlNDk1NTEwNDNiMjQ1ZGI4NGQzMGM0OTJhY2Q2NDFiID0gTC5tYXAoCiAgICAgICAgICAgICAgICAibWFwXzZlNDk1NTEwNDNiMjQ1ZGI4NGQzMGM0OTJhY2Q2NDFiIiwKICAgICAgICAgICAgICAgIHsKICAgICAgICAgICAgICAgICAgICBjZW50ZXI6IFsyOS41MTMxNTEsIC05OC40OTc5MDFdLAogICAgICAgICAgICAgICAgICAgIGNyczogTC5DUlMuRVBTRzM4NTcsCiAgICAgICAgICAgICAgICAgICAgem9vbTogOS41LAogICAgICAgICAgICAgICAgICAgIHpvb21Db250cm9sOiB0cnVlLAogICAgICAgICAgICAgICAgICAgIHByZWZlckNhbnZhczogZmFsc2UsCiAgICAgICAgICAgICAgICB9CiAgICAgICAgICAgICk7CgogICAgICAgICAgICAKCiAgICAgICAgCiAgICAKICAgICAgICAgICAgdmFyIHRpbGVfbGF5ZXJfMDkzMjUwMmM4NmZkNDA4MjkxZTkzYzQxZTRlODZhY2MgPSBMLnRpbGVMYXllcigKICAgICAgICAgICAgICAgICJodHRwczovL3tzfS50aWxlLm9wZW5zdHJlZXRtYXAub3JnL3t6fS97eH0ve3l9LnBuZyIsCiAgICAgICAgICAgICAgICB7ImF0dHJpYnV0aW9uIjogIkRhdGEgYnkgXHUwMDI2Y29weTsgXHUwMDNjYSBocmVmPVwiaHR0cDovL29wZW5zdHJlZXRtYXAub3JnXCJcdTAwM2VPcGVuU3RyZWV0TWFwXHUwMDNjL2FcdTAwM2UsIHVuZGVyIFx1MDAzY2EgaHJlZj1cImh0dHA6Ly93d3cub3BlbnN0cmVldG1hcC5vcmcvY29weXJpZ2h0XCJcdTAwM2VPRGJMXHUwMDNjL2FcdTAwM2UuIiwgImRldGVjdFJldGluYSI6IGZhbHNlLCAibWF4TmF0aXZlWm9vbSI6IDE4LCAibWF4Wm9vbSI6IDE4LCAibWluWm9vbSI6IDAsICJub1dyYXAiOiBmYWxzZSwgIm9wYWNpdHkiOiAxLCAic3ViZG9tYWlucyI6ICJhYmMiLCAidG1zIjogZmFsc2V9CiAgICAgICAgICAgICkuYWRkVG8obWFwXzZlNDk1NTEwNDNiMjQ1ZGI4NGQzMGM0OTJhY2Q2NDFiKTsKICAgICAgICAKICAgIAogICAgICAgICAgICB2YXIgbWFya2VyXzMyNmE4Yzg2ZTVkMTQ4NDBhZmFiNjQxOTIyMTQ0YTczID0gTC5tYXJrZXIoCiAgICAgICAgICAgICAgICBbMjkuNjc4MzQ2MTYxNzY0NywgLTk4LjY2Njk0OTIyMDU4ODJdLAogICAgICAgICAgICAgICAge30KICAgICAgICAgICAgKS5hZGRUbyhtYXBfNmU0OTU1MTA0M2IyNDVkYjg0ZDMwYzQ5MmFjZDY0MWIpOwogICAgICAgIAogICAgCiAgICAgICAgICAgIHZhciBtYXJrZXJfMjNiYzA5MWNhM2FlNDNhNjg3YjhjYTgxNGEzZmU0OWUgPSBMLm1hcmtlcigKICAgICAgICAgICAgICAgIFsyOS43NDAzNDM5LCAtOTguNTEyOTM4OF0sCiAgICAgICAgICAgICAgICB7fQogICAgICAgICAgICApLmFkZFRvKG1hcF82ZTQ5NTUxMDQzYjI0NWRiODRkMzBjNDkyYWNkNjQxYik7CiAgICAgICAgCiAgICAKICAgICAgICAgICAgdmFyIG1hcmtlcl8yM2JlNjUwOWRiZDA0NzVhYmUzM2E3MmU2ZjZlNjNlMiA9IEwubWFya2VyKAogICAgICAgICAgICAgICAgWzI5LjY3NDAwMzMyMzI5NzMsIC05OC40NjQ1NDYyMTEwMjE5XSwKICAgICAgICAgICAgICAgIHt9CiAgICAgICAgICAgICkuYWRkVG8obWFwXzZlNDk1NTEwNDNiMjQ1ZGI4NGQzMGM0OTJhY2Q2NDFiKTsKICAgICAgICAKICAgIAogICAgICAgICAgICB2YXIgbWFya2VyX2UyNmFiYjk1Y2EyOTQ0MDFhNjViNzg0NzZmMTIwMWI3ID0gTC5tYXJrZXIoCiAgICAgICAgICAgICAgICBbMjkuNjc2NDM4LCAtOTguNDc1MTY0NzQ3Nzc5OV0sCiAgICAgICAgICAgICAgICB7fQogICAgICAgICAgICApLmFkZFRvKG1hcF82ZTQ5NTUxMDQzYjI0NWRiODRkMzBjNDkyYWNkNjQxYik7CiAgICAgICAgCiAgICAKICAgICAgICAgICAgdmFyIG1hcmtlcl8xOWExZjcwNzlmMmU0ODVmOTY0OTY5NGYzMjZjNDA1NSA9IEwubWFya2VyKAogICAgICAgICAgICAgICAgWzI5LjY3NjIwMjY5MjMwNzcsIC05OC40NzQ3NjddLAogICAgICAgICAgICAgICAge30KICAgICAgICAgICAgKS5hZGRUbyhtYXBfNmU0OTU1MTA0M2IyNDVkYjg0ZDMwYzQ5MmFjZDY0MWIpOwogICAgICAgIAogICAgCiAgICAgICAgICAgIHZhciBtYXJrZXJfYjg1ZTQxYzRlM2ViNGUzNThhOThlZDFhMTdmNjNiZGYgPSBMLm1hcmtlcigKICAgICAgICAgICAgICAgIFsyOS42NzU5MzksIC05OC40NzQ2NjNdLAogICAgICAgICAgICAgICAge30KICAgICAgICAgICAgKS5hZGRUbyhtYXBfNmU0OTU1MTA0M2IyNDVkYjg0ZDMwYzQ5MmFjZDY0MWIpOwogICAgICAgIAogICAgCiAgICAgICAgICAgIHZhciBtYXJrZXJfYmUwM2VlMDI2MDVjNDk0NDkzOGYxMGQzYTRjNjQzZTggPSBMLm1hcmtlcigKICAgICAgICAgICAgICAgIFsyOS42NzU0NzIwOTkzNzY5LCAtOTguNDc0Mjc4NzI1OTE0OV0sCiAgICAgICAgICAgICAgICB7fQogICAgICAgICAgICApLmFkZFRvKG1hcF82ZTQ5NTUxMDQzYjI0NWRiODRkMzBjNDkyYWNkNjQxYik7CiAgICAgICAgCiAgICAKICAgICAgICAgICAgdmFyIG1hcmtlcl8yZjUxMTk5YTRiMDU0ODQ5YjhiOWYxODRkZWI5ZGQ1MyA9IEwubWFya2VyKAogICAgICAgICAgICAgICAgWzI5LjYyNDA0OTE4NTEyMzIsIC05OC41MDQ4NTMyMjg4MjAxXSwKICAgICAgICAgICAgICAgIHt9CiAgICAgICAgICAgICkuYWRkVG8obWFwXzZlNDk1NTEwNDNiMjQ1ZGI4NGQzMGM0OTJhY2Q2NDFiKTsKICAgICAgICAKICAgIAogICAgICAgICAgICB2YXIgbWFya2VyXzMwNjcwNTM4NmE1NzQ4MmM4YjQ3MTE2NjhlNjdiYmVlID0gTC5tYXJrZXIoCiAgICAgICAgICAgICAgICBbMjkuNTQ2MzkyLCAtOTguNjE4ODU3XSwKICAgICAgICAgICAgICAgIHt9CiAgICAgICAgICAgICkuYWRkVG8obWFwXzZlNDk1NTEwNDNiMjQ1ZGI4NGQzMGM0OTJhY2Q2NDFiKTsKICAgICAgICAKICAgIAogICAgICAgICAgICB2YXIgbWFya2VyXzliOTA0M2YxYzJlYTRjNTM4MzgzOTQxMDJmY2MwY2RlID0gTC5tYXJrZXIoCiAgICAgICAgICAgICAgICBbMjkuNTQ2NDQyMjM3OTQ3NSwgLTk4LjYxNjYxODIwOTc1NDldLAogICAgICAgICAgICAgICAge30KICAgICAgICAgICAgKS5hZGRUbyhtYXBfNmU0OTU1MTA0M2IyNDVkYjg0ZDMwYzQ5MmFjZDY0MWIpOwogICAgICAgIAogICAgCiAgICAgICAgICAgIHZhciBtYXJrZXJfNzhjOTI0MWI2MzM4NGE0MThiYTQwZTdhNWQ0YmYzNTkgPSBMLm1hcmtlcigKICAgICAgICAgICAgICAgIFsyOS42Nzc1ODM1ODM5MTQ0LCAtOTguNDc1MDg3NjU0NzUyOF0sCiAgICAgICAgICAgICAgICB7fQogICAgICAgICAgICApLmFkZFRvKG1hcF82ZTQ5NTUxMDQzYjI0NWRiODRkMzBjNDkyYWNkNjQxYik7CiAgICAgICAgCiAgICAKICAgICAgICAgICAgdmFyIG1hcmtlcl8xNmFjMmIyOTVkY2E0YzI2YjM4MDkzMzVlYzNlNjBlYiA9IEwubWFya2VyKAogICAgICAgICAgICAgICAgWzI5LjY3ODE4OTY3MzE3MzcsIC05OC40NjMzOTk3MTkxMDI5XSwKICAgICAgICAgICAgICAgIHt9CiAgICAgICAgICAgICkuYWRkVG8obWFwXzZlNDk1NTEwNDNiMjQ1ZGI4NGQzMGM0OTJhY2Q2NDFiKTsKICAgICAgICAKICAgIAogICAgICAgICAgICB2YXIgbWFya2VyXzk4YzY5OGFlY2NiYzQyM2FiM2IwYTQ0ZDM2OWU3YTc2ID0gTC5tYXJrZXIoCiAgICAgICAgICAgICAgICBbMjkuNjY4ODU0MSwgLTk4LjY4NTEwNTRdLAogICAgICAgICAgICAgICAge30KICAgICAgICAgICAgKS5hZGRUbyhtYXBfNmU0OTU1MTA0M2IyNDVkYjg0ZDMwYzQ5MmFjZDY0MWIpOwogICAgICAgIAogICAgCiAgICAgICAgICAgIHZhciBtYXJrZXJfNjkwYmI3YmFiYjhmNGJlZjliYWUyY2YxZjk4NmYzYTkgPSBMLm1hcmtlcigKICAgICAgICAgICAgICAgIFsyOS42MTI1NDIsIC05OC40Njc1MzldLAogICAgICAgICAgICAgICAge30KICAgICAgICAgICAgKS5hZGRUbyhtYXBfNmU0OTU1MTA0M2IyNDVkYjg0ZDMwYzQ5MmFjZDY0MWIpOwogICAgICAgIAogICAgCiAgICAgICAgICAgIHZhciBtYXJrZXJfYmU2MWE0MGQ4MjE3NDMwMjg4OGNkMDcxZTAyNTFmMDYgPSBMLm1hcmtlcigKICAgICAgICAgICAgICAgIFsyOS42NTA4NjQxLCAtOTguNDUwNDk3OF0sCiAgICAgICAgICAgICAgICB7fQogICAgICAgICAgICApLmFkZFRvKG1hcF82ZTQ5NTUxMDQzYjI0NWRiODRkMzBjNDkyYWNkNjQxYik7CiAgICAgICAgCiAgICAKICAgICAgICAgICAgdmFyIG1hcmtlcl80NjczMDY3N2RjMGY0MWU0YmFmNjAxMmM5N2YwNWNhNCA9IEwubWFya2VyKAogICAgICAgICAgICAgICAgWzI5LjYxMjU0MiwgLTk4LjQ2NzUzOV0sCiAgICAgICAgICAgICAgICB7fQogICAgICAgICAgICApLmFkZFRvKG1hcF82ZTQ5NTUxMDQzYjI0NWRiODRkMzBjNDkyYWNkNjQxYik7CiAgICAgICAgCiAgICAKICAgICAgICAgICAgdmFyIG1hcmtlcl9jY2RkY2I2YmIwYzM0OWQwYjhkY2Y2YmJmYTI5NDE5YyA9IEwubWFya2VyKAogICAgICAgICAgICAgICAgWzI5LjYwNTIwNzY1LCAtOTguNTI3NzIzMjVdLAogICAgICAgICAgICAgICAge30KICAgICAgICAgICAgKS5hZGRUbyhtYXBfNmU0OTU1MTA0M2IyNDVkYjg0ZDMwYzQ5MmFjZDY0MWIpOwogICAgICAgIAogICAgCiAgICAgICAgICAgIHZhciBtYXJrZXJfNDI3OWI0NjBlMGFiNDk4MWE3MWQ2MGI3MThkN2JkMmIgPSBMLm1hcmtlcigKICAgICAgICAgICAgICAgIFsyOS41MTMzOTQ3Mzc3NDI1LCAtOTguNjI2MTc0NzUzMDA2OF0sCiAgICAgICAgICAgICAgICB7fQogICAgICAgICAgICApLmFkZFRvKG1hcF82ZTQ5NTUxMDQzYjI0NWRiODRkMzBjNDkyYWNkNjQxYik7CiAgICAgICAgCiAgICAKICAgICAgICAgICAgdmFyIG1hcmtlcl82ZDU5YTk0ZjFiMzU0NmM3YjliZWUyZGM5MmUwN2UyYiA9IEwubWFya2VyKAogICAgICAgICAgICAgICAgWzI5LjUxMzUxMzgsIC05OC42MjU4NTUyXSwKICAgICAgICAgICAgICAgIHt9CiAgICAgICAgICAgICkuYWRkVG8obWFwXzZlNDk1NTEwNDNiMjQ1ZGI4NGQzMGM0OTJhY2Q2NDFiKTsKICAgICAgICAKICAgIAogICAgICAgICAgICB2YXIgbWFya2VyXzQ0YmUzMGFjNGQzNjQyZTE5NjVjN2MzNDllZWM2NzM2ID0gTC5tYXJrZXIoCiAgICAgICAgICAgICAgICBbMjkuNTEyMTYzNjQ4MTcxNSwgLTk4LjYyNjA4NDUyNTMyMDNdLAogICAgICAgICAgICAgICAge30KICAgICAgICAgICAgKS5hZGRUbyhtYXBfNmU0OTU1MTA0M2IyNDVkYjg0ZDMwYzQ5MmFjZDY0MWIpOwogICAgICAgIAogICAgCiAgICAgICAgICAgIHZhciBtYXJrZXJfNDBkOWI5ZmVjNWFlNGY5ZWExYmY2Zjg0ODU5MzEyMWUgPSBMLm1hcmtlcigKICAgICAgICAgICAgICAgIFsyOS42OTk5MTk0LCAtOTguNDgyMDc3Nl0sCiAgICAgICAgICAgICAgICB7fQogICAgICAgICAgICApLmFkZFRvKG1hcF82ZTQ5NTUxMDQzYjI0NWRiODRkMzBjNDkyYWNkNjQxYik7CiAgICAgICAgCiAgICAKICAgICAgICAgICAgdmFyIG1hcmtlcl85MjI0NTg5MGMxOTM0MjFlYjdmYjllZTE3OTg5NDkzNCA9IEwubWFya2VyKAogICAgICAgICAgICAgICAgWzI5LjY5OTQ5NjEsIC05OC40ODI4Njk3XSwKICAgICAgICAgICAgICAgIHt9CiAgICAgICAgICAgICkuYWRkVG8obWFwXzZlNDk1NTEwNDNiMjQ1ZGI4NGQzMGM0OTJhY2Q2NDFiKTsKICAgICAgICAKICAgIAogICAgICAgICAgICB2YXIgbWFya2VyX2ViY2VmYjhmZmRjYTQ4NjI4ZjA4ZDY3MmYwMTBmMWUxID0gTC5tYXJrZXIoCiAgICAgICAgICAgICAgICBbMjkuNDkyOTYyMDQwODE2MywgLTk4LjU4NDE1NjE2MzI2NTNdLAogICAgICAgICAgICAgICAge30KICAgICAgICAgICAgKS5hZGRUbyhtYXBfNmU0OTU1MTA0M2IyNDVkYjg0ZDMwYzQ5MmFjZDY0MWIpOwogICAgICAgIAogICAgCiAgICAgICAgICAgIHZhciBtYXJrZXJfMGE0Nzc0YTBhNzQ1NGE0ZGExNDIwZTdhMWFiYjY3OTQgPSBMLm1hcmtlcigKICAgICAgICAgICAgICAgIFsyOS42NjQ4MjQxNDg1MjE2LCAtOTguNDE5MzExNzY4NDczM10sCiAgICAgICAgICAgICAgICB7fQogICAgICAgICAgICApLmFkZFRvKG1hcF82ZTQ5NTUxMDQzYjI0NWRiODRkMzBjNDkyYWNkNjQxYik7CiAgICAgICAgCiAgICAKICAgICAgICAgICAgdmFyIG1hcmtlcl83MTZjODdmMGFkODg0YmVlOTg1NmNmMjYwOWI5MmJlYyA9IEwubWFya2VyKAogICAgICAgICAgICAgICAgWzI5LjY2NDYzNzQwNzkzMDMsIC05OC40MTkzMDk2NzU4NjI2XSwKICAgICAgICAgICAgICAgIHt9CiAgICAgICAgICAgICkuYWRkVG8obWFwXzZlNDk1NTEwNDNiMjQ1ZGI4NGQzMGM0OTJhY2Q2NDFiKTsKICAgICAgICAKICAgIAogICAgICAgICAgICB2YXIgbWFya2VyXzBjYTVlNWE2YTdhMTQ2ZGU4ZWRhNDM4NTM2NjRlNDc1ID0gTC5tYXJrZXIoCiAgICAgICAgICAgICAgICBbMjkuNjAxMjIyNywgLTk4LjU0NzIwNDNdLAogICAgICAgICAgICAgICAge30KICAgICAgICAgICAgKS5hZGRUbyhtYXBfNmU0OTU1MTA0M2IyNDVkYjg0ZDMwYzQ5MmFjZDY0MWIpOwogICAgICAgIAogICAgCiAgICAgICAgICAgIHZhciBtYXJrZXJfNDA5YTMxNWM2YzdhNDkxMWFkYWE5MDEzNmMzOGY1MjAgPSBMLm1hcmtlcigKICAgICAgICAgICAgICAgIFsyOS42OTM0NDEsIC05OC43MDgwMzNdLAogICAgICAgICAgICAgICAge30KICAgICAgICAgICAgKS5hZGRUbyhtYXBfNmU0OTU1MTA0M2IyNDVkYjg0ZDMwYzQ5MmFjZDY0MWIpOwogICAgICAgIAogICAgCiAgICAgICAgICAgIHZhciBtYXJrZXJfMDNmNmQyMGMyY2UyNGQ4NDk4MDliYWM0Y2Y3YjgxMjYgPSBMLm1hcmtlcigKICAgICAgICAgICAgICAgIFsyOS42MjM0OTU0LCAtOTguNDk0ODE1OF0sCiAgICAgICAgICAgICAgICB7fQogICAgICAgICAgICApLmFkZFRvKG1hcF82ZTQ5NTUxMDQzYjI0NWRiODRkMzBjNDkyYWNkNjQxYik7CiAgICAgICAgCiAgICAKICAgICAgICAgICAgdmFyIG1hcmtlcl84MDg1NjZiN2Q3NjE0MTc5OGRjNWI0NmFmMGY5MWNjYyA9IEwubWFya2VyKAogICAgICAgICAgICAgICAgWzI5LjYzOTEwNSwgLTk4LjQ5NDc1Ml0sCiAgICAgICAgICAgICAgICB7fQogICAgICAgICAgICApLmFkZFRvKG1hcF82ZTQ5NTUxMDQzYjI0NWRiODRkMzBjNDkyYWNkNjQxYik7CiAgICAgICAgCjwvc2NyaXB0Pg==\" style=\"position:absolute;width:100%;height:100%;left:0;top:0;border:none !important;\" allowfullscreen webkitallowfullscreen mozallowfullscreen></iframe></div></div>"
      ],
      "text/plain": [
       "<folium.folium.Map at 0x136719e50>"
      ]
     },
     "execution_count": 113,
     "metadata": {},
     "output_type": "execute_result"
    }
   ],
   "source": [
    "m = folium.Map(\n",
    "    location=[29.513151, -98.497901],\n",
    "    zoom_start=9.5\n",
    ")\n",
    "\n",
    "for i in data:\n",
    "    folium.Marker(i).add_to(m)\n",
    "    \n",
    "m"
   ]
  },
  {
   "cell_type": "markdown",
   "metadata": {
    "ExecuteTime": {
     "end_time": "2019-12-26T22:02:17.788906Z",
     "start_time": "2019-12-26T22:02:17.785296Z"
    }
   },
   "source": [
    "##### Exploratory Plotting"
   ]
  },
  {
   "cell_type": "code",
   "execution_count": 118,
   "metadata": {
    "ExecuteTime": {
     "end_time": "2019-12-31T20:37:26.637325Z",
     "start_time": "2019-12-31T20:37:26.556547Z"
    }
   },
   "outputs": [
    {
     "name": "stdout",
     "output_type": "stream",
     "text": [
      "2634\n"
     ]
    }
   ],
   "source": [
    "# Is there a particular neighborhood or zip code that all these properties are in\n",
    "print(prop_df.hood_cd.nunique())"
   ]
  },
  {
   "cell_type": "code",
   "execution_count": 126,
   "metadata": {
    "ExecuteTime": {
     "end_time": "2019-12-31T20:39:43.150620Z",
     "start_time": "2019-12-31T20:39:42.753839Z"
    }
   },
   "outputs": [
    {
     "data": {
      "image/png": "[encoded data removed]",
      "text/plain": [
       "<Figure size 720x360 with 1 Axes>"
      ]
     },
     "metadata": {},
     "output_type": "display_data"
    }
   ],
   "source": [
    "prop_df[prop_df.crim_prop==1]['hood_cd'].value_counts().plot(kind='bar',figsize=(10,5))\n",
    "plt.ylabel('Properties Count')\n",
    "plt.xlabel('Neighborhood Code (Bexar County)')\n",
    "plt.show()"
   ]
  },
  {
   "cell_type": "code",
   "execution_count": 133,
   "metadata": {
    "ExecuteTime": {
     "end_time": "2019-12-31T20:48:24.557390Z",
     "start_time": "2019-12-31T20:48:23.479385Z"
    }
   },
   "outputs": [],
   "source": [
    "prop_df['situs_zip'] = prop_df['situs_zip'].astype('category')"
   ]
  },
  {
   "cell_type": "code",
   "execution_count": 138,
   "metadata": {
    "ExecuteTime": {
     "end_time": "2019-12-31T20:49:40.862207Z",
     "start_time": "2019-12-31T20:49:40.562829Z"
    },
    "scrolled": true
   },
   "outputs": [
    {
     "data": {
      "image/png": "[encoded data removed]",
      "text/plain": [
       "<Figure size 720x360 with 1 Axes>"
      ]
     },
     "metadata": {},
     "output_type": "display_data"
    }
   ],
   "source": [
    "prop_df[prop_df.crim_prop==1]['situs_zip'].value_counts()[:11].plot(kind='bar',figsize=(10,5))\n",
    "plt.ylabel('Properties Count')\n",
    "plt.xlabel('Zip Code')\n",
    "plt.show()"
   ]
  },
  {
   "cell_type": "code",
   "execution_count": 139,
   "metadata": {
    "ExecuteTime": {
     "end_time": "2019-12-31T20:50:42.220631Z",
     "start_time": "2019-12-31T20:50:42.192466Z"
    }
   },
   "outputs": [
    {
     "name": "stdout",
     "output_type": "stream",
     "text": [
      "100\n"
     ]
    }
   ],
   "source": [
    "print(prop_df.situs_zip.nunique())"
   ]
  },
  {
   "cell_type": "markdown",
   "metadata": {},
   "source": [
    "As plotting the locations of these properties above showed, location does seem to matter in this situation."
   ]
  },
  {
   "cell_type": "code",
   "execution_count": 142,
   "metadata": {
    "ExecuteTime": {
     "end_time": "2019-12-31T20:53:29.943969Z",
     "start_time": "2019-12-31T20:53:29.884599Z"
    }
   },
   "outputs": [
    {
     "name": "stdout",
     "output_type": "stream",
     "text": [
      "1    39\n",
      "0     9\n",
      "Name: owner_legal_person, dtype: int64\n",
      "1    41\n",
      "0     7\n",
      "Name: owner_likely_company, dtype: int64\n"
     ]
    }
   ],
   "source": [
    "# Are these properties owned by companies or people?\n",
    "print(prop_df[prop_df.crim_prop==1]['owner_legal_person'].value_counts())\n",
    "print(prop_df[prop_df.crim_prop==1]['owner_likely_company'].value_counts())"
   ]
  },
  {
   "cell_type": "code",
   "execution_count": 144,
   "metadata": {
    "ExecuteTime": {
     "end_time": "2019-12-31T20:56:24.630396Z",
     "start_time": "2019-12-31T20:56:22.577304Z"
    }
   },
   "outputs": [
    {
     "name": "stdout",
     "output_type": "stream",
     "text": [
      "0    565782\n",
      "1     55655\n",
      "Name: owner_legal_person, dtype: int64\n",
      "0    560770\n",
      "1     60667\n",
      "Name: owner_likely_company, dtype: int64\n"
     ]
    }
   ],
   "source": [
    "# How does that compare to the broader population?\n",
    "print(prop_df[prop_df.crim_prop!=1]['owner_legal_person'].value_counts())\n",
    "print(prop_df[prop_df.crim_prop!=1]['owner_likely_company'].value_counts())"
   ]
  },
  {
   "cell_type": "code",
   "execution_count": 146,
   "metadata": {
    "ExecuteTime": {
     "end_time": "2019-12-31T20:57:13.434901Z",
     "start_time": "2019-12-31T20:57:13.429421Z"
    }
   },
   "outputs": [
    {
     "name": "stdout",
     "output_type": "stream",
     "text": [
      "9.836827612048458\n",
      "10.818517395723736\n"
     ]
    }
   ],
   "source": [
    "print(55655/565782 * 100)\n",
    "print(60667/560770 * 100)"
   ]
  },
  {
   "cell_type": "markdown",
   "metadata": {},
   "source": [
    "Far different than the broader population of residential real estate."
   ]
  },
  {
   "cell_type": "markdown",
   "metadata": {},
   "source": [
    "#### Visualizations on the Broader Data"
   ]
  },
  {
   "cell_type": "code",
   "execution_count": 160,
   "metadata": {
    "ExecuteTime": {
     "end_time": "2019-12-31T21:22:48.856193Z",
     "start_time": "2019-12-31T21:22:48.468161Z"
    }
   },
   "outputs": [
    {
     "data": {
      "image/png": "[encoded data removed]",
      "text/plain": [
       "<Figure size 720x360 with 1 Axes>"
      ]
     },
     "metadata": {},
     "output_type": "display_data"
    }
   ],
   "source": [
    "# What is the distribution of the deed_dt in Bexar County\n",
    "plt.figure(figsize=(10,5))\n",
    "plt.plot(prop_df.deed_dt.value_counts().sort_index()[200:])\n",
    "plt.title(\"Deed Transfers per Year\")\n",
    "plt.show()"
   ]
  },
  {
   "cell_type": "code",
   "execution_count": 175,
   "metadata": {
    "ExecuteTime": {
     "end_time": "2019-12-31T21:33:57.815193Z",
     "start_time": "2019-12-31T21:33:57.706123Z"
    }
   },
   "outputs": [
    {
     "data": {
      "text/plain": [
       "owner_legal_person\n",
       "0   105.58204\n",
       "1   167.62569\n",
       "Name: price_psf, dtype: float64"
      ]
     },
     "execution_count": 175,
     "metadata": {},
     "output_type": "execute_result"
    }
   ],
   "source": [
    "# Is the price per square foot higher for company owners or natural people?\n",
    "prop_df.groupby('owner_legal_person')['price_psf'].mean()"
   ]
  },
  {
   "cell_type": "code",
   "execution_count": 181,
   "metadata": {
    "ExecuteTime": {
     "end_time": "2019-12-31T21:36:30.418665Z",
     "start_time": "2019-12-31T21:36:29.953096Z"
    },
    "scrolled": true
   },
   "outputs": [
    {
     "data": {
      "image/png": "[encoded data removed]",
      "text/plain": [
       "<Figure size 720x864 with 1 Axes>"
      ]
     },
     "metadata": {},
     "output_type": "display_data"
    }
   ],
   "source": [
    "# Distribution of price per square foot by owner type\n",
    "prop_df[['price_psf','owner_legal_person']].boxplot(by=['owner_legal_person'],figsize=(10,12))\n",
    "plt.xlabel('Property Owner is a Company')\n",
    "plt.show()"
   ]
  },
  {
   "cell_type": "code",
   "execution_count": 185,
   "metadata": {
    "ExecuteTime": {
     "end_time": "2019-12-31T21:37:55.564276Z",
     "start_time": "2019-12-31T21:37:54.757830Z"
    }
   },
   "outputs": [
    {
     "name": "stdout",
     "output_type": "stream",
     "text": [
      "owner_likely_company\n",
      "0   106.94543\n",
      "1   148.80917\n",
      "Name: price_psf, dtype: float64\n"
     ]
    },
    {
     "data": {
      "image/png": "[encoded data removed]",
      "text/plain": [
       "<Figure size 720x864 with 1 Axes>"
      ]
     },
     "metadata": {},
     "output_type": "display_data"
    }
   ],
   "source": [
    "print(prop_df.groupby('owner_likely_company')['price_psf'].mean())\n",
    "# Distribution of price per square foot by owner type\n",
    "prop_df[['price_psf','owner_likely_company']].boxplot(by=['owner_likely_company'],figsize=(10,12))\n",
    "plt.xlabel('Property Owner is Likely a Company')\n",
    "plt.show()"
   ]
  },
  {
   "cell_type": "code",
   "execution_count": 186,
   "metadata": {
    "ExecuteTime": {
     "end_time": "2019-12-31T21:38:34.640110Z",
     "start_time": "2019-12-31T21:38:34.156374Z"
    }
   },
   "outputs": [
    {
     "name": "stdout",
     "output_type": "stream",
     "text": [
      "owner_is_trust\n",
      "0   109.56854\n",
      "1   122.07123\n",
      "Name: price_psf, dtype: float64\n"
     ]
    },
    {
     "data": {
      "image/png": "[encoded data removed]",
      "text/plain": [
       "<Figure size 720x864 with 1 Axes>"
      ]
     },
     "metadata": {},
     "output_type": "display_data"
    }
   ],
   "source": [
    "print(prop_df.groupby('owner_is_trust')['price_psf'].mean())\n",
    "# Distribution of price per square foot by owner type\n",
    "prop_df[['price_psf','owner_is_trust']].boxplot(by=['owner_is_trust'],figsize=(10,12))\n",
    "plt.xlabel('Property Owner is a Trust')\n",
    "plt.show()\n",
    "# Far fewer outliers for trusts than for the rest of the population"
   ]
  }
 ],
 "metadata": {
  "kernelspec": {
   "display_name": "Python 3",
   "language": "python",
   "name": "python3"
  },
  "language_info": {
   "codemirror_mode": {
    "name": "ipython",
    "version": 3
   },
   "file_extension": ".py",
   "mimetype": "text/x-python",
   "name": "python",
   "nbconvert_exporter": "python",
   "pygments_lexer": "ipython3",
   "version": "3.7.5"
  },
  "toc": {
   "base_numbering": 1,
   "nav_menu": {},
   "number_sections": false,
   "sideBar": true,
   "skip_h1_title": false,
   "title_cell": "Table of Contents",
   "title_sidebar": "Contents",
   "toc_cell": false,
   "toc_position": {
    "height": "calc(100% - 180px)",
    "left": "10px",
    "top": "150px",
    "width": "194.188px"
   },
   "toc_section_display": true,
   "toc_window_display": true
  },
  "varInspector": {
   "cols": {
    "lenName": 16,
    "lenType": 16,
    "lenVar": 40
   },
   "kernels_config": {
    "python": {
     "delete_cmd_postfix": "",
     "delete_cmd_prefix": "del ",
     "library": "var_list.py",
     "varRefreshCmd": "print(var_dic_list())"
    },
    "r": {
     "delete_cmd_postfix": ") ",
     "delete_cmd_prefix": "rm(",
     "library": "var_list.r",
     "varRefreshCmd": "cat(var_dic_list()) "
    }
   },
   "types_to_exclude": [
    "module",
    "function",
    "builtin_function_or_method",
    "instance",
    "_Feature"
   ],
   "window_display": false
  }
 },
 "nbformat": 4,
 "nbformat_minor": 2
}

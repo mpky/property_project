{
 "cells": [
  {
   "attachments": {},
   "cell_type": "markdown",
   "metadata": {},
   "source": [
    "##### Goal\n",
    "Goal of this notebook is to narrow down the features. The results will then be used to trim down what columns the build script keeps.\n",
    "\n",
    "What we can drop:\n",
    "\n",
    "sup_num\n",
    "sup_action\n",
    "sup_cd\n",
    "sup_desc"
   ]
  },
  {
   "cell_type": "code",
   "execution_count": 1,
   "metadata": {
    "ExecuteTime": {
     "end_time": "2019-12-26T16:50:19.453368Z",
     "start_time": "2019-12-26T16:50:18.111231Z"
    }
   },
   "outputs": [],
   "source": [
    "import numpy as np\n",
    "import pandas as pd\n",
    "import matplotlib.pyplot as plt\n",
    "import seaborn as sns\n",
    "%matplotlib inline"
   ]
  },
  {
   "cell_type": "code",
   "execution_count": 2,
   "metadata": {
    "ExecuteTime": {
     "end_time": "2019-12-26T16:50:24.237620Z",
     "start_time": "2019-12-26T16:50:19.471438Z"
    },
    "scrolled": true
   },
   "outputs": [],
   "source": [
    "# Load in 2019 data from cleaned h5 file\n",
    "bexar_df = pd.read_hdf('../data/processed/bexar_merged_df.h5')"
   ]
  },
  {
   "cell_type": "code",
   "execution_count": 3,
   "metadata": {
    "ExecuteTime": {
     "end_time": "2019-12-26T16:50:24.242356Z",
     "start_time": "2019-12-26T16:50:24.238923Z"
    }
   },
   "outputs": [
    {
     "name": "stdout",
     "output_type": "stream",
     "text": [
      "Index(['prop_id', 'prop_type_cd', 'prop_val_yr', 'sup_num', 'sup_action',\n",
      "       'sup_cd', 'sup_desc', 'geo_id', 'py_owner_id', 'py_owner_name',\n",
      "       'partial_owner', 'udi_group', 'py_addr_line1', 'py_addr_line2',\n",
      "       'py_addr_line3', 'py_addr_city', 'py_addr_state', 'py_addr_country',\n",
      "       'py_addr_zip', 'py_addr_zip_cass', 'py_addr_zip_rt',\n",
      "       'py_confidential_flag', 'py_address_suppress_flag',\n",
      "       'py_addr_ml_deliverable', 'situs_street_prefx', 'situs_street',\n",
      "       'situs_street_suffix', 'situs_city', 'situs_zip', 'hood_cd',\n",
      "       'appraised_val', 'deed_dt', 'land_acres', 'entity_agent_id',\n",
      "       'entity_agent_name', 'entity_agent_addr_line1',\n",
      "       'entity_agent_addr_line2', 'entity_agent_addr_line3',\n",
      "       'entity_agent_city', 'entity_agent_state', 'entity_agent_country',\n",
      "       'ca_agent_id', 'ca_agent_name', 'ca_agent_addr_line1',\n",
      "       'ca_agent_addr_line2', 'ca_agent_addr_line3', 'ca_agent_city',\n",
      "       'ca_agent_state', 'ca_agent_country', 'ca_agent_zip', 'dba',\n",
      "       'market_value', 'appr_confidential_flag', 'appr_address_suppress_flag',\n",
      "       'Yr_blt', 'Sq_ft', 'Prior_Mkt_Val', 'bexar_2015_market_value',\n",
      "       'bexar_2016_market_value', 'bexar_2017_market_value',\n",
      "       'bexar_2018_market_value', 'cleaned_name', 'Taxpayer Number',\n",
      "       'Taxpayer Name', 'Taxpayer Address', 'Taxpayer City', 'Taxpayer State',\n",
      "       'Taxpayer Organizational Type', 'Taxpayer Zip Code', 'SOS Charter Date',\n",
      "       'SOS Status Date', 'SOS Status Code', 'Right to Transact Business Code',\n",
      "       'Officer/Director Latest Year Filed', 'Officer/Director Name',\n",
      "       'Officer/Director Title', 'Officer/Director State', 'deed_charter_diff',\n",
      "       'just_established_owner', 'foreign_based_owner', 'yoy_diff_2019',\n",
      "       'yoy_diff_2018', 'yoy_diff_2017', 'yoy_diff_2016'],\n",
      "      dtype='object')\n"
     ]
    }
   ],
   "source": [
    "print(bexar_df.columns)"
   ]
  },
  {
   "cell_type": "markdown",
   "metadata": {},
   "source": [
    "#### Categorical Variables"
   ]
  },
  {
   "cell_type": "markdown",
   "metadata": {},
   "source": [
    "##### Supplement info\n",
    "Can we drop the supplement information?"
   ]
  },
  {
   "cell_type": "code",
   "execution_count": 4,
   "metadata": {
    "ExecuteTime": {
     "end_time": "2019-12-26T16:50:24.527201Z",
     "start_time": "2019-12-26T16:50:24.247513Z"
    }
   },
   "outputs": [
    {
     "name": "stdout",
     "output_type": "stream",
     "text": [
      "FREEZE    18279\n",
      "IA        13171\n",
      "ARB       10711\n",
      "A-EX       5410\n",
      "D-EX       1057\n",
      "CHG         613\n",
      "OWN         544\n",
      "CHAIR       369\n",
      "FID         207\n",
      "LIT         123\n",
      "Name: sup_cd, dtype: int64\n",
      "M    51014\n",
      "A     4980\n",
      "Name: sup_action, dtype: int64\n"
     ]
    }
   ],
   "source": [
    "# Yes\n",
    "print(bexar_df.sup_cd.value_counts()[:10])\n",
    "print(bexar_df.sup_action.value_counts())"
   ]
  },
  {
   "cell_type": "code",
   "execution_count": 5,
   "metadata": {
    "ExecuteTime": {
     "end_time": "2019-12-26T16:50:24.675950Z",
     "start_time": "2019-12-26T16:50:24.531412Z"
    }
   },
   "outputs": [
    {
     "data": {
      "text/plain": [
       "Supplemented for 2019 to Refreeze Accounts after Tax Rates set                                     18131\n",
       "ARB Decision                                                                                        7412\n",
       "CHAIRMAN GRANTED 2019 LATE PROTEST. OPENED PROTEST & CH INQ SCANNED//SM                              165\n",
       "Freeze Correction - Automatically added to this supplement because of prior year freeze change.      145\n",
       "NEED A SUPPLEMENT CODE                                                                               139\n",
       "Name: sup_desc, dtype: int64"
      ]
     },
     "execution_count": 5,
     "metadata": {},
     "output_type": "execute_result"
    }
   ],
   "source": [
    "bexar_df.sup_desc.value_counts()[:5]"
   ]
  },
  {
   "cell_type": "code",
   "execution_count": 6,
   "metadata": {
    "ExecuteTime": {
     "end_time": "2019-12-26T16:50:25.841407Z",
     "start_time": "2019-12-26T16:50:24.678244Z"
    }
   },
   "outputs": [],
   "source": [
    "bexar_df.drop(columns=['sup_num', 'sup_action','sup_cd', 'sup_desc'],inplace=True)"
   ]
  },
  {
   "cell_type": "markdown",
   "metadata": {},
   "source": [
    "##### UDI Group"
   ]
  },
  {
   "cell_type": "code",
   "execution_count": 7,
   "metadata": {
    "ExecuteTime": {
     "end_time": "2019-12-26T16:50:25.875878Z",
     "start_time": "2019-12-26T16:50:25.843036Z"
    }
   },
   "outputs": [
    {
     "data": {
      "text/plain": [
       "0          693140\n",
       "182698         35\n",
       "186585         22\n",
       "160017         10\n",
       "160016         10\n",
       "            ...  \n",
       "1234278         2\n",
       "1144030         2\n",
       "1224176         1\n",
       "1015749         1\n",
       "1136194         1\n",
       "Name: udi_group, Length: 1102, dtype: int64"
      ]
     },
     "execution_count": 7,
     "metadata": {},
     "output_type": "execute_result"
    }
   ],
   "source": [
    "# Unclear what this is\n",
    "bexar_df.udi_group.value_counts()"
   ]
  },
  {
   "cell_type": "code",
   "execution_count": 8,
   "metadata": {
    "ExecuteTime": {
     "end_time": "2019-12-26T16:50:25.925519Z",
     "start_time": "2019-12-26T16:50:25.879383Z"
    }
   },
   "outputs": [
    {
     "data": {
      "text/html": [
       "<div>\n",
       "<style scoped>\n",
       "    .dataframe tbody tr th:only-of-type {\n",
       "        vertical-align: middle;\n",
       "    }\n",
       "\n",
       "    .dataframe tbody tr th {\n",
       "        vertical-align: top;\n",
       "    }\n",
       "\n",
       "    .dataframe thead th {\n",
       "        text-align: right;\n",
       "    }\n",
       "</style>\n",
       "<table border=\"1\" class=\"dataframe\">\n",
       "  <thead>\n",
       "    <tr style=\"text-align: right;\">\n",
       "      <th></th>\n",
       "      <th>prop_id</th>\n",
       "      <th>prop_type_cd</th>\n",
       "      <th>prop_val_yr</th>\n",
       "      <th>geo_id</th>\n",
       "      <th>py_owner_id</th>\n",
       "      <th>py_owner_name</th>\n",
       "      <th>partial_owner</th>\n",
       "      <th>udi_group</th>\n",
       "      <th>py_addr_line1</th>\n",
       "      <th>py_addr_line2</th>\n",
       "      <th>...</th>\n",
       "      <th>Officer/Director Name</th>\n",
       "      <th>Officer/Director Title</th>\n",
       "      <th>Officer/Director State</th>\n",
       "      <th>deed_charter_diff</th>\n",
       "      <th>just_established_owner</th>\n",
       "      <th>foreign_based_owner</th>\n",
       "      <th>yoy_diff_2019</th>\n",
       "      <th>yoy_diff_2018</th>\n",
       "      <th>yoy_diff_2017</th>\n",
       "      <th>yoy_diff_2016</th>\n",
       "    </tr>\n",
       "  </thead>\n",
       "  <tbody>\n",
       "    <tr>\n",
       "      <td>500612</td>\n",
       "      <td>985472</td>\n",
       "      <td>R</td>\n",
       "      <td>2019</td>\n",
       "      <td>04009-000-0046</td>\n",
       "      <td>115923</td>\n",
       "      <td>WORD ANN SCHUPBACH</td>\n",
       "      <td>T</td>\n",
       "      <td>160016</td>\n",
       "      <td>NaN</td>\n",
       "      <td>708 TERRELL RD</td>\n",
       "      <td>...</td>\n",
       "      <td>NaN</td>\n",
       "      <td>NaN</td>\n",
       "      <td>NaN</td>\n",
       "      <td>NaT</td>\n",
       "      <td>0</td>\n",
       "      <td>0</td>\n",
       "      <td>326.0</td>\n",
       "      <td>0.0</td>\n",
       "      <td>2249.0</td>\n",
       "      <td>104.0</td>\n",
       "    </tr>\n",
       "    <tr>\n",
       "      <td>500613</td>\n",
       "      <td>985473</td>\n",
       "      <td>R</td>\n",
       "      <td>2019</td>\n",
       "      <td>04009-000-0046</td>\n",
       "      <td>115924</td>\n",
       "      <td>CANTY LYNN SCHUPBACH</td>\n",
       "      <td>T</td>\n",
       "      <td>160016</td>\n",
       "      <td>NaN</td>\n",
       "      <td>806 WILTSHIRE AVE</td>\n",
       "      <td>...</td>\n",
       "      <td>NaN</td>\n",
       "      <td>NaN</td>\n",
       "      <td>NaN</td>\n",
       "      <td>NaT</td>\n",
       "      <td>0</td>\n",
       "      <td>0</td>\n",
       "      <td>326.0</td>\n",
       "      <td>0.0</td>\n",
       "      <td>2249.0</td>\n",
       "      <td>104.0</td>\n",
       "    </tr>\n",
       "    <tr>\n",
       "      <td>500614</td>\n",
       "      <td>985474</td>\n",
       "      <td>R</td>\n",
       "      <td>2019</td>\n",
       "      <td>04009-000-0046</td>\n",
       "      <td>115926</td>\n",
       "      <td>SCHUPBACH ROBERT JAMES</td>\n",
       "      <td>T</td>\n",
       "      <td>160016</td>\n",
       "      <td>NaN</td>\n",
       "      <td>3 OSBORN HL</td>\n",
       "      <td>...</td>\n",
       "      <td>NaN</td>\n",
       "      <td>NaN</td>\n",
       "      <td>NaN</td>\n",
       "      <td>NaT</td>\n",
       "      <td>0</td>\n",
       "      <td>0</td>\n",
       "      <td>326.0</td>\n",
       "      <td>0.0</td>\n",
       "      <td>2249.0</td>\n",
       "      <td>104.0</td>\n",
       "    </tr>\n",
       "    <tr>\n",
       "      <td>500615</td>\n",
       "      <td>985475</td>\n",
       "      <td>R</td>\n",
       "      <td>2019</td>\n",
       "      <td>04009-000-0046</td>\n",
       "      <td>115920</td>\n",
       "      <td>SCHUPBACH HELEN JAMES</td>\n",
       "      <td>T</td>\n",
       "      <td>160016</td>\n",
       "      <td>NaN</td>\n",
       "      <td>223 LAMONT AVE</td>\n",
       "      <td>...</td>\n",
       "      <td>NaN</td>\n",
       "      <td>NaN</td>\n",
       "      <td>NaN</td>\n",
       "      <td>NaT</td>\n",
       "      <td>0</td>\n",
       "      <td>0</td>\n",
       "      <td>4570.0</td>\n",
       "      <td>0.0</td>\n",
       "      <td>31552.0</td>\n",
       "      <td>1459.0</td>\n",
       "    </tr>\n",
       "    <tr>\n",
       "      <td>500616</td>\n",
       "      <td>985476</td>\n",
       "      <td>R</td>\n",
       "      <td>2019</td>\n",
       "      <td>04009-000-0046</td>\n",
       "      <td>3045197</td>\n",
       "      <td>HEBDON ESPERANZA LLC</td>\n",
       "      <td>T</td>\n",
       "      <td>160016</td>\n",
       "      <td>NaN</td>\n",
       "      <td>8102 NUFY RDG</td>\n",
       "      <td>...</td>\n",
       "      <td>ELIZABETH ANNE WEST GST TRUST U T A DTD 1</td>\n",
       "      <td>MEMBER</td>\n",
       "      <td>TX</td>\n",
       "      <td>13 days</td>\n",
       "      <td>1</td>\n",
       "      <td>0</td>\n",
       "      <td>1958.0</td>\n",
       "      <td>0.0</td>\n",
       "      <td>13516.0</td>\n",
       "      <td>625.0</td>\n",
       "    </tr>\n",
       "  </tbody>\n",
       "</table>\n",
       "<p>5 rows × 80 columns</p>\n",
       "</div>"
      ],
      "text/plain": [
       "        prop_id prop_type_cd  prop_val_yr          geo_id  py_owner_id  \\\n",
       "500612   985472            R         2019  04009-000-0046       115923   \n",
       "500613   985473            R         2019  04009-000-0046       115924   \n",
       "500614   985474            R         2019  04009-000-0046       115926   \n",
       "500615   985475            R         2019  04009-000-0046       115920   \n",
       "500616   985476            R         2019  04009-000-0046      3045197   \n",
       "\n",
       "                 py_owner_name partial_owner  udi_group py_addr_line1  \\\n",
       "500612      WORD ANN SCHUPBACH             T     160016           NaN   \n",
       "500613    CANTY LYNN SCHUPBACH             T     160016           NaN   \n",
       "500614  SCHUPBACH ROBERT JAMES             T     160016           NaN   \n",
       "500615   SCHUPBACH HELEN JAMES             T     160016           NaN   \n",
       "500616    HEBDON ESPERANZA LLC             T     160016           NaN   \n",
       "\n",
       "            py_addr_line2  ...                      Officer/Director Name  \\\n",
       "500612     708 TERRELL RD  ...                                        NaN   \n",
       "500613  806 WILTSHIRE AVE  ...                                        NaN   \n",
       "500614        3 OSBORN HL  ...                                        NaN   \n",
       "500615     223 LAMONT AVE  ...                                        NaN   \n",
       "500616      8102 NUFY RDG  ...  ELIZABETH ANNE WEST GST TRUST U T A DTD 1   \n",
       "\n",
       "       Officer/Director Title Officer/Director State deed_charter_diff  \\\n",
       "500612                    NaN                    NaN               NaT   \n",
       "500613                    NaN                    NaN               NaT   \n",
       "500614                    NaN                    NaN               NaT   \n",
       "500615                    NaN                    NaN               NaT   \n",
       "500616                 MEMBER                     TX           13 days   \n",
       "\n",
       "        just_established_owner  foreign_based_owner yoy_diff_2019  \\\n",
       "500612                       0                    0         326.0   \n",
       "500613                       0                    0         326.0   \n",
       "500614                       0                    0         326.0   \n",
       "500615                       0                    0        4570.0   \n",
       "500616                       1                    0        1958.0   \n",
       "\n",
       "       yoy_diff_2018 yoy_diff_2017 yoy_diff_2016  \n",
       "500612           0.0        2249.0         104.0  \n",
       "500613           0.0        2249.0         104.0  \n",
       "500614           0.0        2249.0         104.0  \n",
       "500615           0.0       31552.0        1459.0  \n",
       "500616           0.0       13516.0         625.0  \n",
       "\n",
       "[5 rows x 80 columns]"
      ]
     },
     "execution_count": 8,
     "metadata": {},
     "output_type": "execute_result"
    }
   ],
   "source": [
    "bexar_df[bexar_df.udi_group==160016][:5]"
   ]
  },
  {
   "cell_type": "markdown",
   "metadata": {},
   "source": [
    "##### Owner Address\n",
    "\n",
    "Will make another binary column for out of state owners"
   ]
  },
  {
   "cell_type": "code",
   "execution_count": 9,
   "metadata": {
    "ExecuteTime": {
     "end_time": "2019-12-26T16:50:26.016294Z",
     "start_time": "2019-12-26T16:50:25.931991Z"
    }
   },
   "outputs": [
    {
     "data": {
      "text/html": [
       "<div>\n",
       "<style scoped>\n",
       "    .dataframe tbody tr th:only-of-type {\n",
       "        vertical-align: middle;\n",
       "    }\n",
       "\n",
       "    .dataframe tbody tr th {\n",
       "        vertical-align: top;\n",
       "    }\n",
       "\n",
       "    .dataframe thead th {\n",
       "        text-align: right;\n",
       "    }\n",
       "</style>\n",
       "<table border=\"1\" class=\"dataframe\">\n",
       "  <thead>\n",
       "    <tr style=\"text-align: right;\">\n",
       "      <th></th>\n",
       "      <th>py_addr_line1</th>\n",
       "      <th>py_addr_line2</th>\n",
       "      <th>py_addr_line3</th>\n",
       "      <th>py_addr_city</th>\n",
       "      <th>py_addr_state</th>\n",
       "      <th>py_addr_country</th>\n",
       "    </tr>\n",
       "  </thead>\n",
       "  <tbody>\n",
       "    <tr>\n",
       "      <td>0</td>\n",
       "      <td>NaN</td>\n",
       "      <td>119 E CRAIG PL</td>\n",
       "      <td>NaN</td>\n",
       "      <td>SAN ANTONIO</td>\n",
       "      <td>TX</td>\n",
       "      <td>US</td>\n",
       "    </tr>\n",
       "    <tr>\n",
       "      <td>1</td>\n",
       "      <td>NaN</td>\n",
       "      <td>216 1/2 TERRY CT</td>\n",
       "      <td>NaN</td>\n",
       "      <td>SAN ANTONIO</td>\n",
       "      <td>TX</td>\n",
       "      <td>US</td>\n",
       "    </tr>\n",
       "    <tr>\n",
       "      <td>2</td>\n",
       "      <td>NaN</td>\n",
       "      <td>7 W KITTY HAWK ST</td>\n",
       "      <td>NaN</td>\n",
       "      <td>RICHMOND</td>\n",
       "      <td>TX</td>\n",
       "      <td>US</td>\n",
       "    </tr>\n",
       "    <tr>\n",
       "      <td>3</td>\n",
       "      <td>NaN</td>\n",
       "      <td>7 W KITTY HAWK ST</td>\n",
       "      <td>NaN</td>\n",
       "      <td>RICHMOND</td>\n",
       "      <td>TX</td>\n",
       "      <td>US</td>\n",
       "    </tr>\n",
       "    <tr>\n",
       "      <td>4</td>\n",
       "      <td>NaN</td>\n",
       "      <td>PO BOX 839966</td>\n",
       "      <td>NaN</td>\n",
       "      <td>SAN ANTONIO</td>\n",
       "      <td>TX</td>\n",
       "      <td>US</td>\n",
       "    </tr>\n",
       "  </tbody>\n",
       "</table>\n",
       "</div>"
      ],
      "text/plain": [
       "  py_addr_line1      py_addr_line2 py_addr_line3 py_addr_city py_addr_state  \\\n",
       "0           NaN     119 E CRAIG PL           NaN  SAN ANTONIO            TX   \n",
       "1           NaN   216 1/2 TERRY CT           NaN  SAN ANTONIO            TX   \n",
       "2           NaN  7 W KITTY HAWK ST           NaN     RICHMOND            TX   \n",
       "3           NaN  7 W KITTY HAWK ST           NaN     RICHMOND            TX   \n",
       "4           NaN      PO BOX 839966           NaN  SAN ANTONIO            TX   \n",
       "\n",
       "  py_addr_country  \n",
       "0              US  \n",
       "1              US  \n",
       "2              US  \n",
       "3              US  \n",
       "4              US  "
      ]
     },
     "execution_count": 9,
     "metadata": {},
     "output_type": "execute_result"
    }
   ],
   "source": [
    "bexar_df[['py_addr_line1', 'py_addr_line2','py_addr_line3', 'py_addr_city', 'py_addr_state', 'py_addr_country']].head()"
   ]
  },
  {
   "cell_type": "code",
   "execution_count": 10,
   "metadata": {
    "ExecuteTime": {
     "end_time": "2019-12-26T16:50:26.086977Z",
     "start_time": "2019-12-26T16:50:26.024875Z"
    }
   },
   "outputs": [
    {
     "data": {
      "text/plain": [
       "TX           660613\n",
       "CA             9279\n",
       "CO             1702\n",
       "FL             1689\n",
       "IL             1216\n",
       "              ...  \n",
       "25730             1\n",
       "COAH MEX          1\n",
       "AS                1\n",
       "MEXICO DF         1\n",
       "JAL               1\n",
       "Name: py_addr_state, Length: 64, dtype: int64"
      ]
     },
     "execution_count": 10,
     "metadata": {},
     "output_type": "execute_result"
    }
   ],
   "source": [
    "bexar_df.py_addr_state.value_counts()"
   ]
  },
  {
   "cell_type": "code",
   "execution_count": 11,
   "metadata": {
    "ExecuteTime": {
     "end_time": "2019-12-26T16:50:26.129460Z",
     "start_time": "2019-12-26T16:50:26.089772Z"
    }
   },
   "outputs": [],
   "source": [
    "# corp_prop_merged['foreign_based_owner'] = np.where(corp_prop_merged['py_addr_country'] != 'US',1,0)\n",
    "bexar_df['out_of_state_owner'] = np.where(bexar_df['py_addr_state'] != 'TX',1,0)"
   ]
  },
  {
   "cell_type": "code",
   "execution_count": 12,
   "metadata": {
    "ExecuteTime": {
     "end_time": "2019-12-26T16:50:26.150339Z",
     "start_time": "2019-12-26T16:50:26.131168Z"
    }
   },
   "outputs": [
    {
     "data": {
      "text/plain": [
       "0    660613\n",
       "1     34897\n",
       "Name: out_of_state_owner, dtype: int64"
      ]
     },
     "execution_count": 12,
     "metadata": {},
     "output_type": "execute_result"
    }
   ],
   "source": [
    "bexar_df['out_of_state_owner'].value_counts()"
   ]
  },
  {
   "cell_type": "markdown",
   "metadata": {},
   "source": [
    "##### Confidential Flag"
   ]
  },
  {
   "cell_type": "code",
   "execution_count": 13,
   "metadata": {
    "ExecuteTime": {
     "end_time": "2019-12-26T16:50:26.261920Z",
     "start_time": "2019-12-26T16:50:26.162864Z"
    }
   },
   "outputs": [
    {
     "data": {
      "text/plain": [
       "F    594049\n",
       "T      2424\n",
       "Name: py_confidential_flag, dtype: int64"
      ]
     },
     "execution_count": 13,
     "metadata": {},
     "output_type": "execute_result"
    }
   ],
   "source": [
    "bexar_df['py_confidential_flag'].value_counts()"
   ]
  },
  {
   "cell_type": "code",
   "execution_count": 14,
   "metadata": {
    "ExecuteTime": {
     "end_time": "2019-12-26T16:50:28.416952Z",
     "start_time": "2019-12-26T16:50:26.271857Z"
    }
   },
   "outputs": [],
   "source": [
    "# Convert from T/F to 1/0\n",
    "bexar_df['py_confidential_flag'] = np.where(bexar_df['py_confidential_flag'] == 'T',1,0)"
   ]
  },
  {
   "cell_type": "code",
   "execution_count": 15,
   "metadata": {
    "ExecuteTime": {
     "end_time": "2019-12-26T16:50:28.439794Z",
     "start_time": "2019-12-26T16:50:28.418969Z"
    }
   },
   "outputs": [
    {
     "data": {
      "text/plain": [
       "0    693086\n",
       "1      2424\n",
       "Name: py_confidential_flag, dtype: int64"
      ]
     },
     "execution_count": 15,
     "metadata": {},
     "output_type": "execute_result"
    }
   ],
   "source": [
    "bexar_df['py_confidential_flag'].value_counts()"
   ]
  },
  {
   "attachments": {},
   "cell_type": "markdown",
   "metadata": {},
   "source": [
    "##### Property Year Owner Address Suppression Flag "
   ]
  },
  {
   "cell_type": "code",
   "execution_count": 16,
   "metadata": {
    "ExecuteTime": {
     "end_time": "2019-12-26T16:50:30.636629Z",
     "start_time": "2019-12-26T16:50:28.452723Z"
    }
   },
   "outputs": [],
   "source": [
    "# Do the same for this\n",
    "bexar_df['py_address_suppress_flag'] = np.where(bexar_df['py_address_suppress_flag']=='T',1,0)"
   ]
  },
  {
   "cell_type": "code",
   "execution_count": 17,
   "metadata": {
    "ExecuteTime": {
     "end_time": "2019-12-26T16:50:30.657954Z",
     "start_time": "2019-12-26T16:50:30.638705Z"
    }
   },
   "outputs": [
    {
     "data": {
      "text/plain": [
       "0    691653\n",
       "1      3857\n",
       "Name: py_address_suppress_flag, dtype: int64"
      ]
     },
     "execution_count": 17,
     "metadata": {},
     "output_type": "execute_result"
    }
   ],
   "source": [
    "bexar_df['py_address_suppress_flag'].value_counts()"
   ]
  },
  {
   "attachments": {},
   "cell_type": "markdown",
   "metadata": {},
   "source": [
    "##### py_addr_ml_deliverable\n",
    "(\"Property Year Owner Address\n",
    "Y = deliverable address\n",
    "N = undeliverable address\""
   ]
  },
  {
   "cell_type": "code",
   "execution_count": 18,
   "metadata": {
    "ExecuteTime": {
     "end_time": "2019-12-26T16:52:17.221831Z",
     "start_time": "2019-12-26T16:52:17.140510Z"
    }
   },
   "outputs": [
    {
     "data": {
      "text/plain": [
       "Y    595002\n",
       "N      1809\n",
       "Name: py_addr_ml_deliverable, dtype: int64"
      ]
     },
     "execution_count": 18,
     "metadata": {},
     "output_type": "execute_result"
    }
   ],
   "source": [
    "bexar_df.py_addr_ml_deliverable.value_counts()"
   ]
  },
  {
   "cell_type": "code",
   "execution_count": 19,
   "metadata": {
    "ExecuteTime": {
     "end_time": "2019-12-26T16:52:26.958434Z",
     "start_time": "2019-12-26T16:52:24.745332Z"
    }
   },
   "outputs": [
    {
     "name": "stdout",
     "output_type": "stream",
     "text": [
      "1    595002\n",
      "0    100508\n",
      "Name: py_addr_ml_deliverable, dtype: int64\n"
     ]
    }
   ],
   "source": [
    "bexar_df['py_addr_ml_deliverable'] = np.where(bexar_df['py_addr_ml_deliverable']=='Y',1,0)\n",
    "print(bexar_df['py_addr_ml_deliverable'].value_counts())"
   ]
  },
  {
   "cell_type": "markdown",
   "metadata": {},
   "source": [
    "##### Property Address"
   ]
  },
  {
   "cell_type": "code",
   "execution_count": 20,
   "metadata": {
    "ExecuteTime": {
     "end_time": "2019-12-26T16:53:16.348231Z",
     "start_time": "2019-12-26T16:53:16.024945Z"
    }
   },
   "outputs": [
    {
     "data": {
      "text/html": [
       "<div>\n",
       "<style scoped>\n",
       "    .dataframe tbody tr th:only-of-type {\n",
       "        vertical-align: middle;\n",
       "    }\n",
       "\n",
       "    .dataframe tbody tr th {\n",
       "        vertical-align: top;\n",
       "    }\n",
       "\n",
       "    .dataframe thead th {\n",
       "        text-align: right;\n",
       "    }\n",
       "</style>\n",
       "<table border=\"1\" class=\"dataframe\">\n",
       "  <thead>\n",
       "    <tr style=\"text-align: right;\">\n",
       "      <th></th>\n",
       "      <th>situs_street_prefx</th>\n",
       "      <th>situs_street</th>\n",
       "      <th>situs_street_suffix</th>\n",
       "      <th>situs_city</th>\n",
       "      <th>situs_zip</th>\n",
       "    </tr>\n",
       "  </thead>\n",
       "  <tbody>\n",
       "    <tr>\n",
       "      <td>0</td>\n",
       "      <td>NaN</td>\n",
       "      <td>VALERO ST</td>\n",
       "      <td>NaN</td>\n",
       "      <td>SAN ANTONIO</td>\n",
       "      <td>78212</td>\n",
       "    </tr>\n",
       "    <tr>\n",
       "      <td>1</td>\n",
       "      <td>NaN</td>\n",
       "      <td>TERRY CT</td>\n",
       "      <td>NaN</td>\n",
       "      <td>SAN ANTONIO</td>\n",
       "      <td>78212</td>\n",
       "    </tr>\n",
       "    <tr>\n",
       "      <td>2</td>\n",
       "      <td>NaN</td>\n",
       "      <td>TERRY CT</td>\n",
       "      <td>NaN</td>\n",
       "      <td>SAN ANTONIO</td>\n",
       "      <td>78212</td>\n",
       "    </tr>\n",
       "    <tr>\n",
       "      <td>3</td>\n",
       "      <td>NaN</td>\n",
       "      <td>TERRY CT</td>\n",
       "      <td>NaN</td>\n",
       "      <td>SAN ANTONIO</td>\n",
       "      <td>78212</td>\n",
       "    </tr>\n",
       "    <tr>\n",
       "      <td>4</td>\n",
       "      <td>NaN</td>\n",
       "      <td>RIVER WAY</td>\n",
       "      <td>NaN</td>\n",
       "      <td>SAN ANTONIO</td>\n",
       "      <td>78212</td>\n",
       "    </tr>\n",
       "  </tbody>\n",
       "</table>\n",
       "</div>"
      ],
      "text/plain": [
       "  situs_street_prefx situs_street situs_street_suffix   situs_city situs_zip\n",
       "0                NaN    VALERO ST                 NaN  SAN ANTONIO     78212\n",
       "1                NaN     TERRY CT                 NaN  SAN ANTONIO     78212\n",
       "2                NaN     TERRY CT                 NaN  SAN ANTONIO     78212\n",
       "3                NaN     TERRY CT                 NaN  SAN ANTONIO     78212\n",
       "4                NaN    RIVER WAY                 NaN  SAN ANTONIO     78212"
      ]
     },
     "execution_count": 20,
     "metadata": {},
     "output_type": "execute_result"
    }
   ],
   "source": [
    "bexar_df[['situs_street_prefx', 'situs_street', 'situs_street_suffix', 'situs_city', 'situs_zip']].head()"
   ]
  },
  {
   "cell_type": "code",
   "execution_count": 23,
   "metadata": {
    "ExecuteTime": {
     "end_time": "2019-12-26T16:55:39.242448Z",
     "start_time": "2019-12-26T16:55:39.148942Z"
    }
   },
   "outputs": [
    {
     "name": "stdout",
     "output_type": "stream",
     "text": [
      "(695510, 81)\n",
      "SAN ANTONIO       568247\n",
      "CONVERSE           16803\n",
      "HELOTES            11316\n",
      "BOERNE              7350\n",
      "UNIVERSAL CITY      6471\n",
      "Name: situs_city, dtype: int64\n"
     ]
    }
   ],
   "source": [
    "print(bexar_df.shape)\n",
    "print(bexar_df.situs_city.value_counts()[:5])\n",
    "# ~82% of the properties are in the city of San Antonio"
   ]
  },
  {
   "cell_type": "code",
   "execution_count": 22,
   "metadata": {
    "ExecuteTime": {
     "end_time": "2019-12-26T16:54:28.729605Z",
     "start_time": "2019-12-26T16:54:28.679278Z"
    }
   },
   "outputs": [
    {
     "data": {
      "text/plain": [
       "163"
      ]
     },
     "execution_count": 22,
     "metadata": {},
     "output_type": "execute_result"
    }
   ],
   "source": [
    "# Too wide for get dummies?\n",
    "# Maybe a binary based on San Antonio or not?\n",
    "bexar_df.situs_city.nunique()"
   ]
  },
  {
   "cell_type": "code",
   "execution_count": 32,
   "metadata": {
    "ExecuteTime": {
     "end_time": "2019-12-26T17:14:38.385381Z",
     "start_time": "2019-12-26T17:14:38.329425Z"
    }
   },
   "outputs": [
    {
     "name": "stdout",
     "output_type": "stream",
     "text": [
      "['78212' '78215' nan ... '78217-1223' '78266-2813' '78229-6108']\n"
     ]
    }
   ],
   "source": [
    "print(bexar_df.situs_zip.unique())"
   ]
  },
  {
   "cell_type": "markdown",
   "metadata": {},
   "source": [
    "##### Neighborhood code (hood_cd)"
   ]
  },
  {
   "cell_type": "code",
   "execution_count": 24,
   "metadata": {
    "ExecuteTime": {
     "end_time": "2019-12-26T16:59:19.686925Z",
     "start_time": "2019-12-26T16:59:19.620544Z"
    }
   },
   "outputs": [
    {
     "data": {
      "text/plain": [
       "2768"
      ]
     },
     "execution_count": 24,
     "metadata": {},
     "output_type": "execute_result"
    }
   ],
   "source": [
    "bexar_df.hood_cd.nunique()"
   ]
  },
  {
   "cell_type": "code",
   "execution_count": 25,
   "metadata": {
    "ExecuteTime": {
     "end_time": "2019-12-26T16:59:31.243484Z",
     "start_time": "2019-12-26T16:59:31.145266Z"
    }
   },
   "outputs": [
    {
     "data": {
      "text/plain": [
       "24090    4359\n",
       "57076    3743\n",
       "57019    3653\n",
       "57018    3384\n",
       "57210    2628\n",
       "95312    2506\n",
       "95308    2501\n",
       "57014    2498\n",
       "57082    2486\n",
       "28290    2466\n",
       "Name: hood_cd, dtype: int64"
      ]
     },
     "execution_count": 25,
     "metadata": {},
     "output_type": "execute_result"
    }
   ],
   "source": [
    "# Still unsure what to do with these\n",
    "bexar_df.hood_cd.value_counts()[:10]"
   ]
  },
  {
   "cell_type": "markdown",
   "metadata": {},
   "source": [
    "##### Entity Agent\n",
    "Making it binary if one exists or not"
   ]
  },
  {
   "cell_type": "code",
   "execution_count": 35,
   "metadata": {
    "ExecuteTime": {
     "end_time": "2019-12-26T17:17:55.996739Z",
     "start_time": "2019-12-26T17:17:55.923327Z"
    }
   },
   "outputs": [
    {
     "data": {
      "text/plain": [
       "0          681187\n",
       "2837462      1011\n",
       "60100         737\n",
       "2844946       590\n",
       "60101         522\n",
       "            ...  \n",
       "3172018         1\n",
       "3060073         1\n",
       "3118201         1\n",
       "3171207         1\n",
       "40078           1\n",
       "Name: entity_agent_id, Length: 904, dtype: int64"
      ]
     },
     "execution_count": 35,
     "metadata": {},
     "output_type": "execute_result"
    }
   ],
   "source": [
    "bexar_df.entity_agent_id.value_counts()"
   ]
  },
  {
   "cell_type": "code",
   "execution_count": 37,
   "metadata": {
    "ExecuteTime": {
     "end_time": "2019-12-26T17:20:10.811158Z",
     "start_time": "2019-12-26T17:20:10.775814Z"
    }
   },
   "outputs": [
    {
     "name": "stdout",
     "output_type": "stream",
     "text": [
      "695510\n",
      "695510\n"
     ]
    }
   ],
   "source": [
    "print(len(bexar_df.entity_agent_id))\n",
    "print(len(bexar_df.entity_agent_id.dropna()))"
   ]
  },
  {
   "cell_type": "code",
   "execution_count": 38,
   "metadata": {
    "ExecuteTime": {
     "end_time": "2019-12-26T17:20:14.808918Z",
     "start_time": "2019-12-26T17:20:14.798876Z"
    }
   },
   "outputs": [],
   "source": [
    "bexar_df['entity_agent_binary'] = np.where(bexar_df.entity_agent_id==0,0,1)"
   ]
  },
  {
   "cell_type": "code",
   "execution_count": 39,
   "metadata": {
    "ExecuteTime": {
     "end_time": "2019-12-26T17:20:30.325382Z",
     "start_time": "2019-12-26T17:20:30.260623Z"
    }
   },
   "outputs": [
    {
     "data": {
      "text/plain": [
       "0    681187\n",
       "1     14323\n",
       "Name: entity_agent_binary, dtype: int64"
      ]
     },
     "execution_count": 39,
     "metadata": {},
     "output_type": "execute_result"
    }
   ],
   "source": [
    "bexar_df.entity_agent_binary.value_counts()"
   ]
  },
  {
   "cell_type": "code",
   "execution_count": 40,
   "metadata": {
    "ExecuteTime": {
     "end_time": "2019-12-26T17:21:43.353048Z",
     "start_time": "2019-12-26T17:21:41.651082Z"
    }
   },
   "outputs": [],
   "source": [
    "bexar_df.drop(columns=['entity_agent_id','entity_agent_name', \n",
    "                       'entity_agent_addr_line1','entity_agent_addr_line2', \n",
    "                       'entity_agent_addr_line3','entity_agent_city', \n",
    "                       'entity_agent_state', 'entity_agent_country'],inplace=True)"
   ]
  },
  {
   "cell_type": "code",
   "execution_count": 41,
   "metadata": {
    "ExecuteTime": {
     "end_time": "2019-12-26T17:21:46.786801Z",
     "start_time": "2019-12-26T17:21:46.779866Z"
    }
   },
   "outputs": [
    {
     "data": {
      "text/plain": [
       "(695510, 74)"
      ]
     },
     "execution_count": 41,
     "metadata": {},
     "output_type": "execute_result"
    }
   ],
   "source": [
    "bexar_df.shape"
   ]
  },
  {
   "cell_type": "markdown",
   "metadata": {},
   "source": [
    "##### Chief Appraiser"
   ]
  },
  {
   "cell_type": "code",
   "execution_count": 42,
   "metadata": {
    "ExecuteTime": {
     "end_time": "2019-12-26T17:29:38.863151Z",
     "start_time": "2019-12-26T17:29:38.071301Z"
    }
   },
   "outputs": [
    {
     "data": {
      "text/html": [
       "<div>\n",
       "<style scoped>\n",
       "    .dataframe tbody tr th:only-of-type {\n",
       "        vertical-align: middle;\n",
       "    }\n",
       "\n",
       "    .dataframe tbody tr th {\n",
       "        vertical-align: top;\n",
       "    }\n",
       "\n",
       "    .dataframe thead th {\n",
       "        text-align: right;\n",
       "    }\n",
       "</style>\n",
       "<table border=\"1\" class=\"dataframe\">\n",
       "  <thead>\n",
       "    <tr style=\"text-align: right;\">\n",
       "      <th></th>\n",
       "      <th>ca_agent_id</th>\n",
       "      <th>ca_agent_name</th>\n",
       "      <th>ca_agent_addr_line1</th>\n",
       "      <th>ca_agent_addr_line2</th>\n",
       "      <th>ca_agent_addr_line3</th>\n",
       "      <th>ca_agent_city</th>\n",
       "      <th>ca_agent_state</th>\n",
       "      <th>ca_agent_country</th>\n",
       "      <th>ca_agent_zip</th>\n",
       "    </tr>\n",
       "  </thead>\n",
       "  <tbody>\n",
       "    <tr>\n",
       "      <td>0</td>\n",
       "      <td>0</td>\n",
       "      <td>NaN</td>\n",
       "      <td>NaN</td>\n",
       "      <td>NaN</td>\n",
       "      <td>NaN</td>\n",
       "      <td>NaN</td>\n",
       "      <td>NaN</td>\n",
       "      <td>NaN</td>\n",
       "      <td>NaN</td>\n",
       "    </tr>\n",
       "    <tr>\n",
       "      <td>1</td>\n",
       "      <td>0</td>\n",
       "      <td>NaN</td>\n",
       "      <td>NaN</td>\n",
       "      <td>NaN</td>\n",
       "      <td>NaN</td>\n",
       "      <td>NaN</td>\n",
       "      <td>NaN</td>\n",
       "      <td>NaN</td>\n",
       "      <td>NaN</td>\n",
       "    </tr>\n",
       "    <tr>\n",
       "      <td>2</td>\n",
       "      <td>0</td>\n",
       "      <td>NaN</td>\n",
       "      <td>NaN</td>\n",
       "      <td>NaN</td>\n",
       "      <td>NaN</td>\n",
       "      <td>NaN</td>\n",
       "      <td>NaN</td>\n",
       "      <td>NaN</td>\n",
       "      <td>NaN</td>\n",
       "    </tr>\n",
       "    <tr>\n",
       "      <td>3</td>\n",
       "      <td>0</td>\n",
       "      <td>NaN</td>\n",
       "      <td>NaN</td>\n",
       "      <td>NaN</td>\n",
       "      <td>NaN</td>\n",
       "      <td>NaN</td>\n",
       "      <td>NaN</td>\n",
       "      <td>NaN</td>\n",
       "      <td>NaN</td>\n",
       "    </tr>\n",
       "    <tr>\n",
       "      <td>4</td>\n",
       "      <td>0</td>\n",
       "      <td>NaN</td>\n",
       "      <td>NaN</td>\n",
       "      <td>NaN</td>\n",
       "      <td>NaN</td>\n",
       "      <td>NaN</td>\n",
       "      <td>NaN</td>\n",
       "      <td>NaN</td>\n",
       "      <td>NaN</td>\n",
       "    </tr>\n",
       "  </tbody>\n",
       "</table>\n",
       "</div>"
      ],
      "text/plain": [
       "   ca_agent_id ca_agent_name ca_agent_addr_line1 ca_agent_addr_line2  \\\n",
       "0            0           NaN                 NaN                 NaN   \n",
       "1            0           NaN                 NaN                 NaN   \n",
       "2            0           NaN                 NaN                 NaN   \n",
       "3            0           NaN                 NaN                 NaN   \n",
       "4            0           NaN                 NaN                 NaN   \n",
       "\n",
       "  ca_agent_addr_line3 ca_agent_city ca_agent_state ca_agent_country  \\\n",
       "0                 NaN           NaN            NaN              NaN   \n",
       "1                 NaN           NaN            NaN              NaN   \n",
       "2                 NaN           NaN            NaN              NaN   \n",
       "3                 NaN           NaN            NaN              NaN   \n",
       "4                 NaN           NaN            NaN              NaN   \n",
       "\n",
       "   ca_agent_zip  \n",
       "0           NaN  \n",
       "1           NaN  \n",
       "2           NaN  \n",
       "3           NaN  \n",
       "4           NaN  "
      ]
     },
     "execution_count": 42,
     "metadata": {},
     "output_type": "execute_result"
    }
   ],
   "source": [
    "bexar_df[['ca_agent_id', 'ca_agent_name', 'ca_agent_addr_line1',\n",
    "       'ca_agent_addr_line2', 'ca_agent_addr_line3', 'ca_agent_city',\n",
    "       'ca_agent_state', 'ca_agent_country', 'ca_agent_zip']].head()"
   ]
  },
  {
   "cell_type": "code",
   "execution_count": 43,
   "metadata": {
    "ExecuteTime": {
     "end_time": "2019-12-26T17:29:54.745568Z",
     "start_time": "2019-12-26T17:29:54.697342Z"
    }
   },
   "outputs": [
    {
     "data": {
      "text/plain": [
       "0          626311\n",
       "60585       12326\n",
       "60001        6744\n",
       "40773        5925\n",
       "60075        2424\n",
       "            ...  \n",
       "3168658         1\n",
       "3173093         1\n",
       "40781           1\n",
       "2663564         1\n",
       "3169700         1\n",
       "Name: ca_agent_id, Length: 1181, dtype: int64"
      ]
     },
     "execution_count": 43,
     "metadata": {},
     "output_type": "execute_result"
    }
   ],
   "source": [
    "bexar_df.ca_agent_id.value_counts()"
   ]
  },
  {
   "cell_type": "code",
   "execution_count": 46,
   "metadata": {
    "ExecuteTime": {
     "end_time": "2019-12-26T17:30:56.245527Z",
     "start_time": "2019-12-26T17:30:56.146576Z"
    }
   },
   "outputs": [
    {
     "data": {
      "text/html": [
       "<div>\n",
       "<style scoped>\n",
       "    .dataframe tbody tr th:only-of-type {\n",
       "        vertical-align: middle;\n",
       "    }\n",
       "\n",
       "    .dataframe tbody tr th {\n",
       "        vertical-align: top;\n",
       "    }\n",
       "\n",
       "    .dataframe thead th {\n",
       "        text-align: right;\n",
       "    }\n",
       "</style>\n",
       "<table border=\"1\" class=\"dataframe\">\n",
       "  <thead>\n",
       "    <tr style=\"text-align: right;\">\n",
       "      <th></th>\n",
       "      <th>ca_agent_id</th>\n",
       "      <th>ca_agent_name</th>\n",
       "      <th>ca_agent_addr_line1</th>\n",
       "      <th>ca_agent_addr_line2</th>\n",
       "      <th>ca_agent_addr_line3</th>\n",
       "      <th>ca_agent_city</th>\n",
       "      <th>ca_agent_state</th>\n",
       "      <th>ca_agent_country</th>\n",
       "      <th>ca_agent_zip</th>\n",
       "    </tr>\n",
       "  </thead>\n",
       "  <tbody>\n",
       "    <tr>\n",
       "      <td>7</td>\n",
       "      <td>60585</td>\n",
       "      <td>ARTHUR P. VELTMAN &amp; ASSOCIATES</td>\n",
       "      <td>NaN</td>\n",
       "      <td>1017 N MAIN AVE STE 201</td>\n",
       "      <td>NaN</td>\n",
       "      <td>SAN ANTONIO</td>\n",
       "      <td>TX</td>\n",
       "      <td>US</td>\n",
       "      <td>78212.0</td>\n",
       "    </tr>\n",
       "    <tr>\n",
       "      <td>8</td>\n",
       "      <td>60585</td>\n",
       "      <td>ARTHUR P. VELTMAN &amp; ASSOCIATES</td>\n",
       "      <td>NaN</td>\n",
       "      <td>1017 N MAIN AVE STE 201</td>\n",
       "      <td>NaN</td>\n",
       "      <td>SAN ANTONIO</td>\n",
       "      <td>TX</td>\n",
       "      <td>US</td>\n",
       "      <td>78212.0</td>\n",
       "    </tr>\n",
       "    <tr>\n",
       "      <td>9</td>\n",
       "      <td>60585</td>\n",
       "      <td>ARTHUR P. VELTMAN &amp; ASSOCIATES</td>\n",
       "      <td>NaN</td>\n",
       "      <td>1017 N MAIN AVE STE 201</td>\n",
       "      <td>NaN</td>\n",
       "      <td>SAN ANTONIO</td>\n",
       "      <td>TX</td>\n",
       "      <td>US</td>\n",
       "      <td>78212.0</td>\n",
       "    </tr>\n",
       "    <tr>\n",
       "      <td>14</td>\n",
       "      <td>60585</td>\n",
       "      <td>ARTHUR P. VELTMAN &amp; ASSOCIATES</td>\n",
       "      <td>NaN</td>\n",
       "      <td>1017 N MAIN AVE STE 201</td>\n",
       "      <td>NaN</td>\n",
       "      <td>SAN ANTONIO</td>\n",
       "      <td>TX</td>\n",
       "      <td>US</td>\n",
       "      <td>78212.0</td>\n",
       "    </tr>\n",
       "    <tr>\n",
       "      <td>49</td>\n",
       "      <td>60585</td>\n",
       "      <td>ARTHUR P. VELTMAN &amp; ASSOCIATES</td>\n",
       "      <td>NaN</td>\n",
       "      <td>1017 N MAIN AVE STE 201</td>\n",
       "      <td>NaN</td>\n",
       "      <td>SAN ANTONIO</td>\n",
       "      <td>TX</td>\n",
       "      <td>US</td>\n",
       "      <td>78212.0</td>\n",
       "    </tr>\n",
       "  </tbody>\n",
       "</table>\n",
       "</div>"
      ],
      "text/plain": [
       "    ca_agent_id                   ca_agent_name ca_agent_addr_line1  \\\n",
       "7         60585  ARTHUR P. VELTMAN & ASSOCIATES                 NaN   \n",
       "8         60585  ARTHUR P. VELTMAN & ASSOCIATES                 NaN   \n",
       "9         60585  ARTHUR P. VELTMAN & ASSOCIATES                 NaN   \n",
       "14        60585  ARTHUR P. VELTMAN & ASSOCIATES                 NaN   \n",
       "49        60585  ARTHUR P. VELTMAN & ASSOCIATES                 NaN   \n",
       "\n",
       "        ca_agent_addr_line2 ca_agent_addr_line3 ca_agent_city ca_agent_state  \\\n",
       "7   1017 N MAIN AVE STE 201                 NaN   SAN ANTONIO             TX   \n",
       "8   1017 N MAIN AVE STE 201                 NaN   SAN ANTONIO             TX   \n",
       "9   1017 N MAIN AVE STE 201                 NaN   SAN ANTONIO             TX   \n",
       "14  1017 N MAIN AVE STE 201                 NaN   SAN ANTONIO             TX   \n",
       "49  1017 N MAIN AVE STE 201                 NaN   SAN ANTONIO             TX   \n",
       "\n",
       "   ca_agent_country  ca_agent_zip  \n",
       "7                US       78212.0  \n",
       "8                US       78212.0  \n",
       "9                US       78212.0  \n",
       "14               US       78212.0  \n",
       "49               US       78212.0  "
      ]
     },
     "execution_count": 46,
     "metadata": {},
     "output_type": "execute_result"
    }
   ],
   "source": [
    "bexar_df[bexar_df.ca_agent_id==60585][['ca_agent_id', 'ca_agent_name', 'ca_agent_addr_line1',\n",
    "       'ca_agent_addr_line2', 'ca_agent_addr_line3', 'ca_agent_city',\n",
    "       'ca_agent_state', 'ca_agent_country', 'ca_agent_zip']][:5]"
   ]
  },
  {
   "cell_type": "code",
   "execution_count": 47,
   "metadata": {
    "ExecuteTime": {
     "end_time": "2019-12-26T17:31:09.676808Z",
     "start_time": "2019-12-26T17:31:09.558691Z"
    }
   },
   "outputs": [
    {
     "data": {
      "text/plain": [
       "US    69172\n",
       "MX       26\n",
       "Name: ca_agent_country, dtype: int64"
      ]
     },
     "execution_count": 47,
     "metadata": {},
     "output_type": "execute_result"
    }
   ],
   "source": [
    "bexar_df.ca_agent_country.value_counts()"
   ]
  },
  {
   "cell_type": "code",
   "execution_count": 48,
   "metadata": {
    "ExecuteTime": {
     "end_time": "2019-12-26T17:31:42.674623Z",
     "start_time": "2019-12-26T17:31:42.567186Z"
    }
   },
   "outputs": [
    {
     "data": {
      "text/html": [
       "<div>\n",
       "<style scoped>\n",
       "    .dataframe tbody tr th:only-of-type {\n",
       "        vertical-align: middle;\n",
       "    }\n",
       "\n",
       "    .dataframe tbody tr th {\n",
       "        vertical-align: top;\n",
       "    }\n",
       "\n",
       "    .dataframe thead th {\n",
       "        text-align: right;\n",
       "    }\n",
       "</style>\n",
       "<table border=\"1\" class=\"dataframe\">\n",
       "  <thead>\n",
       "    <tr style=\"text-align: right;\">\n",
       "      <th></th>\n",
       "      <th>prop_id</th>\n",
       "      <th>prop_type_cd</th>\n",
       "      <th>prop_val_yr</th>\n",
       "      <th>geo_id</th>\n",
       "      <th>py_owner_id</th>\n",
       "      <th>py_owner_name</th>\n",
       "      <th>partial_owner</th>\n",
       "      <th>udi_group</th>\n",
       "      <th>py_addr_line1</th>\n",
       "      <th>py_addr_line2</th>\n",
       "      <th>...</th>\n",
       "      <th>Officer/Director State</th>\n",
       "      <th>deed_charter_diff</th>\n",
       "      <th>just_established_owner</th>\n",
       "      <th>foreign_based_owner</th>\n",
       "      <th>yoy_diff_2019</th>\n",
       "      <th>yoy_diff_2018</th>\n",
       "      <th>yoy_diff_2017</th>\n",
       "      <th>yoy_diff_2016</th>\n",
       "      <th>out_of_state_owner</th>\n",
       "      <th>entity_agent_binary</th>\n",
       "    </tr>\n",
       "  </thead>\n",
       "  <tbody>\n",
       "    <tr>\n",
       "      <td>336540</td>\n",
       "      <td>586556</td>\n",
       "      <td>R</td>\n",
       "      <td>2019</td>\n",
       "      <td>15676-001-0110</td>\n",
       "      <td>456909</td>\n",
       "      <td>UNIFRID CORP</td>\n",
       "      <td>F</td>\n",
       "      <td>0</td>\n",
       "      <td>C/O RICARDO UNIKEL</td>\n",
       "      <td>3217 BURN BRAE DR</td>\n",
       "      <td>...</td>\n",
       "      <td>NaN</td>\n",
       "      <td>NaT</td>\n",
       "      <td>0</td>\n",
       "      <td>0</td>\n",
       "      <td>-1200.0</td>\n",
       "      <td>11300.0</td>\n",
       "      <td>200.0</td>\n",
       "      <td>2500.0</td>\n",
       "      <td>1</td>\n",
       "      <td>1</td>\n",
       "    </tr>\n",
       "    <tr>\n",
       "      <td>336541</td>\n",
       "      <td>586557</td>\n",
       "      <td>R</td>\n",
       "      <td>2019</td>\n",
       "      <td>15676-001-0120</td>\n",
       "      <td>456910</td>\n",
       "      <td>UNIFRID CORP</td>\n",
       "      <td>F</td>\n",
       "      <td>0</td>\n",
       "      <td>C/O RICARDO UNIKEL</td>\n",
       "      <td>3217 BURN BRAE DR</td>\n",
       "      <td>...</td>\n",
       "      <td>NaN</td>\n",
       "      <td>NaT</td>\n",
       "      <td>0</td>\n",
       "      <td>0</td>\n",
       "      <td>200.0</td>\n",
       "      <td>9900.0</td>\n",
       "      <td>200.0</td>\n",
       "      <td>2500.0</td>\n",
       "      <td>1</td>\n",
       "      <td>1</td>\n",
       "    </tr>\n",
       "    <tr>\n",
       "      <td>336542</td>\n",
       "      <td>586558</td>\n",
       "      <td>R</td>\n",
       "      <td>2019</td>\n",
       "      <td>15676-001-0130</td>\n",
       "      <td>456910</td>\n",
       "      <td>UNIFRID CORP</td>\n",
       "      <td>F</td>\n",
       "      <td>0</td>\n",
       "      <td>C/O RICARDO UNIKEL</td>\n",
       "      <td>3217 BURN BRAE DR</td>\n",
       "      <td>...</td>\n",
       "      <td>NaN</td>\n",
       "      <td>NaT</td>\n",
       "      <td>0</td>\n",
       "      <td>0</td>\n",
       "      <td>200.0</td>\n",
       "      <td>9900.0</td>\n",
       "      <td>200.0</td>\n",
       "      <td>2500.0</td>\n",
       "      <td>1</td>\n",
       "      <td>1</td>\n",
       "    </tr>\n",
       "    <tr>\n",
       "      <td>336543</td>\n",
       "      <td>586559</td>\n",
       "      <td>R</td>\n",
       "      <td>2019</td>\n",
       "      <td>15676-001-0140</td>\n",
       "      <td>456910</td>\n",
       "      <td>UNIFRID CORP</td>\n",
       "      <td>F</td>\n",
       "      <td>0</td>\n",
       "      <td>C/O RICARDO UNIKEL</td>\n",
       "      <td>3217 BURN BRAE DR</td>\n",
       "      <td>...</td>\n",
       "      <td>NaN</td>\n",
       "      <td>NaT</td>\n",
       "      <td>0</td>\n",
       "      <td>0</td>\n",
       "      <td>200.0</td>\n",
       "      <td>9900.0</td>\n",
       "      <td>200.0</td>\n",
       "      <td>2500.0</td>\n",
       "      <td>1</td>\n",
       "      <td>1</td>\n",
       "    </tr>\n",
       "    <tr>\n",
       "      <td>336544</td>\n",
       "      <td>586560</td>\n",
       "      <td>R</td>\n",
       "      <td>2019</td>\n",
       "      <td>15676-001-0150</td>\n",
       "      <td>456910</td>\n",
       "      <td>UNIFRID CORP</td>\n",
       "      <td>F</td>\n",
       "      <td>0</td>\n",
       "      <td>C/O RICARDO UNIKEL</td>\n",
       "      <td>3217 BURN BRAE DR</td>\n",
       "      <td>...</td>\n",
       "      <td>NaN</td>\n",
       "      <td>NaT</td>\n",
       "      <td>0</td>\n",
       "      <td>0</td>\n",
       "      <td>200.0</td>\n",
       "      <td>9900.0</td>\n",
       "      <td>200.0</td>\n",
       "      <td>2500.0</td>\n",
       "      <td>1</td>\n",
       "      <td>1</td>\n",
       "    </tr>\n",
       "    <tr>\n",
       "      <td>336545</td>\n",
       "      <td>586561</td>\n",
       "      <td>R</td>\n",
       "      <td>2019</td>\n",
       "      <td>15676-001-0160</td>\n",
       "      <td>456910</td>\n",
       "      <td>UNIFRID CORP</td>\n",
       "      <td>F</td>\n",
       "      <td>0</td>\n",
       "      <td>C/O RICARDO UNIKEL</td>\n",
       "      <td>3217 BURN BRAE DR</td>\n",
       "      <td>...</td>\n",
       "      <td>NaN</td>\n",
       "      <td>NaT</td>\n",
       "      <td>0</td>\n",
       "      <td>0</td>\n",
       "      <td>200.0</td>\n",
       "      <td>9900.0</td>\n",
       "      <td>200.0</td>\n",
       "      <td>2500.0</td>\n",
       "      <td>1</td>\n",
       "      <td>1</td>\n",
       "    </tr>\n",
       "    <tr>\n",
       "      <td>336546</td>\n",
       "      <td>586562</td>\n",
       "      <td>R</td>\n",
       "      <td>2019</td>\n",
       "      <td>15676-001-0170</td>\n",
       "      <td>456910</td>\n",
       "      <td>UNIFRID CORP</td>\n",
       "      <td>F</td>\n",
       "      <td>0</td>\n",
       "      <td>C/O RICARDO UNIKEL</td>\n",
       "      <td>3217 BURN BRAE DR</td>\n",
       "      <td>...</td>\n",
       "      <td>NaN</td>\n",
       "      <td>NaT</td>\n",
       "      <td>0</td>\n",
       "      <td>0</td>\n",
       "      <td>200.0</td>\n",
       "      <td>9900.0</td>\n",
       "      <td>200.0</td>\n",
       "      <td>2500.0</td>\n",
       "      <td>1</td>\n",
       "      <td>1</td>\n",
       "    </tr>\n",
       "    <tr>\n",
       "      <td>336547</td>\n",
       "      <td>586563</td>\n",
       "      <td>R</td>\n",
       "      <td>2019</td>\n",
       "      <td>15676-001-0180</td>\n",
       "      <td>456910</td>\n",
       "      <td>UNIFRID CORP</td>\n",
       "      <td>F</td>\n",
       "      <td>0</td>\n",
       "      <td>C/O RICARDO UNIKEL</td>\n",
       "      <td>3217 BURN BRAE DR</td>\n",
       "      <td>...</td>\n",
       "      <td>NaN</td>\n",
       "      <td>NaT</td>\n",
       "      <td>0</td>\n",
       "      <td>0</td>\n",
       "      <td>200.0</td>\n",
       "      <td>9900.0</td>\n",
       "      <td>200.0</td>\n",
       "      <td>2500.0</td>\n",
       "      <td>1</td>\n",
       "      <td>1</td>\n",
       "    </tr>\n",
       "    <tr>\n",
       "      <td>336548</td>\n",
       "      <td>586564</td>\n",
       "      <td>R</td>\n",
       "      <td>2019</td>\n",
       "      <td>15676-001-0190</td>\n",
       "      <td>456910</td>\n",
       "      <td>UNIFRID CORP</td>\n",
       "      <td>F</td>\n",
       "      <td>0</td>\n",
       "      <td>C/O RICARDO UNIKEL</td>\n",
       "      <td>3217 BURN BRAE DR</td>\n",
       "      <td>...</td>\n",
       "      <td>NaN</td>\n",
       "      <td>NaT</td>\n",
       "      <td>0</td>\n",
       "      <td>0</td>\n",
       "      <td>200.0</td>\n",
       "      <td>9900.0</td>\n",
       "      <td>200.0</td>\n",
       "      <td>2500.0</td>\n",
       "      <td>1</td>\n",
       "      <td>1</td>\n",
       "    </tr>\n",
       "    <tr>\n",
       "      <td>336549</td>\n",
       "      <td>586565</td>\n",
       "      <td>R</td>\n",
       "      <td>2019</td>\n",
       "      <td>15676-001-0200</td>\n",
       "      <td>456910</td>\n",
       "      <td>UNIFRID CORP</td>\n",
       "      <td>F</td>\n",
       "      <td>0</td>\n",
       "      <td>C/O RICARDO UNIKEL</td>\n",
       "      <td>3217 BURN BRAE DR</td>\n",
       "      <td>...</td>\n",
       "      <td>NaN</td>\n",
       "      <td>NaT</td>\n",
       "      <td>0</td>\n",
       "      <td>0</td>\n",
       "      <td>200.0</td>\n",
       "      <td>9900.0</td>\n",
       "      <td>200.0</td>\n",
       "      <td>-1700.0</td>\n",
       "      <td>1</td>\n",
       "      <td>1</td>\n",
       "    </tr>\n",
       "    <tr>\n",
       "      <td>336560</td>\n",
       "      <td>586576</td>\n",
       "      <td>R</td>\n",
       "      <td>2019</td>\n",
       "      <td>15676-001-0310</td>\n",
       "      <td>456910</td>\n",
       "      <td>UNIFRID CORP</td>\n",
       "      <td>F</td>\n",
       "      <td>0</td>\n",
       "      <td>C/O RICARDO UNIKEL</td>\n",
       "      <td>3217 BURN BRAE DR</td>\n",
       "      <td>...</td>\n",
       "      <td>NaN</td>\n",
       "      <td>NaT</td>\n",
       "      <td>0</td>\n",
       "      <td>0</td>\n",
       "      <td>-100.0</td>\n",
       "      <td>2800.0</td>\n",
       "      <td>1000.0</td>\n",
       "      <td>2500.0</td>\n",
       "      <td>1</td>\n",
       "      <td>1</td>\n",
       "    </tr>\n",
       "    <tr>\n",
       "      <td>336561</td>\n",
       "      <td>586577</td>\n",
       "      <td>R</td>\n",
       "      <td>2019</td>\n",
       "      <td>15676-001-0320</td>\n",
       "      <td>456910</td>\n",
       "      <td>UNIFRID CORP</td>\n",
       "      <td>F</td>\n",
       "      <td>0</td>\n",
       "      <td>C/O RICARDO UNIKEL</td>\n",
       "      <td>3217 BURN BRAE DR</td>\n",
       "      <td>...</td>\n",
       "      <td>NaN</td>\n",
       "      <td>NaT</td>\n",
       "      <td>0</td>\n",
       "      <td>0</td>\n",
       "      <td>-100.0</td>\n",
       "      <td>2800.0</td>\n",
       "      <td>1000.0</td>\n",
       "      <td>2500.0</td>\n",
       "      <td>1</td>\n",
       "      <td>1</td>\n",
       "    </tr>\n",
       "    <tr>\n",
       "      <td>336563</td>\n",
       "      <td>586579</td>\n",
       "      <td>R</td>\n",
       "      <td>2019</td>\n",
       "      <td>15676-001-0340</td>\n",
       "      <td>456910</td>\n",
       "      <td>UNIFRID CORP</td>\n",
       "      <td>F</td>\n",
       "      <td>0</td>\n",
       "      <td>C/O RICARDO UNIKEL</td>\n",
       "      <td>3217 BURN BRAE DR</td>\n",
       "      <td>...</td>\n",
       "      <td>NaN</td>\n",
       "      <td>NaT</td>\n",
       "      <td>0</td>\n",
       "      <td>0</td>\n",
       "      <td>-100.0</td>\n",
       "      <td>2800.0</td>\n",
       "      <td>1000.0</td>\n",
       "      <td>2500.0</td>\n",
       "      <td>1</td>\n",
       "      <td>1</td>\n",
       "    </tr>\n",
       "    <tr>\n",
       "      <td>336564</td>\n",
       "      <td>586580</td>\n",
       "      <td>R</td>\n",
       "      <td>2019</td>\n",
       "      <td>15676-001-0350</td>\n",
       "      <td>456910</td>\n",
       "      <td>UNIFRID CORP</td>\n",
       "      <td>F</td>\n",
       "      <td>0</td>\n",
       "      <td>C/O RICARDO UNIKEL</td>\n",
       "      <td>3217 BURN BRAE DR</td>\n",
       "      <td>...</td>\n",
       "      <td>NaN</td>\n",
       "      <td>NaT</td>\n",
       "      <td>0</td>\n",
       "      <td>0</td>\n",
       "      <td>-100.0</td>\n",
       "      <td>2800.0</td>\n",
       "      <td>1000.0</td>\n",
       "      <td>2500.0</td>\n",
       "      <td>1</td>\n",
       "      <td>1</td>\n",
       "    </tr>\n",
       "    <tr>\n",
       "      <td>336565</td>\n",
       "      <td>586581</td>\n",
       "      <td>R</td>\n",
       "      <td>2019</td>\n",
       "      <td>15676-001-0360</td>\n",
       "      <td>456910</td>\n",
       "      <td>UNIFRID CORP</td>\n",
       "      <td>F</td>\n",
       "      <td>0</td>\n",
       "      <td>C/O RICARDO UNIKEL</td>\n",
       "      <td>3217 BURN BRAE DR</td>\n",
       "      <td>...</td>\n",
       "      <td>NaN</td>\n",
       "      <td>NaT</td>\n",
       "      <td>0</td>\n",
       "      <td>0</td>\n",
       "      <td>-100.0</td>\n",
       "      <td>2800.0</td>\n",
       "      <td>1000.0</td>\n",
       "      <td>2500.0</td>\n",
       "      <td>1</td>\n",
       "      <td>1</td>\n",
       "    </tr>\n",
       "    <tr>\n",
       "      <td>336572</td>\n",
       "      <td>586590</td>\n",
       "      <td>R</td>\n",
       "      <td>2019</td>\n",
       "      <td>15676-001-0450</td>\n",
       "      <td>456910</td>\n",
       "      <td>UNIFRID CORP</td>\n",
       "      <td>F</td>\n",
       "      <td>0</td>\n",
       "      <td>C/O RICARDO UNIKEL</td>\n",
       "      <td>3217 BURN BRAE DR</td>\n",
       "      <td>...</td>\n",
       "      <td>NaN</td>\n",
       "      <td>NaT</td>\n",
       "      <td>0</td>\n",
       "      <td>0</td>\n",
       "      <td>-100.0</td>\n",
       "      <td>2800.0</td>\n",
       "      <td>1000.0</td>\n",
       "      <td>2500.0</td>\n",
       "      <td>1</td>\n",
       "      <td>1</td>\n",
       "    </tr>\n",
       "    <tr>\n",
       "      <td>336574</td>\n",
       "      <td>586592</td>\n",
       "      <td>R</td>\n",
       "      <td>2019</td>\n",
       "      <td>15676-001-0470</td>\n",
       "      <td>456910</td>\n",
       "      <td>UNIFRID CORP</td>\n",
       "      <td>F</td>\n",
       "      <td>0</td>\n",
       "      <td>C/O RICARDO UNIKEL</td>\n",
       "      <td>3217 BURN BRAE DR</td>\n",
       "      <td>...</td>\n",
       "      <td>NaN</td>\n",
       "      <td>NaT</td>\n",
       "      <td>0</td>\n",
       "      <td>0</td>\n",
       "      <td>-100.0</td>\n",
       "      <td>2800.0</td>\n",
       "      <td>1000.0</td>\n",
       "      <td>2500.0</td>\n",
       "      <td>1</td>\n",
       "      <td>1</td>\n",
       "    </tr>\n",
       "    <tr>\n",
       "      <td>336581</td>\n",
       "      <td>586599</td>\n",
       "      <td>R</td>\n",
       "      <td>2019</td>\n",
       "      <td>15676-001-0540</td>\n",
       "      <td>456910</td>\n",
       "      <td>UNIFRID CORP</td>\n",
       "      <td>F</td>\n",
       "      <td>0</td>\n",
       "      <td>C/O RICARDO UNIKEL</td>\n",
       "      <td>3217 BURN BRAE DR</td>\n",
       "      <td>...</td>\n",
       "      <td>NaN</td>\n",
       "      <td>NaT</td>\n",
       "      <td>0</td>\n",
       "      <td>0</td>\n",
       "      <td>200.0</td>\n",
       "      <td>9900.0</td>\n",
       "      <td>200.0</td>\n",
       "      <td>2500.0</td>\n",
       "      <td>1</td>\n",
       "      <td>1</td>\n",
       "    </tr>\n",
       "    <tr>\n",
       "      <td>336585</td>\n",
       "      <td>586603</td>\n",
       "      <td>R</td>\n",
       "      <td>2019</td>\n",
       "      <td>15676-001-0580</td>\n",
       "      <td>456910</td>\n",
       "      <td>UNIFRID CORP</td>\n",
       "      <td>F</td>\n",
       "      <td>0</td>\n",
       "      <td>C/O RICARDO UNIKEL</td>\n",
       "      <td>3217 BURN BRAE DR</td>\n",
       "      <td>...</td>\n",
       "      <td>NaN</td>\n",
       "      <td>NaT</td>\n",
       "      <td>0</td>\n",
       "      <td>0</td>\n",
       "      <td>200.0</td>\n",
       "      <td>9900.0</td>\n",
       "      <td>200.0</td>\n",
       "      <td>2500.0</td>\n",
       "      <td>1</td>\n",
       "      <td>1</td>\n",
       "    </tr>\n",
       "    <tr>\n",
       "      <td>336586</td>\n",
       "      <td>586604</td>\n",
       "      <td>R</td>\n",
       "      <td>2019</td>\n",
       "      <td>15676-001-0590</td>\n",
       "      <td>456910</td>\n",
       "      <td>UNIFRID CORP</td>\n",
       "      <td>F</td>\n",
       "      <td>0</td>\n",
       "      <td>C/O RICARDO UNIKEL</td>\n",
       "      <td>3217 BURN BRAE DR</td>\n",
       "      <td>...</td>\n",
       "      <td>NaN</td>\n",
       "      <td>NaT</td>\n",
       "      <td>0</td>\n",
       "      <td>0</td>\n",
       "      <td>200.0</td>\n",
       "      <td>9900.0</td>\n",
       "      <td>200.0</td>\n",
       "      <td>2500.0</td>\n",
       "      <td>1</td>\n",
       "      <td>1</td>\n",
       "    </tr>\n",
       "    <tr>\n",
       "      <td>336587</td>\n",
       "      <td>586605</td>\n",
       "      <td>R</td>\n",
       "      <td>2019</td>\n",
       "      <td>15676-001-0600</td>\n",
       "      <td>456910</td>\n",
       "      <td>UNIFRID CORP</td>\n",
       "      <td>F</td>\n",
       "      <td>0</td>\n",
       "      <td>C/O RICARDO UNIKEL</td>\n",
       "      <td>3217 BURN BRAE DR</td>\n",
       "      <td>...</td>\n",
       "      <td>NaN</td>\n",
       "      <td>NaT</td>\n",
       "      <td>0</td>\n",
       "      <td>0</td>\n",
       "      <td>200.0</td>\n",
       "      <td>9900.0</td>\n",
       "      <td>200.0</td>\n",
       "      <td>2500.0</td>\n",
       "      <td>1</td>\n",
       "      <td>1</td>\n",
       "    </tr>\n",
       "    <tr>\n",
       "      <td>336591</td>\n",
       "      <td>586609</td>\n",
       "      <td>R</td>\n",
       "      <td>2019</td>\n",
       "      <td>15676-001-0640</td>\n",
       "      <td>456910</td>\n",
       "      <td>UNIFRID CORP</td>\n",
       "      <td>F</td>\n",
       "      <td>0</td>\n",
       "      <td>C/O RICARDO UNIKEL</td>\n",
       "      <td>3217 BURN BRAE DR</td>\n",
       "      <td>...</td>\n",
       "      <td>NaN</td>\n",
       "      <td>NaT</td>\n",
       "      <td>0</td>\n",
       "      <td>0</td>\n",
       "      <td>200.0</td>\n",
       "      <td>9900.0</td>\n",
       "      <td>200.0</td>\n",
       "      <td>2500.0</td>\n",
       "      <td>1</td>\n",
       "      <td>1</td>\n",
       "    </tr>\n",
       "    <tr>\n",
       "      <td>336592</td>\n",
       "      <td>586610</td>\n",
       "      <td>R</td>\n",
       "      <td>2019</td>\n",
       "      <td>15676-001-0650</td>\n",
       "      <td>456910</td>\n",
       "      <td>UNIFRID CORP</td>\n",
       "      <td>F</td>\n",
       "      <td>0</td>\n",
       "      <td>C/O RICARDO UNIKEL</td>\n",
       "      <td>3217 BURN BRAE DR</td>\n",
       "      <td>...</td>\n",
       "      <td>NaN</td>\n",
       "      <td>NaT</td>\n",
       "      <td>0</td>\n",
       "      <td>0</td>\n",
       "      <td>200.0</td>\n",
       "      <td>9900.0</td>\n",
       "      <td>200.0</td>\n",
       "      <td>2500.0</td>\n",
       "      <td>1</td>\n",
       "      <td>1</td>\n",
       "    </tr>\n",
       "    <tr>\n",
       "      <td>336593</td>\n",
       "      <td>586611</td>\n",
       "      <td>R</td>\n",
       "      <td>2019</td>\n",
       "      <td>15676-001-0660</td>\n",
       "      <td>456910</td>\n",
       "      <td>UNIFRID CORP</td>\n",
       "      <td>F</td>\n",
       "      <td>0</td>\n",
       "      <td>C/O RICARDO UNIKEL</td>\n",
       "      <td>3217 BURN BRAE DR</td>\n",
       "      <td>...</td>\n",
       "      <td>NaN</td>\n",
       "      <td>NaT</td>\n",
       "      <td>0</td>\n",
       "      <td>0</td>\n",
       "      <td>200.0</td>\n",
       "      <td>9900.0</td>\n",
       "      <td>200.0</td>\n",
       "      <td>2500.0</td>\n",
       "      <td>1</td>\n",
       "      <td>1</td>\n",
       "    </tr>\n",
       "    <tr>\n",
       "      <td>336594</td>\n",
       "      <td>586612</td>\n",
       "      <td>R</td>\n",
       "      <td>2019</td>\n",
       "      <td>15676-001-0670</td>\n",
       "      <td>456910</td>\n",
       "      <td>UNIFRID CORP</td>\n",
       "      <td>F</td>\n",
       "      <td>0</td>\n",
       "      <td>C/O RICARDO UNIKEL</td>\n",
       "      <td>3217 BURN BRAE DR</td>\n",
       "      <td>...</td>\n",
       "      <td>NaN</td>\n",
       "      <td>NaT</td>\n",
       "      <td>0</td>\n",
       "      <td>0</td>\n",
       "      <td>200.0</td>\n",
       "      <td>9900.0</td>\n",
       "      <td>200.0</td>\n",
       "      <td>2500.0</td>\n",
       "      <td>1</td>\n",
       "      <td>1</td>\n",
       "    </tr>\n",
       "    <tr>\n",
       "      <td>336595</td>\n",
       "      <td>586613</td>\n",
       "      <td>R</td>\n",
       "      <td>2019</td>\n",
       "      <td>15676-001-0680</td>\n",
       "      <td>456910</td>\n",
       "      <td>UNIFRID CORP</td>\n",
       "      <td>F</td>\n",
       "      <td>0</td>\n",
       "      <td>C/O RICARDO UNIKEL</td>\n",
       "      <td>3217 BURN BRAE DR</td>\n",
       "      <td>...</td>\n",
       "      <td>NaN</td>\n",
       "      <td>NaT</td>\n",
       "      <td>0</td>\n",
       "      <td>0</td>\n",
       "      <td>200.0</td>\n",
       "      <td>9900.0</td>\n",
       "      <td>200.0</td>\n",
       "      <td>2500.0</td>\n",
       "      <td>1</td>\n",
       "      <td>1</td>\n",
       "    </tr>\n",
       "  </tbody>\n",
       "</table>\n",
       "<p>26 rows × 74 columns</p>\n",
       "</div>"
      ],
      "text/plain": [
       "        prop_id prop_type_cd  prop_val_yr          geo_id  py_owner_id  \\\n",
       "336540   586556            R         2019  15676-001-0110       456909   \n",
       "336541   586557            R         2019  15676-001-0120       456910   \n",
       "336542   586558            R         2019  15676-001-0130       456910   \n",
       "336543   586559            R         2019  15676-001-0140       456910   \n",
       "336544   586560            R         2019  15676-001-0150       456910   \n",
       "336545   586561            R         2019  15676-001-0160       456910   \n",
       "336546   586562            R         2019  15676-001-0170       456910   \n",
       "336547   586563            R         2019  15676-001-0180       456910   \n",
       "336548   586564            R         2019  15676-001-0190       456910   \n",
       "336549   586565            R         2019  15676-001-0200       456910   \n",
       "336560   586576            R         2019  15676-001-0310       456910   \n",
       "336561   586577            R         2019  15676-001-0320       456910   \n",
       "336563   586579            R         2019  15676-001-0340       456910   \n",
       "336564   586580            R         2019  15676-001-0350       456910   \n",
       "336565   586581            R         2019  15676-001-0360       456910   \n",
       "336572   586590            R         2019  15676-001-0450       456910   \n",
       "336574   586592            R         2019  15676-001-0470       456910   \n",
       "336581   586599            R         2019  15676-001-0540       456910   \n",
       "336585   586603            R         2019  15676-001-0580       456910   \n",
       "336586   586604            R         2019  15676-001-0590       456910   \n",
       "336587   586605            R         2019  15676-001-0600       456910   \n",
       "336591   586609            R         2019  15676-001-0640       456910   \n",
       "336592   586610            R         2019  15676-001-0650       456910   \n",
       "336593   586611            R         2019  15676-001-0660       456910   \n",
       "336594   586612            R         2019  15676-001-0670       456910   \n",
       "336595   586613            R         2019  15676-001-0680       456910   \n",
       "\n",
       "       py_owner_name partial_owner  udi_group       py_addr_line1  \\\n",
       "336540  UNIFRID CORP             F          0  C/O RICARDO UNIKEL   \n",
       "336541  UNIFRID CORP             F          0  C/O RICARDO UNIKEL   \n",
       "336542  UNIFRID CORP             F          0  C/O RICARDO UNIKEL   \n",
       "336543  UNIFRID CORP             F          0  C/O RICARDO UNIKEL   \n",
       "336544  UNIFRID CORP             F          0  C/O RICARDO UNIKEL   \n",
       "336545  UNIFRID CORP             F          0  C/O RICARDO UNIKEL   \n",
       "336546  UNIFRID CORP             F          0  C/O RICARDO UNIKEL   \n",
       "336547  UNIFRID CORP             F          0  C/O RICARDO UNIKEL   \n",
       "336548  UNIFRID CORP             F          0  C/O RICARDO UNIKEL   \n",
       "336549  UNIFRID CORP             F          0  C/O RICARDO UNIKEL   \n",
       "336560  UNIFRID CORP             F          0  C/O RICARDO UNIKEL   \n",
       "336561  UNIFRID CORP             F          0  C/O RICARDO UNIKEL   \n",
       "336563  UNIFRID CORP             F          0  C/O RICARDO UNIKEL   \n",
       "336564  UNIFRID CORP             F          0  C/O RICARDO UNIKEL   \n",
       "336565  UNIFRID CORP             F          0  C/O RICARDO UNIKEL   \n",
       "336572  UNIFRID CORP             F          0  C/O RICARDO UNIKEL   \n",
       "336574  UNIFRID CORP             F          0  C/O RICARDO UNIKEL   \n",
       "336581  UNIFRID CORP             F          0  C/O RICARDO UNIKEL   \n",
       "336585  UNIFRID CORP             F          0  C/O RICARDO UNIKEL   \n",
       "336586  UNIFRID CORP             F          0  C/O RICARDO UNIKEL   \n",
       "336587  UNIFRID CORP             F          0  C/O RICARDO UNIKEL   \n",
       "336591  UNIFRID CORP             F          0  C/O RICARDO UNIKEL   \n",
       "336592  UNIFRID CORP             F          0  C/O RICARDO UNIKEL   \n",
       "336593  UNIFRID CORP             F          0  C/O RICARDO UNIKEL   \n",
       "336594  UNIFRID CORP             F          0  C/O RICARDO UNIKEL   \n",
       "336595  UNIFRID CORP             F          0  C/O RICARDO UNIKEL   \n",
       "\n",
       "            py_addr_line2  ... Officer/Director State deed_charter_diff  \\\n",
       "336540  3217 BURN BRAE DR  ...                    NaN               NaT   \n",
       "336541  3217 BURN BRAE DR  ...                    NaN               NaT   \n",
       "336542  3217 BURN BRAE DR  ...                    NaN               NaT   \n",
       "336543  3217 BURN BRAE DR  ...                    NaN               NaT   \n",
       "336544  3217 BURN BRAE DR  ...                    NaN               NaT   \n",
       "336545  3217 BURN BRAE DR  ...                    NaN               NaT   \n",
       "336546  3217 BURN BRAE DR  ...                    NaN               NaT   \n",
       "336547  3217 BURN BRAE DR  ...                    NaN               NaT   \n",
       "336548  3217 BURN BRAE DR  ...                    NaN               NaT   \n",
       "336549  3217 BURN BRAE DR  ...                    NaN               NaT   \n",
       "336560  3217 BURN BRAE DR  ...                    NaN               NaT   \n",
       "336561  3217 BURN BRAE DR  ...                    NaN               NaT   \n",
       "336563  3217 BURN BRAE DR  ...                    NaN               NaT   \n",
       "336564  3217 BURN BRAE DR  ...                    NaN               NaT   \n",
       "336565  3217 BURN BRAE DR  ...                    NaN               NaT   \n",
       "336572  3217 BURN BRAE DR  ...                    NaN               NaT   \n",
       "336574  3217 BURN BRAE DR  ...                    NaN               NaT   \n",
       "336581  3217 BURN BRAE DR  ...                    NaN               NaT   \n",
       "336585  3217 BURN BRAE DR  ...                    NaN               NaT   \n",
       "336586  3217 BURN BRAE DR  ...                    NaN               NaT   \n",
       "336587  3217 BURN BRAE DR  ...                    NaN               NaT   \n",
       "336591  3217 BURN BRAE DR  ...                    NaN               NaT   \n",
       "336592  3217 BURN BRAE DR  ...                    NaN               NaT   \n",
       "336593  3217 BURN BRAE DR  ...                    NaN               NaT   \n",
       "336594  3217 BURN BRAE DR  ...                    NaN               NaT   \n",
       "336595  3217 BURN BRAE DR  ...                    NaN               NaT   \n",
       "\n",
       "       just_established_owner foreign_based_owner  yoy_diff_2019  \\\n",
       "336540                      0                   0        -1200.0   \n",
       "336541                      0                   0          200.0   \n",
       "336542                      0                   0          200.0   \n",
       "336543                      0                   0          200.0   \n",
       "336544                      0                   0          200.0   \n",
       "336545                      0                   0          200.0   \n",
       "336546                      0                   0          200.0   \n",
       "336547                      0                   0          200.0   \n",
       "336548                      0                   0          200.0   \n",
       "336549                      0                   0          200.0   \n",
       "336560                      0                   0         -100.0   \n",
       "336561                      0                   0         -100.0   \n",
       "336563                      0                   0         -100.0   \n",
       "336564                      0                   0         -100.0   \n",
       "336565                      0                   0         -100.0   \n",
       "336572                      0                   0         -100.0   \n",
       "336574                      0                   0         -100.0   \n",
       "336581                      0                   0          200.0   \n",
       "336585                      0                   0          200.0   \n",
       "336586                      0                   0          200.0   \n",
       "336587                      0                   0          200.0   \n",
       "336591                      0                   0          200.0   \n",
       "336592                      0                   0          200.0   \n",
       "336593                      0                   0          200.0   \n",
       "336594                      0                   0          200.0   \n",
       "336595                      0                   0          200.0   \n",
       "\n",
       "        yoy_diff_2018 yoy_diff_2017  yoy_diff_2016  out_of_state_owner  \\\n",
       "336540        11300.0         200.0         2500.0                   1   \n",
       "336541         9900.0         200.0         2500.0                   1   \n",
       "336542         9900.0         200.0         2500.0                   1   \n",
       "336543         9900.0         200.0         2500.0                   1   \n",
       "336544         9900.0         200.0         2500.0                   1   \n",
       "336545         9900.0         200.0         2500.0                   1   \n",
       "336546         9900.0         200.0         2500.0                   1   \n",
       "336547         9900.0         200.0         2500.0                   1   \n",
       "336548         9900.0         200.0         2500.0                   1   \n",
       "336549         9900.0         200.0        -1700.0                   1   \n",
       "336560         2800.0        1000.0         2500.0                   1   \n",
       "336561         2800.0        1000.0         2500.0                   1   \n",
       "336563         2800.0        1000.0         2500.0                   1   \n",
       "336564         2800.0        1000.0         2500.0                   1   \n",
       "336565         2800.0        1000.0         2500.0                   1   \n",
       "336572         2800.0        1000.0         2500.0                   1   \n",
       "336574         2800.0        1000.0         2500.0                   1   \n",
       "336581         9900.0         200.0         2500.0                   1   \n",
       "336585         9900.0         200.0         2500.0                   1   \n",
       "336586         9900.0         200.0         2500.0                   1   \n",
       "336587         9900.0         200.0         2500.0                   1   \n",
       "336591         9900.0         200.0         2500.0                   1   \n",
       "336592         9900.0         200.0         2500.0                   1   \n",
       "336593         9900.0         200.0         2500.0                   1   \n",
       "336594         9900.0         200.0         2500.0                   1   \n",
       "336595         9900.0         200.0         2500.0                   1   \n",
       "\n",
       "        entity_agent_binary  \n",
       "336540                    1  \n",
       "336541                    1  \n",
       "336542                    1  \n",
       "336543                    1  \n",
       "336544                    1  \n",
       "336545                    1  \n",
       "336546                    1  \n",
       "336547                    1  \n",
       "336548                    1  \n",
       "336549                    1  \n",
       "336560                    1  \n",
       "336561                    1  \n",
       "336563                    1  \n",
       "336564                    1  \n",
       "336565                    1  \n",
       "336572                    1  \n",
       "336574                    1  \n",
       "336581                    1  \n",
       "336585                    1  \n",
       "336586                    1  \n",
       "336587                    1  \n",
       "336591                    1  \n",
       "336592                    1  \n",
       "336593                    1  \n",
       "336594                    1  \n",
       "336595                    1  \n",
       "\n",
       "[26 rows x 74 columns]"
      ]
     },
     "execution_count": 48,
     "metadata": {},
     "output_type": "execute_result"
    }
   ],
   "source": [
    "# MX here does not appear that useful\n",
    "bexar_df[bexar_df.ca_agent_country=='MX']"
   ]
  },
  {
   "cell_type": "code",
   "execution_count": 49,
   "metadata": {
    "ExecuteTime": {
     "end_time": "2019-12-26T17:33:20.919518Z",
     "start_time": "2019-12-26T17:33:19.431344Z"
    }
   },
   "outputs": [
    {
     "name": "stdout",
     "output_type": "stream",
     "text": [
      "(695510, 65)\n"
     ]
    }
   ],
   "source": [
    "# Dropping all chief appraiser data\n",
    "bexar_df.drop(columns=['ca_agent_id', 'ca_agent_name', 'ca_agent_addr_line1',\n",
    "                       'ca_agent_addr_line2', 'ca_agent_addr_line3', 'ca_agent_city',\n",
    "                       'ca_agent_state', 'ca_agent_country', 'ca_agent_zip'],inplace=True)\n",
    "print(bexar_df.shape)"
   ]
  },
  {
   "cell_type": "markdown",
   "metadata": {},
   "source": [
    "##### DBA"
   ]
  },
  {
   "cell_type": "code",
   "execution_count": 52,
   "metadata": {
    "ExecuteTime": {
     "end_time": "2019-12-26T17:34:46.597372Z",
     "start_time": "2019-12-26T17:34:46.484183Z"
    }
   },
   "outputs": [
    {
     "data": {
      "text/plain": [
       "72122"
      ]
     },
     "execution_count": 52,
     "metadata": {},
     "output_type": "execute_result"
    }
   ],
   "source": [
    "len(bexar_df.dba.dropna())"
   ]
  },
  {
   "cell_type": "code",
   "execution_count": 53,
   "metadata": {
    "ExecuteTime": {
     "end_time": "2019-12-26T17:35:13.817201Z",
     "start_time": "2019-12-26T17:35:13.729639Z"
    }
   },
   "outputs": [
    {
     "data": {
      "text/plain": [
       "59134"
      ]
     },
     "execution_count": 53,
     "metadata": {},
     "output_type": "execute_result"
    }
   ],
   "source": [
    "len(bexar_df['Taxpayer Name'].dropna())"
   ]
  },
  {
   "cell_type": "code",
   "execution_count": 58,
   "metadata": {
    "ExecuteTime": {
     "end_time": "2019-12-26T17:38:53.079213Z",
     "start_time": "2019-12-26T17:38:52.996415Z"
    }
   },
   "outputs": [
    {
     "data": {
      "text/html": [
       "<div>\n",
       "<style scoped>\n",
       "    .dataframe tbody tr th:only-of-type {\n",
       "        vertical-align: middle;\n",
       "    }\n",
       "\n",
       "    .dataframe tbody tr th {\n",
       "        vertical-align: top;\n",
       "    }\n",
       "\n",
       "    .dataframe thead th {\n",
       "        text-align: right;\n",
       "    }\n",
       "</style>\n",
       "<table border=\"1\" class=\"dataframe\">\n",
       "  <thead>\n",
       "    <tr style=\"text-align: right;\">\n",
       "      <th></th>\n",
       "      <th>py_owner_id</th>\n",
       "      <th>py_owner_name</th>\n",
       "      <th>dba</th>\n",
       "      <th>Taxpayer Name</th>\n",
       "    </tr>\n",
       "  </thead>\n",
       "  <tbody>\n",
       "    <tr>\n",
       "      <td>0</td>\n",
       "      <td>83346</td>\n",
       "      <td>KEYSTONE SCHOOL</td>\n",
       "      <td>NaN</td>\n",
       "      <td>KEYSTONE SCHOOL</td>\n",
       "    </tr>\n",
       "    <tr>\n",
       "      <td>1</td>\n",
       "      <td>2851023</td>\n",
       "      <td>GONZALEZ MANUELA AGUILAR</td>\n",
       "      <td>NaN</td>\n",
       "      <td>NaN</td>\n",
       "    </tr>\n",
       "    <tr>\n",
       "      <td>2</td>\n",
       "      <td>2690996</td>\n",
       "      <td>ELMERS ICEHOUSE LLC</td>\n",
       "      <td>NaN</td>\n",
       "      <td>NaN</td>\n",
       "    </tr>\n",
       "    <tr>\n",
       "      <td>3</td>\n",
       "      <td>2690996</td>\n",
       "      <td>ELMERS ICEHOUSE LLC</td>\n",
       "      <td>NaN</td>\n",
       "      <td>NaN</td>\n",
       "    </tr>\n",
       "    <tr>\n",
       "      <td>4</td>\n",
       "      <td>85466</td>\n",
       "      <td>CITY OF SAN ANTONIO</td>\n",
       "      <td>NaN</td>\n",
       "      <td>NaN</td>\n",
       "    </tr>\n",
       "    <tr>\n",
       "      <td>5</td>\n",
       "      <td>70072</td>\n",
       "      <td>SAN ANTONIO RIVER AUTHORITY</td>\n",
       "      <td>NaN</td>\n",
       "      <td>NaN</td>\n",
       "    </tr>\n",
       "    <tr>\n",
       "      <td>6</td>\n",
       "      <td>83346</td>\n",
       "      <td>KEYSTONE SCHOOL</td>\n",
       "      <td>KEYSTONE SCHOOL</td>\n",
       "      <td>KEYSTONE SCHOOL</td>\n",
       "    </tr>\n",
       "    <tr>\n",
       "      <td>7</td>\n",
       "      <td>70026</td>\n",
       "      <td>TEXAS NEON ADVERTISING CO</td>\n",
       "      <td>SIGNS</td>\n",
       "      <td>NaN</td>\n",
       "    </tr>\n",
       "    <tr>\n",
       "      <td>8</td>\n",
       "      <td>70027</td>\n",
       "      <td>TEXAS NEON SIGN CO</td>\n",
       "      <td>TEXAS NEON SIGN CO</td>\n",
       "      <td>NaN</td>\n",
       "    </tr>\n",
       "    <tr>\n",
       "      <td>9</td>\n",
       "      <td>70030</td>\n",
       "      <td>CULLUM JAMES A JR</td>\n",
       "      <td>NaN</td>\n",
       "      <td>NaN</td>\n",
       "    </tr>\n",
       "    <tr>\n",
       "      <td>10</td>\n",
       "      <td>2728700</td>\n",
       "      <td>ROSENGREN CAMILLE S</td>\n",
       "      <td>NaN</td>\n",
       "      <td>NaN</td>\n",
       "    </tr>\n",
       "    <tr>\n",
       "      <td>11</td>\n",
       "      <td>70010</td>\n",
       "      <td>CITY OF SAN ANTONIO</td>\n",
       "      <td>BRACKENRIDGE GOLF COURSE</td>\n",
       "      <td>NaN</td>\n",
       "    </tr>\n",
       "    <tr>\n",
       "      <td>12</td>\n",
       "      <td>70010</td>\n",
       "      <td>CITY OF SAN ANTONIO</td>\n",
       "      <td>NaN</td>\n",
       "      <td>NaN</td>\n",
       "    </tr>\n",
       "    <tr>\n",
       "      <td>13</td>\n",
       "      <td>70010</td>\n",
       "      <td>CITY OF SAN ANTONIO</td>\n",
       "      <td>NaN</td>\n",
       "      <td>NaN</td>\n",
       "    </tr>\n",
       "    <tr>\n",
       "      <td>14</td>\n",
       "      <td>70033</td>\n",
       "      <td>DAY MARGARET &amp; JOHN B HERTZ</td>\n",
       "      <td>NaN</td>\n",
       "      <td>NaN</td>\n",
       "    </tr>\n",
       "    <tr>\n",
       "      <td>15</td>\n",
       "      <td>2814192</td>\n",
       "      <td>CLARK LARRY</td>\n",
       "      <td>NaN</td>\n",
       "      <td>NaN</td>\n",
       "    </tr>\n",
       "    <tr>\n",
       "      <td>16</td>\n",
       "      <td>70010</td>\n",
       "      <td>CITY OF SAN ANTONIO</td>\n",
       "      <td>BRACKENRIDGE GOLF COURSE</td>\n",
       "      <td>NaN</td>\n",
       "    </tr>\n",
       "    <tr>\n",
       "      <td>17</td>\n",
       "      <td>70010</td>\n",
       "      <td>CITY OF SAN ANTONIO</td>\n",
       "      <td>NaN</td>\n",
       "      <td>NaN</td>\n",
       "    </tr>\n",
       "    <tr>\n",
       "      <td>18</td>\n",
       "      <td>70016</td>\n",
       "      <td>STATE OF TEXAS</td>\n",
       "      <td>NaN</td>\n",
       "      <td>NaN</td>\n",
       "    </tr>\n",
       "    <tr>\n",
       "      <td>19</td>\n",
       "      <td>70016</td>\n",
       "      <td>STATE OF TEXAS</td>\n",
       "      <td>NaN</td>\n",
       "      <td>NaN</td>\n",
       "    </tr>\n",
       "  </tbody>\n",
       "</table>\n",
       "</div>"
      ],
      "text/plain": [
       "    py_owner_id                py_owner_name                       dba  \\\n",
       "0         83346              KEYSTONE SCHOOL                       NaN   \n",
       "1       2851023     GONZALEZ MANUELA AGUILAR                       NaN   \n",
       "2       2690996          ELMERS ICEHOUSE LLC                       NaN   \n",
       "3       2690996          ELMERS ICEHOUSE LLC                       NaN   \n",
       "4         85466          CITY OF SAN ANTONIO                       NaN   \n",
       "5         70072  SAN ANTONIO RIVER AUTHORITY                       NaN   \n",
       "6         83346              KEYSTONE SCHOOL           KEYSTONE SCHOOL   \n",
       "7         70026    TEXAS NEON ADVERTISING CO                     SIGNS   \n",
       "8         70027           TEXAS NEON SIGN CO        TEXAS NEON SIGN CO   \n",
       "9         70030            CULLUM JAMES A JR                       NaN   \n",
       "10      2728700          ROSENGREN CAMILLE S                       NaN   \n",
       "11        70010          CITY OF SAN ANTONIO  BRACKENRIDGE GOLF COURSE   \n",
       "12        70010          CITY OF SAN ANTONIO                       NaN   \n",
       "13        70010          CITY OF SAN ANTONIO                       NaN   \n",
       "14        70033  DAY MARGARET & JOHN B HERTZ                       NaN   \n",
       "15      2814192                  CLARK LARRY                       NaN   \n",
       "16        70010          CITY OF SAN ANTONIO  BRACKENRIDGE GOLF COURSE   \n",
       "17        70010          CITY OF SAN ANTONIO                       NaN   \n",
       "18        70016               STATE OF TEXAS                       NaN   \n",
       "19        70016               STATE OF TEXAS                       NaN   \n",
       "\n",
       "      Taxpayer Name  \n",
       "0   KEYSTONE SCHOOL  \n",
       "1               NaN  \n",
       "2               NaN  \n",
       "3               NaN  \n",
       "4               NaN  \n",
       "5               NaN  \n",
       "6   KEYSTONE SCHOOL  \n",
       "7               NaN  \n",
       "8               NaN  \n",
       "9               NaN  \n",
       "10              NaN  \n",
       "11              NaN  \n",
       "12              NaN  \n",
       "13              NaN  \n",
       "14              NaN  \n",
       "15              NaN  \n",
       "16              NaN  \n",
       "17              NaN  \n",
       "18              NaN  \n",
       "19              NaN  "
      ]
     },
     "execution_count": 58,
     "metadata": {},
     "output_type": "execute_result"
    }
   ],
   "source": [
    "# Need to figure out how to make \"owned by company\" feature\n",
    "bexar_df[['py_owner_id','py_owner_name','dba','Taxpayer Name']].head(20)"
   ]
  },
  {
   "cell_type": "markdown",
   "metadata": {},
   "source": [
    "##### Appraiser Confidential"
   ]
  },
  {
   "cell_type": "code",
   "execution_count": 60,
   "metadata": {
    "ExecuteTime": {
     "end_time": "2019-12-26T18:29:07.818994Z",
     "start_time": "2019-12-26T18:29:07.737929Z"
    }
   },
   "outputs": [
    {
     "data": {
      "text/plain": [
       "F    693091\n",
       "T      2419\n",
       "Name: appr_confidential_flag, dtype: int64"
      ]
     },
     "execution_count": 60,
     "metadata": {},
     "output_type": "execute_result"
    }
   ],
   "source": [
    "bexar_df['appr_confidential_flag'].value_counts()"
   ]
  },
  {
   "cell_type": "code",
   "execution_count": 65,
   "metadata": {
    "ExecuteTime": {
     "end_time": "2019-12-26T18:34:04.821930Z",
     "start_time": "2019-12-26T18:34:04.719393Z"
    }
   },
   "outputs": [
    {
     "data": {
      "text/html": [
       "<div>\n",
       "<style scoped>\n",
       "    .dataframe tbody tr th:only-of-type {\n",
       "        vertical-align: middle;\n",
       "    }\n",
       "\n",
       "    .dataframe tbody tr th {\n",
       "        vertical-align: top;\n",
       "    }\n",
       "\n",
       "    .dataframe thead th {\n",
       "        text-align: right;\n",
       "    }\n",
       "</style>\n",
       "<table border=\"1\" class=\"dataframe\">\n",
       "  <thead>\n",
       "    <tr style=\"text-align: right;\">\n",
       "      <th></th>\n",
       "      <th>py_owner_id</th>\n",
       "      <th>py_owner_name</th>\n",
       "      <th>py_confidential_flag</th>\n",
       "      <th>appr_confidential_flag</th>\n",
       "    </tr>\n",
       "  </thead>\n",
       "  <tbody>\n",
       "    <tr>\n",
       "      <td>311</td>\n",
       "      <td>3165269</td>\n",
       "      <td>NaN</td>\n",
       "      <td>1</td>\n",
       "      <td>T</td>\n",
       "    </tr>\n",
       "    <tr>\n",
       "      <td>911</td>\n",
       "      <td>2962299</td>\n",
       "      <td>NaN</td>\n",
       "      <td>1</td>\n",
       "      <td>T</td>\n",
       "    </tr>\n",
       "    <tr>\n",
       "      <td>1098</td>\n",
       "      <td>2601513</td>\n",
       "      <td>NaN</td>\n",
       "      <td>1</td>\n",
       "      <td>T</td>\n",
       "    </tr>\n",
       "    <tr>\n",
       "      <td>2052</td>\n",
       "      <td>2865736</td>\n",
       "      <td>NaN</td>\n",
       "      <td>1</td>\n",
       "      <td>T</td>\n",
       "    </tr>\n",
       "    <tr>\n",
       "      <td>2398</td>\n",
       "      <td>2501909</td>\n",
       "      <td>NaN</td>\n",
       "      <td>1</td>\n",
       "      <td>T</td>\n",
       "    </tr>\n",
       "    <tr>\n",
       "      <td>...</td>\n",
       "      <td>...</td>\n",
       "      <td>...</td>\n",
       "      <td>...</td>\n",
       "      <td>...</td>\n",
       "    </tr>\n",
       "    <tr>\n",
       "      <td>685567</td>\n",
       "      <td>147843</td>\n",
       "      <td>CONTINENTAL HOMES OF TEXAS LP</td>\n",
       "      <td>0</td>\n",
       "      <td>T</td>\n",
       "    </tr>\n",
       "    <tr>\n",
       "      <td>685585</td>\n",
       "      <td>3157172</td>\n",
       "      <td>NaN</td>\n",
       "      <td>1</td>\n",
       "      <td>T</td>\n",
       "    </tr>\n",
       "    <tr>\n",
       "      <td>689569</td>\n",
       "      <td>1958556</td>\n",
       "      <td>PERRY HOMES LLC</td>\n",
       "      <td>0</td>\n",
       "      <td>T</td>\n",
       "    </tr>\n",
       "    <tr>\n",
       "      <td>690679</td>\n",
       "      <td>197105</td>\n",
       "      <td>WEEKLEY HOMES LLC</td>\n",
       "      <td>0</td>\n",
       "      <td>T</td>\n",
       "    </tr>\n",
       "    <tr>\n",
       "      <td>693955</td>\n",
       "      <td>3160185</td>\n",
       "      <td>NaN</td>\n",
       "      <td>1</td>\n",
       "      <td>T</td>\n",
       "    </tr>\n",
       "  </tbody>\n",
       "</table>\n",
       "<p>2419 rows × 4 columns</p>\n",
       "</div>"
      ],
      "text/plain": [
       "        py_owner_id                  py_owner_name  py_confidential_flag  \\\n",
       "311         3165269                            NaN                     1   \n",
       "911         2962299                            NaN                     1   \n",
       "1098        2601513                            NaN                     1   \n",
       "2052        2865736                            NaN                     1   \n",
       "2398        2501909                            NaN                     1   \n",
       "...             ...                            ...                   ...   \n",
       "685567       147843  CONTINENTAL HOMES OF TEXAS LP                     0   \n",
       "685585      3157172                            NaN                     1   \n",
       "689569      1958556                PERRY HOMES LLC                     0   \n",
       "690679       197105              WEEKLEY HOMES LLC                     0   \n",
       "693955      3160185                            NaN                     1   \n",
       "\n",
       "       appr_confidential_flag  \n",
       "311                         T  \n",
       "911                         T  \n",
       "1098                        T  \n",
       "2052                        T  \n",
       "2398                        T  \n",
       "...                       ...  \n",
       "685567                      T  \n",
       "685585                      T  \n",
       "689569                      T  \n",
       "690679                      T  \n",
       "693955                      T  \n",
       "\n",
       "[2419 rows x 4 columns]"
      ]
     },
     "execution_count": 65,
     "metadata": {},
     "output_type": "execute_result"
    }
   ],
   "source": [
    "# We should be able to assume that every property that has a confidential \n",
    "# flag 1 shouldn't have an owner listed\n",
    "bexar_df[bexar_df['appr_confidential_flag']=='T'][['py_owner_id','py_owner_name','py_confidential_flag','appr_confidential_flag']]"
   ]
  },
  {
   "cell_type": "code",
   "execution_count": 62,
   "metadata": {
    "ExecuteTime": {
     "end_time": "2019-12-26T18:33:04.390277Z",
     "start_time": "2019-12-26T18:33:04.236962Z"
    }
   },
   "outputs": [
    {
     "data": {
      "text/plain": [
       "(693086,)"
      ]
     },
     "execution_count": 62,
     "metadata": {},
     "output_type": "execute_result"
    }
   ],
   "source": [
    "bexar_df.py_owner_name.dropna().shape"
   ]
  },
  {
   "cell_type": "code",
   "execution_count": 63,
   "metadata": {
    "ExecuteTime": {
     "end_time": "2019-12-26T18:33:15.177473Z",
     "start_time": "2019-12-26T18:33:15.150899Z"
    }
   },
   "outputs": [
    {
     "data": {
      "text/plain": [
       "(695510,)"
      ]
     },
     "execution_count": 63,
     "metadata": {},
     "output_type": "execute_result"
    }
   ],
   "source": [
    "bexar_df.py_owner_id.dropna().shape"
   ]
  },
  {
   "cell_type": "code",
   "execution_count": 66,
   "metadata": {
    "ExecuteTime": {
     "end_time": "2019-12-26T18:36:07.643101Z",
     "start_time": "2019-12-26T18:36:07.617291Z"
    }
   },
   "outputs": [
    {
     "data": {
      "text/plain": [
       "0    693086\n",
       "1      2424\n",
       "Name: py_confidential_flag, dtype: int64"
      ]
     },
     "execution_count": 66,
     "metadata": {},
     "output_type": "execute_result"
    }
   ],
   "source": [
    "# Numbers line up\n",
    "bexar_df.py_confidential_flag.value_counts()"
   ]
  },
  {
   "cell_type": "code",
   "execution_count": 67,
   "metadata": {
    "ExecuteTime": {
     "end_time": "2019-12-26T18:37:00.672929Z",
     "start_time": "2019-12-26T18:36:59.343635Z"
    }
   },
   "outputs": [],
   "source": [
    "# Convert appraiser confidential to 1/0\n",
    "bexar_df['appr_confidential_flag'] = np.where(bexar_df['appr_confidential_flag'] == 'T',1,0)"
   ]
  },
  {
   "cell_type": "markdown",
   "metadata": {},
   "source": [
    "##### Taxpayer State"
   ]
  },
  {
   "cell_type": "code",
   "execution_count": 71,
   "metadata": {
    "ExecuteTime": {
     "end_time": "2019-12-26T18:39:50.967659Z",
     "start_time": "2019-12-26T18:39:50.413163Z"
    },
    "scrolled": true
   },
   "outputs": [
    {
     "data": {
      "text/plain": [
       "TX    51216\n",
       "CA     2413\n",
       "AZ      855\n",
       "FL      634\n",
       "CO      602\n",
       "OH      540\n",
       "AR      403\n",
       "MI      335\n",
       "MA      319\n",
       "IL      299\n",
       "NY      270\n",
       "GA      263\n",
       "VA      252\n",
       "TN      226\n",
       "MO      218\n",
       "NJ      208\n",
       "PA      176\n",
       "NC      170\n",
       "MN      157\n",
       "LA      144\n",
       "WA      142\n",
       "VI      133\n",
       "AK      129\n",
       "OK      118\n",
       "KY      114\n",
       "IN       91\n",
       "KS       89\n",
       "NV       83\n",
       "MD       77\n",
       "RI       72\n",
       "UT       67\n",
       "AL       61\n",
       "WI       60\n",
       "CT       59\n",
       "OR       50\n",
       "MS       46\n",
       "SC       45\n",
       "NM       24\n",
       "NE       24\n",
       "ID       24\n",
       "DC       24\n",
       "HI       21\n",
       "NH       17\n",
       "WY       14\n",
       "IA       13\n",
       "SD        5\n",
       "WV        3\n",
       "MT        3\n",
       "ME        2\n",
       "DE        2\n",
       "ND        2\n",
       "PR        1\n",
       "AE        1\n",
       "VT        1\n",
       "Name: Taxpayer State, dtype: int64"
      ]
     },
     "execution_count": 71,
     "metadata": {},
     "output_type": "execute_result"
    }
   ],
   "source": [
    "bexar_df['Taxpayer State'].value_counts()"
   ]
  },
  {
   "cell_type": "code",
   "execution_count": 72,
   "metadata": {
    "ExecuteTime": {
     "end_time": "2019-12-26T18:40:49.314770Z",
     "start_time": "2019-12-26T18:40:49.206785Z"
    }
   },
   "outputs": [
    {
     "data": {
      "text/plain": [
       "61317"
      ]
     },
     "execution_count": 72,
     "metadata": {},
     "output_type": "execute_result"
    }
   ],
   "source": [
    "len(bexar_df['Taxpayer State'].dropna())\n",
    "# Unclear what to do with this\n",
    "# Already have if the owner is foreign-based and based outside of Texas"
   ]
  },
  {
   "cell_type": "markdown",
   "metadata": {},
   "source": [
    "##### Taxpayer Organizational Type"
   ]
  },
  {
   "cell_type": "code",
   "execution_count": 73,
   "metadata": {
    "ExecuteTime": {
     "end_time": "2019-12-26T18:44:47.845158Z",
     "start_time": "2019-12-26T18:44:47.192768Z"
    },
    "scrolled": true
   },
   "outputs": [
    {
     "data": {
      "text/plain": [
       "CL    24080\n",
       "PL    10437\n",
       "CT     8818\n",
       "CI     7401\n",
       "CF     3309\n",
       "CN     2874\n",
       "AR     2781\n",
       "PF     1067\n",
       "AP      186\n",
       "PB      154\n",
       "CP      141\n",
       "CM      125\n",
       "TR       42\n",
       "TF       40\n",
       "PV       39\n",
       "PI       19\n",
       "AF       19\n",
       "TI       19\n",
       "CU        4\n",
       "AB        2\n",
       "AC        1\n",
       "Name: Taxpayer Organizational Type, dtype: int64"
      ]
     },
     "execution_count": 73,
     "metadata": {},
     "output_type": "execute_result"
    }
   ],
   "source": [
    "bexar_df['Taxpayer Organizational Type'].value_counts()"
   ]
  },
  {
   "cell_type": "code",
   "execution_count": 77,
   "metadata": {
    "ExecuteTime": {
     "end_time": "2019-12-26T18:46:29.530629Z",
     "start_time": "2019-12-26T18:46:29.434537Z"
    }
   },
   "outputs": [
    {
     "data": {
      "text/html": [
       "<div>\n",
       "<style scoped>\n",
       "    .dataframe tbody tr th:only-of-type {\n",
       "        vertical-align: middle;\n",
       "    }\n",
       "\n",
       "    .dataframe tbody tr th {\n",
       "        vertical-align: top;\n",
       "    }\n",
       "\n",
       "    .dataframe thead th {\n",
       "        text-align: right;\n",
       "    }\n",
       "</style>\n",
       "<table border=\"1\" class=\"dataframe\">\n",
       "  <thead>\n",
       "    <tr style=\"text-align: right;\">\n",
       "      <th></th>\n",
       "      <th>prop_id</th>\n",
       "      <th>prop_type_cd</th>\n",
       "      <th>prop_val_yr</th>\n",
       "      <th>geo_id</th>\n",
       "      <th>py_owner_id</th>\n",
       "      <th>py_owner_name</th>\n",
       "      <th>partial_owner</th>\n",
       "      <th>udi_group</th>\n",
       "      <th>py_addr_line1</th>\n",
       "      <th>py_addr_line2</th>\n",
       "      <th>...</th>\n",
       "      <th>Officer/Director State</th>\n",
       "      <th>deed_charter_diff</th>\n",
       "      <th>just_established_owner</th>\n",
       "      <th>foreign_based_owner</th>\n",
       "      <th>yoy_diff_2019</th>\n",
       "      <th>yoy_diff_2018</th>\n",
       "      <th>yoy_diff_2017</th>\n",
       "      <th>yoy_diff_2016</th>\n",
       "      <th>out_of_state_owner</th>\n",
       "      <th>entity_agent_binary</th>\n",
       "    </tr>\n",
       "  </thead>\n",
       "  <tbody>\n",
       "  </tbody>\n",
       "</table>\n",
       "<p>0 rows × 65 columns</p>\n",
       "</div>"
      ],
      "text/plain": [
       "Empty DataFrame\n",
       "Columns: [prop_id, prop_type_cd, prop_val_yr, geo_id, py_owner_id, py_owner_name, partial_owner, udi_group, py_addr_line1, py_addr_line2, py_addr_line3, py_addr_city, py_addr_state, py_addr_country, py_addr_zip, py_addr_zip_cass, py_addr_zip_rt, py_confidential_flag, py_address_suppress_flag, py_addr_ml_deliverable, situs_street_prefx, situs_street, situs_street_suffix, situs_city, situs_zip, hood_cd, appraised_val, deed_dt, land_acres, dba, market_value, appr_confidential_flag, appr_address_suppress_flag, Yr_blt, Sq_ft, Prior_Mkt_Val, bexar_2015_market_value, bexar_2016_market_value, bexar_2017_market_value, bexar_2018_market_value, cleaned_name, Taxpayer Number, Taxpayer Name, Taxpayer Address, Taxpayer City, Taxpayer State, Taxpayer Organizational Type, Taxpayer Zip Code, SOS Charter Date, SOS Status Date, SOS Status Code, Right to Transact Business Code, Officer/Director Latest Year Filed, Officer/Director Name, Officer/Director Title, Officer/Director State, deed_charter_diff, just_established_owner, foreign_based_owner, yoy_diff_2019, yoy_diff_2018, yoy_diff_2017, yoy_diff_2016, out_of_state_owner, entity_agent_binary]\n",
       "Index: []\n",
       "\n",
       "[0 rows x 65 columns]"
      ]
     },
     "execution_count": 77,
     "metadata": {},
     "output_type": "execute_result"
    }
   ],
   "source": [
    "bexar_df[bexar_df['Taxpayer Organizational Type']=='HF'].head()\n",
    "# No foreign holding companies"
   ]
  },
  {
   "cell_type": "code",
   "execution_count": 81,
   "metadata": {
    "ExecuteTime": {
     "end_time": "2019-12-26T18:48:06.150941Z",
     "start_time": "2019-12-26T18:48:06.050221Z"
    }
   },
   "outputs": [
    {
     "data": {
      "text/html": [
       "<div>\n",
       "<style scoped>\n",
       "    .dataframe tbody tr th:only-of-type {\n",
       "        vertical-align: middle;\n",
       "    }\n",
       "\n",
       "    .dataframe tbody tr th {\n",
       "        vertical-align: top;\n",
       "    }\n",
       "\n",
       "    .dataframe thead th {\n",
       "        text-align: right;\n",
       "    }\n",
       "</style>\n",
       "<table border=\"1\" class=\"dataframe\">\n",
       "  <thead>\n",
       "    <tr style=\"text-align: right;\">\n",
       "      <th></th>\n",
       "      <th>py_owner_name</th>\n",
       "      <th>py_addr_country</th>\n",
       "    </tr>\n",
       "  </thead>\n",
       "  <tbody>\n",
       "    <tr>\n",
       "      <td>289</td>\n",
       "      <td>HARCROS CHEMICALS INC</td>\n",
       "      <td>US</td>\n",
       "    </tr>\n",
       "    <tr>\n",
       "      <td>471</td>\n",
       "      <td>TINDALL CORPORATION</td>\n",
       "      <td>US</td>\n",
       "    </tr>\n",
       "    <tr>\n",
       "      <td>792</td>\n",
       "      <td>CVS PHARMACY INC</td>\n",
       "      <td>US</td>\n",
       "    </tr>\n",
       "    <tr>\n",
       "      <td>1170</td>\n",
       "      <td>ATM DEVELOPMENTS LTD</td>\n",
       "      <td>US</td>\n",
       "    </tr>\n",
       "    <tr>\n",
       "      <td>1625</td>\n",
       "      <td>SEASIDE HOSPITALITY CORPORATION</td>\n",
       "      <td>US</td>\n",
       "    </tr>\n",
       "    <tr>\n",
       "      <td>1638</td>\n",
       "      <td>OMNI LA MANSION CORPORATION</td>\n",
       "      <td>US</td>\n",
       "    </tr>\n",
       "    <tr>\n",
       "      <td>2958</td>\n",
       "      <td>PEREZ-SALINAS INC</td>\n",
       "      <td>US</td>\n",
       "    </tr>\n",
       "    <tr>\n",
       "      <td>8484</td>\n",
       "      <td>RF SERVICES INC</td>\n",
       "      <td>US</td>\n",
       "    </tr>\n",
       "    <tr>\n",
       "      <td>9279</td>\n",
       "      <td>PEREZ-SALINAS INC</td>\n",
       "      <td>US</td>\n",
       "    </tr>\n",
       "    <tr>\n",
       "      <td>9283</td>\n",
       "      <td>PEREZ-SALINAS INC</td>\n",
       "      <td>US</td>\n",
       "    </tr>\n",
       "  </tbody>\n",
       "</table>\n",
       "</div>"
      ],
      "text/plain": [
       "                        py_owner_name py_addr_country\n",
       "289             HARCROS CHEMICALS INC              US\n",
       "471               TINDALL CORPORATION              US\n",
       "792                  CVS PHARMACY INC              US\n",
       "1170             ATM DEVELOPMENTS LTD              US\n",
       "1625  SEASIDE HOSPITALITY CORPORATION              US\n",
       "1638      OMNI LA MANSION CORPORATION              US\n",
       "2958                PEREZ-SALINAS INC              US\n",
       "8484                  RF SERVICES INC              US\n",
       "9279                PEREZ-SALINAS INC              US\n",
       "9283                PEREZ-SALINAS INC              US"
      ]
     },
     "execution_count": 81,
     "metadata": {},
     "output_type": "execute_result"
    }
   ],
   "source": [
    "bexar_df[bexar_df['Taxpayer Organizational Type']=='CF'][['py_owner_name','py_addr_country']][:10]"
   ]
  },
  {
   "cell_type": "markdown",
   "metadata": {},
   "source": [
    "##### SOS Status Code"
   ]
  },
  {
   "cell_type": "code",
   "execution_count": 70,
   "metadata": {
    "ExecuteTime": {
     "end_time": "2019-12-26T18:38:05.735770Z",
     "start_time": "2019-12-26T18:38:05.606836Z"
    }
   },
   "outputs": [
    {
     "data": {
      "text/plain": [
       "A    52789\n",
       "R     5083\n",
       "F      177\n",
       "W        6\n",
       "C        6\n",
       "Y        4\n",
       "Name: SOS Status Code, dtype: int64"
      ]
     },
     "execution_count": 70,
     "metadata": {},
     "output_type": "execute_result"
    }
   ],
   "source": [
    "bexar_df['SOS Status Code'].value_counts()"
   ]
  },
  {
   "cell_type": "code",
   "execution_count": 85,
   "metadata": {
    "ExecuteTime": {
     "end_time": "2019-12-26T18:51:41.629501Z",
     "start_time": "2019-12-26T18:51:41.468404Z"
    }
   },
   "outputs": [],
   "source": [
    "# Will use get dummies to make binary columns for each status\n",
    "bexar_sos_status = pd.get_dummies(bexar_df['SOS Status Code'],prefix='sos_status_code_')"
   ]
  },
  {
   "cell_type": "code",
   "execution_count": 87,
   "metadata": {
    "ExecuteTime": {
     "end_time": "2019-12-26T18:52:28.899417Z",
     "start_time": "2019-12-26T18:52:27.977310Z"
    }
   },
   "outputs": [],
   "source": [
    "bexar_df = pd.concat([bexar_df,bexar_sos_status],axis=1)"
   ]
  },
  {
   "cell_type": "code",
   "execution_count": null,
   "metadata": {},
   "outputs": [],
   "source": []
  },
  {
   "cell_type": "code",
   "execution_count": null,
   "metadata": {},
   "outputs": [],
   "source": []
  },
  {
   "cell_type": "markdown",
   "metadata": {},
   "source": [
    "##### Owner owns more than one property"
   ]
  },
  {
   "cell_type": "code",
   "execution_count": null,
   "metadata": {},
   "outputs": [],
   "source": []
  }
 ],
 "metadata": {
  "kernelspec": {
   "display_name": "Python 3",
   "language": "python",
   "name": "python3"
  },
  "language_info": {
   "codemirror_mode": {
    "name": "ipython",
    "version": 3
   },
   "file_extension": ".py",
   "mimetype": "text/x-python",
   "name": "python",
   "nbconvert_exporter": "python",
   "pygments_lexer": "ipython3",
   "version": "3.7.1"
  },
  "toc": {
   "base_numbering": 1,
   "nav_menu": {},
   "number_sections": false,
   "sideBar": true,
   "skip_h1_title": false,
   "title_cell": "Table of Contents",
   "title_sidebar": "Contents",
   "toc_cell": false,
   "toc_position": {
    "height": "calc(100% - 180px)",
    "left": "10px",
    "top": "150px",
    "width": "194.188px"
   },
   "toc_section_display": true,
   "toc_window_display": true
  },
  "varInspector": {
   "cols": {
    "lenName": 16,
    "lenType": 16,
    "lenVar": 40
   },
   "kernels_config": {
    "python": {
     "delete_cmd_postfix": "",
     "delete_cmd_prefix": "del ",
     "library": "var_list.py",
     "varRefreshCmd": "print(var_dic_list())"
    },
    "r": {
     "delete_cmd_postfix": ") ",
     "delete_cmd_prefix": "rm(",
     "library": "var_list.r",
     "varRefreshCmd": "cat(var_dic_list()) "
    }
   },
   "types_to_exclude": [
    "module",
    "function",
    "builtin_function_or_method",
    "instance",
    "_Feature"
   ],
   "window_display": false
  }
 },
 "nbformat": 4,
 "nbformat_minor": 2
}

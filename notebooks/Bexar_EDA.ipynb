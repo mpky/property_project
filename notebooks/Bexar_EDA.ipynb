{
 "cells": [
  {
   "cell_type": "markdown",
   "metadata": {},
   "source": [
    "## Visualizing the Bexar Data\n",
    "\n",
    "To better understand potential features for future models, I visualized several of the variables. I started by plotting the criminally-linked properties on a map to determine if there was any geographic affiliation. I then visualized the differences between types of ownership. Next, I compared price per square foot across ownership types, foreign ownership, and owners who own multiple properties, among other variables. I then compared YoY price fluctuations between criminally-linked properties and the broader population of data. Lastly, I dropped several variables and plotted correlation."
   ]
  },
  {
   "cell_type": "code",
   "execution_count": 22,
   "metadata": {
    "ExecuteTime": {
     "end_time": "2020-01-14T23:56:54.726550Z",
     "start_time": "2020-01-14T23:56:54.712432Z"
    }
   },
   "outputs": [],
   "source": [
    "# Import libraries\n",
    "import numpy as np\n",
    "import pandas as pd\n",
    "import matplotlib.pyplot as plt\n",
    "import seaborn as sns\n",
    "%matplotlib inline\n",
    "import os\n",
    "import json\n",
    "\n",
    "sns.set_style('darkgrid')\n",
    "\n",
    "import folium\n",
    "from folium.plugins import HeatMap\n",
    "from folium import plugins\n",
    "from geopy.geocoders import Nominatim\n",
    "from geopy.extra.rate_limiter import RateLimiter"
   ]
  },
  {
   "cell_type": "code",
   "execution_count": 2,
   "metadata": {
    "ExecuteTime": {
     "end_time": "2020-01-14T23:24:14.108509Z",
     "start_time": "2020-01-14T23:23:45.654655Z"
    },
    "scrolled": true
   },
   "outputs": [],
   "source": [
    "# Load in data\n",
    "prop_df = pd.read_hdf('../data/processed/bexar_processed.h5')"
   ]
  },
  {
   "cell_type": "markdown",
   "metadata": {},
   "source": [
    "### Plot Properties on Map"
   ]
  },
  {
   "cell_type": "code",
   "execution_count": 4,
   "metadata": {
    "ExecuteTime": {
     "end_time": "2020-01-14T23:25:02.339616Z",
     "start_time": "2020-01-14T23:25:01.966790Z"
    }
   },
   "outputs": [],
   "source": [
    "# Pull out addresses and zip codes for criminally-linked properties\n",
    "mapping_crim_df = prop_df[prop_df['crim_address'].notna()==True][['crim_address','property_zip']].reset_index()"
   ]
  },
  {
   "cell_type": "code",
   "execution_count": 5,
   "metadata": {
    "ExecuteTime": {
     "end_time": "2020-01-14T23:25:32.111236Z",
     "start_time": "2020-01-14T23:25:32.104680Z"
    }
   },
   "outputs": [
    {
     "name": "stdout",
     "output_type": "stream",
     "text": [
      "25319 BOERNE STAGE RD SAN ANTONIO, TX 78255\n"
     ]
    }
   ],
   "source": [
    "print(mapping_crim_df.iloc[0,1])\n",
    "address_to_try = mapping_crim_df.iloc[0,1]"
   ]
  },
  {
   "cell_type": "code",
   "execution_count": 23,
   "metadata": {
    "ExecuteTime": {
     "end_time": "2020-01-14T23:57:01.586142Z",
     "start_time": "2020-01-14T23:57:01.576260Z"
    }
   },
   "outputs": [
    {
     "name": "stdout",
     "output_type": "stream",
     "text": [
      "29.671213709513797\n"
     ]
    }
   ],
   "source": [
    "# locator = geocoders.Nominatim(user_agent=\"property_mapping_project\")\n",
    "# geocode = RateLimiter(locator.geocode, min_delay_seconds=3)\n",
    "\n",
    "# # location = geocode(address_to_try, exactly_one=True)\n",
    "# print(location.latitude)"
   ]
  },
  {
   "cell_type": "code",
   "execution_count": 14,
   "metadata": {
    "ExecuteTime": {
     "end_time": "2020-01-14T23:45:37.680269Z",
     "start_time": "2020-01-14T23:45:37.668170Z"
    }
   },
   "outputs": [
    {
     "name": "stdout",
     "output_type": "stream",
     "text": [
      "   index                                 crim_address property_zip\n",
      "0  82774  25319 BOERNE STAGE RD SAN ANTONIO, TX 78255        78255\n",
      "1  87260        24424 BLANCO RD SAN ANTONIO, TX 78260        78260\n",
      "2  94234      2227 SAWGRASS RDG SAN ANTONIO, TX 78260        78260\n",
      "3  94265        2243 WINDING VW SAN ANTONIO, TX 78260        78260\n",
      "4  94696          1115 LINKS CV SAN ANTONIO, TX 78260        78260\n",
      "5  94703          1220 LINKS LN SAN ANTONIO, TX 78260        78260\n",
      "6  94705          1228 LINKS LN SAN ANTONIO, TX 78260        78260\n",
      "7  94760          1247 LINKS LN SAN ANTONIO, TX 78260        78260\n",
      "8  94761       1103 OLYMPIC CLB SAN ANTONIO, TX 78260        78260\n",
      "9  95165         1220 PINYON HL SAN ANTONIO, TX 78260        78260\n",
      "(48, 3)\n"
     ]
    }
   ],
   "source": [
    "print(mapping_crim_df.head(10))\n",
    "print(mapping_crim_df.shape)"
   ]
  },
  {
   "cell_type": "code",
   "execution_count": 30,
   "metadata": {
    "ExecuteTime": {
     "end_time": "2020-01-15T01:06:04.747144Z",
     "start_time": "2020-01-15T01:02:31.403099Z"
    }
   },
   "outputs": [],
   "source": [
    "geolocator = Nominatim(user_agent=\"property_mapping_project\")\n",
    "geocode = RateLimiter(geolocator.geocode, min_delay_seconds=4)\n",
    "\n",
    "skip = 1\n",
    "if skip == 0:\n",
    "    x = mapping_crim_df['crim_address'].tolist()\n",
    "    names = []\n",
    "\n",
    "    for item in x:\n",
    "        d={}\n",
    "        a = geocode(item, exactly_one=True, timeout=60)\n",
    "        try:\n",
    "            d[\"Latitude\"] = a.latitude\n",
    "        except:\n",
    "            pass\n",
    "        try:\n",
    "            d[\"Longitude\"] = a.longitude\n",
    "        except:\n",
    "            pass\n",
    "    #     time.sleep(2)\n",
    "        names.append(d)"
   ]
  },
  {
   "cell_type": "code",
   "execution_count": 97,
   "metadata": {
    "ExecuteTime": {
     "end_time": "2020-01-15T01:52:07.239273Z",
     "start_time": "2020-01-15T01:52:07.233190Z"
    }
   },
   "outputs": [],
   "source": [
    "mapping_crim_df['coord'] = names"
   ]
  },
  {
   "cell_type": "code",
   "execution_count": 98,
   "metadata": {
    "ExecuteTime": {
     "end_time": "2020-01-15T01:52:15.485394Z",
     "start_time": "2020-01-15T01:52:15.469276Z"
    },
    "scrolled": true
   },
   "outputs": [
    {
     "data": {
      "text/html": [
       "<div>\n",
       "<style scoped>\n",
       "    .dataframe tbody tr th:only-of-type {\n",
       "        vertical-align: middle;\n",
       "    }\n",
       "\n",
       "    .dataframe tbody tr th {\n",
       "        vertical-align: top;\n",
       "    }\n",
       "\n",
       "    .dataframe thead th {\n",
       "        text-align: right;\n",
       "    }\n",
       "</style>\n",
       "<table border=\"1\" class=\"dataframe\">\n",
       "  <thead>\n",
       "    <tr style=\"text-align: right;\">\n",
       "      <th></th>\n",
       "      <th>index</th>\n",
       "      <th>crim_address</th>\n",
       "      <th>property_zip</th>\n",
       "      <th>coord</th>\n",
       "    </tr>\n",
       "  </thead>\n",
       "  <tbody>\n",
       "    <tr>\n",
       "      <th>0</th>\n",
       "      <td>82774</td>\n",
       "      <td>25319 BOERNE STAGE RD SAN ANTONIO, TX 78255</td>\n",
       "      <td>78255</td>\n",
       "      <td>{'Latitude': 29.67749, 'Longitude': -98.661255}</td>\n",
       "    </tr>\n",
       "    <tr>\n",
       "      <th>1</th>\n",
       "      <td>87260</td>\n",
       "      <td>24424 BLANCO RD SAN ANTONIO, TX 78260</td>\n",
       "      <td>78260</td>\n",
       "      <td>{'Latitude': 29.680090796841654, 'Longitude': ...</td>\n",
       "    </tr>\n",
       "    <tr>\n",
       "      <th>2</th>\n",
       "      <td>94234</td>\n",
       "      <td>2227 SAWGRASS RDG SAN ANTONIO, TX 78260</td>\n",
       "      <td>78260</td>\n",
       "      <td>{}</td>\n",
       "    </tr>\n",
       "    <tr>\n",
       "      <th>3</th>\n",
       "      <td>94265</td>\n",
       "      <td>2243 WINDING VW SAN ANTONIO, TX 78260</td>\n",
       "      <td>78260</td>\n",
       "      <td>{'Latitude': 29.674596135937264, 'Longitude': ...</td>\n",
       "    </tr>\n",
       "    <tr>\n",
       "      <th>4</th>\n",
       "      <td>94696</td>\n",
       "      <td>1115 LINKS CV SAN ANTONIO, TX 78260</td>\n",
       "      <td>78260</td>\n",
       "      <td>{'Latitude': 29.676438, 'Longitude': -98.47516...</td>\n",
       "    </tr>\n",
       "  </tbody>\n",
       "</table>\n",
       "</div>"
      ],
      "text/plain": [
       "   index                                 crim_address property_zip  \\\n",
       "0  82774  25319 BOERNE STAGE RD SAN ANTONIO, TX 78255        78255   \n",
       "1  87260        24424 BLANCO RD SAN ANTONIO, TX 78260        78260   \n",
       "2  94234      2227 SAWGRASS RDG SAN ANTONIO, TX 78260        78260   \n",
       "3  94265        2243 WINDING VW SAN ANTONIO, TX 78260        78260   \n",
       "4  94696          1115 LINKS CV SAN ANTONIO, TX 78260        78260   \n",
       "\n",
       "                                               coord  \n",
       "0    {'Latitude': 29.67749, 'Longitude': -98.661255}  \n",
       "1  {'Latitude': 29.680090796841654, 'Longitude': ...  \n",
       "2                                                 {}  \n",
       "3  {'Latitude': 29.674596135937264, 'Longitude': ...  \n",
       "4  {'Latitude': 29.676438, 'Longitude': -98.47516...  "
      ]
     },
     "execution_count": 98,
     "metadata": {},
     "output_type": "execute_result"
    }
   ],
   "source": [
    "mapping_crim_df.head()"
   ]
  },
  {
   "cell_type": "code",
   "execution_count": 43,
   "metadata": {
    "ExecuteTime": {
     "end_time": "2020-01-15T01:28:21.482602Z",
     "start_time": "2020-01-15T01:28:07.483868Z"
    }
   },
   "outputs": [],
   "source": [
    "# Now grab the blank coordinates with zip codes\n",
    "skip = 1\n",
    "\n",
    "if skip == 0:\n",
    "    y = mapping_crim_df[mapping_crim_df.coord == {}].property_zip.unique().tolist()\n",
    "    zip_coords = []\n",
    "\n",
    "    for item in y:\n",
    "        d = {}\n",
    "        a = geocode(item, exactly_one=True, timeout=60)\n",
    "        try:\n",
    "            d[\"Latitude\"] = a.latitude\n",
    "        except:\n",
    "            pass\n",
    "        try:\n",
    "            d[\"Longitude\"] = a.longitude\n",
    "        except:\n",
    "            pass\n",
    "    #     time.sleep(2)\n",
    "        zip_coords.append(d)"
   ]
  },
  {
   "cell_type": "code",
   "execution_count": 61,
   "metadata": {
    "ExecuteTime": {
     "end_time": "2020-01-15T01:40:26.872487Z",
     "start_time": "2020-01-15T01:40:26.867362Z"
    }
   },
   "outputs": [
    {
     "name": "stdout",
     "output_type": "stream",
     "text": [
      "{'Latitude': 48.967839749999996, 'Longitude': 2.0657666604512506} 78260\n",
      "{'Latitude': 58.8200292378509, 'Longitude': 24.45950163399295} 78218\n",
      "{'Latitude': 58.801279400612636, 'Longitude': 24.620661620755957} 78258\n",
      "{'Latitude': 29.8078292, 'Longitude': -98.7537969} 78006\n"
     ]
    }
   ],
   "source": [
    "zip_coords_dict = {}\n",
    "for i, j in enumerate(y):\n",
    "    print(zip_coords[i],j)\n",
    "    zip_coords_dict[j] = zip_coords[i]"
   ]
  },
  {
   "cell_type": "code",
   "execution_count": 62,
   "metadata": {
    "ExecuteTime": {
     "end_time": "2020-01-15T01:40:35.268527Z",
     "start_time": "2020-01-15T01:40:35.255534Z"
    }
   },
   "outputs": [
    {
     "data": {
      "text/plain": [
       "{'78260': {'Latitude': 48.967839749999996, 'Longitude': 2.0657666604512506},\n",
       " '78218': {'Latitude': 58.8200292378509, 'Longitude': 24.45950163399295},\n",
       " '78258': {'Latitude': 58.801279400612636, 'Longitude': 24.620661620755957},\n",
       " '78006': {'Latitude': 29.8078292, 'Longitude': -98.7537969}}"
      ]
     },
     "execution_count": 62,
     "metadata": {},
     "output_type": "execute_result"
    }
   ],
   "source": [
    "zip_coords_dict"
   ]
  },
  {
   "cell_type": "code",
   "execution_count": 66,
   "metadata": {
    "ExecuteTime": {
     "end_time": "2020-01-15T01:41:49.609981Z",
     "start_time": "2020-01-15T01:41:49.602777Z"
    }
   },
   "outputs": [],
   "source": [
    "# Map onto coord column\n",
    "mask = mapping_crim_df[mapping_crim_df.coord=={}].index\n",
    "mapping_crim_df.loc[mask,'coord'] = mapping_crim_df.iloc[mask].property_zip.map(zip_coords_dict)"
   ]
  },
  {
   "cell_type": "code",
   "execution_count": 114,
   "metadata": {
    "ExecuteTime": {
     "end_time": "2020-01-15T02:01:08.636757Z",
     "start_time": "2020-01-15T02:01:08.595673Z"
    }
   },
   "outputs": [
    {
     "data": {
      "text/html": [
       "<div>\n",
       "<style scoped>\n",
       "    .dataframe tbody tr th:only-of-type {\n",
       "        vertical-align: middle;\n",
       "    }\n",
       "\n",
       "    .dataframe tbody tr th {\n",
       "        vertical-align: top;\n",
       "    }\n",
       "\n",
       "    .dataframe thead th {\n",
       "        text-align: right;\n",
       "    }\n",
       "</style>\n",
       "<table border=\"1\" class=\"dataframe\">\n",
       "  <thead>\n",
       "    <tr style=\"text-align: right;\">\n",
       "      <th></th>\n",
       "      <th>index</th>\n",
       "      <th>crim_address</th>\n",
       "      <th>property_zip</th>\n",
       "      <th>coord</th>\n",
       "    </tr>\n",
       "  </thead>\n",
       "  <tbody>\n",
       "    <tr>\n",
       "      <th>0</th>\n",
       "      <td>82774</td>\n",
       "      <td>25319 BOERNE STAGE RD SAN ANTONIO, TX 78255</td>\n",
       "      <td>78255</td>\n",
       "      <td>{'Latitude': 29.67749, 'Longitude': -98.661255}</td>\n",
       "    </tr>\n",
       "    <tr>\n",
       "      <th>1</th>\n",
       "      <td>87260</td>\n",
       "      <td>24424 BLANCO RD SAN ANTONIO, TX 78260</td>\n",
       "      <td>78260</td>\n",
       "      <td>{'Latitude': 29.680090796841654, 'Longitude': ...</td>\n",
       "    </tr>\n",
       "    <tr>\n",
       "      <th>2</th>\n",
       "      <td>94234</td>\n",
       "      <td>2227 SAWGRASS RDG SAN ANTONIO, TX 78260</td>\n",
       "      <td>78260</td>\n",
       "      <td>{'Latitude': 48.967839749999996, 'Longitude': ...</td>\n",
       "    </tr>\n",
       "    <tr>\n",
       "      <th>3</th>\n",
       "      <td>94265</td>\n",
       "      <td>2243 WINDING VW SAN ANTONIO, TX 78260</td>\n",
       "      <td>78260</td>\n",
       "      <td>{'Latitude': 29.674596135937264, 'Longitude': ...</td>\n",
       "    </tr>\n",
       "    <tr>\n",
       "      <th>4</th>\n",
       "      <td>94696</td>\n",
       "      <td>1115 LINKS CV SAN ANTONIO, TX 78260</td>\n",
       "      <td>78260</td>\n",
       "      <td>{'Latitude': 29.676438, 'Longitude': -98.47516...</td>\n",
       "    </tr>\n",
       "  </tbody>\n",
       "</table>\n",
       "</div>"
      ],
      "text/plain": [
       "   index                                 crim_address property_zip  \\\n",
       "0  82774  25319 BOERNE STAGE RD SAN ANTONIO, TX 78255        78255   \n",
       "1  87260        24424 BLANCO RD SAN ANTONIO, TX 78260        78260   \n",
       "2  94234      2227 SAWGRASS RDG SAN ANTONIO, TX 78260        78260   \n",
       "3  94265        2243 WINDING VW SAN ANTONIO, TX 78260        78260   \n",
       "4  94696          1115 LINKS CV SAN ANTONIO, TX 78260        78260   \n",
       "\n",
       "                                               coord  \n",
       "0    {'Latitude': 29.67749, 'Longitude': -98.661255}  \n",
       "1  {'Latitude': 29.680090796841654, 'Longitude': ...  \n",
       "2  {'Latitude': 48.967839749999996, 'Longitude': ...  \n",
       "3  {'Latitude': 29.674596135937264, 'Longitude': ...  \n",
       "4  {'Latitude': 29.676438, 'Longitude': -98.47516...  "
      ]
     },
     "execution_count": 114,
     "metadata": {},
     "output_type": "execute_result"
    }
   ],
   "source": [
    "# Seems some of the coordinates are quite a bit off\n",
    "# Ignoring those\n",
    "mapping_crim_df.head()"
   ]
  },
  {
   "cell_type": "code",
   "execution_count": 128,
   "metadata": {
    "ExecuteTime": {
     "end_time": "2020-01-15T02:10:01.821960Z",
     "start_time": "2020-01-15T02:10:01.808460Z"
    }
   },
   "outputs": [],
   "source": [
    "data = [[row['coord']['Latitude'],row['coord']['Longitude'],row['crim_address']] for index, row in mapping_crim_df.iterrows()]"
   ]
  },
  {
   "cell_type": "code",
   "execution_count": 143,
   "metadata": {
    "ExecuteTime": {
     "end_time": "2020-01-15T02:20:18.721391Z",
     "start_time": "2020-01-15T02:20:18.575015Z"
    }
   },
   "outputs": [
    {
     "data": {
      "text/html": [
       "<div style=\"width:100%;\"><div style=\"position:relative;width:100%;height:0;padding-bottom:60%;\"><iframe src=\"data:text/html;charset=utf-8;base64,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\" style=\"position:absolute;width:100%;height:100%;left:0;top:0;border:none !important;\" allowfullscreen webkitallowfullscreen mozallowfullscreen></iframe></div></div>"
      ],
      "text/plain": [
       "<folium.folium.Map at 0x1feb06210>"
      ]
     },
     "metadata": {},
     "output_type": "display_data"
    }
   ],
   "source": [
    "skip = 1\n",
    "if skip == 0:\n",
    "    # Use folium to map each point\n",
    "    m = folium.Map(\n",
    "        location=[29.513151, -98.497901],\n",
    "        zoom_start=9\n",
    "    )\n",
    "\n",
    "    for i in data:\n",
    "        folium.Marker(\n",
    "            i[:2],\n",
    "            popup=i[2],\n",
    "            icon=folium.Icon(color='red',icon='map-marker',prefix='fa')\n",
    "        ).add_to(m)\n",
    "\n",
    "    display(m)"
   ]
  },
  {
   "cell_type": "code",
   "execution_count": 144,
   "metadata": {
    "ExecuteTime": {
     "end_time": "2020-01-15T02:21:10.064224Z",
     "start_time": "2020-01-15T02:21:09.904939Z"
    }
   },
   "outputs": [],
   "source": [
    "# Save as html\n",
    "m.save(\"crim_prop_map.html\")"
   ]
  },
  {
   "cell_type": "markdown",
   "metadata": {},
   "source": [
    "### Geographic Concentration\n",
    "\n",
    "The above map seems to indicate that these properties are geographically concentrated; grouping by neighborhood code and zip code may show similar."
   ]
  },
  {
   "cell_type": "code",
   "execution_count": 153,
   "metadata": {
    "ExecuteTime": {
     "end_time": "2020-01-16T01:56:42.417250Z",
     "start_time": "2020-01-16T01:56:39.143555Z"
    },
    "scrolled": false
   },
   "outputs": [
    {
     "data": {
      "image/png": "[encoded data removed]",
      "text/plain": [
       "<Figure size 1152x432 with 2 Axes>"
      ]
     },
     "metadata": {},
     "output_type": "display_data"
    }
   ],
   "source": [
    "crim_sub_df = prop_df[prop_df.crim_prop==1]\n",
    "groups = ['neighborhood_code','property_zip']\n",
    "titles = ['Neighborhood Code','Zip Code']\n",
    "\n",
    "plots = len(groups)\n",
    "fig, axes = plt.subplots((int(plots/2)),2,figsize=[16,6])\n",
    "\n",
    "for ax, var, title in zip(axes.flat,groups,titles):\n",
    "    crim_sub_df[str(var)].value_counts()[:12].plot(kind='bar',ax=ax,title=title)\n",
    "    ax.set_xlabel(var,labelpad=10)\n",
    "    ax.set_ylabel(\"number of properties\",labelpad=10)\n",
    "plt.show()"
   ]
  },
  {
   "cell_type": "markdown",
   "metadata": {},
   "source": [
    "These two figures do further indicate there is a geographic component to the properties labeled as criminally-linked."
   ]
  },
  {
   "cell_type": "markdown",
   "metadata": {},
   "source": [
    "### Distribution of Last Deed Transfer Date \n",
    "\n",
    "How many of the properties in the 2019 dataset have changed hands since 1990?"
   ]
  },
  {
   "cell_type": "code",
   "execution_count": 161,
   "metadata": {
    "ExecuteTime": {
     "end_time": "2020-01-16T02:05:14.868005Z",
     "start_time": "2020-01-16T02:05:14.488524Z"
    }
   },
   "outputs": [
    {
     "name": "stdout",
     "output_type": "stream",
     "text": [
      "8448 properties have had their deed transferred since 1990.\n"
     ]
    },
    {
     "data": {
      "image/png": "[encoded data removed]",
      "text/plain": [
       "<Figure size 720x360 with 1 Axes>"
      ]
     },
     "metadata": {},
     "output_type": "display_data"
    }
   ],
   "source": [
    "num_transfer = prop_df.deed_dt.value_counts().sort_index().loc['1990-01-01':,].count()\n",
    "print(\"{} properties have had their deed transferred since 1990.\".format(num_transfer))\n",
    "\n",
    "# What is the distribution of the deed_dt in the dataset Bexar County\n",
    "plt.figure(figsize=(10,5))\n",
    "plt.plot(prop_df.deed_dt.value_counts().sort_index().loc['1990-01-01':,])\n",
    "plt.title(\"Date of Last Deed Transfer\")\n",
    "plt.ylabel('Number of properties transferred', labelpad=10)\n",
    "plt.xlabel('Date', labelpad=10)\n",
    "plt.show()"
   ]
  },
  {
   "cell_type": "markdown",
   "metadata": {},
   "source": [
    "### Different Ownership Types Across Labels"
   ]
  },
  {
   "cell_type": "code",
   "execution_count": 162,
   "metadata": {
    "ExecuteTime": {
     "end_time": "2020-01-16T02:05:28.979844Z",
     "start_time": "2020-01-16T02:05:24.589270Z"
    },
    "scrolled": false
   },
   "outputs": [
    {
     "name": "stdout",
     "output_type": "stream",
     "text": [
      "1    39\n",
      "0     9\n",
      "Name: owner_legal_person, dtype: int64\n",
      "1    41\n",
      "0     7\n",
      "Name: owner_likely_company, dtype: int64\n"
     ]
    }
   ],
   "source": [
    "# Are these properties owned by companies or people?\n",
    "print(prop_df[prop_df.crim_prop==1]['owner_legal_person'].value_counts())\n",
    "print(prop_df[prop_df.crim_prop==1]['owner_likely_company'].value_counts())"
   ]
  },
  {
   "cell_type": "code",
   "execution_count": 187,
   "metadata": {
    "ExecuteTime": {
     "end_time": "2020-01-16T12:19:43.388600Z",
     "start_time": "2020-01-16T12:19:40.839189Z"
    },
    "scrolled": false
   },
   "outputs": [
    {
     "data": {
      "image/png": "[encoded data removed]",
      "text/plain": [
       "<Figure size 1080x360 with 2 Axes>"
      ]
     },
     "metadata": {},
     "output_type": "display_data"
    }
   ],
   "source": [
    "# Plot the breakdown between the two\n",
    "fig, axes = plt.subplots(1,2,figsize=[15,5])\n",
    "fig.suptitle(\"Ownership Breakdown by Owner Legal Person\")\n",
    "color=plt.cm.Pastel1(np.arange(len(crim_company_counts)))\n",
    "\n",
    "# Criminially-associated properties\n",
    "crim_company_counts = crim_sub_df.owner_legal_person.value_counts().sort_index()\n",
    "crim_company_counts.index = ['Not a company','Company']\n",
    "crim_company_counts.plot.bar(\n",
    "    rot=0,ax=axes[0],\n",
    "    title=\"Criminal Properties\",\n",
    "    color=color\n",
    ")\n",
    "axes[0].set_ylabel('Number of properties',labelpad=10)\n",
    "\n",
    "# Broader population (ex criminal properties)\n",
    "pop_company_counts = prop_df[prop_df.crim_prop!=1].owner_legal_person.value_counts().sort_index()\n",
    "pop_company_counts.index = ['Not a company','Company']\n",
    "pop_company_counts.plot.bar(\n",
    "    rot=0,ax=axes[1],\n",
    "    title=\"Broader Population (ex criminal properties)\",\n",
    "    color=color\n",
    ")\n",
    "\n",
    "plt.show()"
   ]
  },
  {
   "cell_type": "code",
   "execution_count": 190,
   "metadata": {
    "ExecuteTime": {
     "end_time": "2020-01-16T12:27:57.885543Z",
     "start_time": "2020-01-16T12:27:57.876422Z"
    }
   },
   "outputs": [
    {
     "data": {
      "text/plain": [
       "Not a company     7\n",
       "Company          41\n",
       "Name: owner_likely_company, dtype: int64"
      ]
     },
     "execution_count": 190,
     "metadata": {},
     "output_type": "execute_result"
    }
   ],
   "source": [
    "crim_likely_co = crim_sub_df.owner_likely_company.value_counts().sort_index()\n",
    "crim_likely_co.index = ['Not a company','Company']\n",
    "crim_likely_co"
   ]
  },
  {
   "cell_type": "code",
   "execution_count": 193,
   "metadata": {
    "ExecuteTime": {
     "end_time": "2020-01-16T12:35:37.736328Z",
     "start_time": "2020-01-16T12:35:29.524033Z"
    },
    "scrolled": false
   },
   "outputs": [
    {
     "data": {
      "image/png": "[encoded data removed]",
      "text/plain": [
       "<Figure size 1080x360 with 2 Axes>"
      ]
     },
     "metadata": {},
     "output_type": "display_data"
    }
   ],
   "source": [
    "fig, axes = plt.subplots(1,2,figsize=[15,5])\n",
    "fig.suptitle(\"Ownership Breakdown by Owner Likely a Company\")\n",
    "crim_likely_co = crim_sub_df.owner_likely_company.value_counts().sort_index()\n",
    "crim_likely_co.index = ['Not a company','Company']\n",
    "crim_likely_co.plot.bar(\n",
    "    rot=0,\n",
    "    ax=axes[0],\n",
    "    title=\"Criminal Properties\",\n",
    "    color=color\n",
    "    \n",
    ")\n",
    "axes[0].set_ylabel('Number of properties',labelpad=10)\n",
    "\n",
    "pop_likely_co = prop_df[prop_df.crim_prop!=1].owner_likely_company.value_counts().sort_index()\n",
    "pop_likely_co.index = ['Not a company','Company']\n",
    "pop_likely_co.plot.bar(\n",
    "    rot=0,\n",
    "    ax=axes[1],\n",
    "    title=\"Broader Population (ex Criminal Properties)\",\n",
    "    color=color\n",
    ")\n",
    "pop_likely_co.index = ['Not a company','Company']\n",
    "plt.show()"
   ]
  },
  {
   "cell_type": "markdown",
   "metadata": {},
   "source": [
    "The broader population of residential properties are far more often owned by a natural person than a company. The opposite is true for those properties labeled as criminally-linked, matching a common typology for money-laundering in real property."
   ]
  },
  {
   "cell_type": "markdown",
   "metadata": {},
   "source": [
    "### Price PSF Across Different Ownership Types"
   ]
  },
  {
   "cell_type": "code",
   "execution_count": null,
   "metadata": {
    "ExecuteTime": {
     "end_time": "2020-01-13T23:31:03.817322Z",
     "start_time": "2020-01-13T23:31:02.304441Z"
    }
   },
   "outputs": [],
   "source": [
    "print(\"Price psf for properties where the owner is a legal person:\")\n",
    "print(prop_df.groupby('owner_legal_person')['price_psf'].agg(['describe']),'\\n')\n",
    "\n",
    "print(\"Price psf for properties where the owner is likely a company:\")\n",
    "print(prop_df.groupby('owner_likely_company')['price_psf'].agg(['describe']),'\\n')\n",
    "\n",
    "print(\"Price psf for properties where the owner is a trust:\")\n",
    "print(prop_df.groupby('owner_is_trust')['price_psf'].agg(['describe']))\n",
    "\n",
    "groups = ['owner_legal_person','owner_likely_company','owner_is_trust']\n",
    "fig, axes = plt.subplots(nrows=1,ncols=3,figsize=[15,8])\n",
    "\n",
    "for ax, var in zip(axes.flat,groups):\n",
    "    prop_df[['price_psf',var]].boxplot(by=[var], ax=ax)\n",
    "\n",
    "fig.suptitle(\"Price PSF Breakdown by Ownership Type\")\n",
    "plt.show()"
   ]
  },
  {
   "cell_type": "markdown",
   "metadata": {},
   "source": [
    "For cases where the owner is coded as either a legal person, \"likely a company,\" or trust, the mean price per square foot seems higher. However, the median price per square foot for the first two is lower than the median price where the owner is not a legal person or likely a company. This makes sense given the outliers visible in the boxplots."
   ]
  },
  {
   "cell_type": "code",
   "execution_count": null,
   "metadata": {
    "ExecuteTime": {
     "end_time": "2020-01-13T23:31:22.815393Z",
     "start_time": "2020-01-13T23:31:21.742629Z"
    },
    "scrolled": false
   },
   "outputs": [],
   "source": [
    "print(\"Price psf for properties where the two measurable GTO requirements are met:\")\n",
    "print(prop_df.groupby('two_gto_reqs')['price_psf'].agg(['describe']),'\\n')\n",
    "\n",
    "print(\"Price psf for properties where the owner is foreign-based:\")\n",
    "print(prop_df.groupby('foreign_based_owner')['price_psf'].agg(['describe']),'\\n')\n",
    "\n",
    "groups = ['two_gto_reqs','foreign_based_owner']\n",
    "fig, axes = plt.subplots(nrows=1,ncols=2,figsize=[15,8])\n",
    "\n",
    "for ax, var in zip(axes.flat,groups):\n",
    "    prop_df[['price_psf',var]].boxplot(by=[var], ax=ax)\n",
    "\n",
    "fig.suptitle(\"Price PSF Breakdown\")\n",
    "plt.show()"
   ]
  },
  {
   "cell_type": "markdown",
   "metadata": {},
   "source": [
    "It seems the combination of the property being valued at more than $300,000 and owned by a company equals a higher average price per square foot. The owner being based outside of the United States, does not appear to be associated with that much of a difference in price per square foot."
   ]
  },
  {
   "cell_type": "code",
   "execution_count": null,
   "metadata": {
    "ExecuteTime": {
     "end_time": "2020-01-13T23:31:33.424549Z",
     "start_time": "2020-01-13T23:31:30.382152Z"
    }
   },
   "outputs": [],
   "source": [
    "fig, axes = plt.subplots(1,2,figsize=[15,5])\n",
    "fig.suptitle(\"Price PSF\")\n",
    "prop_df[prop_df['two_gto_reqs']==1].price_psf.dropna().plot(kind='hist',ax=axes[0],bins=50,\n",
    "                                                            log=True,title='Property meets Two GTO Reqs',color='red')\n",
    "prop_df[prop_df['two_gto_reqs']!=1].price_psf.dropna().plot(kind='hist',ax=axes[1],bins=50,\n",
    "                                                            log=True,title='Property doesn\\'t meet Two GTO Reqs',color='blue')\n",
    "plt.show()"
   ]
  },
  {
   "cell_type": "markdown",
   "metadata": {},
   "source": [
    "Similar to the above, there seems to be a wider range of prices per square foot when the property meets two of the FinCen GTO requirements."
   ]
  },
  {
   "cell_type": "code",
   "execution_count": null,
   "metadata": {
    "ExecuteTime": {
     "end_time": "2020-01-13T23:31:40.049876Z",
     "start_time": "2020-01-13T23:31:38.048144Z"
    }
   },
   "outputs": [],
   "source": [
    "fig, axes = plt.subplots(1,2,figsize=[15,5])\n",
    "fig.suptitle(\"Price PSF\")\n",
    "prop_df[prop_df['foreign_based_owner']==1].price_psf.dropna().plot(kind='hist',ax=axes[0],bins=50,\n",
    "                                                                   log=True,title='Owner is based outside the US',\n",
    "                                                                   color='red')\n",
    "prop_df[prop_df['foreign_based_owner']!=1].price_psf.dropna().plot(kind='hist',ax=axes[1],bins=50,\n",
    "                                                                   log=True,title='Owner is based in the US',\n",
    "                                                                   color='blue')\n",
    "plt.show()"
   ]
  },
  {
   "cell_type": "markdown",
   "metadata": {},
   "source": [
    "### Just-Established Owner and Owner Owns Multiple Properties\n",
    "Does a just-established owner pay a higher price psf? What about an owner that owns multiple properties?"
   ]
  },
  {
   "cell_type": "code",
   "execution_count": null,
   "metadata": {
    "ExecuteTime": {
     "end_time": "2020-01-05T23:09:41.918305Z",
     "start_time": "2020-01-05T23:09:36.995005Z"
    },
    "scrolled": false
   },
   "outputs": [],
   "source": [
    "print(\"Price psf for properties where the owner is just-established:\")\n",
    "print(prop_df.groupby('just_established_owner')['price_psf'].agg(['describe']),'\\n')\n",
    "\n",
    "print(\"Price psf for properties where the owner owns multiple properties:\")\n",
    "print(prop_df.groupby('owner_owns_multiple')['price_psf'].agg(['describe']),'\\n')\n",
    "\n",
    "groups = ['just_established_owner','owner_owns_multiple']\n",
    "fig, axes = plt.subplots(nrows=1,ncols=2,figsize=[15,8])\n",
    "\n",
    "for ax, var in zip(axes.flat,groups):\n",
    "    prop_df[['price_psf',var]].boxplot(by=[var], ax=ax)\n",
    "plt.suptitle('Price PSF')\n",
    "plt.show()"
   ]
  },
  {
   "cell_type": "markdown",
   "metadata": {},
   "source": [
    "While there are some outliers making the average higher, the median price per square for properties owned by companies established in the last 365 days is actually lower. It is a similar case for when the property owner owns multiple properties."
   ]
  },
  {
   "cell_type": "markdown",
   "metadata": {},
   "source": [
    "### Visualizing YoY Price Fluctuations\n",
    "\n",
    "How do the fluctuations in price year-over-year differ between positively-labeled properties and the broader population?"
   ]
  },
  {
   "cell_type": "code",
   "execution_count": null,
   "metadata": {
    "ExecuteTime": {
     "end_time": "2020-01-05T23:12:49.597579Z",
     "start_time": "2020-01-05T23:11:40.020904Z"
    },
    "scrolled": false
   },
   "outputs": [],
   "source": [
    "prop_melt = pd.melt(prop_df[prop_df.crim_prop!=1][['yoy_diff_2019','yoy_diff_2018','yoy_diff_2017','yoy_diff_2016']],var_name='year',value_name='yoy_diff').dropna()\n",
    "crim_sub_melt = pd.melt(prop_df[prop_df.crim_prop==1][['yoy_diff_2019','yoy_diff_2018','yoy_diff_2017','yoy_diff_2016']],var_name='year',value_name='yoy_diff').dropna()\n",
    "\n",
    "fig, axes = plt.subplots(1,2,figsize=[15,5])\n",
    "sns.barplot(x='year',y='yoy_diff',data=prop_melt,palette='pastel',ax=axes[0]).set_title('YoY Differences (Broad Pop)')\n",
    "sns.barplot(x='year',y='yoy_diff',data=crim_sub_melt,palette='pastel',ax=axes[1]).set_title('YoY Differences (Criminal Properties)')\n",
    "plt.show()"
   ]
  },
  {
   "cell_type": "markdown",
   "metadata": {},
   "source": [
    "### Missing Values\n",
    "\n",
    "Identifying how many missing values there are per variable will allow meto to narrow down the list of variables that will be used in modeling."
   ]
  },
  {
   "cell_type": "code",
   "execution_count": null,
   "metadata": {
    "ExecuteTime": {
     "end_time": "2020-01-05T23:13:56.897035Z",
     "start_time": "2020-01-05T23:13:50.450927Z"
    },
    "scrolled": true
   },
   "outputs": [],
   "source": [
    "# How many missing values\n",
    "ax = prop_df.isnull().sum().sort_values().plot.barh(figsize = [12,12])\n",
    "ax.set_title('Number of Missing Data Points by Variable')\n",
    "plt.show()"
   ]
  },
  {
   "cell_type": "markdown",
   "metadata": {},
   "source": [
    "This is generally in line with what I was expecting. Most of the missing variables are from the companies data merge. Aside from owner_zip_code, the others will be dropped as features."
   ]
  },
  {
   "cell_type": "code",
   "execution_count": null,
   "metadata": {
    "ExecuteTime": {
     "end_time": "2020-01-05T23:15:08.424175Z",
     "start_time": "2020-01-05T23:15:08.412670Z"
    }
   },
   "outputs": [],
   "source": [
    "print('Price PSF nulls:')\n",
    "print(prop_df.price_psf.isnull().sum(),'\\n')\n",
    "print('YoY Diff 2016 nulls:')\n",
    "print(prop_df.yoy_diff_2016.isnull().sum(),'\\n')"
   ]
  },
  {
   "cell_type": "markdown",
   "metadata": {},
   "source": [
    "### Correlation Matrix"
   ]
  },
  {
   "cell_type": "code",
   "execution_count": null,
   "metadata": {
    "ExecuteTime": {
     "end_time": "2020-01-05T21:54:33.422197Z",
     "start_time": "2020-01-05T21:54:32.117072Z"
    },
    "scrolled": true
   },
   "outputs": [],
   "source": [
    "# Setting the number of acceptable NaN values to 70,000 to be sure to include Price PSF as a feature\n",
    "nan_limit = 70000\n",
    "check_nan = prop_df.isnull().sum()\n",
    "\n",
    "variables_list = check_nan[check_nan<nan_limit].index\n",
    "variables_list = variables_list[variables_list.isin(prop_df.columns[prop_df.dtypes!='object'])]\n",
    "variables_list = variables_list.drop(['prop_id','py_owner_id','py_addr_zip_cass','prop_val_yr','appraised_val',\n",
    "                                     'Prior_Mkt_Val','bexar_2015_market_value','bexar_2016_market_value', \n",
    "                                      'bexar_2017_market_value','bexar_2018_market_value'])\n",
    "\n",
    "print(variables_list)"
   ]
  },
  {
   "cell_type": "code",
   "execution_count": null,
   "metadata": {
    "ExecuteTime": {
     "end_time": "2020-01-05T21:54:38.112399Z",
     "start_time": "2020-01-05T21:54:37.569825Z"
    }
   },
   "outputs": [],
   "source": [
    "prop_df[variables_list].head(10)"
   ]
  },
  {
   "cell_type": "code",
   "execution_count": null,
   "metadata": {
    "ExecuteTime": {
     "end_time": "2020-01-05T21:55:43.839034Z",
     "start_time": "2020-01-05T21:55:42.462712Z"
    },
    "scrolled": false
   },
   "outputs": [],
   "source": [
    "# Pull out variables and plot correlation matrix\n",
    "sub_df = prop_df[variables_list]\n",
    "print(len(variables_list))\n",
    "sub_df.corr()"
   ]
  },
  {
   "cell_type": "code",
   "execution_count": null,
   "metadata": {
    "ExecuteTime": {
     "end_time": "2020-01-05T21:39:40.565763Z",
     "start_time": "2020-01-05T21:39:38.524783Z"
    },
    "scrolled": false
   },
   "outputs": [],
   "source": [
    "plt.figure(figsize=(14,14))\n",
    "sns.heatmap(sub_df.corr(),vmax=1,square=True)\n",
    "plt.show()"
   ]
  },
  {
   "cell_type": "markdown",
   "metadata": {},
   "source": [
    "Observations:\n",
    "- High correlation amongst the \"confidential flag\" variables, which makes sense. \n",
    "- Negative correlation between the year the property was built and price per square foot; this also makes intuitive sense. \n",
    "- It is interesting that there is also a negative correlation between the owner likely being a company and the year the property was built as well as the owner owning multiple properties.\n",
    "- Does not seem to be much correlation between the criminal property label and the other variables"
   ]
  }
 ],
 "metadata": {
  "kernelspec": {
   "display_name": "Python 3",
   "language": "python",
   "name": "python3"
  },
  "language_info": {
   "codemirror_mode": {
    "name": "ipython",
    "version": 3
   },
   "file_extension": ".py",
   "mimetype": "text/x-python",
   "name": "python",
   "nbconvert_exporter": "python",
   "pygments_lexer": "ipython3",
   "version": "3.7.5"
  },
  "toc": {
   "base_numbering": 1,
   "nav_menu": {},
   "number_sections": false,
   "sideBar": true,
   "skip_h1_title": false,
   "title_cell": "Table of Contents",
   "title_sidebar": "Contents",
   "toc_cell": false,
   "toc_position": {
    "height": "calc(100% - 180px)",
    "left": "10px",
    "top": "150px",
    "width": "246.719px"
   },
   "toc_section_display": true,
   "toc_window_display": false
  },
  "varInspector": {
   "cols": {
    "lenName": 16,
    "lenType": 16,
    "lenVar": 40
   },
   "kernels_config": {
    "python": {
     "delete_cmd_postfix": "",
     "delete_cmd_prefix": "del ",
     "library": "var_list.py",
     "varRefreshCmd": "print(var_dic_list())"
    },
    "r": {
     "delete_cmd_postfix": ") ",
     "delete_cmd_prefix": "rm(",
     "library": "var_list.r",
     "varRefreshCmd": "cat(var_dic_list()) "
    }
   },
   "types_to_exclude": [
    "module",
    "function",
    "builtin_function_or_method",
    "instance",
    "_Feature"
   ],
   "window_display": false
  }
 },
 "nbformat": 4,
 "nbformat_minor": 2
}

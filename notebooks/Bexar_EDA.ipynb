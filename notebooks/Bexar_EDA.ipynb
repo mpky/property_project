{
 "cells": [
  {
   "attachments": {},
   "cell_type": "markdown",
   "metadata": {},
   "source": [
    "#### Goal\n",
    "Goal of this notebook is to narrow down the features. The results will then be used to trim down what columns the build script keeps.\n",
    "\n",
    "What we can drop:\n",
    "\n",
    "sup_num\n",
    "sup_action\n",
    "sup_cd\n",
    "sup_desc"
   ]
  },
  {
   "cell_type": "code",
   "execution_count": 206,
   "metadata": {
    "ExecuteTime": {
     "end_time": "2019-12-26T22:08:25.332081Z",
     "start_time": "2019-12-26T22:08:25.309164Z"
    }
   },
   "outputs": [],
   "source": [
    "from scipy.stats.mstats import winsorize\n",
    "from scipy import stats\n",
    "import numpy as np\n",
    "import pandas as pd\n",
    "import matplotlib.pyplot as plt\n",
    "import seaborn as sns\n",
    "%matplotlib inline\n",
    "\n",
    "pd.set_option('display.float_format', lambda x: '%.5f' % x)\n",
    "sns.set_style('darkgrid')"
   ]
  },
  {
   "cell_type": "code",
   "execution_count": 77,
   "metadata": {
    "ExecuteTime": {
     "end_time": "2019-12-26T20:34:41.413721Z",
     "start_time": "2019-12-26T20:34:34.042804Z"
    },
    "scrolled": true
   },
   "outputs": [],
   "source": [
    "# Load in 2019 data from cleaned h5 file\n",
    "bexar_df = pd.read_hdf('../data/processed/bexar_merged_df.h5')"
   ]
  },
  {
   "cell_type": "code",
   "execution_count": 78,
   "metadata": {
    "ExecuteTime": {
     "end_time": "2019-12-26T20:34:41.426739Z",
     "start_time": "2019-12-26T20:34:41.417643Z"
    }
   },
   "outputs": [
    {
     "name": "stdout",
     "output_type": "stream",
     "text": [
      "Index(['prop_id', 'prop_type_cd', 'prop_val_yr', 'sup_num', 'sup_action',\n",
      "       'sup_cd', 'sup_desc', 'geo_id', 'py_owner_id', 'py_owner_name',\n",
      "       'partial_owner', 'udi_group', 'py_addr_line1', 'py_addr_line2',\n",
      "       'py_addr_line3', 'py_addr_city', 'py_addr_state', 'py_addr_country',\n",
      "       'py_addr_zip', 'py_addr_zip_cass', 'py_addr_zip_rt',\n",
      "       'py_confidential_flag', 'py_address_suppress_flag',\n",
      "       'py_addr_ml_deliverable', 'situs_street_prefx', 'situs_street',\n",
      "       'situs_street_suffix', 'situs_city', 'situs_zip', 'hood_cd',\n",
      "       'appraised_val', 'deed_dt', 'land_acres', 'entity_agent_id',\n",
      "       'entity_agent_name', 'entity_agent_addr_line1',\n",
      "       'entity_agent_addr_line2', 'entity_agent_addr_line3',\n",
      "       'entity_agent_city', 'entity_agent_state', 'entity_agent_country',\n",
      "       'ca_agent_id', 'ca_agent_name', 'ca_agent_addr_line1',\n",
      "       'ca_agent_addr_line2', 'ca_agent_addr_line3', 'ca_agent_city',\n",
      "       'ca_agent_state', 'ca_agent_country', 'ca_agent_zip', 'dba',\n",
      "       'market_value', 'appr_confidential_flag', 'appr_address_suppress_flag',\n",
      "       'Yr_blt', 'Sq_ft', 'Prior_Mkt_Val', 'bexar_2015_market_value',\n",
      "       'bexar_2016_market_value', 'bexar_2017_market_value',\n",
      "       'bexar_2018_market_value', 'cleaned_name', 'Taxpayer Number',\n",
      "       'Taxpayer Name', 'Taxpayer Address', 'Taxpayer City', 'Taxpayer State',\n",
      "       'Taxpayer Organizational Type', 'Taxpayer Zip Code', 'SOS Charter Date',\n",
      "       'SOS Status Date', 'SOS Status Code', 'Right to Transact Business Code',\n",
      "       'Officer/Director Latest Year Filed', 'Officer/Director Name',\n",
      "       'Officer/Director Title', 'Officer/Director State', 'deed_charter_diff',\n",
      "       'just_established_owner', 'foreign_based_owner', 'yoy_diff_2019',\n",
      "       'yoy_diff_2018', 'yoy_diff_2017', 'yoy_diff_2016'],\n",
      "      dtype='object')\n"
     ]
    }
   ],
   "source": [
    "print(bexar_df.columns)"
   ]
  },
  {
   "cell_type": "markdown",
   "metadata": {},
   "source": [
    "#### Categorical Variables"
   ]
  },
  {
   "cell_type": "markdown",
   "metadata": {},
   "source": [
    "##### Supplement info\n",
    "Can we drop the supplement information?"
   ]
  },
  {
   "cell_type": "code",
   "execution_count": 79,
   "metadata": {
    "ExecuteTime": {
     "end_time": "2019-12-26T20:34:41.805124Z",
     "start_time": "2019-12-26T20:34:41.434024Z"
    }
   },
   "outputs": [
    {
     "name": "stdout",
     "output_type": "stream",
     "text": [
      "FREEZE    18279\n",
      "IA        13171\n",
      "ARB       10711\n",
      "A-EX       5410\n",
      "D-EX       1057\n",
      "CHG         613\n",
      "OWN         544\n",
      "CHAIR       369\n",
      "FID         207\n",
      "LIT         123\n",
      "Name: sup_cd, dtype: int64\n",
      "M    51014\n",
      "A     4980\n",
      "Name: sup_action, dtype: int64\n"
     ]
    }
   ],
   "source": [
    "# Yes\n",
    "print(bexar_df.sup_cd.value_counts()[:10])\n",
    "print(bexar_df.sup_action.value_counts())"
   ]
  },
  {
   "cell_type": "code",
   "execution_count": 80,
   "metadata": {
    "ExecuteTime": {
     "end_time": "2019-12-26T20:34:41.981300Z",
     "start_time": "2019-12-26T20:34:41.810844Z"
    }
   },
   "outputs": [
    {
     "data": {
      "text/plain": [
       "Supplemented for 2019 to Refreeze Accounts after Tax Rates set                                     18131\n",
       "ARB Decision                                                                                        7412\n",
       "CHAIRMAN GRANTED 2019 LATE PROTEST. OPENED PROTEST & CH INQ SCANNED//SM                              165\n",
       "Freeze Correction - Automatically added to this supplement because of prior year freeze change.      145\n",
       "NEED A SUPPLEMENT CODE                                                                               139\n",
       "Name: sup_desc, dtype: int64"
      ]
     },
     "execution_count": 80,
     "metadata": {},
     "output_type": "execute_result"
    }
   ],
   "source": [
    "bexar_df.sup_desc.value_counts()[:5]"
   ]
  },
  {
   "cell_type": "code",
   "execution_count": 81,
   "metadata": {
    "ExecuteTime": {
     "end_time": "2019-12-26T20:34:43.525323Z",
     "start_time": "2019-12-26T20:34:41.983450Z"
    }
   },
   "outputs": [],
   "source": [
    "bexar_df.drop(columns=['sup_num', 'sup_action','sup_cd', 'sup_desc'],inplace=True)"
   ]
  },
  {
   "cell_type": "markdown",
   "metadata": {},
   "source": [
    "##### UDI Group"
   ]
  },
  {
   "cell_type": "code",
   "execution_count": 82,
   "metadata": {
    "ExecuteTime": {
     "end_time": "2019-12-26T20:34:43.599035Z",
     "start_time": "2019-12-26T20:34:43.527380Z"
    }
   },
   "outputs": [
    {
     "data": {
      "text/plain": [
       "0          693140\n",
       "182698         35\n",
       "186585         22\n",
       "160017         10\n",
       "160016         10\n",
       "            ...  \n",
       "1234278         2\n",
       "1144030         2\n",
       "1224176         1\n",
       "1015749         1\n",
       "1136194         1\n",
       "Name: udi_group, Length: 1102, dtype: int64"
      ]
     },
     "execution_count": 82,
     "metadata": {},
     "output_type": "execute_result"
    }
   ],
   "source": [
    "# Unclear what this is\n",
    "bexar_df.udi_group.value_counts()"
   ]
  },
  {
   "cell_type": "code",
   "execution_count": 83,
   "metadata": {
    "ExecuteTime": {
     "end_time": "2019-12-26T20:34:43.637313Z",
     "start_time": "2019-12-26T20:34:43.601868Z"
    }
   },
   "outputs": [
    {
     "data": {
      "text/html": [
       "<div>\n",
       "<style scoped>\n",
       "    .dataframe tbody tr th:only-of-type {\n",
       "        vertical-align: middle;\n",
       "    }\n",
       "\n",
       "    .dataframe tbody tr th {\n",
       "        vertical-align: top;\n",
       "    }\n",
       "\n",
       "    .dataframe thead th {\n",
       "        text-align: right;\n",
       "    }\n",
       "</style>\n",
       "<table border=\"1\" class=\"dataframe\">\n",
       "  <thead>\n",
       "    <tr style=\"text-align: right;\">\n",
       "      <th></th>\n",
       "      <th>prop_id</th>\n",
       "      <th>prop_type_cd</th>\n",
       "      <th>prop_val_yr</th>\n",
       "      <th>geo_id</th>\n",
       "      <th>py_owner_id</th>\n",
       "      <th>py_owner_name</th>\n",
       "      <th>partial_owner</th>\n",
       "      <th>udi_group</th>\n",
       "      <th>py_addr_line1</th>\n",
       "      <th>py_addr_line2</th>\n",
       "      <th>...</th>\n",
       "      <th>Officer/Director Name</th>\n",
       "      <th>Officer/Director Title</th>\n",
       "      <th>Officer/Director State</th>\n",
       "      <th>deed_charter_diff</th>\n",
       "      <th>just_established_owner</th>\n",
       "      <th>foreign_based_owner</th>\n",
       "      <th>yoy_diff_2019</th>\n",
       "      <th>yoy_diff_2018</th>\n",
       "      <th>yoy_diff_2017</th>\n",
       "      <th>yoy_diff_2016</th>\n",
       "    </tr>\n",
       "  </thead>\n",
       "  <tbody>\n",
       "    <tr>\n",
       "      <td>500612</td>\n",
       "      <td>985472</td>\n",
       "      <td>R</td>\n",
       "      <td>2019</td>\n",
       "      <td>04009-000-0046</td>\n",
       "      <td>115923</td>\n",
       "      <td>WORD ANN SCHUPBACH</td>\n",
       "      <td>T</td>\n",
       "      <td>160016</td>\n",
       "      <td>NaN</td>\n",
       "      <td>708 TERRELL RD</td>\n",
       "      <td>...</td>\n",
       "      <td>NaN</td>\n",
       "      <td>NaN</td>\n",
       "      <td>NaN</td>\n",
       "      <td>NaT</td>\n",
       "      <td>0</td>\n",
       "      <td>0</td>\n",
       "      <td>326.00000</td>\n",
       "      <td>0.00000</td>\n",
       "      <td>2249.00000</td>\n",
       "      <td>104.00000</td>\n",
       "    </tr>\n",
       "    <tr>\n",
       "      <td>500613</td>\n",
       "      <td>985473</td>\n",
       "      <td>R</td>\n",
       "      <td>2019</td>\n",
       "      <td>04009-000-0046</td>\n",
       "      <td>115924</td>\n",
       "      <td>CANTY LYNN SCHUPBACH</td>\n",
       "      <td>T</td>\n",
       "      <td>160016</td>\n",
       "      <td>NaN</td>\n",
       "      <td>806 WILTSHIRE AVE</td>\n",
       "      <td>...</td>\n",
       "      <td>NaN</td>\n",
       "      <td>NaN</td>\n",
       "      <td>NaN</td>\n",
       "      <td>NaT</td>\n",
       "      <td>0</td>\n",
       "      <td>0</td>\n",
       "      <td>326.00000</td>\n",
       "      <td>0.00000</td>\n",
       "      <td>2249.00000</td>\n",
       "      <td>104.00000</td>\n",
       "    </tr>\n",
       "    <tr>\n",
       "      <td>500614</td>\n",
       "      <td>985474</td>\n",
       "      <td>R</td>\n",
       "      <td>2019</td>\n",
       "      <td>04009-000-0046</td>\n",
       "      <td>115926</td>\n",
       "      <td>SCHUPBACH ROBERT JAMES</td>\n",
       "      <td>T</td>\n",
       "      <td>160016</td>\n",
       "      <td>NaN</td>\n",
       "      <td>3 OSBORN HL</td>\n",
       "      <td>...</td>\n",
       "      <td>NaN</td>\n",
       "      <td>NaN</td>\n",
       "      <td>NaN</td>\n",
       "      <td>NaT</td>\n",
       "      <td>0</td>\n",
       "      <td>0</td>\n",
       "      <td>326.00000</td>\n",
       "      <td>0.00000</td>\n",
       "      <td>2249.00000</td>\n",
       "      <td>104.00000</td>\n",
       "    </tr>\n",
       "    <tr>\n",
       "      <td>500615</td>\n",
       "      <td>985475</td>\n",
       "      <td>R</td>\n",
       "      <td>2019</td>\n",
       "      <td>04009-000-0046</td>\n",
       "      <td>115920</td>\n",
       "      <td>SCHUPBACH HELEN JAMES</td>\n",
       "      <td>T</td>\n",
       "      <td>160016</td>\n",
       "      <td>NaN</td>\n",
       "      <td>223 LAMONT AVE</td>\n",
       "      <td>...</td>\n",
       "      <td>NaN</td>\n",
       "      <td>NaN</td>\n",
       "      <td>NaN</td>\n",
       "      <td>NaT</td>\n",
       "      <td>0</td>\n",
       "      <td>0</td>\n",
       "      <td>4570.00000</td>\n",
       "      <td>0.00000</td>\n",
       "      <td>31552.00000</td>\n",
       "      <td>1459.00000</td>\n",
       "    </tr>\n",
       "    <tr>\n",
       "      <td>500616</td>\n",
       "      <td>985476</td>\n",
       "      <td>R</td>\n",
       "      <td>2019</td>\n",
       "      <td>04009-000-0046</td>\n",
       "      <td>3045197</td>\n",
       "      <td>HEBDON ESPERANZA LLC</td>\n",
       "      <td>T</td>\n",
       "      <td>160016</td>\n",
       "      <td>NaN</td>\n",
       "      <td>8102 NUFY RDG</td>\n",
       "      <td>...</td>\n",
       "      <td>ELIZABETH ANNE WEST GST TRUST U T A DTD 1</td>\n",
       "      <td>MEMBER</td>\n",
       "      <td>TX</td>\n",
       "      <td>13 days</td>\n",
       "      <td>1</td>\n",
       "      <td>0</td>\n",
       "      <td>1958.00000</td>\n",
       "      <td>0.00000</td>\n",
       "      <td>13516.00000</td>\n",
       "      <td>625.00000</td>\n",
       "    </tr>\n",
       "  </tbody>\n",
       "</table>\n",
       "<p>5 rows × 80 columns</p>\n",
       "</div>"
      ],
      "text/plain": [
       "        prop_id prop_type_cd  prop_val_yr          geo_id  py_owner_id  \\\n",
       "500612   985472            R         2019  04009-000-0046       115923   \n",
       "500613   985473            R         2019  04009-000-0046       115924   \n",
       "500614   985474            R         2019  04009-000-0046       115926   \n",
       "500615   985475            R         2019  04009-000-0046       115920   \n",
       "500616   985476            R         2019  04009-000-0046      3045197   \n",
       "\n",
       "                 py_owner_name partial_owner  udi_group py_addr_line1  \\\n",
       "500612      WORD ANN SCHUPBACH             T     160016           NaN   \n",
       "500613    CANTY LYNN SCHUPBACH             T     160016           NaN   \n",
       "500614  SCHUPBACH ROBERT JAMES             T     160016           NaN   \n",
       "500615   SCHUPBACH HELEN JAMES             T     160016           NaN   \n",
       "500616    HEBDON ESPERANZA LLC             T     160016           NaN   \n",
       "\n",
       "            py_addr_line2  ...                      Officer/Director Name  \\\n",
       "500612     708 TERRELL RD  ...                                        NaN   \n",
       "500613  806 WILTSHIRE AVE  ...                                        NaN   \n",
       "500614        3 OSBORN HL  ...                                        NaN   \n",
       "500615     223 LAMONT AVE  ...                                        NaN   \n",
       "500616      8102 NUFY RDG  ...  ELIZABETH ANNE WEST GST TRUST U T A DTD 1   \n",
       "\n",
       "       Officer/Director Title Officer/Director State deed_charter_diff  \\\n",
       "500612                    NaN                    NaN               NaT   \n",
       "500613                    NaN                    NaN               NaT   \n",
       "500614                    NaN                    NaN               NaT   \n",
       "500615                    NaN                    NaN               NaT   \n",
       "500616                 MEMBER                     TX           13 days   \n",
       "\n",
       "        just_established_owner  foreign_based_owner yoy_diff_2019  \\\n",
       "500612                       0                    0     326.00000   \n",
       "500613                       0                    0     326.00000   \n",
       "500614                       0                    0     326.00000   \n",
       "500615                       0                    0    4570.00000   \n",
       "500616                       1                    0    1958.00000   \n",
       "\n",
       "       yoy_diff_2018 yoy_diff_2017 yoy_diff_2016  \n",
       "500612       0.00000    2249.00000     104.00000  \n",
       "500613       0.00000    2249.00000     104.00000  \n",
       "500614       0.00000    2249.00000     104.00000  \n",
       "500615       0.00000   31552.00000    1459.00000  \n",
       "500616       0.00000   13516.00000     625.00000  \n",
       "\n",
       "[5 rows x 80 columns]"
      ]
     },
     "execution_count": 83,
     "metadata": {},
     "output_type": "execute_result"
    }
   ],
   "source": [
    "bexar_df[bexar_df.udi_group==160016][:5]"
   ]
  },
  {
   "cell_type": "markdown",
   "metadata": {},
   "source": [
    "##### Owner Address\n",
    "\n",
    "Will make another binary column for out of state owners"
   ]
  },
  {
   "cell_type": "code",
   "execution_count": 84,
   "metadata": {
    "ExecuteTime": {
     "end_time": "2019-12-26T20:34:43.823484Z",
     "start_time": "2019-12-26T20:34:43.676345Z"
    }
   },
   "outputs": [
    {
     "data": {
      "text/html": [
       "<div>\n",
       "<style scoped>\n",
       "    .dataframe tbody tr th:only-of-type {\n",
       "        vertical-align: middle;\n",
       "    }\n",
       "\n",
       "    .dataframe tbody tr th {\n",
       "        vertical-align: top;\n",
       "    }\n",
       "\n",
       "    .dataframe thead th {\n",
       "        text-align: right;\n",
       "    }\n",
       "</style>\n",
       "<table border=\"1\" class=\"dataframe\">\n",
       "  <thead>\n",
       "    <tr style=\"text-align: right;\">\n",
       "      <th></th>\n",
       "      <th>py_addr_line1</th>\n",
       "      <th>py_addr_line2</th>\n",
       "      <th>py_addr_line3</th>\n",
       "      <th>py_addr_city</th>\n",
       "      <th>py_addr_state</th>\n",
       "      <th>py_addr_country</th>\n",
       "    </tr>\n",
       "  </thead>\n",
       "  <tbody>\n",
       "    <tr>\n",
       "      <td>0</td>\n",
       "      <td>NaN</td>\n",
       "      <td>119 E CRAIG PL</td>\n",
       "      <td>NaN</td>\n",
       "      <td>SAN ANTONIO</td>\n",
       "      <td>TX</td>\n",
       "      <td>US</td>\n",
       "    </tr>\n",
       "    <tr>\n",
       "      <td>1</td>\n",
       "      <td>NaN</td>\n",
       "      <td>216 1/2 TERRY CT</td>\n",
       "      <td>NaN</td>\n",
       "      <td>SAN ANTONIO</td>\n",
       "      <td>TX</td>\n",
       "      <td>US</td>\n",
       "    </tr>\n",
       "    <tr>\n",
       "      <td>2</td>\n",
       "      <td>NaN</td>\n",
       "      <td>7 W KITTY HAWK ST</td>\n",
       "      <td>NaN</td>\n",
       "      <td>RICHMOND</td>\n",
       "      <td>TX</td>\n",
       "      <td>US</td>\n",
       "    </tr>\n",
       "    <tr>\n",
       "      <td>3</td>\n",
       "      <td>NaN</td>\n",
       "      <td>7 W KITTY HAWK ST</td>\n",
       "      <td>NaN</td>\n",
       "      <td>RICHMOND</td>\n",
       "      <td>TX</td>\n",
       "      <td>US</td>\n",
       "    </tr>\n",
       "    <tr>\n",
       "      <td>4</td>\n",
       "      <td>NaN</td>\n",
       "      <td>PO BOX 839966</td>\n",
       "      <td>NaN</td>\n",
       "      <td>SAN ANTONIO</td>\n",
       "      <td>TX</td>\n",
       "      <td>US</td>\n",
       "    </tr>\n",
       "  </tbody>\n",
       "</table>\n",
       "</div>"
      ],
      "text/plain": [
       "  py_addr_line1      py_addr_line2 py_addr_line3 py_addr_city py_addr_state  \\\n",
       "0           NaN     119 E CRAIG PL           NaN  SAN ANTONIO            TX   \n",
       "1           NaN   216 1/2 TERRY CT           NaN  SAN ANTONIO            TX   \n",
       "2           NaN  7 W KITTY HAWK ST           NaN     RICHMOND            TX   \n",
       "3           NaN  7 W KITTY HAWK ST           NaN     RICHMOND            TX   \n",
       "4           NaN      PO BOX 839966           NaN  SAN ANTONIO            TX   \n",
       "\n",
       "  py_addr_country  \n",
       "0              US  \n",
       "1              US  \n",
       "2              US  \n",
       "3              US  \n",
       "4              US  "
      ]
     },
     "execution_count": 84,
     "metadata": {},
     "output_type": "execute_result"
    }
   ],
   "source": [
    "bexar_df[['py_addr_line1', 'py_addr_line2','py_addr_line3', 'py_addr_city', 'py_addr_state', 'py_addr_country']].head()"
   ]
  },
  {
   "cell_type": "code",
   "execution_count": 85,
   "metadata": {
    "ExecuteTime": {
     "end_time": "2019-12-26T20:34:43.906825Z",
     "start_time": "2019-12-26T20:34:43.828435Z"
    }
   },
   "outputs": [
    {
     "data": {
      "text/plain": [
       "TX           660613\n",
       "CA             9279\n",
       "CO             1702\n",
       "FL             1689\n",
       "IL             1216\n",
       "              ...  \n",
       "25730             1\n",
       "AS                1\n",
       "JAL               1\n",
       "MEXICO DF         1\n",
       "COAH MEX          1\n",
       "Name: py_addr_state, Length: 64, dtype: int64"
      ]
     },
     "execution_count": 85,
     "metadata": {},
     "output_type": "execute_result"
    }
   ],
   "source": [
    "bexar_df.py_addr_state.value_counts()"
   ]
  },
  {
   "cell_type": "code",
   "execution_count": 86,
   "metadata": {
    "ExecuteTime": {
     "end_time": "2019-12-26T20:34:43.962306Z",
     "start_time": "2019-12-26T20:34:43.909004Z"
    }
   },
   "outputs": [],
   "source": [
    "# corp_prop_merged['foreign_based_owner'] = np.where(corp_prop_merged['py_addr_country'] != 'US',1,0)\n",
    "bexar_df['out_of_state_owner'] = np.where(bexar_df['py_addr_state'] != 'TX',1,0)"
   ]
  },
  {
   "cell_type": "code",
   "execution_count": 87,
   "metadata": {
    "ExecuteTime": {
     "end_time": "2019-12-26T20:34:43.983391Z",
     "start_time": "2019-12-26T20:34:43.963952Z"
    }
   },
   "outputs": [
    {
     "data": {
      "text/plain": [
       "0    660613\n",
       "1     34897\n",
       "Name: out_of_state_owner, dtype: int64"
      ]
     },
     "execution_count": 87,
     "metadata": {},
     "output_type": "execute_result"
    }
   ],
   "source": [
    "bexar_df['out_of_state_owner'].value_counts()"
   ]
  },
  {
   "cell_type": "markdown",
   "metadata": {},
   "source": [
    "##### Confidential Flag"
   ]
  },
  {
   "cell_type": "code",
   "execution_count": 88,
   "metadata": {
    "ExecuteTime": {
     "end_time": "2019-12-26T20:34:44.085742Z",
     "start_time": "2019-12-26T20:34:43.986771Z"
    }
   },
   "outputs": [
    {
     "data": {
      "text/plain": [
       "F    594049\n",
       "T      2424\n",
       "Name: py_confidential_flag, dtype: int64"
      ]
     },
     "execution_count": 88,
     "metadata": {},
     "output_type": "execute_result"
    }
   ],
   "source": [
    "bexar_df['py_confidential_flag'].value_counts()"
   ]
  },
  {
   "cell_type": "code",
   "execution_count": 89,
   "metadata": {
    "ExecuteTime": {
     "end_time": "2019-12-26T20:34:46.433238Z",
     "start_time": "2019-12-26T20:34:44.102601Z"
    }
   },
   "outputs": [],
   "source": [
    "# Convert from T/F to 1/0\n",
    "bexar_df['py_confidential_flag'] = np.where(bexar_df['py_confidential_flag'] == 'T',1,0)"
   ]
  },
  {
   "cell_type": "code",
   "execution_count": 90,
   "metadata": {
    "ExecuteTime": {
     "end_time": "2019-12-26T20:34:46.459686Z",
     "start_time": "2019-12-26T20:34:46.435333Z"
    }
   },
   "outputs": [
    {
     "data": {
      "text/plain": [
       "0    693086\n",
       "1      2424\n",
       "Name: py_confidential_flag, dtype: int64"
      ]
     },
     "execution_count": 90,
     "metadata": {},
     "output_type": "execute_result"
    }
   ],
   "source": [
    "bexar_df['py_confidential_flag'].value_counts()"
   ]
  },
  {
   "attachments": {},
   "cell_type": "markdown",
   "metadata": {},
   "source": [
    "##### Property Year Owner Address Suppression Flag "
   ]
  },
  {
   "cell_type": "code",
   "execution_count": 91,
   "metadata": {
    "ExecuteTime": {
     "end_time": "2019-12-26T20:34:48.703219Z",
     "start_time": "2019-12-26T20:34:46.469173Z"
    }
   },
   "outputs": [],
   "source": [
    "# Do the same for this\n",
    "bexar_df['py_address_suppress_flag'] = np.where(bexar_df['py_address_suppress_flag']=='T',1,0)"
   ]
  },
  {
   "cell_type": "code",
   "execution_count": 92,
   "metadata": {
    "ExecuteTime": {
     "end_time": "2019-12-26T20:34:48.732993Z",
     "start_time": "2019-12-26T20:34:48.705066Z"
    }
   },
   "outputs": [
    {
     "data": {
      "text/plain": [
       "0    691653\n",
       "1      3857\n",
       "Name: py_address_suppress_flag, dtype: int64"
      ]
     },
     "execution_count": 92,
     "metadata": {},
     "output_type": "execute_result"
    }
   ],
   "source": [
    "bexar_df['py_address_suppress_flag'].value_counts()"
   ]
  },
  {
   "attachments": {},
   "cell_type": "markdown",
   "metadata": {},
   "source": [
    "##### py_addr_ml_deliverable\n",
    "(\"Property Year Owner Address\n",
    "Y = deliverable address\n",
    "N = undeliverable address\""
   ]
  },
  {
   "cell_type": "code",
   "execution_count": 93,
   "metadata": {
    "ExecuteTime": {
     "end_time": "2019-12-26T20:34:48.846293Z",
     "start_time": "2019-12-26T20:34:48.736404Z"
    }
   },
   "outputs": [
    {
     "data": {
      "text/plain": [
       "Y    595002\n",
       "N      1809\n",
       "Name: py_addr_ml_deliverable, dtype: int64"
      ]
     },
     "execution_count": 93,
     "metadata": {},
     "output_type": "execute_result"
    }
   ],
   "source": [
    "bexar_df.py_addr_ml_deliverable.value_counts()"
   ]
  },
  {
   "cell_type": "code",
   "execution_count": 94,
   "metadata": {
    "ExecuteTime": {
     "end_time": "2019-12-26T20:34:51.045870Z",
     "start_time": "2019-12-26T20:34:48.853377Z"
    }
   },
   "outputs": [
    {
     "name": "stdout",
     "output_type": "stream",
     "text": [
      "1    595002\n",
      "0    100508\n",
      "Name: py_addr_ml_deliverable, dtype: int64\n"
     ]
    }
   ],
   "source": [
    "bexar_df['py_addr_ml_deliverable'] = np.where(bexar_df['py_addr_ml_deliverable']=='Y',1,0)\n",
    "print(bexar_df['py_addr_ml_deliverable'].value_counts())"
   ]
  },
  {
   "cell_type": "markdown",
   "metadata": {},
   "source": [
    "##### Property Address"
   ]
  },
  {
   "cell_type": "code",
   "execution_count": 95,
   "metadata": {
    "ExecuteTime": {
     "end_time": "2019-12-26T20:34:51.435925Z",
     "start_time": "2019-12-26T20:34:51.048998Z"
    }
   },
   "outputs": [
    {
     "data": {
      "text/html": [
       "<div>\n",
       "<style scoped>\n",
       "    .dataframe tbody tr th:only-of-type {\n",
       "        vertical-align: middle;\n",
       "    }\n",
       "\n",
       "    .dataframe tbody tr th {\n",
       "        vertical-align: top;\n",
       "    }\n",
       "\n",
       "    .dataframe thead th {\n",
       "        text-align: right;\n",
       "    }\n",
       "</style>\n",
       "<table border=\"1\" class=\"dataframe\">\n",
       "  <thead>\n",
       "    <tr style=\"text-align: right;\">\n",
       "      <th></th>\n",
       "      <th>situs_street_prefx</th>\n",
       "      <th>situs_street</th>\n",
       "      <th>situs_street_suffix</th>\n",
       "      <th>situs_city</th>\n",
       "      <th>situs_zip</th>\n",
       "    </tr>\n",
       "  </thead>\n",
       "  <tbody>\n",
       "    <tr>\n",
       "      <td>0</td>\n",
       "      <td>NaN</td>\n",
       "      <td>VALERO ST</td>\n",
       "      <td>NaN</td>\n",
       "      <td>SAN ANTONIO</td>\n",
       "      <td>78212</td>\n",
       "    </tr>\n",
       "    <tr>\n",
       "      <td>1</td>\n",
       "      <td>NaN</td>\n",
       "      <td>TERRY CT</td>\n",
       "      <td>NaN</td>\n",
       "      <td>SAN ANTONIO</td>\n",
       "      <td>78212</td>\n",
       "    </tr>\n",
       "    <tr>\n",
       "      <td>2</td>\n",
       "      <td>NaN</td>\n",
       "      <td>TERRY CT</td>\n",
       "      <td>NaN</td>\n",
       "      <td>SAN ANTONIO</td>\n",
       "      <td>78212</td>\n",
       "    </tr>\n",
       "    <tr>\n",
       "      <td>3</td>\n",
       "      <td>NaN</td>\n",
       "      <td>TERRY CT</td>\n",
       "      <td>NaN</td>\n",
       "      <td>SAN ANTONIO</td>\n",
       "      <td>78212</td>\n",
       "    </tr>\n",
       "    <tr>\n",
       "      <td>4</td>\n",
       "      <td>NaN</td>\n",
       "      <td>RIVER WAY</td>\n",
       "      <td>NaN</td>\n",
       "      <td>SAN ANTONIO</td>\n",
       "      <td>78212</td>\n",
       "    </tr>\n",
       "  </tbody>\n",
       "</table>\n",
       "</div>"
      ],
      "text/plain": [
       "  situs_street_prefx situs_street situs_street_suffix   situs_city situs_zip\n",
       "0                NaN    VALERO ST                 NaN  SAN ANTONIO     78212\n",
       "1                NaN     TERRY CT                 NaN  SAN ANTONIO     78212\n",
       "2                NaN     TERRY CT                 NaN  SAN ANTONIO     78212\n",
       "3                NaN     TERRY CT                 NaN  SAN ANTONIO     78212\n",
       "4                NaN    RIVER WAY                 NaN  SAN ANTONIO     78212"
      ]
     },
     "execution_count": 95,
     "metadata": {},
     "output_type": "execute_result"
    }
   ],
   "source": [
    "bexar_df[['situs_street_prefx', 'situs_street', 'situs_street_suffix', 'situs_city', 'situs_zip']].head()"
   ]
  },
  {
   "cell_type": "code",
   "execution_count": 96,
   "metadata": {
    "ExecuteTime": {
     "end_time": "2019-12-26T20:34:51.511190Z",
     "start_time": "2019-12-26T20:34:51.438391Z"
    }
   },
   "outputs": [
    {
     "name": "stdout",
     "output_type": "stream",
     "text": [
      "(695510, 81)\n",
      "SAN ANTONIO       568247\n",
      "CONVERSE           16803\n",
      "HELOTES            11316\n",
      "BOERNE              7350\n",
      "UNIVERSAL CITY      6471\n",
      "Name: situs_city, dtype: int64\n"
     ]
    }
   ],
   "source": [
    "print(bexar_df.shape)\n",
    "print(bexar_df.situs_city.value_counts()[:5])\n",
    "# ~82% of the properties are in the city of San Antonio"
   ]
  },
  {
   "cell_type": "code",
   "execution_count": 97,
   "metadata": {
    "ExecuteTime": {
     "end_time": "2019-12-26T20:34:51.569027Z",
     "start_time": "2019-12-26T20:34:51.516192Z"
    }
   },
   "outputs": [
    {
     "data": {
      "text/plain": [
       "163"
      ]
     },
     "execution_count": 97,
     "metadata": {},
     "output_type": "execute_result"
    }
   ],
   "source": [
    "# Too wide for get dummies?\n",
    "# Maybe a binary based on San Antonio or not?\n",
    "bexar_df.situs_city.nunique()"
   ]
  },
  {
   "cell_type": "code",
   "execution_count": 98,
   "metadata": {
    "ExecuteTime": {
     "end_time": "2019-12-26T20:34:51.640441Z",
     "start_time": "2019-12-26T20:34:51.587963Z"
    }
   },
   "outputs": [
    {
     "name": "stdout",
     "output_type": "stream",
     "text": [
      "['78212' '78215' nan ... '78217-1223' '78266-2813' '78229-6108']\n"
     ]
    }
   ],
   "source": [
    "print(bexar_df.situs_zip.unique())"
   ]
  },
  {
   "cell_type": "markdown",
   "metadata": {},
   "source": [
    "##### Neighborhood code (hood_cd)"
   ]
  },
  {
   "cell_type": "code",
   "execution_count": 99,
   "metadata": {
    "ExecuteTime": {
     "end_time": "2019-12-26T20:34:51.704630Z",
     "start_time": "2019-12-26T20:34:51.642817Z"
    }
   },
   "outputs": [
    {
     "data": {
      "text/plain": [
       "2768"
      ]
     },
     "execution_count": 99,
     "metadata": {},
     "output_type": "execute_result"
    }
   ],
   "source": [
    "bexar_df.hood_cd.nunique()"
   ]
  },
  {
   "cell_type": "code",
   "execution_count": 100,
   "metadata": {
    "ExecuteTime": {
     "end_time": "2019-12-26T20:34:51.781111Z",
     "start_time": "2019-12-26T20:34:51.709634Z"
    }
   },
   "outputs": [
    {
     "data": {
      "text/plain": [
       "24090    4359\n",
       "57076    3743\n",
       "57019    3653\n",
       "57018    3384\n",
       "57210    2628\n",
       "95312    2506\n",
       "95308    2501\n",
       "57014    2498\n",
       "57082    2486\n",
       "28290    2466\n",
       "Name: hood_cd, dtype: int64"
      ]
     },
     "execution_count": 100,
     "metadata": {},
     "output_type": "execute_result"
    }
   ],
   "source": [
    "# Still unsure what to do with these\n",
    "bexar_df.hood_cd.value_counts()[:10]"
   ]
  },
  {
   "cell_type": "markdown",
   "metadata": {},
   "source": [
    "##### Entity Agent\n",
    "Making it binary if one exists or not"
   ]
  },
  {
   "cell_type": "code",
   "execution_count": 101,
   "metadata": {
    "ExecuteTime": {
     "end_time": "2019-12-26T20:34:51.836897Z",
     "start_time": "2019-12-26T20:34:51.783028Z"
    }
   },
   "outputs": [
    {
     "data": {
      "text/plain": [
       "0          681187\n",
       "2837462      1011\n",
       "60100         737\n",
       "2844946       590\n",
       "60101         522\n",
       "            ...  \n",
       "3172018         1\n",
       "3060073         1\n",
       "3118201         1\n",
       "3171207         1\n",
       "40078           1\n",
       "Name: entity_agent_id, Length: 904, dtype: int64"
      ]
     },
     "execution_count": 101,
     "metadata": {},
     "output_type": "execute_result"
    }
   ],
   "source": [
    "bexar_df.entity_agent_id.value_counts()"
   ]
  },
  {
   "cell_type": "code",
   "execution_count": 102,
   "metadata": {
    "ExecuteTime": {
     "end_time": "2019-12-26T20:34:51.867202Z",
     "start_time": "2019-12-26T20:34:51.839339Z"
    }
   },
   "outputs": [
    {
     "name": "stdout",
     "output_type": "stream",
     "text": [
      "695510\n",
      "695510\n"
     ]
    }
   ],
   "source": [
    "print(len(bexar_df.entity_agent_id))\n",
    "print(len(bexar_df.entity_agent_id.dropna()))"
   ]
  },
  {
   "cell_type": "code",
   "execution_count": 103,
   "metadata": {
    "ExecuteTime": {
     "end_time": "2019-12-26T20:34:51.879209Z",
     "start_time": "2019-12-26T20:34:51.870091Z"
    }
   },
   "outputs": [],
   "source": [
    "bexar_df['entity_agent_binary'] = np.where(bexar_df.entity_agent_id==0,0,1)"
   ]
  },
  {
   "cell_type": "code",
   "execution_count": 104,
   "metadata": {
    "ExecuteTime": {
     "end_time": "2019-12-26T20:34:51.900753Z",
     "start_time": "2019-12-26T20:34:51.880895Z"
    }
   },
   "outputs": [
    {
     "data": {
      "text/plain": [
       "0    681187\n",
       "1     14323\n",
       "Name: entity_agent_binary, dtype: int64"
      ]
     },
     "execution_count": 104,
     "metadata": {},
     "output_type": "execute_result"
    }
   ],
   "source": [
    "bexar_df.entity_agent_binary.value_counts()"
   ]
  },
  {
   "cell_type": "code",
   "execution_count": 105,
   "metadata": {
    "ExecuteTime": {
     "end_time": "2019-12-26T20:34:53.095036Z",
     "start_time": "2019-12-26T20:34:51.904387Z"
    }
   },
   "outputs": [],
   "source": [
    "bexar_df.drop(columns=['entity_agent_id','entity_agent_name', \n",
    "                       'entity_agent_addr_line1','entity_agent_addr_line2', \n",
    "                       'entity_agent_addr_line3','entity_agent_city', \n",
    "                       'entity_agent_state', 'entity_agent_country'],inplace=True)"
   ]
  },
  {
   "cell_type": "code",
   "execution_count": 106,
   "metadata": {
    "ExecuteTime": {
     "end_time": "2019-12-26T20:34:53.110736Z",
     "start_time": "2019-12-26T20:34:53.097532Z"
    }
   },
   "outputs": [
    {
     "data": {
      "text/plain": [
       "(695510, 74)"
      ]
     },
     "execution_count": 106,
     "metadata": {},
     "output_type": "execute_result"
    }
   ],
   "source": [
    "bexar_df.shape"
   ]
  },
  {
   "cell_type": "markdown",
   "metadata": {},
   "source": [
    "##### Chief Appraiser"
   ]
  },
  {
   "cell_type": "code",
   "execution_count": 107,
   "metadata": {
    "ExecuteTime": {
     "end_time": "2019-12-26T20:34:53.289436Z",
     "start_time": "2019-12-26T20:34:53.115462Z"
    }
   },
   "outputs": [
    {
     "data": {
      "text/html": [
       "<div>\n",
       "<style scoped>\n",
       "    .dataframe tbody tr th:only-of-type {\n",
       "        vertical-align: middle;\n",
       "    }\n",
       "\n",
       "    .dataframe tbody tr th {\n",
       "        vertical-align: top;\n",
       "    }\n",
       "\n",
       "    .dataframe thead th {\n",
       "        text-align: right;\n",
       "    }\n",
       "</style>\n",
       "<table border=\"1\" class=\"dataframe\">\n",
       "  <thead>\n",
       "    <tr style=\"text-align: right;\">\n",
       "      <th></th>\n",
       "      <th>ca_agent_id</th>\n",
       "      <th>ca_agent_name</th>\n",
       "      <th>ca_agent_addr_line1</th>\n",
       "      <th>ca_agent_addr_line2</th>\n",
       "      <th>ca_agent_addr_line3</th>\n",
       "      <th>ca_agent_city</th>\n",
       "      <th>ca_agent_state</th>\n",
       "      <th>ca_agent_country</th>\n",
       "      <th>ca_agent_zip</th>\n",
       "    </tr>\n",
       "  </thead>\n",
       "  <tbody>\n",
       "    <tr>\n",
       "      <td>0</td>\n",
       "      <td>0</td>\n",
       "      <td>NaN</td>\n",
       "      <td>NaN</td>\n",
       "      <td>NaN</td>\n",
       "      <td>NaN</td>\n",
       "      <td>NaN</td>\n",
       "      <td>NaN</td>\n",
       "      <td>NaN</td>\n",
       "      <td>nan</td>\n",
       "    </tr>\n",
       "    <tr>\n",
       "      <td>1</td>\n",
       "      <td>0</td>\n",
       "      <td>NaN</td>\n",
       "      <td>NaN</td>\n",
       "      <td>NaN</td>\n",
       "      <td>NaN</td>\n",
       "      <td>NaN</td>\n",
       "      <td>NaN</td>\n",
       "      <td>NaN</td>\n",
       "      <td>nan</td>\n",
       "    </tr>\n",
       "    <tr>\n",
       "      <td>2</td>\n",
       "      <td>0</td>\n",
       "      <td>NaN</td>\n",
       "      <td>NaN</td>\n",
       "      <td>NaN</td>\n",
       "      <td>NaN</td>\n",
       "      <td>NaN</td>\n",
       "      <td>NaN</td>\n",
       "      <td>NaN</td>\n",
       "      <td>nan</td>\n",
       "    </tr>\n",
       "    <tr>\n",
       "      <td>3</td>\n",
       "      <td>0</td>\n",
       "      <td>NaN</td>\n",
       "      <td>NaN</td>\n",
       "      <td>NaN</td>\n",
       "      <td>NaN</td>\n",
       "      <td>NaN</td>\n",
       "      <td>NaN</td>\n",
       "      <td>NaN</td>\n",
       "      <td>nan</td>\n",
       "    </tr>\n",
       "    <tr>\n",
       "      <td>4</td>\n",
       "      <td>0</td>\n",
       "      <td>NaN</td>\n",
       "      <td>NaN</td>\n",
       "      <td>NaN</td>\n",
       "      <td>NaN</td>\n",
       "      <td>NaN</td>\n",
       "      <td>NaN</td>\n",
       "      <td>NaN</td>\n",
       "      <td>nan</td>\n",
       "    </tr>\n",
       "  </tbody>\n",
       "</table>\n",
       "</div>"
      ],
      "text/plain": [
       "   ca_agent_id ca_agent_name ca_agent_addr_line1 ca_agent_addr_line2  \\\n",
       "0            0           NaN                 NaN                 NaN   \n",
       "1            0           NaN                 NaN                 NaN   \n",
       "2            0           NaN                 NaN                 NaN   \n",
       "3            0           NaN                 NaN                 NaN   \n",
       "4            0           NaN                 NaN                 NaN   \n",
       "\n",
       "  ca_agent_addr_line3 ca_agent_city ca_agent_state ca_agent_country  \\\n",
       "0                 NaN           NaN            NaN              NaN   \n",
       "1                 NaN           NaN            NaN              NaN   \n",
       "2                 NaN           NaN            NaN              NaN   \n",
       "3                 NaN           NaN            NaN              NaN   \n",
       "4                 NaN           NaN            NaN              NaN   \n",
       "\n",
       "   ca_agent_zip  \n",
       "0           nan  \n",
       "1           nan  \n",
       "2           nan  \n",
       "3           nan  \n",
       "4           nan  "
      ]
     },
     "execution_count": 107,
     "metadata": {},
     "output_type": "execute_result"
    }
   ],
   "source": [
    "bexar_df[['ca_agent_id', 'ca_agent_name', 'ca_agent_addr_line1',\n",
    "       'ca_agent_addr_line2', 'ca_agent_addr_line3', 'ca_agent_city',\n",
    "       'ca_agent_state', 'ca_agent_country', 'ca_agent_zip']].head()"
   ]
  },
  {
   "cell_type": "code",
   "execution_count": 108,
   "metadata": {
    "ExecuteTime": {
     "end_time": "2019-12-26T20:34:53.311396Z",
     "start_time": "2019-12-26T20:34:53.292105Z"
    }
   },
   "outputs": [
    {
     "data": {
      "text/plain": [
       "0          626311\n",
       "60585       12326\n",
       "60001        6744\n",
       "40773        5925\n",
       "60075        2424\n",
       "            ...  \n",
       "3168658         1\n",
       "3173093         1\n",
       "40781           1\n",
       "2663564         1\n",
       "3169700         1\n",
       "Name: ca_agent_id, Length: 1181, dtype: int64"
      ]
     },
     "execution_count": 108,
     "metadata": {},
     "output_type": "execute_result"
    }
   ],
   "source": [
    "bexar_df.ca_agent_id.value_counts()"
   ]
  },
  {
   "cell_type": "code",
   "execution_count": 109,
   "metadata": {
    "ExecuteTime": {
     "end_time": "2019-12-26T20:34:53.441627Z",
     "start_time": "2019-12-26T20:34:53.314457Z"
    }
   },
   "outputs": [
    {
     "data": {
      "text/html": [
       "<div>\n",
       "<style scoped>\n",
       "    .dataframe tbody tr th:only-of-type {\n",
       "        vertical-align: middle;\n",
       "    }\n",
       "\n",
       "    .dataframe tbody tr th {\n",
       "        vertical-align: top;\n",
       "    }\n",
       "\n",
       "    .dataframe thead th {\n",
       "        text-align: right;\n",
       "    }\n",
       "</style>\n",
       "<table border=\"1\" class=\"dataframe\">\n",
       "  <thead>\n",
       "    <tr style=\"text-align: right;\">\n",
       "      <th></th>\n",
       "      <th>ca_agent_id</th>\n",
       "      <th>ca_agent_name</th>\n",
       "      <th>ca_agent_addr_line1</th>\n",
       "      <th>ca_agent_addr_line2</th>\n",
       "      <th>ca_agent_addr_line3</th>\n",
       "      <th>ca_agent_city</th>\n",
       "      <th>ca_agent_state</th>\n",
       "      <th>ca_agent_country</th>\n",
       "      <th>ca_agent_zip</th>\n",
       "    </tr>\n",
       "  </thead>\n",
       "  <tbody>\n",
       "    <tr>\n",
       "      <td>7</td>\n",
       "      <td>60585</td>\n",
       "      <td>ARTHUR P. VELTMAN &amp; ASSOCIATES</td>\n",
       "      <td>NaN</td>\n",
       "      <td>1017 N MAIN AVE STE 201</td>\n",
       "      <td>NaN</td>\n",
       "      <td>SAN ANTONIO</td>\n",
       "      <td>TX</td>\n",
       "      <td>US</td>\n",
       "      <td>78212.00000</td>\n",
       "    </tr>\n",
       "    <tr>\n",
       "      <td>8</td>\n",
       "      <td>60585</td>\n",
       "      <td>ARTHUR P. VELTMAN &amp; ASSOCIATES</td>\n",
       "      <td>NaN</td>\n",
       "      <td>1017 N MAIN AVE STE 201</td>\n",
       "      <td>NaN</td>\n",
       "      <td>SAN ANTONIO</td>\n",
       "      <td>TX</td>\n",
       "      <td>US</td>\n",
       "      <td>78212.00000</td>\n",
       "    </tr>\n",
       "    <tr>\n",
       "      <td>9</td>\n",
       "      <td>60585</td>\n",
       "      <td>ARTHUR P. VELTMAN &amp; ASSOCIATES</td>\n",
       "      <td>NaN</td>\n",
       "      <td>1017 N MAIN AVE STE 201</td>\n",
       "      <td>NaN</td>\n",
       "      <td>SAN ANTONIO</td>\n",
       "      <td>TX</td>\n",
       "      <td>US</td>\n",
       "      <td>78212.00000</td>\n",
       "    </tr>\n",
       "    <tr>\n",
       "      <td>14</td>\n",
       "      <td>60585</td>\n",
       "      <td>ARTHUR P. VELTMAN &amp; ASSOCIATES</td>\n",
       "      <td>NaN</td>\n",
       "      <td>1017 N MAIN AVE STE 201</td>\n",
       "      <td>NaN</td>\n",
       "      <td>SAN ANTONIO</td>\n",
       "      <td>TX</td>\n",
       "      <td>US</td>\n",
       "      <td>78212.00000</td>\n",
       "    </tr>\n",
       "    <tr>\n",
       "      <td>49</td>\n",
       "      <td>60585</td>\n",
       "      <td>ARTHUR P. VELTMAN &amp; ASSOCIATES</td>\n",
       "      <td>NaN</td>\n",
       "      <td>1017 N MAIN AVE STE 201</td>\n",
       "      <td>NaN</td>\n",
       "      <td>SAN ANTONIO</td>\n",
       "      <td>TX</td>\n",
       "      <td>US</td>\n",
       "      <td>78212.00000</td>\n",
       "    </tr>\n",
       "  </tbody>\n",
       "</table>\n",
       "</div>"
      ],
      "text/plain": [
       "    ca_agent_id                   ca_agent_name ca_agent_addr_line1  \\\n",
       "7         60585  ARTHUR P. VELTMAN & ASSOCIATES                 NaN   \n",
       "8         60585  ARTHUR P. VELTMAN & ASSOCIATES                 NaN   \n",
       "9         60585  ARTHUR P. VELTMAN & ASSOCIATES                 NaN   \n",
       "14        60585  ARTHUR P. VELTMAN & ASSOCIATES                 NaN   \n",
       "49        60585  ARTHUR P. VELTMAN & ASSOCIATES                 NaN   \n",
       "\n",
       "        ca_agent_addr_line2 ca_agent_addr_line3 ca_agent_city ca_agent_state  \\\n",
       "7   1017 N MAIN AVE STE 201                 NaN   SAN ANTONIO             TX   \n",
       "8   1017 N MAIN AVE STE 201                 NaN   SAN ANTONIO             TX   \n",
       "9   1017 N MAIN AVE STE 201                 NaN   SAN ANTONIO             TX   \n",
       "14  1017 N MAIN AVE STE 201                 NaN   SAN ANTONIO             TX   \n",
       "49  1017 N MAIN AVE STE 201                 NaN   SAN ANTONIO             TX   \n",
       "\n",
       "   ca_agent_country  ca_agent_zip  \n",
       "7                US   78212.00000  \n",
       "8                US   78212.00000  \n",
       "9                US   78212.00000  \n",
       "14               US   78212.00000  \n",
       "49               US   78212.00000  "
      ]
     },
     "execution_count": 109,
     "metadata": {},
     "output_type": "execute_result"
    }
   ],
   "source": [
    "bexar_df[bexar_df.ca_agent_id==60585][['ca_agent_id', 'ca_agent_name', 'ca_agent_addr_line1',\n",
    "       'ca_agent_addr_line2', 'ca_agent_addr_line3', 'ca_agent_city',\n",
    "       'ca_agent_state', 'ca_agent_country', 'ca_agent_zip']][:5]"
   ]
  },
  {
   "cell_type": "code",
   "execution_count": 110,
   "metadata": {
    "ExecuteTime": {
     "end_time": "2019-12-26T20:34:53.621750Z",
     "start_time": "2019-12-26T20:34:53.455272Z"
    }
   },
   "outputs": [
    {
     "data": {
      "text/plain": [
       "US    69172\n",
       "MX       26\n",
       "Name: ca_agent_country, dtype: int64"
      ]
     },
     "execution_count": 110,
     "metadata": {},
     "output_type": "execute_result"
    }
   ],
   "source": [
    "bexar_df.ca_agent_country.value_counts()"
   ]
  },
  {
   "cell_type": "code",
   "execution_count": 111,
   "metadata": {
    "ExecuteTime": {
     "end_time": "2019-12-26T20:34:53.721500Z",
     "start_time": "2019-12-26T20:34:53.625475Z"
    }
   },
   "outputs": [
    {
     "data": {
      "text/html": [
       "<div>\n",
       "<style scoped>\n",
       "    .dataframe tbody tr th:only-of-type {\n",
       "        vertical-align: middle;\n",
       "    }\n",
       "\n",
       "    .dataframe tbody tr th {\n",
       "        vertical-align: top;\n",
       "    }\n",
       "\n",
       "    .dataframe thead th {\n",
       "        text-align: right;\n",
       "    }\n",
       "</style>\n",
       "<table border=\"1\" class=\"dataframe\">\n",
       "  <thead>\n",
       "    <tr style=\"text-align: right;\">\n",
       "      <th></th>\n",
       "      <th>prop_id</th>\n",
       "      <th>prop_type_cd</th>\n",
       "      <th>prop_val_yr</th>\n",
       "      <th>geo_id</th>\n",
       "      <th>py_owner_id</th>\n",
       "      <th>py_owner_name</th>\n",
       "      <th>partial_owner</th>\n",
       "      <th>udi_group</th>\n",
       "      <th>py_addr_line1</th>\n",
       "      <th>py_addr_line2</th>\n",
       "      <th>...</th>\n",
       "      <th>Officer/Director State</th>\n",
       "      <th>deed_charter_diff</th>\n",
       "      <th>just_established_owner</th>\n",
       "      <th>foreign_based_owner</th>\n",
       "      <th>yoy_diff_2019</th>\n",
       "      <th>yoy_diff_2018</th>\n",
       "      <th>yoy_diff_2017</th>\n",
       "      <th>yoy_diff_2016</th>\n",
       "      <th>out_of_state_owner</th>\n",
       "      <th>entity_agent_binary</th>\n",
       "    </tr>\n",
       "  </thead>\n",
       "  <tbody>\n",
       "    <tr>\n",
       "      <td>336540</td>\n",
       "      <td>586556</td>\n",
       "      <td>R</td>\n",
       "      <td>2019</td>\n",
       "      <td>15676-001-0110</td>\n",
       "      <td>456909</td>\n",
       "      <td>UNIFRID CORP</td>\n",
       "      <td>F</td>\n",
       "      <td>0</td>\n",
       "      <td>C/O RICARDO UNIKEL</td>\n",
       "      <td>3217 BURN BRAE DR</td>\n",
       "      <td>...</td>\n",
       "      <td>NaN</td>\n",
       "      <td>NaT</td>\n",
       "      <td>0</td>\n",
       "      <td>0</td>\n",
       "      <td>-1200.00000</td>\n",
       "      <td>11300.00000</td>\n",
       "      <td>200.00000</td>\n",
       "      <td>2500.00000</td>\n",
       "      <td>1</td>\n",
       "      <td>1</td>\n",
       "    </tr>\n",
       "    <tr>\n",
       "      <td>336541</td>\n",
       "      <td>586557</td>\n",
       "      <td>R</td>\n",
       "      <td>2019</td>\n",
       "      <td>15676-001-0120</td>\n",
       "      <td>456910</td>\n",
       "      <td>UNIFRID CORP</td>\n",
       "      <td>F</td>\n",
       "      <td>0</td>\n",
       "      <td>C/O RICARDO UNIKEL</td>\n",
       "      <td>3217 BURN BRAE DR</td>\n",
       "      <td>...</td>\n",
       "      <td>NaN</td>\n",
       "      <td>NaT</td>\n",
       "      <td>0</td>\n",
       "      <td>0</td>\n",
       "      <td>200.00000</td>\n",
       "      <td>9900.00000</td>\n",
       "      <td>200.00000</td>\n",
       "      <td>2500.00000</td>\n",
       "      <td>1</td>\n",
       "      <td>1</td>\n",
       "    </tr>\n",
       "    <tr>\n",
       "      <td>336542</td>\n",
       "      <td>586558</td>\n",
       "      <td>R</td>\n",
       "      <td>2019</td>\n",
       "      <td>15676-001-0130</td>\n",
       "      <td>456910</td>\n",
       "      <td>UNIFRID CORP</td>\n",
       "      <td>F</td>\n",
       "      <td>0</td>\n",
       "      <td>C/O RICARDO UNIKEL</td>\n",
       "      <td>3217 BURN BRAE DR</td>\n",
       "      <td>...</td>\n",
       "      <td>NaN</td>\n",
       "      <td>NaT</td>\n",
       "      <td>0</td>\n",
       "      <td>0</td>\n",
       "      <td>200.00000</td>\n",
       "      <td>9900.00000</td>\n",
       "      <td>200.00000</td>\n",
       "      <td>2500.00000</td>\n",
       "      <td>1</td>\n",
       "      <td>1</td>\n",
       "    </tr>\n",
       "    <tr>\n",
       "      <td>336543</td>\n",
       "      <td>586559</td>\n",
       "      <td>R</td>\n",
       "      <td>2019</td>\n",
       "      <td>15676-001-0140</td>\n",
       "      <td>456910</td>\n",
       "      <td>UNIFRID CORP</td>\n",
       "      <td>F</td>\n",
       "      <td>0</td>\n",
       "      <td>C/O RICARDO UNIKEL</td>\n",
       "      <td>3217 BURN BRAE DR</td>\n",
       "      <td>...</td>\n",
       "      <td>NaN</td>\n",
       "      <td>NaT</td>\n",
       "      <td>0</td>\n",
       "      <td>0</td>\n",
       "      <td>200.00000</td>\n",
       "      <td>9900.00000</td>\n",
       "      <td>200.00000</td>\n",
       "      <td>2500.00000</td>\n",
       "      <td>1</td>\n",
       "      <td>1</td>\n",
       "    </tr>\n",
       "    <tr>\n",
       "      <td>336544</td>\n",
       "      <td>586560</td>\n",
       "      <td>R</td>\n",
       "      <td>2019</td>\n",
       "      <td>15676-001-0150</td>\n",
       "      <td>456910</td>\n",
       "      <td>UNIFRID CORP</td>\n",
       "      <td>F</td>\n",
       "      <td>0</td>\n",
       "      <td>C/O RICARDO UNIKEL</td>\n",
       "      <td>3217 BURN BRAE DR</td>\n",
       "      <td>...</td>\n",
       "      <td>NaN</td>\n",
       "      <td>NaT</td>\n",
       "      <td>0</td>\n",
       "      <td>0</td>\n",
       "      <td>200.00000</td>\n",
       "      <td>9900.00000</td>\n",
       "      <td>200.00000</td>\n",
       "      <td>2500.00000</td>\n",
       "      <td>1</td>\n",
       "      <td>1</td>\n",
       "    </tr>\n",
       "    <tr>\n",
       "      <td>336545</td>\n",
       "      <td>586561</td>\n",
       "      <td>R</td>\n",
       "      <td>2019</td>\n",
       "      <td>15676-001-0160</td>\n",
       "      <td>456910</td>\n",
       "      <td>UNIFRID CORP</td>\n",
       "      <td>F</td>\n",
       "      <td>0</td>\n",
       "      <td>C/O RICARDO UNIKEL</td>\n",
       "      <td>3217 BURN BRAE DR</td>\n",
       "      <td>...</td>\n",
       "      <td>NaN</td>\n",
       "      <td>NaT</td>\n",
       "      <td>0</td>\n",
       "      <td>0</td>\n",
       "      <td>200.00000</td>\n",
       "      <td>9900.00000</td>\n",
       "      <td>200.00000</td>\n",
       "      <td>2500.00000</td>\n",
       "      <td>1</td>\n",
       "      <td>1</td>\n",
       "    </tr>\n",
       "    <tr>\n",
       "      <td>336546</td>\n",
       "      <td>586562</td>\n",
       "      <td>R</td>\n",
       "      <td>2019</td>\n",
       "      <td>15676-001-0170</td>\n",
       "      <td>456910</td>\n",
       "      <td>UNIFRID CORP</td>\n",
       "      <td>F</td>\n",
       "      <td>0</td>\n",
       "      <td>C/O RICARDO UNIKEL</td>\n",
       "      <td>3217 BURN BRAE DR</td>\n",
       "      <td>...</td>\n",
       "      <td>NaN</td>\n",
       "      <td>NaT</td>\n",
       "      <td>0</td>\n",
       "      <td>0</td>\n",
       "      <td>200.00000</td>\n",
       "      <td>9900.00000</td>\n",
       "      <td>200.00000</td>\n",
       "      <td>2500.00000</td>\n",
       "      <td>1</td>\n",
       "      <td>1</td>\n",
       "    </tr>\n",
       "    <tr>\n",
       "      <td>336547</td>\n",
       "      <td>586563</td>\n",
       "      <td>R</td>\n",
       "      <td>2019</td>\n",
       "      <td>15676-001-0180</td>\n",
       "      <td>456910</td>\n",
       "      <td>UNIFRID CORP</td>\n",
       "      <td>F</td>\n",
       "      <td>0</td>\n",
       "      <td>C/O RICARDO UNIKEL</td>\n",
       "      <td>3217 BURN BRAE DR</td>\n",
       "      <td>...</td>\n",
       "      <td>NaN</td>\n",
       "      <td>NaT</td>\n",
       "      <td>0</td>\n",
       "      <td>0</td>\n",
       "      <td>200.00000</td>\n",
       "      <td>9900.00000</td>\n",
       "      <td>200.00000</td>\n",
       "      <td>2500.00000</td>\n",
       "      <td>1</td>\n",
       "      <td>1</td>\n",
       "    </tr>\n",
       "    <tr>\n",
       "      <td>336548</td>\n",
       "      <td>586564</td>\n",
       "      <td>R</td>\n",
       "      <td>2019</td>\n",
       "      <td>15676-001-0190</td>\n",
       "      <td>456910</td>\n",
       "      <td>UNIFRID CORP</td>\n",
       "      <td>F</td>\n",
       "      <td>0</td>\n",
       "      <td>C/O RICARDO UNIKEL</td>\n",
       "      <td>3217 BURN BRAE DR</td>\n",
       "      <td>...</td>\n",
       "      <td>NaN</td>\n",
       "      <td>NaT</td>\n",
       "      <td>0</td>\n",
       "      <td>0</td>\n",
       "      <td>200.00000</td>\n",
       "      <td>9900.00000</td>\n",
       "      <td>200.00000</td>\n",
       "      <td>2500.00000</td>\n",
       "      <td>1</td>\n",
       "      <td>1</td>\n",
       "    </tr>\n",
       "    <tr>\n",
       "      <td>336549</td>\n",
       "      <td>586565</td>\n",
       "      <td>R</td>\n",
       "      <td>2019</td>\n",
       "      <td>15676-001-0200</td>\n",
       "      <td>456910</td>\n",
       "      <td>UNIFRID CORP</td>\n",
       "      <td>F</td>\n",
       "      <td>0</td>\n",
       "      <td>C/O RICARDO UNIKEL</td>\n",
       "      <td>3217 BURN BRAE DR</td>\n",
       "      <td>...</td>\n",
       "      <td>NaN</td>\n",
       "      <td>NaT</td>\n",
       "      <td>0</td>\n",
       "      <td>0</td>\n",
       "      <td>200.00000</td>\n",
       "      <td>9900.00000</td>\n",
       "      <td>200.00000</td>\n",
       "      <td>-1700.00000</td>\n",
       "      <td>1</td>\n",
       "      <td>1</td>\n",
       "    </tr>\n",
       "    <tr>\n",
       "      <td>336560</td>\n",
       "      <td>586576</td>\n",
       "      <td>R</td>\n",
       "      <td>2019</td>\n",
       "      <td>15676-001-0310</td>\n",
       "      <td>456910</td>\n",
       "      <td>UNIFRID CORP</td>\n",
       "      <td>F</td>\n",
       "      <td>0</td>\n",
       "      <td>C/O RICARDO UNIKEL</td>\n",
       "      <td>3217 BURN BRAE DR</td>\n",
       "      <td>...</td>\n",
       "      <td>NaN</td>\n",
       "      <td>NaT</td>\n",
       "      <td>0</td>\n",
       "      <td>0</td>\n",
       "      <td>-100.00000</td>\n",
       "      <td>2800.00000</td>\n",
       "      <td>1000.00000</td>\n",
       "      <td>2500.00000</td>\n",
       "      <td>1</td>\n",
       "      <td>1</td>\n",
       "    </tr>\n",
       "    <tr>\n",
       "      <td>336561</td>\n",
       "      <td>586577</td>\n",
       "      <td>R</td>\n",
       "      <td>2019</td>\n",
       "      <td>15676-001-0320</td>\n",
       "      <td>456910</td>\n",
       "      <td>UNIFRID CORP</td>\n",
       "      <td>F</td>\n",
       "      <td>0</td>\n",
       "      <td>C/O RICARDO UNIKEL</td>\n",
       "      <td>3217 BURN BRAE DR</td>\n",
       "      <td>...</td>\n",
       "      <td>NaN</td>\n",
       "      <td>NaT</td>\n",
       "      <td>0</td>\n",
       "      <td>0</td>\n",
       "      <td>-100.00000</td>\n",
       "      <td>2800.00000</td>\n",
       "      <td>1000.00000</td>\n",
       "      <td>2500.00000</td>\n",
       "      <td>1</td>\n",
       "      <td>1</td>\n",
       "    </tr>\n",
       "    <tr>\n",
       "      <td>336563</td>\n",
       "      <td>586579</td>\n",
       "      <td>R</td>\n",
       "      <td>2019</td>\n",
       "      <td>15676-001-0340</td>\n",
       "      <td>456910</td>\n",
       "      <td>UNIFRID CORP</td>\n",
       "      <td>F</td>\n",
       "      <td>0</td>\n",
       "      <td>C/O RICARDO UNIKEL</td>\n",
       "      <td>3217 BURN BRAE DR</td>\n",
       "      <td>...</td>\n",
       "      <td>NaN</td>\n",
       "      <td>NaT</td>\n",
       "      <td>0</td>\n",
       "      <td>0</td>\n",
       "      <td>-100.00000</td>\n",
       "      <td>2800.00000</td>\n",
       "      <td>1000.00000</td>\n",
       "      <td>2500.00000</td>\n",
       "      <td>1</td>\n",
       "      <td>1</td>\n",
       "    </tr>\n",
       "    <tr>\n",
       "      <td>336564</td>\n",
       "      <td>586580</td>\n",
       "      <td>R</td>\n",
       "      <td>2019</td>\n",
       "      <td>15676-001-0350</td>\n",
       "      <td>456910</td>\n",
       "      <td>UNIFRID CORP</td>\n",
       "      <td>F</td>\n",
       "      <td>0</td>\n",
       "      <td>C/O RICARDO UNIKEL</td>\n",
       "      <td>3217 BURN BRAE DR</td>\n",
       "      <td>...</td>\n",
       "      <td>NaN</td>\n",
       "      <td>NaT</td>\n",
       "      <td>0</td>\n",
       "      <td>0</td>\n",
       "      <td>-100.00000</td>\n",
       "      <td>2800.00000</td>\n",
       "      <td>1000.00000</td>\n",
       "      <td>2500.00000</td>\n",
       "      <td>1</td>\n",
       "      <td>1</td>\n",
       "    </tr>\n",
       "    <tr>\n",
       "      <td>336565</td>\n",
       "      <td>586581</td>\n",
       "      <td>R</td>\n",
       "      <td>2019</td>\n",
       "      <td>15676-001-0360</td>\n",
       "      <td>456910</td>\n",
       "      <td>UNIFRID CORP</td>\n",
       "      <td>F</td>\n",
       "      <td>0</td>\n",
       "      <td>C/O RICARDO UNIKEL</td>\n",
       "      <td>3217 BURN BRAE DR</td>\n",
       "      <td>...</td>\n",
       "      <td>NaN</td>\n",
       "      <td>NaT</td>\n",
       "      <td>0</td>\n",
       "      <td>0</td>\n",
       "      <td>-100.00000</td>\n",
       "      <td>2800.00000</td>\n",
       "      <td>1000.00000</td>\n",
       "      <td>2500.00000</td>\n",
       "      <td>1</td>\n",
       "      <td>1</td>\n",
       "    </tr>\n",
       "    <tr>\n",
       "      <td>336572</td>\n",
       "      <td>586590</td>\n",
       "      <td>R</td>\n",
       "      <td>2019</td>\n",
       "      <td>15676-001-0450</td>\n",
       "      <td>456910</td>\n",
       "      <td>UNIFRID CORP</td>\n",
       "      <td>F</td>\n",
       "      <td>0</td>\n",
       "      <td>C/O RICARDO UNIKEL</td>\n",
       "      <td>3217 BURN BRAE DR</td>\n",
       "      <td>...</td>\n",
       "      <td>NaN</td>\n",
       "      <td>NaT</td>\n",
       "      <td>0</td>\n",
       "      <td>0</td>\n",
       "      <td>-100.00000</td>\n",
       "      <td>2800.00000</td>\n",
       "      <td>1000.00000</td>\n",
       "      <td>2500.00000</td>\n",
       "      <td>1</td>\n",
       "      <td>1</td>\n",
       "    </tr>\n",
       "    <tr>\n",
       "      <td>336574</td>\n",
       "      <td>586592</td>\n",
       "      <td>R</td>\n",
       "      <td>2019</td>\n",
       "      <td>15676-001-0470</td>\n",
       "      <td>456910</td>\n",
       "      <td>UNIFRID CORP</td>\n",
       "      <td>F</td>\n",
       "      <td>0</td>\n",
       "      <td>C/O RICARDO UNIKEL</td>\n",
       "      <td>3217 BURN BRAE DR</td>\n",
       "      <td>...</td>\n",
       "      <td>NaN</td>\n",
       "      <td>NaT</td>\n",
       "      <td>0</td>\n",
       "      <td>0</td>\n",
       "      <td>-100.00000</td>\n",
       "      <td>2800.00000</td>\n",
       "      <td>1000.00000</td>\n",
       "      <td>2500.00000</td>\n",
       "      <td>1</td>\n",
       "      <td>1</td>\n",
       "    </tr>\n",
       "    <tr>\n",
       "      <td>336581</td>\n",
       "      <td>586599</td>\n",
       "      <td>R</td>\n",
       "      <td>2019</td>\n",
       "      <td>15676-001-0540</td>\n",
       "      <td>456910</td>\n",
       "      <td>UNIFRID CORP</td>\n",
       "      <td>F</td>\n",
       "      <td>0</td>\n",
       "      <td>C/O RICARDO UNIKEL</td>\n",
       "      <td>3217 BURN BRAE DR</td>\n",
       "      <td>...</td>\n",
       "      <td>NaN</td>\n",
       "      <td>NaT</td>\n",
       "      <td>0</td>\n",
       "      <td>0</td>\n",
       "      <td>200.00000</td>\n",
       "      <td>9900.00000</td>\n",
       "      <td>200.00000</td>\n",
       "      <td>2500.00000</td>\n",
       "      <td>1</td>\n",
       "      <td>1</td>\n",
       "    </tr>\n",
       "    <tr>\n",
       "      <td>336585</td>\n",
       "      <td>586603</td>\n",
       "      <td>R</td>\n",
       "      <td>2019</td>\n",
       "      <td>15676-001-0580</td>\n",
       "      <td>456910</td>\n",
       "      <td>UNIFRID CORP</td>\n",
       "      <td>F</td>\n",
       "      <td>0</td>\n",
       "      <td>C/O RICARDO UNIKEL</td>\n",
       "      <td>3217 BURN BRAE DR</td>\n",
       "      <td>...</td>\n",
       "      <td>NaN</td>\n",
       "      <td>NaT</td>\n",
       "      <td>0</td>\n",
       "      <td>0</td>\n",
       "      <td>200.00000</td>\n",
       "      <td>9900.00000</td>\n",
       "      <td>200.00000</td>\n",
       "      <td>2500.00000</td>\n",
       "      <td>1</td>\n",
       "      <td>1</td>\n",
       "    </tr>\n",
       "    <tr>\n",
       "      <td>336586</td>\n",
       "      <td>586604</td>\n",
       "      <td>R</td>\n",
       "      <td>2019</td>\n",
       "      <td>15676-001-0590</td>\n",
       "      <td>456910</td>\n",
       "      <td>UNIFRID CORP</td>\n",
       "      <td>F</td>\n",
       "      <td>0</td>\n",
       "      <td>C/O RICARDO UNIKEL</td>\n",
       "      <td>3217 BURN BRAE DR</td>\n",
       "      <td>...</td>\n",
       "      <td>NaN</td>\n",
       "      <td>NaT</td>\n",
       "      <td>0</td>\n",
       "      <td>0</td>\n",
       "      <td>200.00000</td>\n",
       "      <td>9900.00000</td>\n",
       "      <td>200.00000</td>\n",
       "      <td>2500.00000</td>\n",
       "      <td>1</td>\n",
       "      <td>1</td>\n",
       "    </tr>\n",
       "    <tr>\n",
       "      <td>336587</td>\n",
       "      <td>586605</td>\n",
       "      <td>R</td>\n",
       "      <td>2019</td>\n",
       "      <td>15676-001-0600</td>\n",
       "      <td>456910</td>\n",
       "      <td>UNIFRID CORP</td>\n",
       "      <td>F</td>\n",
       "      <td>0</td>\n",
       "      <td>C/O RICARDO UNIKEL</td>\n",
       "      <td>3217 BURN BRAE DR</td>\n",
       "      <td>...</td>\n",
       "      <td>NaN</td>\n",
       "      <td>NaT</td>\n",
       "      <td>0</td>\n",
       "      <td>0</td>\n",
       "      <td>200.00000</td>\n",
       "      <td>9900.00000</td>\n",
       "      <td>200.00000</td>\n",
       "      <td>2500.00000</td>\n",
       "      <td>1</td>\n",
       "      <td>1</td>\n",
       "    </tr>\n",
       "    <tr>\n",
       "      <td>336591</td>\n",
       "      <td>586609</td>\n",
       "      <td>R</td>\n",
       "      <td>2019</td>\n",
       "      <td>15676-001-0640</td>\n",
       "      <td>456910</td>\n",
       "      <td>UNIFRID CORP</td>\n",
       "      <td>F</td>\n",
       "      <td>0</td>\n",
       "      <td>C/O RICARDO UNIKEL</td>\n",
       "      <td>3217 BURN BRAE DR</td>\n",
       "      <td>...</td>\n",
       "      <td>NaN</td>\n",
       "      <td>NaT</td>\n",
       "      <td>0</td>\n",
       "      <td>0</td>\n",
       "      <td>200.00000</td>\n",
       "      <td>9900.00000</td>\n",
       "      <td>200.00000</td>\n",
       "      <td>2500.00000</td>\n",
       "      <td>1</td>\n",
       "      <td>1</td>\n",
       "    </tr>\n",
       "    <tr>\n",
       "      <td>336592</td>\n",
       "      <td>586610</td>\n",
       "      <td>R</td>\n",
       "      <td>2019</td>\n",
       "      <td>15676-001-0650</td>\n",
       "      <td>456910</td>\n",
       "      <td>UNIFRID CORP</td>\n",
       "      <td>F</td>\n",
       "      <td>0</td>\n",
       "      <td>C/O RICARDO UNIKEL</td>\n",
       "      <td>3217 BURN BRAE DR</td>\n",
       "      <td>...</td>\n",
       "      <td>NaN</td>\n",
       "      <td>NaT</td>\n",
       "      <td>0</td>\n",
       "      <td>0</td>\n",
       "      <td>200.00000</td>\n",
       "      <td>9900.00000</td>\n",
       "      <td>200.00000</td>\n",
       "      <td>2500.00000</td>\n",
       "      <td>1</td>\n",
       "      <td>1</td>\n",
       "    </tr>\n",
       "    <tr>\n",
       "      <td>336593</td>\n",
       "      <td>586611</td>\n",
       "      <td>R</td>\n",
       "      <td>2019</td>\n",
       "      <td>15676-001-0660</td>\n",
       "      <td>456910</td>\n",
       "      <td>UNIFRID CORP</td>\n",
       "      <td>F</td>\n",
       "      <td>0</td>\n",
       "      <td>C/O RICARDO UNIKEL</td>\n",
       "      <td>3217 BURN BRAE DR</td>\n",
       "      <td>...</td>\n",
       "      <td>NaN</td>\n",
       "      <td>NaT</td>\n",
       "      <td>0</td>\n",
       "      <td>0</td>\n",
       "      <td>200.00000</td>\n",
       "      <td>9900.00000</td>\n",
       "      <td>200.00000</td>\n",
       "      <td>2500.00000</td>\n",
       "      <td>1</td>\n",
       "      <td>1</td>\n",
       "    </tr>\n",
       "    <tr>\n",
       "      <td>336594</td>\n",
       "      <td>586612</td>\n",
       "      <td>R</td>\n",
       "      <td>2019</td>\n",
       "      <td>15676-001-0670</td>\n",
       "      <td>456910</td>\n",
       "      <td>UNIFRID CORP</td>\n",
       "      <td>F</td>\n",
       "      <td>0</td>\n",
       "      <td>C/O RICARDO UNIKEL</td>\n",
       "      <td>3217 BURN BRAE DR</td>\n",
       "      <td>...</td>\n",
       "      <td>NaN</td>\n",
       "      <td>NaT</td>\n",
       "      <td>0</td>\n",
       "      <td>0</td>\n",
       "      <td>200.00000</td>\n",
       "      <td>9900.00000</td>\n",
       "      <td>200.00000</td>\n",
       "      <td>2500.00000</td>\n",
       "      <td>1</td>\n",
       "      <td>1</td>\n",
       "    </tr>\n",
       "    <tr>\n",
       "      <td>336595</td>\n",
       "      <td>586613</td>\n",
       "      <td>R</td>\n",
       "      <td>2019</td>\n",
       "      <td>15676-001-0680</td>\n",
       "      <td>456910</td>\n",
       "      <td>UNIFRID CORP</td>\n",
       "      <td>F</td>\n",
       "      <td>0</td>\n",
       "      <td>C/O RICARDO UNIKEL</td>\n",
       "      <td>3217 BURN BRAE DR</td>\n",
       "      <td>...</td>\n",
       "      <td>NaN</td>\n",
       "      <td>NaT</td>\n",
       "      <td>0</td>\n",
       "      <td>0</td>\n",
       "      <td>200.00000</td>\n",
       "      <td>9900.00000</td>\n",
       "      <td>200.00000</td>\n",
       "      <td>2500.00000</td>\n",
       "      <td>1</td>\n",
       "      <td>1</td>\n",
       "    </tr>\n",
       "  </tbody>\n",
       "</table>\n",
       "<p>26 rows × 74 columns</p>\n",
       "</div>"
      ],
      "text/plain": [
       "        prop_id prop_type_cd  prop_val_yr          geo_id  py_owner_id  \\\n",
       "336540   586556            R         2019  15676-001-0110       456909   \n",
       "336541   586557            R         2019  15676-001-0120       456910   \n",
       "336542   586558            R         2019  15676-001-0130       456910   \n",
       "336543   586559            R         2019  15676-001-0140       456910   \n",
       "336544   586560            R         2019  15676-001-0150       456910   \n",
       "336545   586561            R         2019  15676-001-0160       456910   \n",
       "336546   586562            R         2019  15676-001-0170       456910   \n",
       "336547   586563            R         2019  15676-001-0180       456910   \n",
       "336548   586564            R         2019  15676-001-0190       456910   \n",
       "336549   586565            R         2019  15676-001-0200       456910   \n",
       "336560   586576            R         2019  15676-001-0310       456910   \n",
       "336561   586577            R         2019  15676-001-0320       456910   \n",
       "336563   586579            R         2019  15676-001-0340       456910   \n",
       "336564   586580            R         2019  15676-001-0350       456910   \n",
       "336565   586581            R         2019  15676-001-0360       456910   \n",
       "336572   586590            R         2019  15676-001-0450       456910   \n",
       "336574   586592            R         2019  15676-001-0470       456910   \n",
       "336581   586599            R         2019  15676-001-0540       456910   \n",
       "336585   586603            R         2019  15676-001-0580       456910   \n",
       "336586   586604            R         2019  15676-001-0590       456910   \n",
       "336587   586605            R         2019  15676-001-0600       456910   \n",
       "336591   586609            R         2019  15676-001-0640       456910   \n",
       "336592   586610            R         2019  15676-001-0650       456910   \n",
       "336593   586611            R         2019  15676-001-0660       456910   \n",
       "336594   586612            R         2019  15676-001-0670       456910   \n",
       "336595   586613            R         2019  15676-001-0680       456910   \n",
       "\n",
       "       py_owner_name partial_owner  udi_group       py_addr_line1  \\\n",
       "336540  UNIFRID CORP             F          0  C/O RICARDO UNIKEL   \n",
       "336541  UNIFRID CORP             F          0  C/O RICARDO UNIKEL   \n",
       "336542  UNIFRID CORP             F          0  C/O RICARDO UNIKEL   \n",
       "336543  UNIFRID CORP             F          0  C/O RICARDO UNIKEL   \n",
       "336544  UNIFRID CORP             F          0  C/O RICARDO UNIKEL   \n",
       "336545  UNIFRID CORP             F          0  C/O RICARDO UNIKEL   \n",
       "336546  UNIFRID CORP             F          0  C/O RICARDO UNIKEL   \n",
       "336547  UNIFRID CORP             F          0  C/O RICARDO UNIKEL   \n",
       "336548  UNIFRID CORP             F          0  C/O RICARDO UNIKEL   \n",
       "336549  UNIFRID CORP             F          0  C/O RICARDO UNIKEL   \n",
       "336560  UNIFRID CORP             F          0  C/O RICARDO UNIKEL   \n",
       "336561  UNIFRID CORP             F          0  C/O RICARDO UNIKEL   \n",
       "336563  UNIFRID CORP             F          0  C/O RICARDO UNIKEL   \n",
       "336564  UNIFRID CORP             F          0  C/O RICARDO UNIKEL   \n",
       "336565  UNIFRID CORP             F          0  C/O RICARDO UNIKEL   \n",
       "336572  UNIFRID CORP             F          0  C/O RICARDO UNIKEL   \n",
       "336574  UNIFRID CORP             F          0  C/O RICARDO UNIKEL   \n",
       "336581  UNIFRID CORP             F          0  C/O RICARDO UNIKEL   \n",
       "336585  UNIFRID CORP             F          0  C/O RICARDO UNIKEL   \n",
       "336586  UNIFRID CORP             F          0  C/O RICARDO UNIKEL   \n",
       "336587  UNIFRID CORP             F          0  C/O RICARDO UNIKEL   \n",
       "336591  UNIFRID CORP             F          0  C/O RICARDO UNIKEL   \n",
       "336592  UNIFRID CORP             F          0  C/O RICARDO UNIKEL   \n",
       "336593  UNIFRID CORP             F          0  C/O RICARDO UNIKEL   \n",
       "336594  UNIFRID CORP             F          0  C/O RICARDO UNIKEL   \n",
       "336595  UNIFRID CORP             F          0  C/O RICARDO UNIKEL   \n",
       "\n",
       "            py_addr_line2  ... Officer/Director State deed_charter_diff  \\\n",
       "336540  3217 BURN BRAE DR  ...                    NaN               NaT   \n",
       "336541  3217 BURN BRAE DR  ...                    NaN               NaT   \n",
       "336542  3217 BURN BRAE DR  ...                    NaN               NaT   \n",
       "336543  3217 BURN BRAE DR  ...                    NaN               NaT   \n",
       "336544  3217 BURN BRAE DR  ...                    NaN               NaT   \n",
       "336545  3217 BURN BRAE DR  ...                    NaN               NaT   \n",
       "336546  3217 BURN BRAE DR  ...                    NaN               NaT   \n",
       "336547  3217 BURN BRAE DR  ...                    NaN               NaT   \n",
       "336548  3217 BURN BRAE DR  ...                    NaN               NaT   \n",
       "336549  3217 BURN BRAE DR  ...                    NaN               NaT   \n",
       "336560  3217 BURN BRAE DR  ...                    NaN               NaT   \n",
       "336561  3217 BURN BRAE DR  ...                    NaN               NaT   \n",
       "336563  3217 BURN BRAE DR  ...                    NaN               NaT   \n",
       "336564  3217 BURN BRAE DR  ...                    NaN               NaT   \n",
       "336565  3217 BURN BRAE DR  ...                    NaN               NaT   \n",
       "336572  3217 BURN BRAE DR  ...                    NaN               NaT   \n",
       "336574  3217 BURN BRAE DR  ...                    NaN               NaT   \n",
       "336581  3217 BURN BRAE DR  ...                    NaN               NaT   \n",
       "336585  3217 BURN BRAE DR  ...                    NaN               NaT   \n",
       "336586  3217 BURN BRAE DR  ...                    NaN               NaT   \n",
       "336587  3217 BURN BRAE DR  ...                    NaN               NaT   \n",
       "336591  3217 BURN BRAE DR  ...                    NaN               NaT   \n",
       "336592  3217 BURN BRAE DR  ...                    NaN               NaT   \n",
       "336593  3217 BURN BRAE DR  ...                    NaN               NaT   \n",
       "336594  3217 BURN BRAE DR  ...                    NaN               NaT   \n",
       "336595  3217 BURN BRAE DR  ...                    NaN               NaT   \n",
       "\n",
       "       just_established_owner foreign_based_owner  yoy_diff_2019  \\\n",
       "336540                      0                   0    -1200.00000   \n",
       "336541                      0                   0      200.00000   \n",
       "336542                      0                   0      200.00000   \n",
       "336543                      0                   0      200.00000   \n",
       "336544                      0                   0      200.00000   \n",
       "336545                      0                   0      200.00000   \n",
       "336546                      0                   0      200.00000   \n",
       "336547                      0                   0      200.00000   \n",
       "336548                      0                   0      200.00000   \n",
       "336549                      0                   0      200.00000   \n",
       "336560                      0                   0     -100.00000   \n",
       "336561                      0                   0     -100.00000   \n",
       "336563                      0                   0     -100.00000   \n",
       "336564                      0                   0     -100.00000   \n",
       "336565                      0                   0     -100.00000   \n",
       "336572                      0                   0     -100.00000   \n",
       "336574                      0                   0     -100.00000   \n",
       "336581                      0                   0      200.00000   \n",
       "336585                      0                   0      200.00000   \n",
       "336586                      0                   0      200.00000   \n",
       "336587                      0                   0      200.00000   \n",
       "336591                      0                   0      200.00000   \n",
       "336592                      0                   0      200.00000   \n",
       "336593                      0                   0      200.00000   \n",
       "336594                      0                   0      200.00000   \n",
       "336595                      0                   0      200.00000   \n",
       "\n",
       "        yoy_diff_2018 yoy_diff_2017  yoy_diff_2016  out_of_state_owner  \\\n",
       "336540    11300.00000     200.00000     2500.00000                   1   \n",
       "336541     9900.00000     200.00000     2500.00000                   1   \n",
       "336542     9900.00000     200.00000     2500.00000                   1   \n",
       "336543     9900.00000     200.00000     2500.00000                   1   \n",
       "336544     9900.00000     200.00000     2500.00000                   1   \n",
       "336545     9900.00000     200.00000     2500.00000                   1   \n",
       "336546     9900.00000     200.00000     2500.00000                   1   \n",
       "336547     9900.00000     200.00000     2500.00000                   1   \n",
       "336548     9900.00000     200.00000     2500.00000                   1   \n",
       "336549     9900.00000     200.00000    -1700.00000                   1   \n",
       "336560     2800.00000    1000.00000     2500.00000                   1   \n",
       "336561     2800.00000    1000.00000     2500.00000                   1   \n",
       "336563     2800.00000    1000.00000     2500.00000                   1   \n",
       "336564     2800.00000    1000.00000     2500.00000                   1   \n",
       "336565     2800.00000    1000.00000     2500.00000                   1   \n",
       "336572     2800.00000    1000.00000     2500.00000                   1   \n",
       "336574     2800.00000    1000.00000     2500.00000                   1   \n",
       "336581     9900.00000     200.00000     2500.00000                   1   \n",
       "336585     9900.00000     200.00000     2500.00000                   1   \n",
       "336586     9900.00000     200.00000     2500.00000                   1   \n",
       "336587     9900.00000     200.00000     2500.00000                   1   \n",
       "336591     9900.00000     200.00000     2500.00000                   1   \n",
       "336592     9900.00000     200.00000     2500.00000                   1   \n",
       "336593     9900.00000     200.00000     2500.00000                   1   \n",
       "336594     9900.00000     200.00000     2500.00000                   1   \n",
       "336595     9900.00000     200.00000     2500.00000                   1   \n",
       "\n",
       "        entity_agent_binary  \n",
       "336540                    1  \n",
       "336541                    1  \n",
       "336542                    1  \n",
       "336543                    1  \n",
       "336544                    1  \n",
       "336545                    1  \n",
       "336546                    1  \n",
       "336547                    1  \n",
       "336548                    1  \n",
       "336549                    1  \n",
       "336560                    1  \n",
       "336561                    1  \n",
       "336563                    1  \n",
       "336564                    1  \n",
       "336565                    1  \n",
       "336572                    1  \n",
       "336574                    1  \n",
       "336581                    1  \n",
       "336585                    1  \n",
       "336586                    1  \n",
       "336587                    1  \n",
       "336591                    1  \n",
       "336592                    1  \n",
       "336593                    1  \n",
       "336594                    1  \n",
       "336595                    1  \n",
       "\n",
       "[26 rows x 74 columns]"
      ]
     },
     "execution_count": 111,
     "metadata": {},
     "output_type": "execute_result"
    }
   ],
   "source": [
    "# MX here does not appear that useful\n",
    "bexar_df[bexar_df.ca_agent_country=='MX']"
   ]
  },
  {
   "cell_type": "code",
   "execution_count": 112,
   "metadata": {
    "ExecuteTime": {
     "end_time": "2019-12-26T20:34:54.446531Z",
     "start_time": "2019-12-26T20:34:53.723223Z"
    }
   },
   "outputs": [
    {
     "name": "stdout",
     "output_type": "stream",
     "text": [
      "(695510, 65)\n"
     ]
    }
   ],
   "source": [
    "# Dropping all chief appraiser data\n",
    "bexar_df.drop(columns=['ca_agent_id', 'ca_agent_name', 'ca_agent_addr_line1',\n",
    "                       'ca_agent_addr_line2', 'ca_agent_addr_line3', 'ca_agent_city',\n",
    "                       'ca_agent_state', 'ca_agent_country', 'ca_agent_zip'],inplace=True)\n",
    "print(bexar_df.shape)"
   ]
  },
  {
   "cell_type": "markdown",
   "metadata": {},
   "source": [
    "##### DBA"
   ]
  },
  {
   "cell_type": "code",
   "execution_count": 113,
   "metadata": {
    "ExecuteTime": {
     "end_time": "2019-12-26T20:34:54.566182Z",
     "start_time": "2019-12-26T20:34:54.449079Z"
    }
   },
   "outputs": [
    {
     "data": {
      "text/plain": [
       "72122"
      ]
     },
     "execution_count": 113,
     "metadata": {},
     "output_type": "execute_result"
    }
   ],
   "source": [
    "len(bexar_df.dba.dropna())"
   ]
  },
  {
   "cell_type": "code",
   "execution_count": 114,
   "metadata": {
    "ExecuteTime": {
     "end_time": "2019-12-26T20:34:54.701192Z",
     "start_time": "2019-12-26T20:34:54.585089Z"
    }
   },
   "outputs": [
    {
     "data": {
      "text/plain": [
       "59134"
      ]
     },
     "execution_count": 114,
     "metadata": {},
     "output_type": "execute_result"
    }
   ],
   "source": [
    "len(bexar_df['Taxpayer Name'].dropna())"
   ]
  },
  {
   "cell_type": "code",
   "execution_count": 115,
   "metadata": {
    "ExecuteTime": {
     "end_time": "2019-12-26T20:34:54.770897Z",
     "start_time": "2019-12-26T20:34:54.709988Z"
    }
   },
   "outputs": [
    {
     "data": {
      "text/html": [
       "<div>\n",
       "<style scoped>\n",
       "    .dataframe tbody tr th:only-of-type {\n",
       "        vertical-align: middle;\n",
       "    }\n",
       "\n",
       "    .dataframe tbody tr th {\n",
       "        vertical-align: top;\n",
       "    }\n",
       "\n",
       "    .dataframe thead th {\n",
       "        text-align: right;\n",
       "    }\n",
       "</style>\n",
       "<table border=\"1\" class=\"dataframe\">\n",
       "  <thead>\n",
       "    <tr style=\"text-align: right;\">\n",
       "      <th></th>\n",
       "      <th>py_owner_id</th>\n",
       "      <th>py_owner_name</th>\n",
       "      <th>dba</th>\n",
       "      <th>Taxpayer Name</th>\n",
       "    </tr>\n",
       "  </thead>\n",
       "  <tbody>\n",
       "    <tr>\n",
       "      <td>0</td>\n",
       "      <td>83346</td>\n",
       "      <td>KEYSTONE SCHOOL</td>\n",
       "      <td>NaN</td>\n",
       "      <td>KEYSTONE SCHOOL</td>\n",
       "    </tr>\n",
       "    <tr>\n",
       "      <td>1</td>\n",
       "      <td>2851023</td>\n",
       "      <td>GONZALEZ MANUELA AGUILAR</td>\n",
       "      <td>NaN</td>\n",
       "      <td>NaN</td>\n",
       "    </tr>\n",
       "    <tr>\n",
       "      <td>2</td>\n",
       "      <td>2690996</td>\n",
       "      <td>ELMERS ICEHOUSE LLC</td>\n",
       "      <td>NaN</td>\n",
       "      <td>NaN</td>\n",
       "    </tr>\n",
       "    <tr>\n",
       "      <td>3</td>\n",
       "      <td>2690996</td>\n",
       "      <td>ELMERS ICEHOUSE LLC</td>\n",
       "      <td>NaN</td>\n",
       "      <td>NaN</td>\n",
       "    </tr>\n",
       "    <tr>\n",
       "      <td>4</td>\n",
       "      <td>85466</td>\n",
       "      <td>CITY OF SAN ANTONIO</td>\n",
       "      <td>NaN</td>\n",
       "      <td>NaN</td>\n",
       "    </tr>\n",
       "    <tr>\n",
       "      <td>5</td>\n",
       "      <td>70072</td>\n",
       "      <td>SAN ANTONIO RIVER AUTHORITY</td>\n",
       "      <td>NaN</td>\n",
       "      <td>NaN</td>\n",
       "    </tr>\n",
       "    <tr>\n",
       "      <td>6</td>\n",
       "      <td>83346</td>\n",
       "      <td>KEYSTONE SCHOOL</td>\n",
       "      <td>KEYSTONE SCHOOL</td>\n",
       "      <td>KEYSTONE SCHOOL</td>\n",
       "    </tr>\n",
       "    <tr>\n",
       "      <td>7</td>\n",
       "      <td>70026</td>\n",
       "      <td>TEXAS NEON ADVERTISING CO</td>\n",
       "      <td>SIGNS</td>\n",
       "      <td>NaN</td>\n",
       "    </tr>\n",
       "    <tr>\n",
       "      <td>8</td>\n",
       "      <td>70027</td>\n",
       "      <td>TEXAS NEON SIGN CO</td>\n",
       "      <td>TEXAS NEON SIGN CO</td>\n",
       "      <td>NaN</td>\n",
       "    </tr>\n",
       "    <tr>\n",
       "      <td>9</td>\n",
       "      <td>70030</td>\n",
       "      <td>CULLUM JAMES A JR</td>\n",
       "      <td>NaN</td>\n",
       "      <td>NaN</td>\n",
       "    </tr>\n",
       "    <tr>\n",
       "      <td>10</td>\n",
       "      <td>2728700</td>\n",
       "      <td>ROSENGREN CAMILLE S</td>\n",
       "      <td>NaN</td>\n",
       "      <td>NaN</td>\n",
       "    </tr>\n",
       "    <tr>\n",
       "      <td>11</td>\n",
       "      <td>70010</td>\n",
       "      <td>CITY OF SAN ANTONIO</td>\n",
       "      <td>BRACKENRIDGE GOLF COURSE</td>\n",
       "      <td>NaN</td>\n",
       "    </tr>\n",
       "    <tr>\n",
       "      <td>12</td>\n",
       "      <td>70010</td>\n",
       "      <td>CITY OF SAN ANTONIO</td>\n",
       "      <td>NaN</td>\n",
       "      <td>NaN</td>\n",
       "    </tr>\n",
       "    <tr>\n",
       "      <td>13</td>\n",
       "      <td>70010</td>\n",
       "      <td>CITY OF SAN ANTONIO</td>\n",
       "      <td>NaN</td>\n",
       "      <td>NaN</td>\n",
       "    </tr>\n",
       "    <tr>\n",
       "      <td>14</td>\n",
       "      <td>70033</td>\n",
       "      <td>DAY MARGARET &amp; JOHN B HERTZ</td>\n",
       "      <td>NaN</td>\n",
       "      <td>NaN</td>\n",
       "    </tr>\n",
       "    <tr>\n",
       "      <td>15</td>\n",
       "      <td>2814192</td>\n",
       "      <td>CLARK LARRY</td>\n",
       "      <td>NaN</td>\n",
       "      <td>NaN</td>\n",
       "    </tr>\n",
       "    <tr>\n",
       "      <td>16</td>\n",
       "      <td>70010</td>\n",
       "      <td>CITY OF SAN ANTONIO</td>\n",
       "      <td>BRACKENRIDGE GOLF COURSE</td>\n",
       "      <td>NaN</td>\n",
       "    </tr>\n",
       "    <tr>\n",
       "      <td>17</td>\n",
       "      <td>70010</td>\n",
       "      <td>CITY OF SAN ANTONIO</td>\n",
       "      <td>NaN</td>\n",
       "      <td>NaN</td>\n",
       "    </tr>\n",
       "    <tr>\n",
       "      <td>18</td>\n",
       "      <td>70016</td>\n",
       "      <td>STATE OF TEXAS</td>\n",
       "      <td>NaN</td>\n",
       "      <td>NaN</td>\n",
       "    </tr>\n",
       "    <tr>\n",
       "      <td>19</td>\n",
       "      <td>70016</td>\n",
       "      <td>STATE OF TEXAS</td>\n",
       "      <td>NaN</td>\n",
       "      <td>NaN</td>\n",
       "    </tr>\n",
       "  </tbody>\n",
       "</table>\n",
       "</div>"
      ],
      "text/plain": [
       "    py_owner_id                py_owner_name                       dba  \\\n",
       "0         83346              KEYSTONE SCHOOL                       NaN   \n",
       "1       2851023     GONZALEZ MANUELA AGUILAR                       NaN   \n",
       "2       2690996          ELMERS ICEHOUSE LLC                       NaN   \n",
       "3       2690996          ELMERS ICEHOUSE LLC                       NaN   \n",
       "4         85466          CITY OF SAN ANTONIO                       NaN   \n",
       "5         70072  SAN ANTONIO RIVER AUTHORITY                       NaN   \n",
       "6         83346              KEYSTONE SCHOOL           KEYSTONE SCHOOL   \n",
       "7         70026    TEXAS NEON ADVERTISING CO                     SIGNS   \n",
       "8         70027           TEXAS NEON SIGN CO        TEXAS NEON SIGN CO   \n",
       "9         70030            CULLUM JAMES A JR                       NaN   \n",
       "10      2728700          ROSENGREN CAMILLE S                       NaN   \n",
       "11        70010          CITY OF SAN ANTONIO  BRACKENRIDGE GOLF COURSE   \n",
       "12        70010          CITY OF SAN ANTONIO                       NaN   \n",
       "13        70010          CITY OF SAN ANTONIO                       NaN   \n",
       "14        70033  DAY MARGARET & JOHN B HERTZ                       NaN   \n",
       "15      2814192                  CLARK LARRY                       NaN   \n",
       "16        70010          CITY OF SAN ANTONIO  BRACKENRIDGE GOLF COURSE   \n",
       "17        70010          CITY OF SAN ANTONIO                       NaN   \n",
       "18        70016               STATE OF TEXAS                       NaN   \n",
       "19        70016               STATE OF TEXAS                       NaN   \n",
       "\n",
       "      Taxpayer Name  \n",
       "0   KEYSTONE SCHOOL  \n",
       "1               NaN  \n",
       "2               NaN  \n",
       "3               NaN  \n",
       "4               NaN  \n",
       "5               NaN  \n",
       "6   KEYSTONE SCHOOL  \n",
       "7               NaN  \n",
       "8               NaN  \n",
       "9               NaN  \n",
       "10              NaN  \n",
       "11              NaN  \n",
       "12              NaN  \n",
       "13              NaN  \n",
       "14              NaN  \n",
       "15              NaN  \n",
       "16              NaN  \n",
       "17              NaN  \n",
       "18              NaN  \n",
       "19              NaN  "
      ]
     },
     "execution_count": 115,
     "metadata": {},
     "output_type": "execute_result"
    }
   ],
   "source": [
    "# Need to figure out how to make \"owned by company\" feature\n",
    "bexar_df[['py_owner_id','py_owner_name','dba','Taxpayer Name']].head(20)"
   ]
  },
  {
   "cell_type": "markdown",
   "metadata": {},
   "source": [
    "##### Appraiser Confidential"
   ]
  },
  {
   "cell_type": "code",
   "execution_count": 116,
   "metadata": {
    "ExecuteTime": {
     "end_time": "2019-12-26T20:34:54.875454Z",
     "start_time": "2019-12-26T20:34:54.774273Z"
    }
   },
   "outputs": [
    {
     "data": {
      "text/plain": [
       "F    693091\n",
       "T      2419\n",
       "Name: appr_confidential_flag, dtype: int64"
      ]
     },
     "execution_count": 116,
     "metadata": {},
     "output_type": "execute_result"
    }
   ],
   "source": [
    "bexar_df['appr_confidential_flag'].value_counts()"
   ]
  },
  {
   "cell_type": "code",
   "execution_count": 117,
   "metadata": {
    "ExecuteTime": {
     "end_time": "2019-12-26T20:34:54.956532Z",
     "start_time": "2019-12-26T20:34:54.880783Z"
    }
   },
   "outputs": [
    {
     "data": {
      "text/html": [
       "<div>\n",
       "<style scoped>\n",
       "    .dataframe tbody tr th:only-of-type {\n",
       "        vertical-align: middle;\n",
       "    }\n",
       "\n",
       "    .dataframe tbody tr th {\n",
       "        vertical-align: top;\n",
       "    }\n",
       "\n",
       "    .dataframe thead th {\n",
       "        text-align: right;\n",
       "    }\n",
       "</style>\n",
       "<table border=\"1\" class=\"dataframe\">\n",
       "  <thead>\n",
       "    <tr style=\"text-align: right;\">\n",
       "      <th></th>\n",
       "      <th>py_owner_id</th>\n",
       "      <th>py_owner_name</th>\n",
       "      <th>py_confidential_flag</th>\n",
       "      <th>appr_confidential_flag</th>\n",
       "    </tr>\n",
       "  </thead>\n",
       "  <tbody>\n",
       "    <tr>\n",
       "      <td>311</td>\n",
       "      <td>3165269</td>\n",
       "      <td>NaN</td>\n",
       "      <td>1</td>\n",
       "      <td>T</td>\n",
       "    </tr>\n",
       "    <tr>\n",
       "      <td>911</td>\n",
       "      <td>2962299</td>\n",
       "      <td>NaN</td>\n",
       "      <td>1</td>\n",
       "      <td>T</td>\n",
       "    </tr>\n",
       "    <tr>\n",
       "      <td>1098</td>\n",
       "      <td>2601513</td>\n",
       "      <td>NaN</td>\n",
       "      <td>1</td>\n",
       "      <td>T</td>\n",
       "    </tr>\n",
       "    <tr>\n",
       "      <td>2052</td>\n",
       "      <td>2865736</td>\n",
       "      <td>NaN</td>\n",
       "      <td>1</td>\n",
       "      <td>T</td>\n",
       "    </tr>\n",
       "    <tr>\n",
       "      <td>2398</td>\n",
       "      <td>2501909</td>\n",
       "      <td>NaN</td>\n",
       "      <td>1</td>\n",
       "      <td>T</td>\n",
       "    </tr>\n",
       "    <tr>\n",
       "      <td>...</td>\n",
       "      <td>...</td>\n",
       "      <td>...</td>\n",
       "      <td>...</td>\n",
       "      <td>...</td>\n",
       "    </tr>\n",
       "    <tr>\n",
       "      <td>685567</td>\n",
       "      <td>147843</td>\n",
       "      <td>CONTINENTAL HOMES OF TEXAS LP</td>\n",
       "      <td>0</td>\n",
       "      <td>T</td>\n",
       "    </tr>\n",
       "    <tr>\n",
       "      <td>685585</td>\n",
       "      <td>3157172</td>\n",
       "      <td>NaN</td>\n",
       "      <td>1</td>\n",
       "      <td>T</td>\n",
       "    </tr>\n",
       "    <tr>\n",
       "      <td>689569</td>\n",
       "      <td>1958556</td>\n",
       "      <td>PERRY HOMES LLC</td>\n",
       "      <td>0</td>\n",
       "      <td>T</td>\n",
       "    </tr>\n",
       "    <tr>\n",
       "      <td>690679</td>\n",
       "      <td>197105</td>\n",
       "      <td>WEEKLEY HOMES LLC</td>\n",
       "      <td>0</td>\n",
       "      <td>T</td>\n",
       "    </tr>\n",
       "    <tr>\n",
       "      <td>693955</td>\n",
       "      <td>3160185</td>\n",
       "      <td>NaN</td>\n",
       "      <td>1</td>\n",
       "      <td>T</td>\n",
       "    </tr>\n",
       "  </tbody>\n",
       "</table>\n",
       "<p>2419 rows × 4 columns</p>\n",
       "</div>"
      ],
      "text/plain": [
       "        py_owner_id                  py_owner_name  py_confidential_flag  \\\n",
       "311         3165269                            NaN                     1   \n",
       "911         2962299                            NaN                     1   \n",
       "1098        2601513                            NaN                     1   \n",
       "2052        2865736                            NaN                     1   \n",
       "2398        2501909                            NaN                     1   \n",
       "...             ...                            ...                   ...   \n",
       "685567       147843  CONTINENTAL HOMES OF TEXAS LP                     0   \n",
       "685585      3157172                            NaN                     1   \n",
       "689569      1958556                PERRY HOMES LLC                     0   \n",
       "690679       197105              WEEKLEY HOMES LLC                     0   \n",
       "693955      3160185                            NaN                     1   \n",
       "\n",
       "       appr_confidential_flag  \n",
       "311                         T  \n",
       "911                         T  \n",
       "1098                        T  \n",
       "2052                        T  \n",
       "2398                        T  \n",
       "...                       ...  \n",
       "685567                      T  \n",
       "685585                      T  \n",
       "689569                      T  \n",
       "690679                      T  \n",
       "693955                      T  \n",
       "\n",
       "[2419 rows x 4 columns]"
      ]
     },
     "execution_count": 117,
     "metadata": {},
     "output_type": "execute_result"
    }
   ],
   "source": [
    "# We should be able to assume that every property that has a confidential \n",
    "# flag 1 shouldn't have an owner listed\n",
    "bexar_df[bexar_df['appr_confidential_flag']=='T'][['py_owner_id','py_owner_name','py_confidential_flag','appr_confidential_flag']]"
   ]
  },
  {
   "cell_type": "code",
   "execution_count": 118,
   "metadata": {
    "ExecuteTime": {
     "end_time": "2019-12-26T20:34:55.072401Z",
     "start_time": "2019-12-26T20:34:54.959416Z"
    }
   },
   "outputs": [
    {
     "data": {
      "text/plain": [
       "(693086,)"
      ]
     },
     "execution_count": 118,
     "metadata": {},
     "output_type": "execute_result"
    }
   ],
   "source": [
    "bexar_df.py_owner_name.dropna().shape"
   ]
  },
  {
   "cell_type": "code",
   "execution_count": 119,
   "metadata": {
    "ExecuteTime": {
     "end_time": "2019-12-26T20:34:55.087100Z",
     "start_time": "2019-12-26T20:34:55.074306Z"
    }
   },
   "outputs": [
    {
     "data": {
      "text/plain": [
       "(695510,)"
      ]
     },
     "execution_count": 119,
     "metadata": {},
     "output_type": "execute_result"
    }
   ],
   "source": [
    "bexar_df.py_owner_id.dropna().shape"
   ]
  },
  {
   "cell_type": "code",
   "execution_count": 120,
   "metadata": {
    "ExecuteTime": {
     "end_time": "2019-12-26T20:34:55.123034Z",
     "start_time": "2019-12-26T20:34:55.089145Z"
    }
   },
   "outputs": [
    {
     "data": {
      "text/plain": [
       "0    693086\n",
       "1      2424\n",
       "Name: py_confidential_flag, dtype: int64"
      ]
     },
     "execution_count": 120,
     "metadata": {},
     "output_type": "execute_result"
    }
   ],
   "source": [
    "# Numbers line up\n",
    "bexar_df.py_confidential_flag.value_counts()"
   ]
  },
  {
   "cell_type": "code",
   "execution_count": 121,
   "metadata": {
    "ExecuteTime": {
     "end_time": "2019-12-26T20:34:56.634688Z",
     "start_time": "2019-12-26T20:34:55.125563Z"
    }
   },
   "outputs": [],
   "source": [
    "# Convert appraiser confidential to 1/0\n",
    "bexar_df['appr_confidential_flag'] = np.where(bexar_df['appr_confidential_flag'] == 'T',1,0)"
   ]
  },
  {
   "cell_type": "markdown",
   "metadata": {},
   "source": [
    "##### Taxpayer State"
   ]
  },
  {
   "cell_type": "code",
   "execution_count": 122,
   "metadata": {
    "ExecuteTime": {
     "end_time": "2019-12-26T20:34:56.759588Z",
     "start_time": "2019-12-26T20:34:56.636867Z"
    },
    "scrolled": true
   },
   "outputs": [
    {
     "data": {
      "text/plain": [
       "TX    51216\n",
       "CA     2413\n",
       "AZ      855\n",
       "FL      634\n",
       "CO      602\n",
       "OH      540\n",
       "AR      403\n",
       "MI      335\n",
       "MA      319\n",
       "IL      299\n",
       "NY      270\n",
       "GA      263\n",
       "VA      252\n",
       "TN      226\n",
       "MO      218\n",
       "NJ      208\n",
       "PA      176\n",
       "NC      170\n",
       "MN      157\n",
       "LA      144\n",
       "WA      142\n",
       "VI      133\n",
       "AK      129\n",
       "OK      118\n",
       "KY      114\n",
       "IN       91\n",
       "KS       89\n",
       "NV       83\n",
       "MD       77\n",
       "RI       72\n",
       "UT       67\n",
       "AL       61\n",
       "WI       60\n",
       "CT       59\n",
       "OR       50\n",
       "MS       46\n",
       "SC       45\n",
       "NM       24\n",
       "DC       24\n",
       "NE       24\n",
       "ID       24\n",
       "HI       21\n",
       "NH       17\n",
       "WY       14\n",
       "IA       13\n",
       "SD        5\n",
       "MT        3\n",
       "WV        3\n",
       "ND        2\n",
       "ME        2\n",
       "DE        2\n",
       "VT        1\n",
       "PR        1\n",
       "AE        1\n",
       "Name: Taxpayer State, dtype: int64"
      ]
     },
     "execution_count": 122,
     "metadata": {},
     "output_type": "execute_result"
    }
   ],
   "source": [
    "bexar_df['Taxpayer State'].value_counts()"
   ]
  },
  {
   "cell_type": "code",
   "execution_count": 123,
   "metadata": {
    "ExecuteTime": {
     "end_time": "2019-12-26T20:34:56.910624Z",
     "start_time": "2019-12-26T20:34:56.766158Z"
    }
   },
   "outputs": [
    {
     "data": {
      "text/plain": [
       "61317"
      ]
     },
     "execution_count": 123,
     "metadata": {},
     "output_type": "execute_result"
    }
   ],
   "source": [
    "len(bexar_df['Taxpayer State'].dropna())\n",
    "# Unclear what to do with this\n",
    "# Already have if the owner is foreign-based and based outside of Texas"
   ]
  },
  {
   "cell_type": "markdown",
   "metadata": {},
   "source": [
    "##### Taxpayer Organizational Type"
   ]
  },
  {
   "cell_type": "code",
   "execution_count": 124,
   "metadata": {
    "ExecuteTime": {
     "end_time": "2019-12-26T20:34:57.082230Z",
     "start_time": "2019-12-26T20:34:56.919664Z"
    },
    "scrolled": true
   },
   "outputs": [
    {
     "data": {
      "text/plain": [
       "CL    24080\n",
       "PL    10437\n",
       "CT     8818\n",
       "CI     7401\n",
       "CF     3309\n",
       "CN     2874\n",
       "AR     2781\n",
       "PF     1067\n",
       "AP      186\n",
       "PB      154\n",
       "CP      141\n",
       "CM      125\n",
       "TR       42\n",
       "TF       40\n",
       "PV       39\n",
       "TI       19\n",
       "PI       19\n",
       "AF       19\n",
       "CU        4\n",
       "AB        2\n",
       "AC        1\n",
       "Name: Taxpayer Organizational Type, dtype: int64"
      ]
     },
     "execution_count": 124,
     "metadata": {},
     "output_type": "execute_result"
    }
   ],
   "source": [
    "bexar_df['Taxpayer Organizational Type'].value_counts()"
   ]
  },
  {
   "cell_type": "code",
   "execution_count": 125,
   "metadata": {
    "ExecuteTime": {
     "end_time": "2019-12-26T20:34:57.201464Z",
     "start_time": "2019-12-26T20:34:57.083956Z"
    }
   },
   "outputs": [
    {
     "data": {
      "text/html": [
       "<div>\n",
       "<style scoped>\n",
       "    .dataframe tbody tr th:only-of-type {\n",
       "        vertical-align: middle;\n",
       "    }\n",
       "\n",
       "    .dataframe tbody tr th {\n",
       "        vertical-align: top;\n",
       "    }\n",
       "\n",
       "    .dataframe thead th {\n",
       "        text-align: right;\n",
       "    }\n",
       "</style>\n",
       "<table border=\"1\" class=\"dataframe\">\n",
       "  <thead>\n",
       "    <tr style=\"text-align: right;\">\n",
       "      <th></th>\n",
       "      <th>prop_id</th>\n",
       "      <th>prop_type_cd</th>\n",
       "      <th>prop_val_yr</th>\n",
       "      <th>geo_id</th>\n",
       "      <th>py_owner_id</th>\n",
       "      <th>py_owner_name</th>\n",
       "      <th>partial_owner</th>\n",
       "      <th>udi_group</th>\n",
       "      <th>py_addr_line1</th>\n",
       "      <th>py_addr_line2</th>\n",
       "      <th>...</th>\n",
       "      <th>Officer/Director State</th>\n",
       "      <th>deed_charter_diff</th>\n",
       "      <th>just_established_owner</th>\n",
       "      <th>foreign_based_owner</th>\n",
       "      <th>yoy_diff_2019</th>\n",
       "      <th>yoy_diff_2018</th>\n",
       "      <th>yoy_diff_2017</th>\n",
       "      <th>yoy_diff_2016</th>\n",
       "      <th>out_of_state_owner</th>\n",
       "      <th>entity_agent_binary</th>\n",
       "    </tr>\n",
       "  </thead>\n",
       "  <tbody>\n",
       "  </tbody>\n",
       "</table>\n",
       "<p>0 rows × 65 columns</p>\n",
       "</div>"
      ],
      "text/plain": [
       "Empty DataFrame\n",
       "Columns: [prop_id, prop_type_cd, prop_val_yr, geo_id, py_owner_id, py_owner_name, partial_owner, udi_group, py_addr_line1, py_addr_line2, py_addr_line3, py_addr_city, py_addr_state, py_addr_country, py_addr_zip, py_addr_zip_cass, py_addr_zip_rt, py_confidential_flag, py_address_suppress_flag, py_addr_ml_deliverable, situs_street_prefx, situs_street, situs_street_suffix, situs_city, situs_zip, hood_cd, appraised_val, deed_dt, land_acres, dba, market_value, appr_confidential_flag, appr_address_suppress_flag, Yr_blt, Sq_ft, Prior_Mkt_Val, bexar_2015_market_value, bexar_2016_market_value, bexar_2017_market_value, bexar_2018_market_value, cleaned_name, Taxpayer Number, Taxpayer Name, Taxpayer Address, Taxpayer City, Taxpayer State, Taxpayer Organizational Type, Taxpayer Zip Code, SOS Charter Date, SOS Status Date, SOS Status Code, Right to Transact Business Code, Officer/Director Latest Year Filed, Officer/Director Name, Officer/Director Title, Officer/Director State, deed_charter_diff, just_established_owner, foreign_based_owner, yoy_diff_2019, yoy_diff_2018, yoy_diff_2017, yoy_diff_2016, out_of_state_owner, entity_agent_binary]\n",
       "Index: []\n",
       "\n",
       "[0 rows x 65 columns]"
      ]
     },
     "execution_count": 125,
     "metadata": {},
     "output_type": "execute_result"
    }
   ],
   "source": [
    "bexar_df[bexar_df['Taxpayer Organizational Type']=='HF'].head()\n",
    "# No foreign holding companies"
   ]
  },
  {
   "cell_type": "code",
   "execution_count": 126,
   "metadata": {
    "ExecuteTime": {
     "end_time": "2019-12-26T20:34:57.330948Z",
     "start_time": "2019-12-26T20:34:57.224359Z"
    }
   },
   "outputs": [
    {
     "data": {
      "text/html": [
       "<div>\n",
       "<style scoped>\n",
       "    .dataframe tbody tr th:only-of-type {\n",
       "        vertical-align: middle;\n",
       "    }\n",
       "\n",
       "    .dataframe tbody tr th {\n",
       "        vertical-align: top;\n",
       "    }\n",
       "\n",
       "    .dataframe thead th {\n",
       "        text-align: right;\n",
       "    }\n",
       "</style>\n",
       "<table border=\"1\" class=\"dataframe\">\n",
       "  <thead>\n",
       "    <tr style=\"text-align: right;\">\n",
       "      <th></th>\n",
       "      <th>py_owner_name</th>\n",
       "      <th>py_addr_country</th>\n",
       "    </tr>\n",
       "  </thead>\n",
       "  <tbody>\n",
       "    <tr>\n",
       "      <td>289</td>\n",
       "      <td>HARCROS CHEMICALS INC</td>\n",
       "      <td>US</td>\n",
       "    </tr>\n",
       "    <tr>\n",
       "      <td>471</td>\n",
       "      <td>TINDALL CORPORATION</td>\n",
       "      <td>US</td>\n",
       "    </tr>\n",
       "    <tr>\n",
       "      <td>792</td>\n",
       "      <td>CVS PHARMACY INC</td>\n",
       "      <td>US</td>\n",
       "    </tr>\n",
       "    <tr>\n",
       "      <td>1170</td>\n",
       "      <td>ATM DEVELOPMENTS LTD</td>\n",
       "      <td>US</td>\n",
       "    </tr>\n",
       "    <tr>\n",
       "      <td>1625</td>\n",
       "      <td>SEASIDE HOSPITALITY CORPORATION</td>\n",
       "      <td>US</td>\n",
       "    </tr>\n",
       "    <tr>\n",
       "      <td>1638</td>\n",
       "      <td>OMNI LA MANSION CORPORATION</td>\n",
       "      <td>US</td>\n",
       "    </tr>\n",
       "    <tr>\n",
       "      <td>2958</td>\n",
       "      <td>PEREZ-SALINAS INC</td>\n",
       "      <td>US</td>\n",
       "    </tr>\n",
       "    <tr>\n",
       "      <td>8484</td>\n",
       "      <td>RF SERVICES INC</td>\n",
       "      <td>US</td>\n",
       "    </tr>\n",
       "    <tr>\n",
       "      <td>9279</td>\n",
       "      <td>PEREZ-SALINAS INC</td>\n",
       "      <td>US</td>\n",
       "    </tr>\n",
       "    <tr>\n",
       "      <td>9283</td>\n",
       "      <td>PEREZ-SALINAS INC</td>\n",
       "      <td>US</td>\n",
       "    </tr>\n",
       "  </tbody>\n",
       "</table>\n",
       "</div>"
      ],
      "text/plain": [
       "                        py_owner_name py_addr_country\n",
       "289             HARCROS CHEMICALS INC              US\n",
       "471               TINDALL CORPORATION              US\n",
       "792                  CVS PHARMACY INC              US\n",
       "1170             ATM DEVELOPMENTS LTD              US\n",
       "1625  SEASIDE HOSPITALITY CORPORATION              US\n",
       "1638      OMNI LA MANSION CORPORATION              US\n",
       "2958                PEREZ-SALINAS INC              US\n",
       "8484                  RF SERVICES INC              US\n",
       "9279                PEREZ-SALINAS INC              US\n",
       "9283                PEREZ-SALINAS INC              US"
      ]
     },
     "execution_count": 126,
     "metadata": {},
     "output_type": "execute_result"
    }
   ],
   "source": [
    "bexar_df[bexar_df['Taxpayer Organizational Type']=='CF'][['py_owner_name','py_addr_country']][:10]"
   ]
  },
  {
   "cell_type": "markdown",
   "metadata": {},
   "source": [
    "##### SOS Status Code"
   ]
  },
  {
   "cell_type": "code",
   "execution_count": 127,
   "metadata": {
    "ExecuteTime": {
     "end_time": "2019-12-26T20:34:57.490432Z",
     "start_time": "2019-12-26T20:34:57.344139Z"
    }
   },
   "outputs": [
    {
     "data": {
      "text/plain": [
       "A    52789\n",
       "R     5083\n",
       "F      177\n",
       "C        6\n",
       "W        6\n",
       "Y        4\n",
       "Name: SOS Status Code, dtype: int64"
      ]
     },
     "execution_count": 127,
     "metadata": {},
     "output_type": "execute_result"
    }
   ],
   "source": [
    "bexar_df['SOS Status Code'].value_counts()"
   ]
  },
  {
   "cell_type": "code",
   "execution_count": 128,
   "metadata": {
    "ExecuteTime": {
     "end_time": "2019-12-26T20:34:57.636445Z",
     "start_time": "2019-12-26T20:34:57.492490Z"
    }
   },
   "outputs": [],
   "source": [
    "# Will use get dummies to make binary columns for each status\n",
    "bexar_sos_status = pd.get_dummies(bexar_df['SOS Status Code'],prefix='sos_status_code_')"
   ]
  },
  {
   "cell_type": "code",
   "execution_count": 129,
   "metadata": {
    "ExecuteTime": {
     "end_time": "2019-12-26T20:34:58.592891Z",
     "start_time": "2019-12-26T20:34:57.638171Z"
    }
   },
   "outputs": [],
   "source": [
    "bexar_df = pd.concat([bexar_df,bexar_sos_status],axis=1)"
   ]
  },
  {
   "cell_type": "markdown",
   "metadata": {},
   "source": [
    "##### Owner owns more than one property"
   ]
  },
  {
   "cell_type": "code",
   "execution_count": 130,
   "metadata": {
    "ExecuteTime": {
     "end_time": "2019-12-26T20:34:58.597450Z",
     "start_time": "2019-12-26T20:34:58.595186Z"
    }
   },
   "outputs": [],
   "source": [
    "# Instances where the same taxpayer number appears will indicate that property's owner owns multiple\n",
    "# properties"
   ]
  },
  {
   "cell_type": "code",
   "execution_count": 131,
   "metadata": {
    "ExecuteTime": {
     "end_time": "2019-12-26T20:35:03.799860Z",
     "start_time": "2019-12-26T20:34:58.600931Z"
    }
   },
   "outputs": [],
   "source": [
    "taxpayer_count = bexar_df.groupby(by='Taxpayer Number').count()"
   ]
  },
  {
   "cell_type": "code",
   "execution_count": 132,
   "metadata": {
    "ExecuteTime": {
     "end_time": "2019-12-26T20:35:03.831234Z",
     "start_time": "2019-12-26T20:35:03.801889Z"
    }
   },
   "outputs": [],
   "source": [
    "taxpayer_count = taxpayer_count.sort_values(by=['prop_id'],ascending=False)"
   ]
  },
  {
   "cell_type": "code",
   "execution_count": 133,
   "metadata": {
    "ExecuteTime": {
     "end_time": "2019-12-26T20:35:03.854992Z",
     "start_time": "2019-12-26T20:35:03.836882Z"
    }
   },
   "outputs": [],
   "source": [
    "multiple_prop_list = taxpayer_count[taxpayer_count.prop_id>1].index.values"
   ]
  },
  {
   "cell_type": "code",
   "execution_count": 134,
   "metadata": {
    "ExecuteTime": {
     "end_time": "2019-12-26T20:35:03.891140Z",
     "start_time": "2019-12-26T20:35:03.860813Z"
    }
   },
   "outputs": [
    {
     "data": {
      "text/plain": [
       "695510"
      ]
     },
     "execution_count": 134,
     "metadata": {},
     "output_type": "execute_result"
    }
   ],
   "source": [
    "len(bexar_df['Taxpayer Number'].isin(multiple_prop_list))"
   ]
  },
  {
   "cell_type": "code",
   "execution_count": 135,
   "metadata": {
    "ExecuteTime": {
     "end_time": "2019-12-26T20:35:03.943900Z",
     "start_time": "2019-12-26T20:35:03.907848Z"
    }
   },
   "outputs": [
    {
     "data": {
      "text/plain": [
       "array([1, 0, 0, ..., 0, 0, 0])"
      ]
     },
     "execution_count": 135,
     "metadata": {},
     "output_type": "execute_result"
    }
   ],
   "source": [
    "np.where(bexar_df['Taxpayer Number'].isin(multiple_prop_list),1,0)"
   ]
  },
  {
   "cell_type": "code",
   "execution_count": 136,
   "metadata": {
    "ExecuteTime": {
     "end_time": "2019-12-26T20:35:03.953117Z",
     "start_time": "2019-12-26T20:35:03.948293Z"
    }
   },
   "outputs": [],
   "source": [
    "# Multiple appearances of the same py_owner_id will also indicate the owner owns multiple properties"
   ]
  },
  {
   "cell_type": "code",
   "execution_count": 137,
   "metadata": {
    "ExecuteTime": {
     "end_time": "2019-12-26T20:35:08.045644Z",
     "start_time": "2019-12-26T20:35:03.954954Z"
    }
   },
   "outputs": [],
   "source": [
    "py_owner_id_count = bexar_df.groupby(by='py_owner_id').count()"
   ]
  },
  {
   "cell_type": "code",
   "execution_count": 138,
   "metadata": {
    "ExecuteTime": {
     "end_time": "2019-12-26T20:35:08.105663Z",
     "start_time": "2019-12-26T20:35:08.047428Z"
    }
   },
   "outputs": [],
   "source": [
    "multi_prop_list2 = py_owner_id_count[py_owner_id_count['prop_id']>1].index.values"
   ]
  },
  {
   "cell_type": "code",
   "execution_count": 139,
   "metadata": {
    "ExecuteTime": {
     "end_time": "2019-12-26T20:35:08.152122Z",
     "start_time": "2019-12-26T20:35:08.109185Z"
    }
   },
   "outputs": [
    {
     "data": {
      "text/html": [
       "<div>\n",
       "<style scoped>\n",
       "    .dataframe tbody tr th:only-of-type {\n",
       "        vertical-align: middle;\n",
       "    }\n",
       "\n",
       "    .dataframe tbody tr th {\n",
       "        vertical-align: top;\n",
       "    }\n",
       "\n",
       "    .dataframe thead th {\n",
       "        text-align: right;\n",
       "    }\n",
       "</style>\n",
       "<table border=\"1\" class=\"dataframe\">\n",
       "  <thead>\n",
       "    <tr style=\"text-align: right;\">\n",
       "      <th></th>\n",
       "      <th>prop_id</th>\n",
       "      <th>py_owner_id</th>\n",
       "      <th>Taxpayer Number</th>\n",
       "    </tr>\n",
       "  </thead>\n",
       "  <tbody>\n",
       "    <tr>\n",
       "      <td>0</td>\n",
       "      <td>100011</td>\n",
       "      <td>83346</td>\n",
       "      <td>30118725743.00000</td>\n",
       "    </tr>\n",
       "    <tr>\n",
       "      <td>6</td>\n",
       "      <td>100024</td>\n",
       "      <td>83346</td>\n",
       "      <td>30118725743.00000</td>\n",
       "    </tr>\n",
       "    <tr>\n",
       "      <td>12917</td>\n",
       "      <td>119516</td>\n",
       "      <td>83346</td>\n",
       "      <td>30118725743.00000</td>\n",
       "    </tr>\n",
       "    <tr>\n",
       "      <td>30263</td>\n",
       "      <td>140663</td>\n",
       "      <td>83346</td>\n",
       "      <td>30118725743.00000</td>\n",
       "    </tr>\n",
       "    <tr>\n",
       "      <td>610503</td>\n",
       "      <td>1179475</td>\n",
       "      <td>83346</td>\n",
       "      <td>30118725743.00000</td>\n",
       "    </tr>\n",
       "  </tbody>\n",
       "</table>\n",
       "</div>"
      ],
      "text/plain": [
       "        prop_id  py_owner_id   Taxpayer Number\n",
       "0        100011        83346 30118725743.00000\n",
       "6        100024        83346 30118725743.00000\n",
       "12917    119516        83346 30118725743.00000\n",
       "30263    140663        83346 30118725743.00000\n",
       "610503  1179475        83346 30118725743.00000"
      ]
     },
     "execution_count": 139,
     "metadata": {},
     "output_type": "execute_result"
    }
   ],
   "source": [
    "bexar_df[bexar_df['Taxpayer Number']==30118725743][['prop_id','py_owner_id','Taxpayer Number']]"
   ]
  },
  {
   "cell_type": "code",
   "execution_count": 140,
   "metadata": {
    "ExecuteTime": {
     "end_time": "2019-12-26T20:35:08.299557Z",
     "start_time": "2019-12-26T20:35:08.186272Z"
    }
   },
   "outputs": [],
   "source": [
    "bexar_df['owner_owns_multiple'] = np.where((bexar_df['py_owner_id'].isin(multi_prop_list2)) | \n",
    "                                           (bexar_df['Taxpayer Number'].isin(multiple_prop_list)),1,0)"
   ]
  },
  {
   "cell_type": "code",
   "execution_count": 141,
   "metadata": {
    "ExecuteTime": {
     "end_time": "2019-12-26T20:35:08.342960Z",
     "start_time": "2019-12-26T20:35:08.303051Z"
    }
   },
   "outputs": [
    {
     "data": {
      "text/plain": [
       "0    561440\n",
       "1    134070\n",
       "Name: owner_owns_multiple, dtype: int64"
      ]
     },
     "execution_count": 141,
     "metadata": {},
     "output_type": "execute_result"
    }
   ],
   "source": [
    "bexar_df.owner_owns_multiple.value_counts()"
   ]
  },
  {
   "cell_type": "markdown",
   "metadata": {},
   "source": [
    "##### Partial Owner\n",
    "Can make this binary as well"
   ]
  },
  {
   "cell_type": "code",
   "execution_count": 142,
   "metadata": {
    "ExecuteTime": {
     "end_time": "2019-12-26T20:35:08.466255Z",
     "start_time": "2019-12-26T20:35:08.350178Z"
    }
   },
   "outputs": [
    {
     "data": {
      "text/plain": [
       "F    693197\n",
       "T      2313\n",
       "Name: partial_owner, dtype: int64"
      ]
     },
     "execution_count": 142,
     "metadata": {},
     "output_type": "execute_result"
    }
   ],
   "source": [
    "bexar_df.partial_owner.value_counts()"
   ]
  },
  {
   "cell_type": "code",
   "execution_count": 143,
   "metadata": {
    "ExecuteTime": {
     "end_time": "2019-12-26T20:35:10.909839Z",
     "start_time": "2019-12-26T20:35:08.480042Z"
    }
   },
   "outputs": [],
   "source": [
    "# Convert from T/F to 1/0\n",
    "bexar_df['partial_owner'] = np.where(bexar_df['partial_owner'] == 'T',1,0)"
   ]
  },
  {
   "cell_type": "markdown",
   "metadata": {},
   "source": [
    "##### Property Type (prop_type_df)"
   ]
  },
  {
   "cell_type": "code",
   "execution_count": 144,
   "metadata": {
    "ExecuteTime": {
     "end_time": "2019-12-26T20:35:11.060510Z",
     "start_time": "2019-12-26T20:35:10.956562Z"
    }
   },
   "outputs": [
    {
     "data": {
      "text/plain": [
       "R     634487\n",
       "P      44960\n",
       "MH     15185\n",
       "MN       878\n",
       "Name: prop_type_cd, dtype: int64"
      ]
     },
     "execution_count": 144,
     "metadata": {},
     "output_type": "execute_result"
    }
   ],
   "source": [
    "bexar_df.prop_type_cd.value_counts()"
   ]
  },
  {
   "cell_type": "code",
   "execution_count": 145,
   "metadata": {
    "ExecuteTime": {
     "end_time": "2019-12-26T20:35:15.795795Z",
     "start_time": "2019-12-26T20:35:11.086237Z"
    }
   },
   "outputs": [],
   "source": [
    "# Focus is on Residential so will reduce the dataframe to that\n",
    "bexar_df = bexar_df[bexar_df.prop_type_cd=='R'].reset_index(drop=True)"
   ]
  },
  {
   "cell_type": "code",
   "execution_count": 146,
   "metadata": {
    "ExecuteTime": {
     "end_time": "2019-12-26T20:35:15.908283Z",
     "start_time": "2019-12-26T20:35:15.799286Z"
    }
   },
   "outputs": [
    {
     "data": {
      "text/plain": [
       "RangeIndex(start=0, stop=634487, step=1)"
      ]
     },
     "execution_count": 146,
     "metadata": {},
     "output_type": "execute_result"
    }
   ],
   "source": [
    "bexar_df.index"
   ]
  },
  {
   "cell_type": "markdown",
   "metadata": {},
   "source": [
    "#### Qualitative Variables\n",
    "\n",
    "Columns that fall under this are: \n",
    "appraised_val, market_value, Sq_ft, 'bexar_2015_market_value',\n",
    "'bexar_2016_market_value', 'bexar_2017_market_value',\n",
    "       'bexar_2018_market_value'\n",
    "Should also look against Yr_blt"
   ]
  },
  {
   "cell_type": "markdown",
   "metadata": {
    "ExecuteTime": {
     "end_time": "2019-12-26T22:02:17.788906Z",
     "start_time": "2019-12-26T22:02:17.785296Z"
    }
   },
   "source": [
    "##### Market Value"
   ]
  },
  {
   "cell_type": "code",
   "execution_count": 153,
   "metadata": {
    "ExecuteTime": {
     "end_time": "2019-12-26T21:08:50.280805Z",
     "start_time": "2019-12-26T21:08:45.427769Z"
    }
   },
   "outputs": [
    {
     "data": {
      "image/png": "[encoded data removed]",
      "text/plain": [
       "<Figure size 432x288 with 1 Axes>"
      ]
     },
     "metadata": {},
     "output_type": "display_data"
    }
   ],
   "source": [
    "plt.scatter(x=bexar_df.Sq_ft,y=bexar_df.market_value,s=10)\n",
    "plt.xlabel('Square Footage')\n",
    "plt.ylabel('Market Value')\n",
    "plt.show()"
   ]
  },
  {
   "cell_type": "code",
   "execution_count": 161,
   "metadata": {
    "ExecuteTime": {
     "end_time": "2019-12-26T21:12:23.092270Z",
     "start_time": "2019-12-26T21:12:22.564475Z"
    }
   },
   "outputs": [
    {
     "data": {
      "text/html": [
       "<div>\n",
       "<style scoped>\n",
       "    .dataframe tbody tr th:only-of-type {\n",
       "        vertical-align: middle;\n",
       "    }\n",
       "\n",
       "    .dataframe tbody tr th {\n",
       "        vertical-align: top;\n",
       "    }\n",
       "\n",
       "    .dataframe thead th {\n",
       "        text-align: right;\n",
       "    }\n",
       "</style>\n",
       "<table border=\"1\" class=\"dataframe\">\n",
       "  <thead>\n",
       "    <tr style=\"text-align: right;\">\n",
       "      <th></th>\n",
       "      <th>prop_id</th>\n",
       "      <th>prop_type_cd</th>\n",
       "      <th>prop_val_yr</th>\n",
       "      <th>geo_id</th>\n",
       "      <th>py_owner_id</th>\n",
       "      <th>py_owner_name</th>\n",
       "      <th>partial_owner</th>\n",
       "      <th>udi_group</th>\n",
       "      <th>py_addr_line1</th>\n",
       "      <th>py_addr_line2</th>\n",
       "      <th>...</th>\n",
       "      <th>yoy_diff_2016</th>\n",
       "      <th>out_of_state_owner</th>\n",
       "      <th>entity_agent_binary</th>\n",
       "      <th>sos_status_code__A</th>\n",
       "      <th>sos_status_code__C</th>\n",
       "      <th>sos_status_code__F</th>\n",
       "      <th>sos_status_code__R</th>\n",
       "      <th>sos_status_code__W</th>\n",
       "      <th>sos_status_code__Y</th>\n",
       "      <th>owner_owns_multiple</th>\n",
       "    </tr>\n",
       "  </thead>\n",
       "  <tbody>\n",
       "    <tr>\n",
       "      <td>0</td>\n",
       "      <td>100011</td>\n",
       "      <td>R</td>\n",
       "      <td>2019</td>\n",
       "      <td>00002-000-0013</td>\n",
       "      <td>83346</td>\n",
       "      <td>KEYSTONE SCHOOL</td>\n",
       "      <td>0</td>\n",
       "      <td>0</td>\n",
       "      <td>NaN</td>\n",
       "      <td>119 E CRAIG PL</td>\n",
       "      <td>...</td>\n",
       "      <td>21060.00000</td>\n",
       "      <td>0</td>\n",
       "      <td>0</td>\n",
       "      <td>1</td>\n",
       "      <td>0</td>\n",
       "      <td>0</td>\n",
       "      <td>0</td>\n",
       "      <td>0</td>\n",
       "      <td>0</td>\n",
       "      <td>1</td>\n",
       "    </tr>\n",
       "    <tr>\n",
       "      <td>1</td>\n",
       "      <td>100012</td>\n",
       "      <td>R</td>\n",
       "      <td>2019</td>\n",
       "      <td>00002-000-0020</td>\n",
       "      <td>2851023</td>\n",
       "      <td>GONZALEZ MANUELA AGUILAR</td>\n",
       "      <td>0</td>\n",
       "      <td>0</td>\n",
       "      <td>NaN</td>\n",
       "      <td>216 1/2 TERRY CT</td>\n",
       "      <td>...</td>\n",
       "      <td>60540.00000</td>\n",
       "      <td>0</td>\n",
       "      <td>0</td>\n",
       "      <td>0</td>\n",
       "      <td>0</td>\n",
       "      <td>0</td>\n",
       "      <td>0</td>\n",
       "      <td>0</td>\n",
       "      <td>0</td>\n",
       "      <td>0</td>\n",
       "    </tr>\n",
       "    <tr>\n",
       "      <td>2</td>\n",
       "      <td>100013</td>\n",
       "      <td>R</td>\n",
       "      <td>2019</td>\n",
       "      <td>00002-000-0021</td>\n",
       "      <td>2690996</td>\n",
       "      <td>ELMERS ICEHOUSE LLC</td>\n",
       "      <td>0</td>\n",
       "      <td>0</td>\n",
       "      <td>NaN</td>\n",
       "      <td>7 W KITTY HAWK ST</td>\n",
       "      <td>...</td>\n",
       "      <td>24710.00000</td>\n",
       "      <td>0</td>\n",
       "      <td>0</td>\n",
       "      <td>0</td>\n",
       "      <td>0</td>\n",
       "      <td>0</td>\n",
       "      <td>0</td>\n",
       "      <td>0</td>\n",
       "      <td>0</td>\n",
       "      <td>1</td>\n",
       "    </tr>\n",
       "    <tr>\n",
       "      <td>3</td>\n",
       "      <td>100015</td>\n",
       "      <td>R</td>\n",
       "      <td>2019</td>\n",
       "      <td>00002-000-0030</td>\n",
       "      <td>2690996</td>\n",
       "      <td>ELMERS ICEHOUSE LLC</td>\n",
       "      <td>0</td>\n",
       "      <td>0</td>\n",
       "      <td>NaN</td>\n",
       "      <td>7 W KITTY HAWK ST</td>\n",
       "      <td>...</td>\n",
       "      <td>28240.00000</td>\n",
       "      <td>0</td>\n",
       "      <td>0</td>\n",
       "      <td>0</td>\n",
       "      <td>0</td>\n",
       "      <td>0</td>\n",
       "      <td>0</td>\n",
       "      <td>0</td>\n",
       "      <td>0</td>\n",
       "      <td>1</td>\n",
       "    </tr>\n",
       "    <tr>\n",
       "      <td>7</td>\n",
       "      <td>100030</td>\n",
       "      <td>R</td>\n",
       "      <td>2019</td>\n",
       "      <td>00002-000-0092</td>\n",
       "      <td>70026</td>\n",
       "      <td>TEXAS NEON ADVERTISING CO</td>\n",
       "      <td>0</td>\n",
       "      <td>0</td>\n",
       "      <td>NaN</td>\n",
       "      <td>PO BOX 15245</td>\n",
       "      <td>...</td>\n",
       "      <td>31330.00000</td>\n",
       "      <td>0</td>\n",
       "      <td>0</td>\n",
       "      <td>0</td>\n",
       "      <td>0</td>\n",
       "      <td>0</td>\n",
       "      <td>0</td>\n",
       "      <td>0</td>\n",
       "      <td>0</td>\n",
       "      <td>0</td>\n",
       "    </tr>\n",
       "  </tbody>\n",
       "</table>\n",
       "<p>5 rows × 72 columns</p>\n",
       "</div>"
      ],
      "text/plain": [
       "   prop_id prop_type_cd  prop_val_yr          geo_id  py_owner_id  \\\n",
       "0   100011            R         2019  00002-000-0013        83346   \n",
       "1   100012            R         2019  00002-000-0020      2851023   \n",
       "2   100013            R         2019  00002-000-0021      2690996   \n",
       "3   100015            R         2019  00002-000-0030      2690996   \n",
       "7   100030            R         2019  00002-000-0092        70026   \n",
       "\n",
       "               py_owner_name  partial_owner  udi_group py_addr_line1  \\\n",
       "0            KEYSTONE SCHOOL              0          0           NaN   \n",
       "1   GONZALEZ MANUELA AGUILAR              0          0           NaN   \n",
       "2        ELMERS ICEHOUSE LLC              0          0           NaN   \n",
       "3        ELMERS ICEHOUSE LLC              0          0           NaN   \n",
       "7  TEXAS NEON ADVERTISING CO              0          0           NaN   \n",
       "\n",
       "       py_addr_line2  ... yoy_diff_2016 out_of_state_owner  \\\n",
       "0     119 E CRAIG PL  ...   21060.00000                  0   \n",
       "1   216 1/2 TERRY CT  ...   60540.00000                  0   \n",
       "2  7 W KITTY HAWK ST  ...   24710.00000                  0   \n",
       "3  7 W KITTY HAWK ST  ...   28240.00000                  0   \n",
       "7       PO BOX 15245  ...   31330.00000                  0   \n",
       "\n",
       "  entity_agent_binary sos_status_code__A  sos_status_code__C  \\\n",
       "0                   0                  1                   0   \n",
       "1                   0                  0                   0   \n",
       "2                   0                  0                   0   \n",
       "3                   0                  0                   0   \n",
       "7                   0                  0                   0   \n",
       "\n",
       "   sos_status_code__F sos_status_code__R  sos_status_code__W  \\\n",
       "0                   0                  0                   0   \n",
       "1                   0                  0                   0   \n",
       "2                   0                  0                   0   \n",
       "3                   0                  0                   0   \n",
       "7                   0                  0                   0   \n",
       "\n",
       "   sos_status_code__Y  owner_owns_multiple  \n",
       "0                   0                    1  \n",
       "1                   0                    0  \n",
       "2                   0                    1  \n",
       "3                   0                    1  \n",
       "7                   0                    0  \n",
       "\n",
       "[5 rows x 72 columns]"
      ]
     },
     "execution_count": 161,
     "metadata": {},
     "output_type": "execute_result"
    }
   ],
   "source": [
    "bexar_df[bexar_df['Sq_ft']!=0][:5]\n",
    "# A lot of these appear to be plots of land"
   ]
  },
  {
   "cell_type": "code",
   "execution_count": 163,
   "metadata": {
    "ExecuteTime": {
     "end_time": "2019-12-26T21:14:57.132993Z",
     "start_time": "2019-12-26T21:14:51.491250Z"
    }
   },
   "outputs": [
    {
     "data": {
      "image/png": "[encoded data removed]",
      "text/plain": [
       "<Figure size 576x576 with 1 Axes>"
      ]
     },
     "metadata": {},
     "output_type": "display_data"
    }
   ],
   "source": [
    "# Removing where square footage is 0\n",
    "plt.figure(figsize=(8, 8))\n",
    "plt.scatter(x=bexar_df[bexar_df['Sq_ft']!=0]['Sq_ft'],\n",
    "            y=bexar_df[bexar_df['Sq_ft']!=0].market_value,s=10)\n",
    "plt.xlabel('Square Footage')\n",
    "plt.ylabel('Market Value')\n",
    "plt.show()"
   ]
  },
  {
   "cell_type": "code",
   "execution_count": 168,
   "metadata": {
    "ExecuteTime": {
     "end_time": "2019-12-26T21:17:39.023705Z",
     "start_time": "2019-12-26T21:17:38.510679Z"
    }
   },
   "outputs": [
    {
     "data": {
      "image/png": "[encoded data removed]",
      "text/plain": [
       "<Figure size 432x288 with 1 Axes>"
      ]
     },
     "metadata": {},
     "output_type": "display_data"
    }
   ],
   "source": [
    "plt.hist(bexar_df.market_value,density=True,bins=40,log=True)\n",
    "plt.xlabel('Market Value')\n",
    "plt.show()"
   ]
  },
  {
   "cell_type": "code",
   "execution_count": 169,
   "metadata": {
    "ExecuteTime": {
     "end_time": "2019-12-26T21:18:48.304502Z",
     "start_time": "2019-12-26T21:18:47.698827Z"
    }
   },
   "outputs": [],
   "source": [
    "# Sub df to obtain market value per square foot\n",
    "sq_foot_df = bexar_df[bexar_df['Sq_ft']!=0]"
   ]
  },
  {
   "cell_type": "code",
   "execution_count": 176,
   "metadata": {
    "ExecuteTime": {
     "end_time": "2019-12-26T21:21:43.383285Z",
     "start_time": "2019-12-26T21:21:42.913525Z"
    },
    "scrolled": true
   },
   "outputs": [
    {
     "data": {
      "image/png": "[encoded data removed]",
      "text/plain": [
       "<Figure size 432x288 with 1 Axes>"
      ]
     },
     "metadata": {},
     "output_type": "display_data"
    }
   ],
   "source": [
    "plt.hist(sq_foot_df.market_value/sq_foot_df['Sq_ft'],density=True,bins=40,log=True)\n",
    "plt.xlabel('Market value per square foot')\n",
    "plt.show()"
   ]
  },
  {
   "cell_type": "code",
   "execution_count": 181,
   "metadata": {
    "ExecuteTime": {
     "end_time": "2019-12-26T21:36:40.429017Z",
     "start_time": "2019-12-26T21:36:40.115617Z"
    }
   },
   "outputs": [
    {
     "data": {
      "image/png": "[encoded data removed]",
      "text/plain": [
       "<Figure size 432x288 with 1 Axes>"
      ]
     },
     "metadata": {},
     "output_type": "display_data"
    }
   ],
   "source": [
    "# Boxplot to see these outliers\n",
    "plt.boxplot(bexar_df.market_value)\n",
    "plt.show()"
   ]
  },
  {
   "cell_type": "code",
   "execution_count": 182,
   "metadata": {
    "ExecuteTime": {
     "end_time": "2019-12-26T21:36:48.552958Z",
     "start_time": "2019-12-26T21:36:48.514312Z"
    }
   },
   "outputs": [
    {
     "data": {
      "text/plain": [
       "count      634487.00000\n",
       "mean       286093.64999\n",
       "std       1840267.13095\n",
       "min             0.00000\n",
       "25%         98380.00000\n",
       "50%        162290.00000\n",
       "75%        243350.00000\n",
       "max     504051000.00000\n",
       "Name: market_value, dtype: float64"
      ]
     },
     "execution_count": 182,
     "metadata": {},
     "output_type": "execute_result"
    }
   ],
   "source": [
    "# A lot of outliers that need investigating\n",
    "bexar_df.market_value.describe()"
   ]
  },
  {
   "cell_type": "code",
   "execution_count": 187,
   "metadata": {
    "ExecuteTime": {
     "end_time": "2019-12-26T21:38:05.945979Z",
     "start_time": "2019-12-26T21:38:05.916632Z"
    }
   },
   "outputs": [
    {
     "data": {
      "text/html": [
       "<div>\n",
       "<style scoped>\n",
       "    .dataframe tbody tr th:only-of-type {\n",
       "        vertical-align: middle;\n",
       "    }\n",
       "\n",
       "    .dataframe tbody tr th {\n",
       "        vertical-align: top;\n",
       "    }\n",
       "\n",
       "    .dataframe thead th {\n",
       "        text-align: right;\n",
       "    }\n",
       "</style>\n",
       "<table border=\"1\" class=\"dataframe\">\n",
       "  <thead>\n",
       "    <tr style=\"text-align: right;\">\n",
       "      <th></th>\n",
       "      <th>prop_id</th>\n",
       "      <th>prop_type_cd</th>\n",
       "      <th>prop_val_yr</th>\n",
       "      <th>geo_id</th>\n",
       "      <th>py_owner_id</th>\n",
       "      <th>py_owner_name</th>\n",
       "      <th>partial_owner</th>\n",
       "      <th>udi_group</th>\n",
       "      <th>py_addr_line1</th>\n",
       "      <th>py_addr_line2</th>\n",
       "      <th>...</th>\n",
       "      <th>yoy_diff_2016</th>\n",
       "      <th>out_of_state_owner</th>\n",
       "      <th>entity_agent_binary</th>\n",
       "      <th>sos_status_code__A</th>\n",
       "      <th>sos_status_code__C</th>\n",
       "      <th>sos_status_code__F</th>\n",
       "      <th>sos_status_code__R</th>\n",
       "      <th>sos_status_code__W</th>\n",
       "      <th>sos_status_code__Y</th>\n",
       "      <th>owner_owns_multiple</th>\n",
       "    </tr>\n",
       "  </thead>\n",
       "  <tbody>\n",
       "    <tr>\n",
       "      <td>362259</td>\n",
       "      <td>615484</td>\n",
       "      <td>R</td>\n",
       "      <td>2019</td>\n",
       "      <td>16386-000-0014</td>\n",
       "      <td>72248</td>\n",
       "      <td>UNITED STATES GOVERNMENT</td>\n",
       "      <td>0</td>\n",
       "      <td>0</td>\n",
       "      <td>UNION SQUARE BLDG</td>\n",
       "      <td>10101 REUNION PL</td>\n",
       "      <td>...</td>\n",
       "      <td>-337778620.00000</td>\n",
       "      <td>0</td>\n",
       "      <td>0</td>\n",
       "      <td>0</td>\n",
       "      <td>0</td>\n",
       "      <td>0</td>\n",
       "      <td>0</td>\n",
       "      <td>0</td>\n",
       "      <td>0</td>\n",
       "      <td>1</td>\n",
       "    </tr>\n",
       "  </tbody>\n",
       "</table>\n",
       "<p>1 rows × 72 columns</p>\n",
       "</div>"
      ],
      "text/plain": [
       "        prop_id prop_type_cd  prop_val_yr          geo_id  py_owner_id  \\\n",
       "362259   615484            R         2019  16386-000-0014        72248   \n",
       "\n",
       "                   py_owner_name  partial_owner  udi_group      py_addr_line1  \\\n",
       "362259  UNITED STATES GOVERNMENT              0          0  UNION SQUARE BLDG   \n",
       "\n",
       "           py_addr_line2  ...    yoy_diff_2016 out_of_state_owner  \\\n",
       "362259  10101 REUNION PL  ... -337778620.00000                  0   \n",
       "\n",
       "       entity_agent_binary sos_status_code__A  sos_status_code__C  \\\n",
       "362259                   0                  0                   0   \n",
       "\n",
       "        sos_status_code__F sos_status_code__R  sos_status_code__W  \\\n",
       "362259                   0                  0                   0   \n",
       "\n",
       "        sos_status_code__Y  owner_owns_multiple  \n",
       "362259                   0                    1  \n",
       "\n",
       "[1 rows x 72 columns]"
      ]
     },
     "execution_count": 187,
     "metadata": {},
     "output_type": "execute_result"
    }
   ],
   "source": [
    "# Residential property worth 504051000.00000\n",
    "bexar_df[bexar_df.market_value==504051000.00000]\n",
    "# This is the U.S. Army base Camp Bullis"
   ]
  },
  {
   "cell_type": "code",
   "execution_count": 188,
   "metadata": {
    "ExecuteTime": {
     "end_time": "2019-12-26T21:40:20.842296Z",
     "start_time": "2019-12-26T21:40:20.362647Z"
    },
    "scrolled": true
   },
   "outputs": [
    {
     "data": {
      "text/html": [
       "<div>\n",
       "<style scoped>\n",
       "    .dataframe tbody tr th:only-of-type {\n",
       "        vertical-align: middle;\n",
       "    }\n",
       "\n",
       "    .dataframe tbody tr th {\n",
       "        vertical-align: top;\n",
       "    }\n",
       "\n",
       "    .dataframe thead th {\n",
       "        text-align: right;\n",
       "    }\n",
       "</style>\n",
       "<table border=\"1\" class=\"dataframe\">\n",
       "  <thead>\n",
       "    <tr style=\"text-align: right;\">\n",
       "      <th></th>\n",
       "      <th>prop_id</th>\n",
       "      <th>prop_type_cd</th>\n",
       "      <th>prop_val_yr</th>\n",
       "      <th>geo_id</th>\n",
       "      <th>py_owner_id</th>\n",
       "      <th>py_owner_name</th>\n",
       "      <th>partial_owner</th>\n",
       "      <th>udi_group</th>\n",
       "      <th>py_addr_line1</th>\n",
       "      <th>py_addr_line2</th>\n",
       "      <th>...</th>\n",
       "      <th>yoy_diff_2016</th>\n",
       "      <th>out_of_state_owner</th>\n",
       "      <th>entity_agent_binary</th>\n",
       "      <th>sos_status_code__A</th>\n",
       "      <th>sos_status_code__C</th>\n",
       "      <th>sos_status_code__F</th>\n",
       "      <th>sos_status_code__R</th>\n",
       "      <th>sos_status_code__W</th>\n",
       "      <th>sos_status_code__Y</th>\n",
       "      <th>owner_owns_multiple</th>\n",
       "    </tr>\n",
       "  </thead>\n",
       "  <tbody>\n",
       "    <tr>\n",
       "      <td>44</td>\n",
       "      <td>100113</td>\n",
       "      <td>R</td>\n",
       "      <td>2019</td>\n",
       "      <td>00009-000-0182</td>\n",
       "      <td>2836009</td>\n",
       "      <td>NEWELL WINIFRED IRREVOCABLE JOHN R NEWELL FAMI...</td>\n",
       "      <td>0</td>\n",
       "      <td>0</td>\n",
       "      <td>NaN</td>\n",
       "      <td>PO BOX 830808</td>\n",
       "      <td>...</td>\n",
       "      <td>250000.00000</td>\n",
       "      <td>0</td>\n",
       "      <td>0</td>\n",
       "      <td>0</td>\n",
       "      <td>0</td>\n",
       "      <td>0</td>\n",
       "      <td>0</td>\n",
       "      <td>0</td>\n",
       "      <td>0</td>\n",
       "      <td>0</td>\n",
       "    </tr>\n",
       "    <tr>\n",
       "      <td>49</td>\n",
       "      <td>100118</td>\n",
       "      <td>R</td>\n",
       "      <td>2019</td>\n",
       "      <td>00009-000-0211</td>\n",
       "      <td>70080</td>\n",
       "      <td>BRAZOS DE SANTOS PARTNERS LTD</td>\n",
       "      <td>0</td>\n",
       "      <td>0</td>\n",
       "      <td>NaN</td>\n",
       "      <td>PO BOX 839925</td>\n",
       "      <td>...</td>\n",
       "      <td>98400.00000</td>\n",
       "      <td>0</td>\n",
       "      <td>0</td>\n",
       "      <td>1</td>\n",
       "      <td>0</td>\n",
       "      <td>0</td>\n",
       "      <td>0</td>\n",
       "      <td>0</td>\n",
       "      <td>0</td>\n",
       "      <td>1</td>\n",
       "    </tr>\n",
       "    <tr>\n",
       "      <td>57</td>\n",
       "      <td>100137</td>\n",
       "      <td>R</td>\n",
       "      <td>2019</td>\n",
       "      <td>00014-000-0022</td>\n",
       "      <td>2720951</td>\n",
       "      <td>PROBANDT PROPERTIES LLC</td>\n",
       "      <td>0</td>\n",
       "      <td>0</td>\n",
       "      <td>NaN</td>\n",
       "      <td>210 PROBANDT</td>\n",
       "      <td>...</td>\n",
       "      <td>57069.00000</td>\n",
       "      <td>0</td>\n",
       "      <td>0</td>\n",
       "      <td>1</td>\n",
       "      <td>0</td>\n",
       "      <td>0</td>\n",
       "      <td>0</td>\n",
       "      <td>0</td>\n",
       "      <td>0</td>\n",
       "      <td>0</td>\n",
       "    </tr>\n",
       "    <tr>\n",
       "      <td>64</td>\n",
       "      <td>100162</td>\n",
       "      <td>R</td>\n",
       "      <td>2019</td>\n",
       "      <td>00014-000-0090</td>\n",
       "      <td>70103</td>\n",
       "      <td>SALVATION ARMY INC</td>\n",
       "      <td>0</td>\n",
       "      <td>0</td>\n",
       "      <td>NaN</td>\n",
       "      <td>PO BOX 36607</td>\n",
       "      <td>...</td>\n",
       "      <td>1332940.00000</td>\n",
       "      <td>0</td>\n",
       "      <td>0</td>\n",
       "      <td>0</td>\n",
       "      <td>0</td>\n",
       "      <td>0</td>\n",
       "      <td>0</td>\n",
       "      <td>0</td>\n",
       "      <td>0</td>\n",
       "      <td>1</td>\n",
       "    </tr>\n",
       "    <tr>\n",
       "      <td>67</td>\n",
       "      <td>100178</td>\n",
       "      <td>R</td>\n",
       "      <td>2019</td>\n",
       "      <td>00014-000-0181</td>\n",
       "      <td>3150134</td>\n",
       "      <td>NASSOUR JIMMY, CABOT-CHASE LTD, &amp; OH PROBANDT ...</td>\n",
       "      <td>0</td>\n",
       "      <td>0</td>\n",
       "      <td>NaN</td>\n",
       "      <td>901 S MO PAC EXPY STE 220 BLDG 3</td>\n",
       "      <td>...</td>\n",
       "      <td>817390.00000</td>\n",
       "      <td>0</td>\n",
       "      <td>0</td>\n",
       "      <td>0</td>\n",
       "      <td>0</td>\n",
       "      <td>0</td>\n",
       "      <td>0</td>\n",
       "      <td>0</td>\n",
       "      <td>0</td>\n",
       "      <td>0</td>\n",
       "    </tr>\n",
       "  </tbody>\n",
       "</table>\n",
       "<p>5 rows × 72 columns</p>\n",
       "</div>"
      ],
      "text/plain": [
       "    prop_id prop_type_cd  prop_val_yr          geo_id  py_owner_id  \\\n",
       "44   100113            R         2019  00009-000-0182      2836009   \n",
       "49   100118            R         2019  00009-000-0211        70080   \n",
       "57   100137            R         2019  00014-000-0022      2720951   \n",
       "64   100162            R         2019  00014-000-0090        70103   \n",
       "67   100178            R         2019  00014-000-0181      3150134   \n",
       "\n",
       "                                        py_owner_name  partial_owner  \\\n",
       "44  NEWELL WINIFRED IRREVOCABLE JOHN R NEWELL FAMI...              0   \n",
       "49                      BRAZOS DE SANTOS PARTNERS LTD              0   \n",
       "57                            PROBANDT PROPERTIES LLC              0   \n",
       "64                                 SALVATION ARMY INC              0   \n",
       "67  NASSOUR JIMMY, CABOT-CHASE LTD, & OH PROBANDT ...              0   \n",
       "\n",
       "    udi_group py_addr_line1                     py_addr_line2  ...  \\\n",
       "44          0           NaN                     PO BOX 830808  ...   \n",
       "49          0           NaN                     PO BOX 839925  ...   \n",
       "57          0           NaN                      210 PROBANDT  ...   \n",
       "64          0           NaN                      PO BOX 36607  ...   \n",
       "67          0           NaN  901 S MO PAC EXPY STE 220 BLDG 3  ...   \n",
       "\n",
       "   yoy_diff_2016 out_of_state_owner entity_agent_binary sos_status_code__A  \\\n",
       "44  250000.00000                  0                   0                  0   \n",
       "49   98400.00000                  0                   0                  1   \n",
       "57   57069.00000                  0                   0                  1   \n",
       "64 1332940.00000                  0                   0                  0   \n",
       "67  817390.00000                  0                   0                  0   \n",
       "\n",
       "    sos_status_code__C  sos_status_code__F sos_status_code__R  \\\n",
       "44                   0                   0                  0   \n",
       "49                   0                   0                  0   \n",
       "57                   0                   0                  0   \n",
       "64                   0                   0                  0   \n",
       "67                   0                   0                  0   \n",
       "\n",
       "    sos_status_code__W  sos_status_code__Y  owner_owns_multiple  \n",
       "44                   0                   0                    0  \n",
       "49                   0                   0                    1  \n",
       "57                   0                   0                    0  \n",
       "64                   0                   0                    1  \n",
       "67                   0                   0                    0  \n",
       "\n",
       "[5 rows x 72 columns]"
      ]
     },
     "execution_count": 188,
     "metadata": {},
     "output_type": "execute_result"
    }
   ],
   "source": [
    "bexar_df[bexar_df.market_value>1000000].head()"
   ]
  },
  {
   "cell_type": "code",
   "execution_count": 190,
   "metadata": {
    "ExecuteTime": {
     "end_time": "2019-12-26T21:45:26.040754Z",
     "start_time": "2019-12-26T21:45:25.992120Z"
    }
   },
   "outputs": [
    {
     "data": {
      "text/plain": [
       "(5578, 72)"
      ]
     },
     "execution_count": 190,
     "metadata": {},
     "output_type": "execute_result"
    }
   ],
   "source": [
    "# 5578 properties with a market value of 0\n",
    "bexar_df[bexar_df.market_value==bexar_df.market_value.min()].shape"
   ]
  },
  {
   "cell_type": "code",
   "execution_count": 191,
   "metadata": {
    "ExecuteTime": {
     "end_time": "2019-12-26T21:45:50.610173Z",
     "start_time": "2019-12-26T21:45:50.564468Z"
    }
   },
   "outputs": [
    {
     "data": {
      "text/html": [
       "<div>\n",
       "<style scoped>\n",
       "    .dataframe tbody tr th:only-of-type {\n",
       "        vertical-align: middle;\n",
       "    }\n",
       "\n",
       "    .dataframe tbody tr th {\n",
       "        vertical-align: top;\n",
       "    }\n",
       "\n",
       "    .dataframe thead th {\n",
       "        text-align: right;\n",
       "    }\n",
       "</style>\n",
       "<table border=\"1\" class=\"dataframe\">\n",
       "  <thead>\n",
       "    <tr style=\"text-align: right;\">\n",
       "      <th></th>\n",
       "      <th>prop_id</th>\n",
       "      <th>prop_type_cd</th>\n",
       "      <th>prop_val_yr</th>\n",
       "      <th>geo_id</th>\n",
       "      <th>py_owner_id</th>\n",
       "      <th>py_owner_name</th>\n",
       "      <th>partial_owner</th>\n",
       "      <th>udi_group</th>\n",
       "      <th>py_addr_line1</th>\n",
       "      <th>py_addr_line2</th>\n",
       "      <th>...</th>\n",
       "      <th>yoy_diff_2016</th>\n",
       "      <th>out_of_state_owner</th>\n",
       "      <th>entity_agent_binary</th>\n",
       "      <th>sos_status_code__A</th>\n",
       "      <th>sos_status_code__C</th>\n",
       "      <th>sos_status_code__F</th>\n",
       "      <th>sos_status_code__R</th>\n",
       "      <th>sos_status_code__W</th>\n",
       "      <th>sos_status_code__Y</th>\n",
       "      <th>owner_owns_multiple</th>\n",
       "    </tr>\n",
       "  </thead>\n",
       "  <tbody>\n",
       "    <tr>\n",
       "      <td>5</td>\n",
       "      <td>100020</td>\n",
       "      <td>R</td>\n",
       "      <td>2019</td>\n",
       "      <td>00002-000-0036</td>\n",
       "      <td>70072</td>\n",
       "      <td>SAN ANTONIO RIVER AUTHORITY</td>\n",
       "      <td>0</td>\n",
       "      <td>0</td>\n",
       "      <td>NaN</td>\n",
       "      <td>100 E GUENTHER</td>\n",
       "      <td>...</td>\n",
       "      <td>0.00000</td>\n",
       "      <td>0</td>\n",
       "      <td>0</td>\n",
       "      <td>0</td>\n",
       "      <td>0</td>\n",
       "      <td>0</td>\n",
       "      <td>0</td>\n",
       "      <td>0</td>\n",
       "      <td>0</td>\n",
       "      <td>1</td>\n",
       "    </tr>\n",
       "    <tr>\n",
       "      <td>11</td>\n",
       "      <td>100039</td>\n",
       "      <td>R</td>\n",
       "      <td>2019</td>\n",
       "      <td>00002-000-0170</td>\n",
       "      <td>70010</td>\n",
       "      <td>CITY OF SAN ANTONIO</td>\n",
       "      <td>0</td>\n",
       "      <td>0</td>\n",
       "      <td>NaN</td>\n",
       "      <td>PO BOX 839966</td>\n",
       "      <td>...</td>\n",
       "      <td>0.00000</td>\n",
       "      <td>0</td>\n",
       "      <td>0</td>\n",
       "      <td>0</td>\n",
       "      <td>0</td>\n",
       "      <td>0</td>\n",
       "      <td>0</td>\n",
       "      <td>0</td>\n",
       "      <td>0</td>\n",
       "      <td>1</td>\n",
       "    </tr>\n",
       "    <tr>\n",
       "      <td>12</td>\n",
       "      <td>100040</td>\n",
       "      <td>R</td>\n",
       "      <td>2019</td>\n",
       "      <td>00002-000-0171</td>\n",
       "      <td>70010</td>\n",
       "      <td>CITY OF SAN ANTONIO</td>\n",
       "      <td>0</td>\n",
       "      <td>0</td>\n",
       "      <td>NaN</td>\n",
       "      <td>PO BOX 839966</td>\n",
       "      <td>...</td>\n",
       "      <td>0.00000</td>\n",
       "      <td>0</td>\n",
       "      <td>0</td>\n",
       "      <td>0</td>\n",
       "      <td>0</td>\n",
       "      <td>0</td>\n",
       "      <td>0</td>\n",
       "      <td>0</td>\n",
       "      <td>0</td>\n",
       "      <td>1</td>\n",
       "    </tr>\n",
       "    <tr>\n",
       "      <td>13</td>\n",
       "      <td>100042</td>\n",
       "      <td>R</td>\n",
       "      <td>2019</td>\n",
       "      <td>00002-000-0180</td>\n",
       "      <td>70010</td>\n",
       "      <td>CITY OF SAN ANTONIO</td>\n",
       "      <td>0</td>\n",
       "      <td>0</td>\n",
       "      <td>NaN</td>\n",
       "      <td>PO BOX 839966</td>\n",
       "      <td>...</td>\n",
       "      <td>0.00000</td>\n",
       "      <td>0</td>\n",
       "      <td>0</td>\n",
       "      <td>0</td>\n",
       "      <td>0</td>\n",
       "      <td>0</td>\n",
       "      <td>0</td>\n",
       "      <td>0</td>\n",
       "      <td>0</td>\n",
       "      <td>1</td>\n",
       "    </tr>\n",
       "    <tr>\n",
       "      <td>16</td>\n",
       "      <td>100045</td>\n",
       "      <td>R</td>\n",
       "      <td>2019</td>\n",
       "      <td>00004-000-0010</td>\n",
       "      <td>70010</td>\n",
       "      <td>CITY OF SAN ANTONIO</td>\n",
       "      <td>0</td>\n",
       "      <td>0</td>\n",
       "      <td>NaN</td>\n",
       "      <td>PO BOX 839966</td>\n",
       "      <td>...</td>\n",
       "      <td>0.00000</td>\n",
       "      <td>0</td>\n",
       "      <td>0</td>\n",
       "      <td>0</td>\n",
       "      <td>0</td>\n",
       "      <td>0</td>\n",
       "      <td>0</td>\n",
       "      <td>0</td>\n",
       "      <td>0</td>\n",
       "      <td>1</td>\n",
       "    </tr>\n",
       "  </tbody>\n",
       "</table>\n",
       "<p>5 rows × 72 columns</p>\n",
       "</div>"
      ],
      "text/plain": [
       "    prop_id prop_type_cd  prop_val_yr          geo_id  py_owner_id  \\\n",
       "5    100020            R         2019  00002-000-0036        70072   \n",
       "11   100039            R         2019  00002-000-0170        70010   \n",
       "12   100040            R         2019  00002-000-0171        70010   \n",
       "13   100042            R         2019  00002-000-0180        70010   \n",
       "16   100045            R         2019  00004-000-0010        70010   \n",
       "\n",
       "                  py_owner_name  partial_owner  udi_group py_addr_line1  \\\n",
       "5   SAN ANTONIO RIVER AUTHORITY              0          0           NaN   \n",
       "11          CITY OF SAN ANTONIO              0          0           NaN   \n",
       "12          CITY OF SAN ANTONIO              0          0           NaN   \n",
       "13          CITY OF SAN ANTONIO              0          0           NaN   \n",
       "16          CITY OF SAN ANTONIO              0          0           NaN   \n",
       "\n",
       "     py_addr_line2  ... yoy_diff_2016 out_of_state_owner entity_agent_binary  \\\n",
       "5   100 E GUENTHER  ...       0.00000                  0                   0   \n",
       "11   PO BOX 839966  ...       0.00000                  0                   0   \n",
       "12   PO BOX 839966  ...       0.00000                  0                   0   \n",
       "13   PO BOX 839966  ...       0.00000                  0                   0   \n",
       "16   PO BOX 839966  ...       0.00000                  0                   0   \n",
       "\n",
       "   sos_status_code__A  sos_status_code__C  sos_status_code__F  \\\n",
       "5                   0                   0                   0   \n",
       "11                  0                   0                   0   \n",
       "12                  0                   0                   0   \n",
       "13                  0                   0                   0   \n",
       "16                  0                   0                   0   \n",
       "\n",
       "   sos_status_code__R  sos_status_code__W  sos_status_code__Y  \\\n",
       "5                   0                   0                   0   \n",
       "11                  0                   0                   0   \n",
       "12                  0                   0                   0   \n",
       "13                  0                   0                   0   \n",
       "16                  0                   0                   0   \n",
       "\n",
       "    owner_owns_multiple  \n",
       "5                     1  \n",
       "11                    1  \n",
       "12                    1  \n",
       "13                    1  \n",
       "16                    1  \n",
       "\n",
       "[5 rows x 72 columns]"
      ]
     },
     "execution_count": 191,
     "metadata": {},
     "output_type": "execute_result"
    }
   ],
   "source": [
    "bexar_df[bexar_df.market_value==bexar_df.market_value.min()].head()"
   ]
  },
  {
   "cell_type": "code",
   "execution_count": 196,
   "metadata": {
    "ExecuteTime": {
     "end_time": "2019-12-26T21:48:07.808672Z",
     "start_time": "2019-12-26T21:48:07.746115Z"
    }
   },
   "outputs": [
    {
     "data": {
      "text/plain": [
       "CITY OF SAN ANTONIO                             1813\n",
       "STATE OF TEXAS                                   349\n",
       "SAN ANTONIO RIVER AUTHORITY                      152\n",
       "BEXAR COUNTY                                     145\n",
       "SAN ANTONIO ISD                                  110\n",
       "NORTHSIDE I S D                                   97\n",
       "SAN ANTONIO HOUSING AUTHORITY                     80\n",
       "NORTH EAST I S D                                  79\n",
       "CITY OF SAN ANTONIO (SECURITY AIR PARK)           57\n",
       "UNITED STATES GOVERNMENT                          57\n",
       "CITY PUBLIC SERVICE BOARD                         53\n",
       "EDGEWOOD I S D                                    53\n",
       "CITY OF SAN ANTONIO/SAN ANTONIO WATER SYSTEM      44\n",
       "HARLANDALE I S D                                  41\n",
       "CITY OF UNIVERSAL CITY                            41\n",
       "UNITED STATES OF AMERICA                          37\n",
       "BROOKS DEVELOPMENT AUTHORITY                      34\n",
       "ALAMO COMMUNITY COLLEGE DISTRICT                  32\n",
       "SAN ANTONIO WATER SYSTEM                          32\n",
       "CITY OF CONVERSE                                  31\n",
       "CITY OF WINDCREST                                 22\n",
       "SOUTH SAN ANTONIO I S D                           20\n",
       "UNION PACIFIC RAILROAD CO                         17\n",
       "VIA METROPOLITAN TRANSIT                          17\n",
       "JUDSON I S D                                      16\n",
       "SAN ANTONIO DEVELPMNT AGENCY                      16\n",
       "CITY OF SELMA                                     15\n",
       "SOUTHWEST I S D                                   15\n",
       "BEXAR COUNTY HOSPITAL DISTRICT                    14\n",
       "SAN ANTONIO WATER SYSTEMS                         14\n",
       "Name: py_owner_name, dtype: int64"
      ]
     },
     "execution_count": 196,
     "metadata": {},
     "output_type": "execute_result"
    }
   ],
   "source": [
    "# Seems like most of these are publicly owned\n",
    "bexar_df[bexar_df.market_value==bexar_df.market_value.min()].py_owner_name.value_counts()[:30]"
   ]
  },
  {
   "cell_type": "code",
   "execution_count": 198,
   "metadata": {
    "ExecuteTime": {
     "end_time": "2019-12-26T22:00:37.069305Z",
     "start_time": "2019-12-26T22:00:36.080865Z"
    },
    "scrolled": true
   },
   "outputs": [
    {
     "data": {
      "text/plain": [
       "count      628909.00000\n",
       "mean       288631.10832\n",
       "std       1848211.96992\n",
       "min             4.00000\n",
       "25%        100130.00000\n",
       "50%        163400.00000\n",
       "75%        244550.00000\n",
       "max     504051000.00000\n",
       "Name: market_value, dtype: float64"
      ]
     },
     "execution_count": 198,
     "metadata": {},
     "output_type": "execute_result"
    }
   ],
   "source": [
    "bexar_df[bexar_df.market_value>bexar_df.market_value.min()].market_value.describe()"
   ]
  },
  {
   "cell_type": "code",
   "execution_count": null,
   "metadata": {},
   "outputs": [],
   "source": [
    "bexar_df.market_value.sort_values()"
   ]
  },
  {
   "cell_type": "markdown",
   "metadata": {},
   "source": [
    "##### Unusual Price Fluctuations\n",
    "Need to get percent property value changes rather than absolute; will need to add back into the build script."
   ]
  },
  {
   "cell_type": "code",
   "execution_count": null,
   "metadata": {},
   "outputs": [],
   "source": [
    "bexar_df"
   ]
  },
  {
   "cell_type": "markdown",
   "metadata": {},
   "source": [
    "#### Visualize Labeled Properties on Map"
   ]
  },
  {
   "cell_type": "code",
   "execution_count": null,
   "metadata": {},
   "outputs": [],
   "source": []
  }
 ],
 "metadata": {
  "kernelspec": {
   "display_name": "Python 3",
   "language": "python",
   "name": "python3"
  },
  "language_info": {
   "codemirror_mode": {
    "name": "ipython",
    "version": 3
   },
   "file_extension": ".py",
   "mimetype": "text/x-python",
   "name": "python",
   "nbconvert_exporter": "python",
   "pygments_lexer": "ipython3",
   "version": "3.7.1"
  },
  "toc": {
   "base_numbering": 1,
   "nav_menu": {},
   "number_sections": false,
   "sideBar": true,
   "skip_h1_title": false,
   "title_cell": "Table of Contents",
   "title_sidebar": "Contents",
   "toc_cell": false,
   "toc_position": {
    "height": "calc(100% - 180px)",
    "left": "10px",
    "top": "150px",
    "width": "194.188px"
   },
   "toc_section_display": true,
   "toc_window_display": true
  },
  "varInspector": {
   "cols": {
    "lenName": 16,
    "lenType": 16,
    "lenVar": 40
   },
   "kernels_config": {
    "python": {
     "delete_cmd_postfix": "",
     "delete_cmd_prefix": "del ",
     "library": "var_list.py",
     "varRefreshCmd": "print(var_dic_list())"
    },
    "r": {
     "delete_cmd_postfix": ") ",
     "delete_cmd_prefix": "rm(",
     "library": "var_list.r",
     "varRefreshCmd": "cat(var_dic_list()) "
    }
   },
   "types_to_exclude": [
    "module",
    "function",
    "builtin_function_or_method",
    "instance",
    "_Feature"
   ],
   "window_display": false
  }
 },
 "nbformat": 4,
 "nbformat_minor": 2
}

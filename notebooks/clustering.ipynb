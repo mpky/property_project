{
 "cells": [
  {
   "cell_type": "code",
   "execution_count": 35,
   "metadata": {
    "ExecuteTime": {
     "end_time": "2020-01-19T22:24:15.268195Z",
     "start_time": "2020-01-19T22:24:15.241856Z"
    }
   },
   "outputs": [],
   "source": [
    "import numpy as np\n",
    "import pandas as pd\n",
    "import scipy\n",
    "import matplotlib.pyplot as plt\n",
    "from matplotlib import cm\n",
    "import seaborn as sns\n",
    "from sklearn.cluster import KMeans\n",
    "from sklearn.preprocessing import normalize\n",
    "from sklearn.decomposition import PCA\n",
    "from sklearn.cluster import MiniBatchKMeans\n",
    "from sklearn.metrics import silhouette_samples\n",
    "%matplotlib inline\n",
    "sns.set_style('darkgrid')"
   ]
  },
  {
   "cell_type": "code",
   "execution_count": 2,
   "metadata": {
    "ExecuteTime": {
     "end_time": "2020-01-19T17:28:24.947406Z",
     "start_time": "2020-01-19T17:27:56.295845Z"
    }
   },
   "outputs": [],
   "source": [
    "df = pd.read_hdf('../data/processed/bexar_processed.h5')"
   ]
  },
  {
   "cell_type": "code",
   "execution_count": 3,
   "metadata": {
    "ExecuteTime": {
     "end_time": "2020-01-19T17:28:28.253399Z",
     "start_time": "2020-01-19T17:28:26.933986Z"
    }
   },
   "outputs": [
    {
     "data": {
      "text/plain": [
       "(554697, 78)"
      ]
     },
     "execution_count": 3,
     "metadata": {},
     "output_type": "execute_result"
    }
   ],
   "source": [
    "# Trim out those same price psf outlier properties\n",
    "trim_prop_df = df[df.price_psf<df.price_psf.quantile(.999)]\n",
    "trim_prop_df.shape"
   ]
  },
  {
   "cell_type": "code",
   "execution_count": 6,
   "metadata": {
    "ExecuteTime": {
     "end_time": "2020-01-19T17:28:48.466205Z",
     "start_time": "2020-01-19T17:28:47.239008Z"
    },
    "scrolled": false
   },
   "outputs": [],
   "source": [
    "# Grab all columns that are under the 70,000 nan limit\n",
    "nan_limit = 70000\n",
    "check_nan = trim_prop_df.isnull().sum()\n",
    "\n",
    "variables_list = check_nan[check_nan<nan_limit].index\n",
    "variables_list = variables_list[variables_list.isin(trim_prop_df.columns[trim_prop_df.dtypes!='object'])]\n",
    "variables_list = variables_list.drop([\n",
    "    'prop_id','py_owner_id','py_addr_zip_cass','prop_val_yr','appraised_val',\n",
    "    'Prior_Mkt_Val','bexar_2015_market_value','bexar_2016_market_value', \n",
    "    'bexar_2017_market_value','bexar_2018_market_value','owner_zip_code',\n",
    "    'property_zip','neighborhood_code'\n",
    "])\n",
    "\n",
    "sub_df = trim_prop_df[variables_list]\n",
    "sub_df = sub_df.dropna()"
   ]
  },
  {
   "cell_type": "code",
   "execution_count": 7,
   "metadata": {
    "ExecuteTime": {
     "end_time": "2020-01-19T17:28:51.742911Z",
     "start_time": "2020-01-19T17:28:51.687193Z"
    }
   },
   "outputs": [],
   "source": [
    "X = sub_df.iloc[:,:-1]\n",
    "y = sub_df.crim_prop"
   ]
  },
  {
   "cell_type": "code",
   "execution_count": 8,
   "metadata": {
    "ExecuteTime": {
     "end_time": "2020-01-19T17:28:55.256524Z",
     "start_time": "2020-01-19T17:28:55.248014Z"
    },
    "scrolled": false
   },
   "outputs": [
    {
     "data": {
      "text/plain": [
       "partial_owner                 int64\n",
       "py_confidential_flag          int64\n",
       "py_address_suppress_flag      int64\n",
       "py_addr_ml_deliverable        int64\n",
       "land_acres                    int64\n",
       "market_value                  int64\n",
       "appr_confidential_flag        int64\n",
       "Yr_blt                        int64\n",
       "Sq_ft                         int64\n",
       "just_established_owner        int64\n",
       "foreign_based_owner           int64\n",
       "yoy_diff_2019               float64\n",
       "yoy_diff_2018               float64\n",
       "yoy_diff_2017               float64\n",
       "yoy_diff_2016               float64\n",
       "out_of_state_owner            int64\n",
       "entity_agent_binary           int64\n",
       "owner_legal_person            int64\n",
       "owner_likely_company          int64\n",
       "owner_is_trust                int64\n",
       "sos_status_code__A            uint8\n",
       "sos_status_code__C            uint8\n",
       "sos_status_code__F            uint8\n",
       "sos_status_code__R            uint8\n",
       "sos_status_code__Y            uint8\n",
       "owner_owns_multiple           int64\n",
       "price_psf                   float64\n",
       "two_gto_reqs                  int64\n",
       "dtype: object"
      ]
     },
     "execution_count": 8,
     "metadata": {},
     "output_type": "execute_result"
    }
   ],
   "source": [
    "X.dtypes"
   ]
  },
  {
   "cell_type": "code",
   "execution_count": 9,
   "metadata": {
    "ExecuteTime": {
     "end_time": "2020-01-19T17:28:58.924436Z",
     "start_time": "2020-01-19T17:28:58.731010Z"
    },
    "scrolled": false
   },
   "outputs": [],
   "source": [
    "X_norm = normalize(X)"
   ]
  },
  {
   "cell_type": "code",
   "execution_count": 10,
   "metadata": {
    "ExecuteTime": {
     "end_time": "2020-01-19T17:29:04.228579Z",
     "start_time": "2020-01-19T17:29:02.494699Z"
    }
   },
   "outputs": [],
   "source": [
    "X_pca = PCA(2).fit_transform(X_norm)"
   ]
  },
  {
   "cell_type": "code",
   "execution_count": 11,
   "metadata": {
    "ExecuteTime": {
     "end_time": "2020-01-19T17:29:31.083963Z",
     "start_time": "2020-01-19T17:29:07.817301Z"
    }
   },
   "outputs": [
    {
     "data": {
      "image/png": "[encoded data removed]",
      "text/plain": [
       "<Figure size 432x288 with 1 Axes>"
      ]
     },
     "metadata": {
      "needs_background": "light"
     },
     "output_type": "display_data"
    },
    {
     "name": "stdout",
     "output_type": "stream",
     "text": [
      "Comparing k-means clusters against the data:\n",
      "crim_prop     0.0  1.0\n",
      "row_0                 \n",
      "0          526114   33\n",
      "1            4762    0\n"
     ]
    }
   ],
   "source": [
    "y_pred = KMeans(n_clusters=2, random_state=42).fit_predict(X_pca)\n",
    "\n",
    "# Plot the solution.\n",
    "plt.scatter(X_pca[:, 0], X_pca[:, 1], c=y_pred)\n",
    "plt.show()\n",
    "\n",
    "# Check the solution against the data.\n",
    "print('Comparing k-means clusters against the data:')\n",
    "print(pd.crosstab(y_pred, y))"
   ]
  },
  {
   "cell_type": "markdown",
   "metadata": {},
   "source": [
    "Employing the elbow method may reveal the optimal number of clusters. Distortion will decrease as k increases, so identifying the value of k where the distortion begins to increase most rapidly will allow for an estimation of the optimal k."
   ]
  },
  {
   "cell_type": "code",
   "execution_count": 23,
   "metadata": {
    "ExecuteTime": {
     "end_time": "2020-01-19T21:35:47.298302Z",
     "start_time": "2020-01-19T21:32:42.627475Z"
    },
    "scrolled": false
   },
   "outputs": [
    {
     "data": {
      "image/png": "[encoded data removed]",
      "text/plain": [
       "<Figure size 864x576 with 1 Axes>"
      ]
     },
     "metadata": {},
     "output_type": "display_data"
    }
   ],
   "source": [
    "skip = 0\n",
    "if skip == 0:\n",
    "    distortions = []\n",
    "    for i in range(1, 9):\n",
    "        km = KMeans(n_clusters=i,\n",
    "                    init='k-means++',\n",
    "                    random_state=3)\n",
    "        km.fit(X_norm)\n",
    "        distortions.append(km.inertia_)\n",
    "        \n",
    "    plt.figure(figsize=(12,8))\n",
    "    plt.plot(range(1, 9), distortions, marker='o')\n",
    "    plt.xlabel('Number of clusters',labelpad=10)\n",
    "    plt.ylabel('Distortion',labelpad=10)\n",
    "    plt.title('Distortion per number of clusters',fontsize=16)\n",
    "    plt.show()"
   ]
  },
  {
   "cell_type": "markdown",
   "metadata": {},
   "source": [
    "It would appear the k=2 or k=3 are the optimal number of clusters."
   ]
  },
  {
   "cell_type": "code",
   "execution_count": 27,
   "metadata": {
    "ExecuteTime": {
     "end_time": "2020-01-19T22:10:22.429083Z",
     "start_time": "2020-01-19T22:10:22.382970Z"
    }
   },
   "outputs": [
    {
     "data": {
      "text/plain": [
       "(530909, 28)"
      ]
     },
     "execution_count": 27,
     "metadata": {},
     "output_type": "execute_result"
    }
   ],
   "source": [
    "X_norm.shape"
   ]
  },
  {
   "cell_type": "code",
   "execution_count": 38,
   "metadata": {
    "ExecuteTime": {
     "end_time": "2020-01-19T22:36:16.995491Z",
     "start_time": "2020-01-19T22:36:16.555703Z"
    }
   },
   "outputs": [
    {
     "data": {
      "text/plain": [
       "(53091, 28)"
      ]
     },
     "execution_count": 38,
     "metadata": {},
     "output_type": "execute_result"
    }
   ],
   "source": [
    "X_norm_df = pd.DataFrame(data=X_norm)\n",
    "X_norm_sample = X_norm_df.sample(frac=0.1)\n",
    "X_norm_sample.shape"
   ]
  },
  {
   "cell_type": "code",
   "execution_count": 42,
   "metadata": {
    "ExecuteTime": {
     "end_time": "2020-01-19T23:03:48.051293Z",
     "start_time": "2020-01-19T23:00:26.267768Z"
    }
   },
   "outputs": [
    {
     "data": {
      "image/png": "[encoded data removed]",
      "text/plain": [
       "<Figure size 432x288 with 1 Axes>"
      ]
     },
     "metadata": {},
     "output_type": "display_data"
    }
   ],
   "source": [
    "skip = 0\n",
    "if skip == 0:\n",
    "    km = KMeans(n_clusters=3,\n",
    "                init='k-means++',\n",
    "                random_state=3)\n",
    "    y_km = km.fit_predict(X_norm_sample)\n",
    "\n",
    "    cluster_labels = np.unique(y_km)\n",
    "    n_clusters = cluster_labels.shape[0]\n",
    "    silhouette_vals = silhouette_samples(X_norm_sample, y_km, metric='euclidean')\n",
    "\n",
    "    y_ax_lower, y_ax_upper = 0, 0\n",
    "    yticks = []\n",
    "    for i, c in enumerate(cluster_labels):\n",
    "        c_silhouette_vals = silhouette_vals[y_km == c]\n",
    "        c_silhouette_vals.sort()\n",
    "        y_ax_upper += len(c_silhouette_vals)\n",
    "        color = cm.jet(i / n_clusters)\n",
    "        plt.barh(range(y_ax_lower, y_ax_upper),\n",
    "                 c_silhouette_vals,\n",
    "                 height=1.0,\n",
    "                 edgecolor='none',\n",
    "                 color=color)\n",
    "        yticks.append((y_ax_lower + y_ax_upper) / 2)\n",
    "        y_ax_lower += len(c_silhouette_vals)\n",
    "    silhouette_avg = np.mean(silhouette_vals)\n",
    "    plt.axvline(silhouette_avg,\n",
    "                color='red',\n",
    "                linestyle='--')\n",
    "    plt.yticks(yticks, cluster_labels + 1)\n",
    "    plt.ylabel('Cluster')\n",
    "    plt.xlabel('Silhouette coefficient')\n",
    "    plt.show()"
   ]
  },
  {
   "cell_type": "code",
   "execution_count": 44,
   "metadata": {
    "ExecuteTime": {
     "end_time": "2020-01-19T23:25:05.088382Z",
     "start_time": "2020-01-19T23:25:03.682614Z"
    }
   },
   "outputs": [],
   "source": [
    "km = KMeans(\n",
    "    n_clusters=3,\n",
    "    init='k-means++',\n",
    "    max_iter=300,\n",
    "    random_state=42\n",
    "       )\n",
    "y_km = km.fit_predict(X_norm_sample)"
   ]
  },
  {
   "cell_type": "code",
   "execution_count": null,
   "metadata": {},
   "outputs": [],
   "source": []
  }
 ],
 "metadata": {
  "kernelspec": {
   "display_name": "Python [conda env:property_project_env] *",
   "language": "python",
   "name": "conda-env-property_project_env-py"
  },
  "language_info": {
   "codemirror_mode": {
    "name": "ipython",
    "version": 3
   },
   "file_extension": ".py",
   "mimetype": "text/x-python",
   "name": "python",
   "nbconvert_exporter": "python",
   "pygments_lexer": "ipython3",
   "version": "3.7.5"
  },
  "toc": {
   "base_numbering": 1,
   "nav_menu": {},
   "number_sections": true,
   "sideBar": true,
   "skip_h1_title": false,
   "title_cell": "Table of Contents",
   "title_sidebar": "Contents",
   "toc_cell": false,
   "toc_position": {},
   "toc_section_display": true,
   "toc_window_display": false
  },
  "varInspector": {
   "cols": {
    "lenName": 16,
    "lenType": 16,
    "lenVar": 40
   },
   "kernels_config": {
    "python": {
     "delete_cmd_postfix": "",
     "delete_cmd_prefix": "del ",
     "library": "var_list.py",
     "varRefreshCmd": "print(var_dic_list())"
    },
    "r": {
     "delete_cmd_postfix": ") ",
     "delete_cmd_prefix": "rm(",
     "library": "var_list.r",
     "varRefreshCmd": "cat(var_dic_list()) "
    }
   },
   "types_to_exclude": [
    "module",
    "function",
    "builtin_function_or_method",
    "instance",
    "_Feature"
   ],
   "window_display": false
  }
 },
 "nbformat": 4,
 "nbformat_minor": 2
}

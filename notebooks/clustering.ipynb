{
 "cells": [
  {
   "cell_type": "markdown",
   "metadata": {
    "ExecuteTime": {
     "end_time": "2020-01-20T20:05:20.143077Z",
     "start_time": "2020-01-20T20:05:20.138081Z"
    }
   },
   "source": [
    "## Clustering\n",
    "\n",
    "To quickly determine if the property data has easily-distinguishable groups, I employed two different unsupervised clustering techniques, KMeans and Mean Shift. I first normalized the data and used PCA to reduce the dimensionality down to just two features for easy visualization. I then plotted the changes in distortion as the number of clusters increased in an attempt to use the elbow method to identify the optimal $k$. Next, I took the optimal $k$ from the elbow method and plotted the silhouette coefficients for each cluster. Lastly, I used Mean Shift to attempt to ascertain clusters."
   ]
  },
  {
   "cell_type": "code",
   "execution_count": 1,
   "metadata": {
    "ExecuteTime": {
     "end_time": "2020-01-22T02:05:33.230463Z",
     "start_time": "2020-01-22T02:05:31.439288Z"
    }
   },
   "outputs": [],
   "source": [
    "import numpy as np\n",
    "import pandas as pd\n",
    "import scipy\n",
    "import matplotlib.pyplot as plt\n",
    "from matplotlib import cm\n",
    "import seaborn as sns\n",
    "from sklearn.cluster import KMeans, MiniBatchKMeans, DBSCAN, MeanShift, estimate_bandwidth\n",
    "from sklearn.preprocessing import normalize\n",
    "from sklearn.decomposition import PCA\n",
    "from sklearn.metrics import silhouette_samples\n",
    "%matplotlib inline\n",
    "sns.set_style('darkgrid')"
   ]
  },
  {
   "cell_type": "code",
   "execution_count": 2,
   "metadata": {
    "ExecuteTime": {
     "end_time": "2020-01-22T02:05:54.914703Z",
     "start_time": "2020-01-22T02:05:33.424144Z"
    }
   },
   "outputs": [],
   "source": [
    "# Read in the data\n",
    "df = pd.read_hdf('../data/processed/bexar_processed.h5')"
   ]
  },
  {
   "cell_type": "code",
   "execution_count": 3,
   "metadata": {
    "ExecuteTime": {
     "end_time": "2020-01-22T02:06:02.929270Z",
     "start_time": "2020-01-22T02:06:01.171280Z"
    },
    "scrolled": false
   },
   "outputs": [
    {
     "data": {
      "text/plain": [
       "(620929, 78)"
      ]
     },
     "execution_count": 3,
     "metadata": {},
     "output_type": "execute_result"
    }
   ],
   "source": [
    "# Fill na values in with 1 in crim_prop with 0 so they don't get dropped later on\n",
    "df.loc[df.crim_prop==1,'price_psf'] = df.loc[df.crim_prop==1,'price_psf'].fillna(0)\n",
    "\n",
    "trim_prop_df = df[(df.price_psf<df.price_psf.quantile(.999)) | (df.price_psf.isna())]\n",
    "trim_prop_df.shape"
   ]
  },
  {
   "cell_type": "code",
   "execution_count": 4,
   "metadata": {
    "ExecuteTime": {
     "end_time": "2020-01-22T02:06:19.615832Z",
     "start_time": "2020-01-22T02:06:17.579534Z"
    },
    "scrolled": false
   },
   "outputs": [],
   "source": [
    "# Grab all columns that are under the 70,000 nan limit\n",
    "nan_limit = 70000\n",
    "check_nan = trim_prop_df.isnull().sum()\n",
    "\n",
    "variables_list = check_nan[check_nan<nan_limit].index\n",
    "variables_list = variables_list[variables_list.isin(trim_prop_df.columns[trim_prop_df.dtypes!='object'])]\n",
    "variables_list = variables_list.drop([\n",
    "    'prop_id','py_owner_id','py_addr_zip_cass','prop_val_yr','appraised_val',\n",
    "    'Prior_Mkt_Val','bexar_2015_market_value','bexar_2016_market_value', \n",
    "    'bexar_2017_market_value','bexar_2018_market_value','owner_zip_code',\n",
    "    'property_zip','neighborhood_code'\n",
    "])\n",
    "\n",
    "sub_df = trim_prop_df[variables_list]\n",
    "sub_df = sub_df.dropna()"
   ]
  },
  {
   "cell_type": "code",
   "execution_count": 5,
   "metadata": {
    "ExecuteTime": {
     "end_time": "2020-01-22T02:06:37.432863Z",
     "start_time": "2020-01-22T02:06:37.366708Z"
    }
   },
   "outputs": [],
   "source": [
    "X = sub_df.iloc[:,:-1]\n",
    "y = sub_df.crim_prop"
   ]
  },
  {
   "cell_type": "markdown",
   "metadata": {},
   "source": [
    "##### Reduce Dimensionality and Visualize"
   ]
  },
  {
   "cell_type": "code",
   "execution_count": 6,
   "metadata": {
    "ExecuteTime": {
     "end_time": "2020-01-22T02:17:37.575920Z",
     "start_time": "2020-01-22T02:17:35.528787Z"
    },
    "scrolled": false
   },
   "outputs": [],
   "source": [
    "X_norm = normalize(X)\n",
    "X_pca = PCA(2).fit_transform(X_norm)"
   ]
  },
  {
   "cell_type": "code",
   "execution_count": 7,
   "metadata": {
    "ExecuteTime": {
     "end_time": "2020-01-22T02:18:15.460607Z",
     "start_time": "2020-01-22T02:17:55.505255Z"
    },
    "scrolled": false
   },
   "outputs": [
    {
     "data": {
      "image/png": "[encoded data removed]",
      "text/plain": [
       "<Figure size 648x432 with 1 Axes>"
      ]
     },
     "metadata": {},
     "output_type": "display_data"
    },
    {
     "name": "stdout",
     "output_type": "stream",
     "text": [
      "Comparing k-means clusters against the data:\n",
      "crim_prop     0.0  1.0\n",
      "row_0                 \n",
      "0          526104   40\n",
      "1            4772    7\n"
     ]
    }
   ],
   "source": [
    "km = KMeans(\n",
    "    n_clusters=2,\n",
    "    init='k-means++',\n",
    "    random_state=42\n",
    ")\n",
    "\n",
    "y_km = km.fit_predict(X_pca)\n",
    "\n",
    "# Plot the solution.\n",
    "plt.figure(figsize=(9,6))\n",
    "plt.scatter(X_pca[:,0], X_pca[:,1], c=y_km)\n",
    "plt.show()\n",
    "\n",
    "# Check the solution against the data.\n",
    "print('Comparing k-means clusters against the data:')\n",
    "print(pd.crosstab(y_km,y))"
   ]
  },
  {
   "cell_type": "markdown",
   "metadata": {},
   "source": [
    "With the features reduced to just two, it does not appear there are distinguishable clusters. From the crosstab data, KMeans is only correctly classifying 7 of the 47 criminal properties."
   ]
  },
  {
   "cell_type": "markdown",
   "metadata": {},
   "source": [
    "##### Elbow Method with Distortion Plot"
   ]
  },
  {
   "cell_type": "markdown",
   "metadata": {},
   "source": [
    "The elbow method may reveal the optimal number of clusters. Distortion will decrease as $k$ increases as the samples will be closer to their centroids. Therefore, identifying the value of $k$ where the rate of change of distortion begins to decrease more slowly will allow for an estimation of the optimal $k$."
   ]
  },
  {
   "cell_type": "code",
   "execution_count": 8,
   "metadata": {
    "ExecuteTime": {
     "end_time": "2020-01-22T02:21:10.999647Z",
     "start_time": "2020-01-22T02:18:30.565805Z"
    },
    "scrolled": false
   },
   "outputs": [
    {
     "data": {
      "image/png": "[encoded data removed]",
      "text/plain": [
       "<Figure size 648x432 with 1 Axes>"
      ]
     },
     "metadata": {},
     "output_type": "display_data"
    }
   ],
   "source": [
    "skip = 0\n",
    "if skip == 0:\n",
    "    distortions = []\n",
    "    for i in range(1, 9):\n",
    "        km = KMeans(n_clusters=i,\n",
    "                    init='k-means++',\n",
    "                    random_state=3)\n",
    "        km.fit(X_norm)\n",
    "        distortions.append(km.inertia_)\n",
    "        \n",
    "    plt.figure(figsize=(9,6))\n",
    "    plt.plot(range(1, 9), distortions, marker='o')\n",
    "    plt.xlabel('Number of clusters',labelpad=10,fontsize=12)\n",
    "    plt.ylabel('Distortion',labelpad=10,fontsize=12)\n",
    "    plt.title('Distortion per number of clusters',fontsize=16)\n",
    "    plt.show()"
   ]
  },
  {
   "cell_type": "markdown",
   "metadata": {},
   "source": [
    "Based on the change in the slope of the above plot, it appeara that k=3 or k=2 is the optimal number of clusters."
   ]
  },
  {
   "cell_type": "code",
   "execution_count": 9,
   "metadata": {
    "ExecuteTime": {
     "end_time": "2020-01-22T02:21:25.523193Z",
     "start_time": "2020-01-22T02:21:25.481455Z"
    }
   },
   "outputs": [
    {
     "data": {
      "text/plain": [
       "(39819, 28)"
      ]
     },
     "execution_count": 9,
     "metadata": {},
     "output_type": "execute_result"
    }
   ],
   "source": [
    "# Grab a sample for time purposes\n",
    "X_norm_df = pd.DataFrame(data=X_norm)\n",
    "X_norm_sample = X_norm_df.sample(frac=0.075)\n",
    "X_norm_sample.shape"
   ]
  },
  {
   "cell_type": "markdown",
   "metadata": {},
   "source": [
    "##### Silhouette Plots\n",
    "\n",
    "The mean of the silhouette coefficients for each cluster will provide an idea of how similar the datapoins in each cluster are."
   ]
  },
  {
   "cell_type": "code",
   "execution_count": 10,
   "metadata": {
    "ExecuteTime": {
     "end_time": "2020-01-22T02:22:55.408801Z",
     "start_time": "2020-01-22T02:21:39.861064Z"
    }
   },
   "outputs": [
    {
     "data": {
      "image/png": "[encoded data removed]",
      "text/plain": [
       "<Figure size 936x432 with 1 Axes>"
      ]
     },
     "metadata": {},
     "output_type": "display_data"
    }
   ],
   "source": [
    "skip = 0\n",
    "if skip == 0:\n",
    "    plt.figure(figsize=(13,6))\n",
    "    km = KMeans(n_clusters=3,\n",
    "                init='k-means++',\n",
    "                random_state=3)\n",
    "    y_km = km.fit_predict(X_norm_sample)\n",
    "\n",
    "    cluster_labels = np.unique(y_km)\n",
    "    n_clusters = cluster_labels.shape[0]\n",
    "    silhouette_vals = silhouette_samples(X_norm_sample, y_km, metric='euclidean')\n",
    "    y_ax_lower, y_ax_upper = 0, 0\n",
    "    yticks = []\n",
    "    for i, j in enumerate(cluster_labels):\n",
    "        j_silhouette_vals = silhouette_vals[y_km == j]\n",
    "        j_silhouette_vals.sort()\n",
    "        y_ax_upper += len(j_silhouette_vals)\n",
    "        color = cm.gnuplot(i / n_clusters)\n",
    "        plt.barh(range(y_ax_lower, y_ax_upper),\n",
    "                 j_silhouette_vals,\n",
    "                 height=1.0,\n",
    "                 edgecolor='none',\n",
    "                 color=color,\n",
    "                 alpha=0.6\n",
    "                )\n",
    "        yticks.append((y_ax_lower + y_ax_upper) / 2)\n",
    "        y_ax_lower += len(j_silhouette_vals)\n",
    "    silhouette_avg = np.mean(silhouette_vals)\n",
    "    plt.axvline(silhouette_avg,\n",
    "                color='red',\n",
    "                linestyle='--')\n",
    "    plt.yticks(yticks, cluster_labels + 1)\n",
    "    plt.ylabel('Cluster',fontsize=12)\n",
    "    plt.xlabel('Silhouette coefficient',fontsize=12)\n",
    "    plt.title('Silhouette coefficients per cluster',fontsize=15)\n",
    "    plt.show()"
   ]
  },
  {
   "cell_type": "markdown",
   "metadata": {},
   "source": [
    "On the positive side, each cluster appears to be made up of relatively similar data points, because each cluster's mean silhouette coefficient is well above 0. However, it is apparent that cluster 1 is far larger than the other two and has a much higher average silhouette coefficient. This indicates that, despite what the elbow method with distortions showed above, k=3 makes for suboptimal clustering."
   ]
  },
  {
   "cell_type": "markdown",
   "metadata": {},
   "source": [
    "##### Mean Shift\n",
    "\n",
    "With no previous assumptions made about the number of clusters, Mean Shift may provide a clearer picture of the clusters in the data."
   ]
  },
  {
   "cell_type": "code",
   "execution_count": 11,
   "metadata": {
    "ExecuteTime": {
     "end_time": "2020-01-22T02:26:00.434188Z",
     "start_time": "2020-01-22T02:23:11.647353Z"
    },
    "scrolled": true
   },
   "outputs": [
    {
     "name": "stdout",
     "output_type": "stream",
     "text": [
      "Number of estimated clusters: 36 with bandwidth=0.1\n",
      "Number of estimated clusters: 15 with bandwidth=0.2\n",
      "Number of estimated clusters: 7 with bandwidth=0.3\n",
      "Number of estimated clusters: 2 with bandwidth=0.5\n",
      "Number of estimated clusters: 1 with bandwidth=0.75\n",
      "Number of estimated clusters: 1 with bandwidth=1\n",
      "Number of estimated clusters: 1 with bandwidth=2\n"
     ]
    }
   ],
   "source": [
    "# Bandwidth doesn't scale well, so I will manually gridsearch\n",
    "bandwidths = [0.1,0.2,0.3,0.5,0.75,1,2]\n",
    "\n",
    "for i in bandwidths:\n",
    "    ms = MeanShift(bandwidth=i, bin_seeding=True)\n",
    "    ms.fit(X_norm)\n",
    "\n",
    "    labels = ms.labels_\n",
    "    cluster_centers = ms.cluster_centers_\n",
    "\n",
    "    n_clusters_ = len(np.unique(labels))\n",
    "    print('Number of estimated clusters: {0} with bandwidth={1}'.format(n_clusters_,i))"
   ]
  },
  {
   "cell_type": "markdown",
   "metadata": {},
   "source": [
    "Higher bandwidths \"smooth out\" more potential clusters. It is clear here the number of clusters Mean Shift detects drops rapidly as the bandwidth increases."
   ]
  },
  {
   "cell_type": "markdown",
   "metadata": {},
   "source": [
    "##### Final Notes"
   ]
  },
  {
   "cell_type": "markdown",
   "metadata": {},
   "source": [
    "- Reducing the dimensionality of the data did not reveal clean clusters. \n",
    "- Although plotting the change in distortion over an increasing number of clusters would indicate k=3 may be optimal, the plot of each cluster's silhouette coefficients shows otherwise. It appears there is one very large cluster of data that are all rather similar and then two other, smaller clusters with data that is slightly less similar."
   ]
  }
 ],
 "metadata": {
  "kernelspec": {
   "display_name": "Python [conda env:prop_env] *",
   "language": "python",
   "name": "conda-env-prop_env-py"
  },
  "language_info": {
   "codemirror_mode": {
    "name": "ipython",
    "version": 3
   },
   "file_extension": ".py",
   "mimetype": "text/x-python",
   "name": "python",
   "nbconvert_exporter": "python",
   "pygments_lexer": "ipython3",
   "version": "3.7.6"
  },
  "toc": {
   "base_numbering": 1,
   "nav_menu": {},
   "number_sections": false,
   "sideBar": true,
   "skip_h1_title": false,
   "title_cell": "Table of Contents",
   "title_sidebar": "Contents",
   "toc_cell": false,
   "toc_position": {
    "height": "calc(100% - 180px)",
    "left": "10px",
    "top": "150px",
    "width": "165px"
   },
   "toc_section_display": true,
   "toc_window_display": true
  },
  "varInspector": {
   "cols": {
    "lenName": 16,
    "lenType": 16,
    "lenVar": 40
   },
   "kernels_config": {
    "python": {
     "delete_cmd_postfix": "",
     "delete_cmd_prefix": "del ",
     "library": "var_list.py",
     "varRefreshCmd": "print(var_dic_list())"
    },
    "r": {
     "delete_cmd_postfix": ") ",
     "delete_cmd_prefix": "rm(",
     "library": "var_list.r",
     "varRefreshCmd": "cat(var_dic_list()) "
    }
   },
   "types_to_exclude": [
    "module",
    "function",
    "builtin_function_or_method",
    "instance",
    "_Feature"
   ],
   "window_display": false
  }
 },
 "nbformat": 4,
 "nbformat_minor": 2
}

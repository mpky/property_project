{
 "cells": [
  {
   "cell_type": "markdown",
   "metadata": {},
   "source": [
    "## Pseudo-labeling Semisupervised Learning\n",
    "\n",
    "Because I am only able to confidently label a small portion of the larger Bexar property dataset, pseudo-labeling can be a way to train a model on the larger dataset. First I train a series of models on the small, labeled data. Then I use that trained model to label the far-larger unlabeled dataset. Lastly, I can then train a new model on a dataset containing both the original, labeled data and the new, pseudo-labeled data."
   ]
  },
  {
   "cell_type": "code",
   "execution_count": 1,
   "metadata": {
    "ExecuteTime": {
     "end_time": "2020-02-20T02:07:01.591455Z",
     "start_time": "2020-02-20T02:06:59.812082Z"
    }
   },
   "outputs": [],
   "source": [
    "import numpy as np\n",
    "import pandas as pd\n",
    "import matplotlib.pyplot as plt\n",
    "%matplotlib inline\n",
    "from matplotlib import rcParams\n",
    "rcParams.update({'figure.autolayout': True})\n",
    "import seaborn as sns\n",
    "sns.set_style('darkgrid')\n",
    "import warnings\n",
    "warnings.simplefilter('ignore')\n",
    "from joblib import dump, load\n",
    "\n",
    "from sklearn.svm import SVC\n",
    "from sklearn.utils import shuffle\n",
    "from xgboost import XGBClassifier\n",
    "from sklearn.ensemble import RandomForestClassifier, GradientBoostingClassifier\n",
    "from sklearn.model_selection import cross_val_score, GridSearchCV, train_test_split\n",
    "from sklearn.metrics import confusion_matrix, recall_score, precision_score, make_scorer, f1_score"
   ]
  },
  {
   "cell_type": "markdown",
   "metadata": {},
   "source": [
    "#### Load Data and Separate Labeled and Unlabeled Dataframes"
   ]
  },
  {
   "cell_type": "code",
   "execution_count": 2,
   "metadata": {
    "ExecuteTime": {
     "end_time": "2020-02-20T02:07:28.689114Z",
     "start_time": "2020-02-20T02:07:01.711445Z"
    }
   },
   "outputs": [],
   "source": [
    "# Read in data\n",
    "labeled_df = pd.read_hdf('../data/processed/bexar_true_labels.h5')\n",
    "all_df = pd.read_hdf('../data/processed/bexar_processed.h5')"
   ]
  },
  {
   "cell_type": "code",
   "execution_count": 3,
   "metadata": {
    "ExecuteTime": {
     "end_time": "2020-02-20T02:07:38.380671Z",
     "start_time": "2020-02-20T02:07:33.555230Z"
    }
   },
   "outputs": [],
   "source": [
    "# Trim to just the data needed for modeling\n",
    "all_df['price_psf'] = all_df['price_psf'].fillna(0)\n",
    "# Trim outlier properties\n",
    "trim_prop_df = all_df[(all_df.price_psf<all_df.price_psf.quantile(.999))]\n",
    "\n",
    "nan_limit = 70000\n",
    "check_nan = trim_prop_df.isnull().sum()\n",
    "variables_list = check_nan[check_nan<nan_limit].index\n",
    "variables_list = variables_list[variables_list.isin(trim_prop_df.columns[trim_prop_df.dtypes!='object'])]\n",
    "variables_list = variables_list.drop([\n",
    "    'py_owner_id','py_addr_zip_cass','prop_val_yr','appraised_val',\n",
    "    'Prior_Mkt_Val','bexar_2015_market_value','bexar_2016_market_value',\n",
    "    'bexar_2017_market_value','bexar_2018_market_value','owner_zip_code',\n",
    "    'property_zip','neighborhood_code'\n",
    "])\n",
    "\n",
    "# Drop columns\n",
    "sub_df = trim_prop_df[variables_list]\n",
    "sub_df = sub_df.dropna()"
   ]
  },
  {
   "cell_type": "code",
   "execution_count": 4,
   "metadata": {
    "ExecuteTime": {
     "end_time": "2020-02-20T02:07:43.869061Z",
     "start_time": "2020-02-20T02:07:43.717176Z"
    }
   },
   "outputs": [],
   "source": [
    "# Grab only properties not already in the labeled dataset\n",
    "unlabeled_df = sub_df[~(sub_df['prop_id'].isin(labeled_df.prop_id))]\n",
    "\n",
    "X_labeled = labeled_df.iloc[:,1:-1]\n",
    "y_labeled = labeled_df.crim_prop\n",
    "X_unlabeled = unlabeled_df.iloc[:,1:-1]"
   ]
  },
  {
   "cell_type": "code",
   "execution_count": 5,
   "metadata": {},
   "outputs": [],
   "source": [
    "# Split the data into train and test\n",
    "X_train, X_test, y_train, y_test = train_test_split(\n",
    "    X_labeled, y_labeled, test_size=0.25, random_state=3\n",
    ")"
   ]
  },
  {
   "cell_type": "code",
   "execution_count": 6,
   "metadata": {
    "ExecuteTime": {
     "end_time": "2020-02-20T02:10:19.438093Z",
     "start_time": "2020-02-20T02:10:08.931377Z"
    }
   },
   "outputs": [
    {
     "name": "stdout",
     "output_type": "stream",
     "text": [
      "SVC \n",
      "\n",
      "Conf matrix for training data:\n",
      "[[   1   32]\n",
      " [   0 4139]]\n",
      "Recall is 0.030303030303030304\n",
      "Precision is 1.0\n",
      "CV scores: [0.99161677 0.99161677 0.99280576 0.99280576 0.99160671] \n",
      "\n",
      "Conf matrix for test data:\n",
      "[[   0   14]\n",
      " [   0 1377]]\n",
      "Recall is 0.0\n",
      "Precision is 1.0 \n",
      "\n",
      " **************************************** \n",
      "\n",
      "XGBClassifier \n",
      "\n",
      "Conf matrix for training data:\n",
      "[[  33    0]\n",
      " [   0 4139]]\n",
      "Recall is 1.0\n",
      "Precision is 1.0\n",
      "CV scores: [0.99520958 0.99401198 0.99640288 0.99640288 0.99520384] \n",
      "\n",
      "Conf matrix for test data:\n",
      "[[   6    8]\n",
      " [   0 1377]]\n",
      "Recall is 0.42857142857142855\n",
      "Precision is 1.0 \n",
      "\n",
      " **************************************** \n",
      "\n",
      "RandomForestClassifier \n",
      "\n",
      "Conf matrix for training data:\n",
      "[[  33    0]\n",
      " [   0 4139]]\n",
      "Recall is 1.0\n",
      "Precision is 1.0\n",
      "CV scores: [0.99401198 0.99401198 0.99520384 0.99640288 0.9940048 ] \n",
      "\n",
      "Conf matrix for test data:\n",
      "[[   4   10]\n",
      " [   0 1377]]\n",
      "Recall is 0.2857142857142857\n",
      "Precision is 1.0 \n",
      "\n",
      " **************************************** \n",
      "\n",
      "GradientBoostingClassifier \n",
      "\n",
      "Conf matrix for training data:\n",
      "[[  33    0]\n",
      " [   0 4139]]\n",
      "Recall is 1.0\n",
      "Precision is 1.0\n",
      "CV scores: [0.99041916 0.99401198 0.9940048  0.99280576 0.99160671] \n",
      "\n",
      "Conf matrix for test data:\n",
      "[[   7    7]\n",
      " [   2 1375]]\n",
      "Recall is 0.5\n",
      "Precision is 0.7777777777777778 \n",
      "\n",
      " **************************************** \n",
      "\n"
     ]
    }
   ],
   "source": [
    "# List of models to try\n",
    "models = [\n",
    "    SVC(),\n",
    "    XGBClassifier(),\n",
    "    RandomForestClassifier(),\n",
    "    GradientBoostingClassifier()\n",
    "]\n",
    "\n",
    "for model in models:\n",
    "    print(type(model).__name__,'\\n')\n",
    "    model.seed = 42\n",
    "    num_folds = 5\n",
    "\n",
    "    scores = cross_val_score(model, X_train, y_train, cv=num_folds)\n",
    "    \n",
    "    model.fit(X_train,y_train)\n",
    "    y_pred_train = model.predict(X_train)\n",
    "    print('Conf matrix for training data:')\n",
    "    print(confusion_matrix(y_train,y_pred_train,labels=[1,0]))\n",
    "    print('Recall is',recall_score(y_train,y_pred_train))\n",
    "    print('Precision is',precision_score(y_train,y_pred_train))\n",
    "    print(\"CV scores:\",scores,'\\n')\n",
    "    \n",
    "    y_pred = model.predict(X_test)\n",
    "    print('Conf matrix for test data:')\n",
    "    print(confusion_matrix(y_test,y_pred,labels=[1,0]))\n",
    "    print('Recall is',recall_score(y_test,y_pred))\n",
    "    print('Precision is',precision_score(y_test,y_pred,zero_division=1),'\\n'*2,'*'*40,'\\n')"
   ]
  },
  {
   "cell_type": "markdown",
   "metadata": {},
   "source": [
    "Gradient Boosting appears to be the most robust."
   ]
  },
  {
   "cell_type": "code",
   "execution_count": 7,
   "metadata": {},
   "outputs": [
    {
     "data": {
      "text/plain": [
       "GradientBoostingClassifier(ccp_alpha=0.0, criterion='friedman_mse', init=None,\n",
       "                           learning_rate=0.1, loss='deviance', max_depth=3,\n",
       "                           max_features=None, max_leaf_nodes=None,\n",
       "                           min_impurity_decrease=0.0, min_impurity_split=None,\n",
       "                           min_samples_leaf=1, min_samples_split=2,\n",
       "                           min_weight_fraction_leaf=0.0, n_estimators=100,\n",
       "                           n_iter_no_change=None, presort='deprecated',\n",
       "                           random_state=42, subsample=1.0, tol=0.0001,\n",
       "                           validation_fraction=0.1, verbose=0,\n",
       "                           warm_start=False)"
      ]
     },
     "execution_count": 7,
     "metadata": {},
     "output_type": "execute_result"
    }
   ],
   "source": [
    "# Train model\n",
    "gbc = GradientBoostingClassifier(random_state=42)\n",
    "gbc.fit(X_train, y_train)"
   ]
  },
  {
   "cell_type": "code",
   "execution_count": 8,
   "metadata": {
    "ExecuteTime": {
     "end_time": "2020-02-20T02:11:42.461043Z",
     "start_time": "2020-02-20T02:11:38.971952Z"
    }
   },
   "outputs": [],
   "source": [
    "# Predict pseudo-labels on unlabeled data\n",
    "pseudo_labels = gbc.predict(X_unlabeled)\n",
    "\n",
    "# Add pseudo-labels to test\n",
    "augmented_test = X_unlabeled.copy(deep=True)\n",
    "augmented_test['crim_prop'] = pseudo_labels"
   ]
  },
  {
   "cell_type": "code",
   "execution_count": 9,
   "metadata": {
    "ExecuteTime": {
     "end_time": "2020-02-20T02:12:26.272776Z",
     "start_time": "2020-02-20T02:12:26.110673Z"
    }
   },
   "outputs": [
    {
     "name": "stdout",
     "output_type": "stream",
     "text": [
      "Length of pseudo-labeled data: 231222\n"
     ]
    }
   ],
   "source": [
    "# Take a fraction of the pseudo-labeled data to combine with the labeled training data\n",
    "sampled_test = augmented_test.sample(frac=.4,random_state=42)\n",
    "print('Length of pseudo-labeled data:',len(sampled_test))"
   ]
  },
  {
   "cell_type": "code",
   "execution_count": 10,
   "metadata": {
    "ExecuteTime": {
     "end_time": "2020-02-20T02:12:51.357235Z",
     "start_time": "2020-02-20T02:12:51.286304Z"
    }
   },
   "outputs": [],
   "source": [
    "# Re-merge\n",
    "temp_labeled = pd.concat([X_labeled,y_labeled],axis=1)\n",
    "# Concat labeled data with pseudo-labeled data\n",
    "augmented_labeled = pd.concat([sampled_test,temp_labeled])"
   ]
  },
  {
   "cell_type": "code",
   "execution_count": 11,
   "metadata": {},
   "outputs": [],
   "source": [
    "X_aug = augmented_labeled.iloc[:,:-1]\n",
    "y_aug = augmented_labeled.crim_prop"
   ]
  },
  {
   "cell_type": "code",
   "execution_count": 12,
   "metadata": {
    "scrolled": false
   },
   "outputs": [
    {
     "name": "stdout",
     "output_type": "stream",
     "text": [
      "Model gridsearched and trained\n"
     ]
    }
   ],
   "source": [
    "scoring = {\n",
    "    'AUC': 'roc_auc',\n",
    "    'Recall': make_scorer(recall_score,pos_label=1),\n",
    "    'Precision': make_scorer(precision_score,pos_label=1)\n",
    "}\n",
    "gs = GradientBoostingClassifier()\n",
    "grid = {\n",
    "    'max_depth': [2,3,4],\n",
    "    'n_estimators': [75,100],\n",
    "    'max_features': ['auto','sqrt']\n",
    "}\n",
    "\n",
    "gbc_gs = GridSearchCV(gs, grid, cv=3, scoring=scoring, refit='Recall')\n",
    "gbc_gs.fit(X_aug, y_aug)\n",
    "print('Model gridsearched and trained')"
   ]
  },
  {
   "cell_type": "code",
   "execution_count": 13,
   "metadata": {},
   "outputs": [
    {
     "name": "stdout",
     "output_type": "stream",
     "text": [
      "Best parameters: {'max_depth': 4, 'max_features': 'auto', 'n_estimators': 100}\n"
     ]
    }
   ],
   "source": [
    "print('Best parameters:',gbc_gs.best_params_)"
   ]
  },
  {
   "cell_type": "code",
   "execution_count": 14,
   "metadata": {
    "scrolled": true
   },
   "outputs": [
    {
     "name": "stdout",
     "output_type": "stream",
     "text": [
      "[[ 10949    602]\n",
      " [   364 224870]]\n",
      "Recall: 0.9478833001471734\n",
      "Precision: 0.9678246265358437\n",
      "F1 Score: 0.9577501749475157\n"
     ]
    }
   ],
   "source": [
    "y_pred_train = gbc_gs.predict(augmented_labeled.iloc[:,:-1])\n",
    "\n",
    "# Evaluate performance\n",
    "print(confusion_matrix(augmented_labeled.crim_prop,y_pred_train,labels=[1,0]))\n",
    "print('Recall:',recall_score(augmented_labeled.crim_prop,y_pred_train))\n",
    "print('Precision:',precision_score(augmented_labeled.crim_prop,y_pred_train))\n",
    "print('F1 Score:',f1_score(augmented_labeled.crim_prop,y_pred_train))"
   ]
  },
  {
   "cell_type": "code",
   "execution_count": 15,
   "metadata": {},
   "outputs": [],
   "source": [
    "# Save the model\n",
    "# dump(gbc_gs, '../models/gbc_gs.joblib')"
   ]
  },
  {
   "cell_type": "markdown",
   "metadata": {},
   "source": [
    "#### Feature Importance"
   ]
  },
  {
   "cell_type": "code",
   "execution_count": 16,
   "metadata": {},
   "outputs": [],
   "source": [
    "# Grab features, sort by index\n",
    "feature_importance = gbc_gs.best_estimator_.feature_importances_\n",
    "sorted_idx = np.argsort(feature_importance)\n",
    "features = X_aug.columns"
   ]
  },
  {
   "cell_type": "code",
   "execution_count": 17,
   "metadata": {
    "scrolled": false
   },
   "outputs": [
    {
     "data": {
      "image/png": "[encoded data removed]",
      "text/plain": [
       "<Figure size 576x720 with 1 Axes>"
      ]
     },
     "metadata": {},
     "output_type": "display_data"
    }
   ],
   "source": [
    "# Plot\n",
    "plt.figure(figsize=(8,10))\n",
    "pos = np.arange(sorted_idx.shape[0]) + .5\n",
    "\n",
    "plt.barh(pos, feature_importance[sorted_idx],color='royalblue')\n",
    "plt.yticks(pos, features[sorted_idx],fontsize=11)\n",
    "plt.xlabel('Importance',labelpad=10,fontsize=13)\n",
    "plt.title('Variable Importance',fontsize=15)\n",
    "# plt.savefig('../data/figures/gbc_variable_importance.png')\n",
    "plt.tight_layout()\n",
    "plt.show()"
   ]
  },
  {
   "cell_type": "markdown",
   "metadata": {},
   "source": [
    "#### Final Notes\n",
    "\n",
    "- Every model struggles to adapt from the training data to the test data.\n",
    "- Gradient Boosting appears to be the most robust.\n",
    "- Using pseudolabels from 40% of the unlabeled data creates a good Gradient Boosting model that performs well in precision, recall, and f1 score.\n",
    "- For the GBC, the most important features are raw square footage of the property, YoY difference in price change since 2018, and a property owner that is a recently-established (within the year of purchase) company"
   ]
  }
 ],
 "metadata": {
  "kernelspec": {
   "display_name": "property_project",
   "language": "python",
   "name": "property_project"
  },
  "language_info": {
   "codemirror_mode": {
    "name": "ipython",
    "version": 3
   },
   "file_extension": ".py",
   "mimetype": "text/x-python",
   "name": "python",
   "nbconvert_exporter": "python",
   "pygments_lexer": "ipython3",
   "version": "3.7.1"
  },
  "toc": {
   "base_numbering": 1,
   "nav_menu": {},
   "number_sections": false,
   "sideBar": true,
   "skip_h1_title": false,
   "title_cell": "Table of Contents",
   "title_sidebar": "Contents",
   "toc_cell": false,
   "toc_position": {
    "height": "calc(100% - 180px)",
    "left": "10px",
    "top": "150px",
    "width": "165px"
   },
   "toc_section_display": true,
   "toc_window_display": true
  },
  "varInspector": {
   "cols": {
    "lenName": 16,
    "lenType": 16,
    "lenVar": 40
   },
   "kernels_config": {
    "python": {
     "delete_cmd_postfix": "",
     "delete_cmd_prefix": "del ",
     "library": "var_list.py",
     "varRefreshCmd": "print(var_dic_list())"
    },
    "r": {
     "delete_cmd_postfix": ") ",
     "delete_cmd_prefix": "rm(",
     "library": "var_list.r",
     "varRefreshCmd": "cat(var_dic_list()) "
    }
   },
   "types_to_exclude": [
    "module",
    "function",
    "builtin_function_or_method",
    "instance",
    "_Feature"
   ],
   "window_display": false
  }
 },
 "nbformat": 4,
 "nbformat_minor": 2
}

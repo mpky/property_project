{
 "cells": [
  {
   "cell_type": "markdown",
   "metadata": {},
   "source": [
    "# Pseudo-labeling Semisupervised Learning"
   ]
  },
  {
   "cell_type": "code",
   "execution_count": 2,
   "metadata": {
    "ExecuteTime": {
     "end_time": "2020-02-18T23:27:07.806950Z",
     "start_time": "2020-02-18T23:27:07.098914Z"
    }
   },
   "outputs": [],
   "source": [
    "import numpy as np\n",
    "import pandas as pd\n",
    "import matplotlib.pyplot as plt\n",
    "%matplotlib inline\n",
    "import seaborn as sns\n",
    "sns.set_style('darkgrid')"
   ]
  },
  {
   "cell_type": "code",
   "execution_count": 6,
   "metadata": {
    "ExecuteTime": {
     "end_time": "2020-02-18T23:34:32.865383Z",
     "start_time": "2020-02-18T23:34:05.945094Z"
    }
   },
   "outputs": [],
   "source": [
    "# read in data\n",
    "labeled_df = pd.read_hdf('../data/processed/bexar_true_labels.h5')\n",
    "all_df = pd.read_hdf('../data/processed/bexar_processed.h5')"
   ]
  },
  {
   "cell_type": "code",
   "execution_count": 7,
   "metadata": {
    "ExecuteTime": {
     "end_time": "2020-02-18T23:34:36.158914Z",
     "start_time": "2020-02-18T23:34:36.151751Z"
    }
   },
   "outputs": [
    {
     "data": {
      "text/plain": [
       "Index(['prop_id', 'partial_owner', 'py_confidential_flag',\n",
       "       'py_address_suppress_flag', 'py_addr_ml_deliverable', 'land_acres',\n",
       "       'market_value', 'appr_confidential_flag', 'Yr_blt', 'Sq_ft',\n",
       "       'just_established_owner', 'foreign_based_owner', 'yoy_diff_2019',\n",
       "       'yoy_diff_2018', 'yoy_diff_2017', 'yoy_diff_2016', 'out_of_state_owner',\n",
       "       'entity_agent_binary', 'owner_legal_person', 'owner_likely_company',\n",
       "       'owner_is_trust', 'sos_status_code__A', 'sos_status_code__C',\n",
       "       'sos_status_code__F', 'sos_status_code__R', 'sos_status_code__Y',\n",
       "       'owner_owns_multiple', 'price_psf', 'two_gto_reqs', 'crim_prop'],\n",
       "      dtype='object')"
      ]
     },
     "execution_count": 7,
     "metadata": {},
     "output_type": "execute_result"
    }
   ],
   "source": [
    "# Reduce all_df down to just unlabeled data\n",
    "# all_df.columns\n",
    "labeled_df.columns"
   ]
  }
 ],
 "metadata": {
  "kernelspec": {
   "display_name": "Python [conda env:prop_env] *",
   "language": "python",
   "name": "conda-env-prop_env-py"
  },
  "language_info": {
   "codemirror_mode": {
    "name": "ipython",
    "version": 3
   },
   "file_extension": ".py",
   "mimetype": "text/x-python",
   "name": "python",
   "nbconvert_exporter": "python",
   "pygments_lexer": "ipython3",
   "version": "3.7.6"
  },
  "toc": {
   "base_numbering": 1,
   "nav_menu": {},
   "number_sections": false,
   "sideBar": true,
   "skip_h1_title": false,
   "title_cell": "Table of Contents",
   "title_sidebar": "Contents",
   "toc_cell": false,
   "toc_position": {},
   "toc_section_display": true,
   "toc_window_display": true
  },
  "varInspector": {
   "cols": {
    "lenName": 16,
    "lenType": 16,
    "lenVar": 40
   },
   "kernels_config": {
    "python": {
     "delete_cmd_postfix": "",
     "delete_cmd_prefix": "del ",
     "library": "var_list.py",
     "varRefreshCmd": "print(var_dic_list())"
    },
    "r": {
     "delete_cmd_postfix": ") ",
     "delete_cmd_prefix": "rm(",
     "library": "var_list.r",
     "varRefreshCmd": "cat(var_dic_list()) "
    }
   },
   "types_to_exclude": [
    "module",
    "function",
    "builtin_function_or_method",
    "instance",
    "_Feature"
   ],
   "window_display": false
  }
 },
 "nbformat": 4,
 "nbformat_minor": 2
}

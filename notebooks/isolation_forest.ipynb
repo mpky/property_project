{
 "cells": [
  {
   "cell_type": "markdown",
   "metadata": {},
   "source": [
    "## Isolation Forest\n",
    "\n",
    "The goal of this notebook is to apply the Isolation Forest anomaly detection technique to the property data."
   ]
  },
  {
   "cell_type": "code",
   "execution_count": 115,
   "metadata": {
    "ExecuteTime": {
     "end_time": "2020-01-25T21:01:52.537454Z",
     "start_time": "2020-01-25T21:01:52.508298Z"
    }
   },
   "outputs": [],
   "source": [
    "from sklearn.model_selection import train_test_split, GridSearchCV\n",
    "from sklearn import preprocessing\n",
    "from sklearn.metrics import classification_report, confusion_matrix, recall_score, roc_auc_score, make_scorer\n",
    "from sklearn.ensemble import IsolationForest\n",
    "import seaborn as sns\n",
    "import itertools\n",
    "import numpy as np\n",
    "import pandas as pd\n",
    "import matplotlib.pyplot as plt\n",
    "%matplotlib inline\n",
    "sns.set_style('dark')"
   ]
  },
  {
   "cell_type": "markdown",
   "metadata": {},
   "source": [
    "#### Load Data and Trim Columns"
   ]
  },
  {
   "cell_type": "code",
   "execution_count": 116,
   "metadata": {
    "ExecuteTime": {
     "end_time": "2020-01-25T21:02:25.348397Z",
     "start_time": "2020-01-25T21:01:52.541180Z"
    }
   },
   "outputs": [],
   "source": [
    "# Read in the data\n",
    "df = pd.read_hdf('../data/processed/bexar_processed.h5')\n",
    "\n",
    "# Fill na values in with 1 in crim_prop with 0 so they don't get dropped later on\n",
    "df.loc[df.crim_prop==1,'price_psf'] = df.loc[df.crim_prop==1,'price_psf'].fillna(0)\n",
    "\n",
    "trim_prop_df = df[(df.price_psf<df.price_psf.quantile(.999)) | (df.price_psf.isna())]"
   ]
  },
  {
   "cell_type": "code",
   "execution_count": 117,
   "metadata": {
    "ExecuteTime": {
     "end_time": "2020-01-25T21:02:27.707381Z",
     "start_time": "2020-01-25T21:02:25.357850Z"
    }
   },
   "outputs": [
    {
     "name": "stdout",
     "output_type": "stream",
     "text": [
      "Number of properties after trimming: 530923\n"
     ]
    }
   ],
   "source": [
    "# Grab all columns that are under the 70,000 nan limit\n",
    "nan_limit = 70000\n",
    "check_nan = trim_prop_df.isnull().sum()\n",
    "\n",
    "variables_list = check_nan[check_nan<nan_limit].index\n",
    "variables_list = variables_list[variables_list.isin(trim_prop_df.columns[trim_prop_df.dtypes!='object'])]\n",
    "variables_list = variables_list.drop([\n",
    "    'prop_id','py_owner_id','py_addr_zip_cass','prop_val_yr','appraised_val',\n",
    "    'Prior_Mkt_Val','bexar_2015_market_value','bexar_2016_market_value', \n",
    "    'bexar_2017_market_value','bexar_2018_market_value','owner_zip_code',\n",
    "    'property_zip','neighborhood_code'\n",
    "])\n",
    "\n",
    "sub_df = trim_prop_df[variables_list]\n",
    "df_if = sub_df.dropna()\n",
    "print(\"Number of properties after trimming:\", len(df_if))"
   ]
  },
  {
   "cell_type": "code",
   "execution_count": 118,
   "metadata": {
    "ExecuteTime": {
     "end_time": "2020-01-25T21:02:28.064145Z",
     "start_time": "2020-01-25T21:02:27.712014Z"
    }
   },
   "outputs": [
    {
     "name": "stdout",
     "output_type": "stream",
     "text": [
      "Rate is: 0.00885%\n"
     ]
    }
   ],
   "source": [
    "# Get criminal property rate\n",
    "crim_prop_rate = 1 - (len(df_if[df_if['crim_prop']==0]) / len(df_if))\n",
    "print(\"Rate is: {:.5%}\".format(crim_prop_rate))"
   ]
  },
  {
   "cell_type": "code",
   "execution_count": 119,
   "metadata": {
    "ExecuteTime": {
     "end_time": "2020-01-25T21:02:28.361617Z",
     "start_time": "2020-01-25T21:02:28.079133Z"
    },
    "scrolled": true
   },
   "outputs": [
    {
     "name": "stderr",
     "output_type": "stream",
     "text": [
      "/Users/matthewpokorny/anaconda3/envs/property_project_env/lib/python3.7/site-packages/ipykernel_launcher.py:2: SettingWithCopyWarning: \n",
      "A value is trying to be set on a copy of a slice from a DataFrame.\n",
      "Try using .loc[row_indexer,col_indexer] = value instead\n",
      "\n",
      "See the caveats in the documentation: http://pandas.pydata.org/pandas-docs/stable/user_guide/indexing.html#returning-a-view-versus-a-copy\n",
      "  \n"
     ]
    }
   ],
   "source": [
    "# dfSA['binary_target'] = [1 if x==b'normal.' else -1 for x in dfSA[target]]\n",
    "df_if['binary_y'] = [1 if x==0 else -1 for x in df_if.crim_prop]"
   ]
  },
  {
   "cell_type": "code",
   "execution_count": 120,
   "metadata": {
    "ExecuteTime": {
     "end_time": "2020-01-25T21:02:28.385669Z",
     "start_time": "2020-01-25T21:02:28.366354Z"
    }
   },
   "outputs": [
    {
     "data": {
      "text/plain": [
       " 1    530876\n",
       "-1        47\n",
       "Name: binary_y, dtype: int64"
      ]
     },
     "execution_count": 120,
     "metadata": {},
     "output_type": "execute_result"
    }
   ],
   "source": [
    "df_if.binary_y.value_counts()"
   ]
  },
  {
   "cell_type": "code",
   "execution_count": 121,
   "metadata": {
    "ExecuteTime": {
     "end_time": "2020-01-25T21:02:29.190893Z",
     "start_time": "2020-01-25T21:02:28.389381Z"
    }
   },
   "outputs": [],
   "source": [
    "# Normalize\n",
    "X = df_if.iloc[:,:-2]\n",
    "X_norm = preprocessing.normalize(X)\n",
    "\n",
    "y = df_if.binary_y\n",
    "\n",
    "# Split the data into train and test\n",
    "X_train_norm, X_test_norm, y_train_norm, y_test_norm = train_test_split(\n",
    "    X_norm, y, test_size=0.33, random_state=42\n",
    ")"
   ]
  },
  {
   "cell_type": "markdown",
   "metadata": {},
   "source": [
    "#### First Model - All Features Included"
   ]
  },
  {
   "cell_type": "code",
   "execution_count": 122,
   "metadata": {
    "ExecuteTime": {
     "end_time": "2020-01-25T21:03:14.583949Z",
     "start_time": "2020-01-25T21:02:29.195625Z"
    }
   },
   "outputs": [
    {
     "name": "stdout",
     "output_type": "stream",
     "text": [
      "CPU times: user 36.7 s, sys: 5.56 s, total: 42.3 s\n",
      "Wall time: 43.1 s\n"
     ]
    }
   ],
   "source": [
    "%%time\n",
    "# Set parameters\n",
    "clf = IsolationForest(\n",
    "    max_samples=0.2,\n",
    "    n_estimators=100,\n",
    "    contamination=0.01,\n",
    "    random_state=42\n",
    ")\n",
    "\n",
    "# Fit the model\n",
    "clf.fit(X_train_norm,y_train_norm)\n",
    "# Predict\n",
    "y_pred_train = clf.predict(X_train_norm)"
   ]
  },
  {
   "cell_type": "code",
   "execution_count": 123,
   "metadata": {
    "ExecuteTime": {
     "end_time": "2020-01-25T21:03:56.896986Z",
     "start_time": "2020-01-25T21:03:14.586152Z"
    }
   },
   "outputs": [
    {
     "name": "stdout",
     "output_type": "stream",
     "text": [
      "CPU times: user 36.4 s, sys: 5.28 s, total: 41.6 s\n",
      "Wall time: 42.3 s\n"
     ]
    }
   ],
   "source": [
    "%%time\n",
    "# Fit the model\n",
    "clf.fit(X_train_norm,y_train_norm)\n",
    "# Predict\n",
    "y_pred_train = clf.predict(X_train_norm)"
   ]
  },
  {
   "cell_type": "code",
   "execution_count": 124,
   "metadata": {
    "ExecuteTime": {
     "end_time": "2020-01-25T21:03:56.924601Z",
     "start_time": "2020-01-25T21:03:56.899321Z"
    }
   },
   "outputs": [],
   "source": [
    "def plot_confusion_matrix(conf_matrix, title, classes=['criminally-linked', 'normal'],\n",
    "                          cmap=plt.cm.Oranges, save=False, saveas=\"MyFigure.png\"):\n",
    "    \n",
    "    # print Confusion matrix with blue gradient colours\n",
    "    \n",
    "    conf_matrix = conf_matrix.astype('float') / conf_matrix.sum(axis=1)[:, np.newaxis]\n",
    "    \n",
    "    plt.figure(figsize=(8,8))\n",
    "    plt.imshow(conf_matrix, interpolation='nearest', cmap=cmap)\n",
    "    plt.title(title,fontsize=18)\n",
    "    plt.colorbar()\n",
    "    tick_marks = np.arange(len(classes))\n",
    "    plt.xticks(tick_marks, classes, rotation=45,fontsize=11)\n",
    "    plt.yticks(tick_marks, classes, rotation=45, fontsize=11)\n",
    "\n",
    "    fmt = '.1%'\n",
    "    thresh = conf_matrix.max() / 2.\n",
    "    for i, j in itertools.product(range(conf_matrix.shape[0]), range(conf_matrix.shape[1])):\n",
    "        plt.text(j, i, format(conf_matrix[i, j], fmt),\n",
    "                 horizontalalignment=\"center\",\n",
    "                 verticalalignment=\"top\",\n",
    "                 fontsize=16,\n",
    "                 color=\"white\" if conf_matrix[i, j] > thresh else \"black\")\n",
    "\n",
    "    plt.tight_layout()\n",
    "    plt.ylabel('True label',fontsize=14, rotation=0)\n",
    "    plt.xlabel('Predicted label',fontsize=14)\n",
    "    \n",
    "    if save:\n",
    "        plt.savefig(saveas)"
   ]
  },
  {
   "cell_type": "markdown",
   "metadata": {},
   "source": [
    "#### Model Performance on Training Data"
   ]
  },
  {
   "cell_type": "code",
   "execution_count": 125,
   "metadata": {
    "ExecuteTime": {
     "end_time": "2020-01-25T21:03:57.077680Z",
     "start_time": "2020-01-25T21:03:56.930477Z"
    }
   },
   "outputs": [
    {
     "name": "stdout",
     "output_type": "stream",
     "text": [
      "0.9900137198893412\n"
     ]
    }
   ],
   "source": [
    "print(recall_score(\n",
    "    y_train_norm,\n",
    "    y_pred_train,\n",
    "    zero_division=0\n",
    "))"
   ]
  },
  {
   "cell_type": "code",
   "execution_count": 126,
   "metadata": {
    "ExecuteTime": {
     "end_time": "2020-01-25T21:04:52.005915Z",
     "start_time": "2020-01-25T21:04:51.272978Z"
    }
   },
   "outputs": [
    {
     "name": "stdout",
     "output_type": "stream",
     "text": [
      "[[     6     24]\n",
      " [  3552 352136]]\n"
     ]
    },
    {
     "data": {
      "image/png": "[encoded data removed]",
      "text/plain": [
       "<Figure size 576x576 with 2 Axes>"
      ]
     },
     "metadata": {},
     "output_type": "display_data"
    }
   ],
   "source": [
    "conf_matrix = confusion_matrix(y_train_norm, y_pred_train)\n",
    "print(conf_matrix)\n",
    "plot_confusion_matrix(conf_matrix, title='Isolation Forest Confusion Matrix on Training',save=False)"
   ]
  },
  {
   "cell_type": "code",
   "execution_count": 127,
   "metadata": {
    "ExecuteTime": {
     "end_time": "2020-01-25T21:05:34.143798Z",
     "start_time": "2020-01-25T21:05:33.459739Z"
    }
   },
   "outputs": [
    {
     "name": "stdout",
     "output_type": "stream",
     "text": [
      "                   precision    recall  f1-score   support\n",
      "\n",
      "criminally-linked     0.0017    0.2000    0.0033        30\n",
      "           normal     0.9999    0.9900    0.9949    355688\n",
      "\n",
      "         accuracy                         0.9899    355718\n",
      "        macro avg     0.5008    0.5950    0.4991    355718\n",
      "     weighted avg     0.9998    0.9899    0.9949    355718\n",
      "\n",
      "AUC: 59.501%\n"
     ]
    }
   ],
   "source": [
    "# Return classification report\n",
    "print(classification_report(\n",
    "    y_train_norm,\n",
    "    y_pred_train,\n",
    "    zero_division=0,\n",
    "    digits=4,\n",
    "    target_names=['criminally-linked', 'normal']\n",
    "))\n",
    "print (\"AUC:\", \"{:.3%}\".format(roc_auc_score(y_train_norm, y_pred_train)))"
   ]
  },
  {
   "cell_type": "markdown",
   "metadata": {},
   "source": [
    "The model performs quite poorly at the most important metric in a classification problem such as this, recall. Missing 80% of all criminally-linked properties makes for a bad anomaly detector."
   ]
  },
  {
   "cell_type": "markdown",
   "metadata": {},
   "source": [
    "#### Gridsearch\n",
    "\n",
    "Isolation Forest is fairly robust to parameter changes, but different parameters may improve on the first attempt's poor performance."
   ]
  },
  {
   "cell_type": "code",
   "execution_count": 106,
   "metadata": {
    "ExecuteTime": {
     "end_time": "2020-01-25T20:53:00.543619Z",
     "start_time": "2020-01-25T20:45:19.453706Z"
    }
   },
   "outputs": [
    {
     "name": "stdout",
     "output_type": "stream",
     "text": [
      "Fitting 3 folds for each of 5 candidates, totalling 15 fits\n",
      "[CV] contamination=0.01 ..............................................\n"
     ]
    },
    {
     "name": "stderr",
     "output_type": "stream",
     "text": [
      "[Parallel(n_jobs=1)]: Using backend SequentialBackend with 1 concurrent workers.\n"
     ]
    },
    {
     "name": "stdout",
     "output_type": "stream",
     "text": [
      "[CV] ...... contamination=0.01, AUC=0.971, Recall=0.385, total=  37.0s\n",
      "[CV] contamination=0.01 ..............................................\n"
     ]
    },
    {
     "name": "stderr",
     "output_type": "stream",
     "text": [
      "[Parallel(n_jobs=1)]: Done   1 out of   1 | elapsed:   37.0s remaining:    0.0s\n"
     ]
    },
    {
     "name": "stdout",
     "output_type": "stream",
     "text": [
      "[CV] ...... contamination=0.01, AUC=0.953, Recall=0.000, total=  31.8s\n",
      "[CV] contamination=0.01 ..............................................\n"
     ]
    },
    {
     "name": "stderr",
     "output_type": "stream",
     "text": [
      "[Parallel(n_jobs=1)]: Done   2 out of   2 | elapsed:  1.1min remaining:    0.0s\n"
     ]
    },
    {
     "name": "stdout",
     "output_type": "stream",
     "text": [
      "[CV] ...... contamination=0.01, AUC=0.946, Recall=0.100, total=  29.3s\n",
      "[CV] contamination=0.060000000000000005 ..............................\n",
      "[CV]  contamination=0.060000000000000005, AUC=0.971, Recall=0.846, total=  25.9s\n",
      "[CV] contamination=0.060000000000000005 ..............................\n",
      "[CV]  contamination=0.060000000000000005, AUC=0.953, Recall=0.571, total=  26.4s\n",
      "[CV] contamination=0.060000000000000005 ..............................\n",
      "[CV]  contamination=0.060000000000000005, AUC=0.946, Recall=0.800, total=  26.3s\n",
      "[CV] contamination=0.11 ..............................................\n",
      "[CV] ...... contamination=0.11, AUC=0.971, Recall=1.000, total=  28.7s\n",
      "[CV] contamination=0.11 ..............................................\n",
      "[CV] ...... contamination=0.11, AUC=0.953, Recall=1.000, total=  28.6s\n",
      "[CV] contamination=0.11 ..............................................\n",
      "[CV] ...... contamination=0.11, AUC=0.946, Recall=0.900, total=  27.8s\n",
      "[CV] contamination=0.16000000000000003 ...............................\n",
      "[CV]  contamination=0.16000000000000003, AUC=0.971, Recall=1.000, total=  27.5s\n",
      "[CV] contamination=0.16000000000000003 ...............................\n",
      "[CV]  contamination=0.16000000000000003, AUC=0.953, Recall=1.000, total=  28.2s\n",
      "[CV] contamination=0.16000000000000003 ...............................\n",
      "[CV]  contamination=0.16000000000000003, AUC=0.946, Recall=0.900, total=  28.9s\n",
      "[CV] contamination=0.21000000000000002 ...............................\n",
      "[CV]  contamination=0.21000000000000002, AUC=0.971, Recall=1.000, total=  26.5s\n",
      "[CV] contamination=0.21000000000000002 ...............................\n",
      "[CV]  contamination=0.21000000000000002, AUC=0.953, Recall=1.000, total=  27.6s\n",
      "[CV] contamination=0.21000000000000002 ...............................\n",
      "[CV]  contamination=0.21000000000000002, AUC=0.946, Recall=0.900, total=  29.3s\n"
     ]
    },
    {
     "name": "stderr",
     "output_type": "stream",
     "text": [
      "[Parallel(n_jobs=1)]: Done  15 out of  15 | elapsed:  7.2min finished\n"
     ]
    },
    {
     "name": "stdout",
     "output_type": "stream",
     "text": [
      "CPU times: user 6min 14s, sys: 54.4 s, total: 7min 9s\n",
      "Wall time: 7min 41s\n"
     ]
    },
    {
     "data": {
      "text/plain": [
       "GridSearchCV(cv=3, error_score=nan,\n",
       "             estimator=IsolationForest(behaviour='deprecated', bootstrap=False,\n",
       "                                       contamination='auto', max_features=1.0,\n",
       "                                       max_samples=0.25, n_estimators=100,\n",
       "                                       n_jobs=None, random_state=42, verbose=0,\n",
       "                                       warm_start=False),\n",
       "             iid='deprecated', n_jobs=None,\n",
       "             param_grid={'contamination': array([0.01, 0.06, 0.11, 0.16, 0.21])},\n",
       "             pre_dispatch='2*n_jobs', refit='Recall', return_train_score=False,\n",
       "             scoring={'AUC': 'roc_auc',\n",
       "                      'Recall': make_scorer(recall_score, pos_label=-1)},\n",
       "             verbose=3)"
      ]
     },
     "execution_count": 106,
     "metadata": {},
     "output_type": "execute_result"
    }
   ],
   "source": [
    "%%time\n",
    "skip = 1\n",
    "if skip == 0:\n",
    "    # Set what metrics to evaluate predictions\n",
    "    scoring = {'AUC': 'roc_auc', 'Recall': make_scorer(recall_score, pos_label=-1)}\n",
    "\n",
    "    gs = GridSearchCV(\n",
    "        IsolationForest(max_samples=0.25, random_state=42,n_estimators=100),\n",
    "        param_grid={'contamination': np.arange(0.01, 0.25, 0.05)},\n",
    "        scoring=scoring, \n",
    "        refit='Recall',\n",
    "        verbose=0,\n",
    "        cv=3\n",
    "    )\n",
    "    \n",
    "    # Fit to training data\n",
    "    gs.fit(X_train_norm,y_train_norm)"
   ]
  },
  {
   "cell_type": "code",
   "execution_count": 128,
   "metadata": {
    "ExecuteTime": {
     "end_time": "2020-01-25T21:05:41.233879Z",
     "start_time": "2020-01-25T21:05:41.223618Z"
    }
   },
   "outputs": [
    {
     "data": {
      "text/plain": [
       "{'contamination': 0.11}"
      ]
     },
     "execution_count": 128,
     "metadata": {},
     "output_type": "execute_result"
    }
   ],
   "source": [
    "gs.best_params_"
   ]
  },
  {
   "cell_type": "markdown",
   "metadata": {},
   "source": [
    "#### Gridsearch Model"
   ]
  },
  {
   "cell_type": "code",
   "execution_count": 113,
   "metadata": {
    "ExecuteTime": {
     "end_time": "2020-01-25T21:01:33.460739Z",
     "start_time": "2020-01-25T21:00:50.994528Z"
    }
   },
   "outputs": [
    {
     "name": "stdout",
     "output_type": "stream",
     "text": [
      "CPU times: user 36.6 s, sys: 5.24 s, total: 41.9 s\n",
      "Wall time: 42.5 s\n"
     ]
    }
   ],
   "source": [
    "%%time\n",
    "clf_gs = IsolationForest(\n",
    "    max_samples=0.2,\n",
    "    n_estimators=100,\n",
    "    contamination=0.11,\n",
    "    random_state=42\n",
    ")\n",
    "\n",
    "clf_gs.fit(X_train_norm,y_train_norm)\n",
    "y_pred_train_gs = clf_gs.predict(X_train_norm)"
   ]
  },
  {
   "cell_type": "code",
   "execution_count": 114,
   "metadata": {
    "ExecuteTime": {
     "end_time": "2020-01-25T21:01:38.645753Z",
     "start_time": "2020-01-25T21:01:37.941749Z"
    }
   },
   "outputs": [
    {
     "name": "stdout",
     "output_type": "stream",
     "text": [
      "0.8900693866534716\n",
      "[[    28      2]\n",
      " [ 39101 316587]]\n"
     ]
    },
    {
     "data": {
      "image/png": "[encoded data removed]",
      "text/plain": [
       "<Figure size 576x576 with 2 Axes>"
      ]
     },
     "metadata": {},
     "output_type": "display_data"
    }
   ],
   "source": [
    "print(recall_score(\n",
    "    y_train_norm,\n",
    "    y_pred_train_gs,\n",
    "    zero_division=0\n",
    "))\n",
    "\n",
    "conf_matrix = confusion_matrix(y_train_norm, y_pred_train_gs)\n",
    "print(conf_matrix)\n",
    "plot_confusion_matrix(conf_matrix, title='Isolation Forest Confusion Matrix on Training',save=False)"
   ]
  },
  {
   "cell_type": "markdown",
   "metadata": {},
   "source": [
    "Increasing the contamination parameter, drastically improved the model's recall. Let's see if it holds up on testing data."
   ]
  },
  {
   "cell_type": "code",
   "execution_count": 129,
   "metadata": {
    "ExecuteTime": {
     "end_time": "2020-01-25T21:10:05.375964Z",
     "start_time": "2020-01-25T21:09:58.546658Z"
    }
   },
   "outputs": [
    {
     "name": "stdout",
     "output_type": "stream",
     "text": [
      "0.8898326369386031\n",
      "[[    13      4]\n",
      " [ 19300 155888]]\n"
     ]
    },
    {
     "data": {
      "image/png": "[encoded data removed]",
      "text/plain": [
       "<Figure size 576x576 with 2 Axes>"
      ]
     },
     "metadata": {},
     "output_type": "display_data"
    }
   ],
   "source": [
    "y_pred_test_gs = clf_gs.predict(X_test_norm)\n",
    "\n",
    "print(recall_score(\n",
    "    y_test_norm,\n",
    "    y_pred_test_gs,\n",
    "    zero_division=0\n",
    "))\n",
    "\n",
    "conf_matrix = confusion_matrix(y_test_norm, y_pred_test_gs)\n",
    "print(conf_matrix)\n",
    "plot_confusion_matrix(conf_matrix, title='Isolation Forest Confusion Matrix on Testing',save=False)"
   ]
  },
  {
   "cell_type": "markdown",
   "metadata": {},
   "source": [
    "The model does a bit worse on testing but still better than the first attempt's performance. While the model now detects 28 out of 30 criminally-linked properties correctly on the training data, it has done so at the expense of increasing false positives from 3,552 for the first model to 39,101 for the grid-searched model. In this case of criminal investment in residential real estate, it is a tradeoff worth making."
   ]
  },
  {
   "cell_type": "code",
   "execution_count": 134,
   "metadata": {
    "ExecuteTime": {
     "end_time": "2020-01-25T21:28:52.485334Z",
     "start_time": "2020-01-25T21:28:39.551958Z"
    }
   },
   "outputs": [],
   "source": [
    "scores_training = clf_gs.decision_function(X_train_norm)"
   ]
  },
  {
   "cell_type": "code",
   "execution_count": 150,
   "metadata": {
    "ExecuteTime": {
     "end_time": "2020-01-25T21:35:41.552301Z",
     "start_time": "2020-01-25T21:35:41.545485Z"
    }
   },
   "outputs": [
    {
     "data": {
      "text/plain": [
       "355718"
      ]
     },
     "execution_count": 150,
     "metadata": {},
     "output_type": "execute_result"
    }
   ],
   "source": [
    "len(y_train_norm)"
   ]
  },
  {
   "cell_type": "code",
   "execution_count": 151,
   "metadata": {
    "ExecuteTime": {
     "end_time": "2020-01-25T21:35:53.181165Z",
     "start_time": "2020-01-25T21:35:53.175258Z"
    }
   },
   "outputs": [
    {
     "data": {
      "text/plain": [
       "355718"
      ]
     },
     "execution_count": 151,
     "metadata": {},
     "output_type": "execute_result"
    }
   ],
   "source": [
    "len(scores_training)"
   ]
  },
  {
   "cell_type": "code",
   "execution_count": 153,
   "metadata": {
    "ExecuteTime": {
     "end_time": "2020-01-25T21:36:25.594130Z",
     "start_time": "2020-01-25T21:36:25.581217Z"
    }
   },
   "outputs": [
    {
     "data": {
      "text/plain": [
       "Int64Index([ 95165, 482785, 562754, 512360, 552967, 547027,  94760, 510328,\n",
       "             87260, 509891, 552954, 516525, 547244, 500264, 543403, 562757,\n",
       "            512361, 463299, 543519,  94761, 482800, 562758, 391804, 562764,\n",
       "            551310,  94696,  94705, 537061, 537053, 465859],\n",
       "           dtype='int64')"
      ]
     },
     "execution_count": 153,
     "metadata": {},
     "output_type": "execute_result"
    }
   ],
   "source": [
    "y_train_norm[y_train_norm==-1].index"
   ]
  },
  {
   "cell_type": "code",
   "execution_count": 191,
   "metadata": {
    "ExecuteTime": {
     "end_time": "2020-01-25T21:50:19.461168Z",
     "start_time": "2020-01-25T21:50:19.454992Z"
    }
   },
   "outputs": [
    {
     "data": {
      "text/plain": [
       "(355718,)"
      ]
     },
     "execution_count": 191,
     "metadata": {},
     "output_type": "execute_result"
    }
   ],
   "source": [
    "scores_training.shape"
   ]
  },
  {
   "cell_type": "code",
   "execution_count": 176,
   "metadata": {
    "ExecuteTime": {
     "end_time": "2020-01-25T21:45:03.876417Z",
     "start_time": "2020-01-25T21:45:03.870741Z"
    }
   },
   "outputs": [],
   "source": [
    "train_df = pd.DataFrame(X_train_norm)"
   ]
  },
  {
   "cell_type": "code",
   "execution_count": 186,
   "metadata": {
    "ExecuteTime": {
     "end_time": "2020-01-25T21:47:49.469757Z",
     "start_time": "2020-01-25T21:47:49.371955Z"
    }
   },
   "outputs": [
    {
     "data": {
      "text/plain": [
       " 1    530876\n",
       "-1        47\n",
       "Name: binary_y, dtype: int64"
      ]
     },
     "execution_count": 186,
     "metadata": {},
     "output_type": "execute_result"
    }
   ],
   "source": [
    "y.reset_index()['binary_y'].value_counts()"
   ]
  },
  {
   "cell_type": "code",
   "execution_count": 205,
   "metadata": {
    "ExecuteTime": {
     "end_time": "2020-01-25T21:53:12.261120Z",
     "start_time": "2020-01-25T21:53:12.254936Z"
    },
    "scrolled": true
   },
   "outputs": [],
   "source": [
    "# Put back into df in order to grab anomaly scores for criminally-linked properties\n",
    "train_df = pd.DataFrame(X_train_norm)\n",
    "y_train_series = y_train_norm.reset_index()\n",
    "train_df['y_value'] = y_train_series.binary_y\n",
    "train_df['anomaly_scores'] = scores_training\n",
    "anomaly_scores_list = train_df[train_df.y_value==-1]['anomaly_scores'].values"
   ]
  },
  {
   "cell_type": "code",
   "execution_count": 244,
   "metadata": {
    "ExecuteTime": {
     "end_time": "2020-01-25T22:08:27.085336Z",
     "start_time": "2020-01-25T22:08:26.373060Z"
    }
   },
   "outputs": [
    {
     "data": {
      "image/png": "[encoded data removed]",
      "text/plain": [
       "<Figure size 1152x504 with 1 Axes>"
      ]
     },
     "metadata": {},
     "output_type": "display_data"
    }
   ],
   "source": [
    "plt.figure(figsize=(16,7))\n",
    "plt.hist(scores_training,bins=100,log=False,color='royalblue')\n",
    "for xc in anomaly_scores_list:\n",
    "    plt.axvline(x=xc,color='red',linestyle='--',linewidth=0.5,label='criminally-linked property')\n",
    "plt.xlabel('Anomaly score',fontsize=13)\n",
    "plt.ylabel('Number of properties',fontsize=13)\n",
    "plt.title('Distribution of Anomaly Scores across Training Data',fontsize=18)\n",
    "handles, labels = plt.gca().get_legend_handles_labels()\n",
    "by_label = dict(zip(labels, handles))\n",
    "plt.legend(by_label.values(), by_label.keys(),fontsize=16)\n",
    "plt.show()"
   ]
  }
 ],
 "metadata": {
  "kernelspec": {
   "display_name": "Python [conda env:property_project_env] *",
   "language": "python",
   "name": "conda-env-property_project_env-py"
  },
  "language_info": {
   "codemirror_mode": {
    "name": "ipython",
    "version": 3
   },
   "file_extension": ".py",
   "mimetype": "text/x-python",
   "name": "python",
   "nbconvert_exporter": "python",
   "pygments_lexer": "ipython3",
   "version": "3.7.5"
  },
  "toc": {
   "base_numbering": 1,
   "nav_menu": {},
   "number_sections": false,
   "sideBar": true,
   "skip_h1_title": false,
   "title_cell": "Table of Contents",
   "title_sidebar": "Contents",
   "toc_cell": false,
   "toc_position": {
    "height": "calc(100% - 180px)",
    "left": "10px",
    "top": "150px",
    "width": "203.984px"
   },
   "toc_section_display": true,
   "toc_window_display": true
  },
  "varInspector": {
   "cols": {
    "lenName": 16,
    "lenType": 16,
    "lenVar": 40
   },
   "kernels_config": {
    "python": {
     "delete_cmd_postfix": "",
     "delete_cmd_prefix": "del ",
     "library": "var_list.py",
     "varRefreshCmd": "print(var_dic_list())"
    },
    "r": {
     "delete_cmd_postfix": ") ",
     "delete_cmd_prefix": "rm(",
     "library": "var_list.r",
     "varRefreshCmd": "cat(var_dic_list()) "
    }
   },
   "types_to_exclude": [
    "module",
    "function",
    "builtin_function_or_method",
    "instance",
    "_Feature"
   ],
   "window_display": false
  }
 },
 "nbformat": 4,
 "nbformat_minor": 2
}

{
 "cells": [
  {
   "cell_type": "markdown",
   "metadata": {},
   "source": [
    "## Isolation Forest\n",
    "\n",
    "The goal of this notebook is to apply the Isolation Forest anomaly detection technique to the property data."
   ]
  },
  {
   "cell_type": "code",
   "execution_count": 18,
   "metadata": {
    "ExecuteTime": {
     "end_time": "2020-01-24T01:54:02.752890Z",
     "start_time": "2020-01-24T01:54:02.744289Z"
    }
   },
   "outputs": [],
   "source": [
    "import numpy as np\n",
    "import pandas as pd\n",
    "import matplotlib.pyplot as plt\n",
    "%matplotlib inline\n",
    "import itertools\n",
    "import seaborn as sns\n",
    "sns.set_style('darkgrid')\n",
    "\n",
    "from sklearn.model_selection import train_test_split\n",
    "from sklearn.ensemble import IsolationForest\n",
    "from sklearn.metrics import classification_report, confusion_matrix, recall_score, roc_auc_score, make_scorer\n",
    "from sklearn import preprocessing"
   ]
  },
  {
   "cell_type": "markdown",
   "metadata": {},
   "source": [
    "#### Load Data"
   ]
  },
  {
   "cell_type": "code",
   "execution_count": 2,
   "metadata": {
    "ExecuteTime": {
     "end_time": "2020-01-24T01:45:10.380468Z",
     "start_time": "2020-01-24T01:44:48.522360Z"
    }
   },
   "outputs": [],
   "source": [
    "# Read in the data\n",
    "df = pd.read_hdf('../data/processed/bexar_processed.h5')\n",
    "\n",
    "# Fill na values in with 1 in crim_prop with 0 so they don't get dropped later on\n",
    "df.loc[df.crim_prop==1,'price_psf'] = df.loc[df.crim_prop==1,'price_psf'].fillna(0)\n",
    "\n",
    "trim_prop_df = df[(df.price_psf<df.price_psf.quantile(.999)) | (df.price_psf.isna())]"
   ]
  },
  {
   "cell_type": "code",
   "execution_count": 3,
   "metadata": {
    "ExecuteTime": {
     "end_time": "2020-01-24T01:45:12.869993Z",
     "start_time": "2020-01-24T01:45:10.390277Z"
    }
   },
   "outputs": [
    {
     "name": "stdout",
     "output_type": "stream",
     "text": [
      "Number of properties after trimming: 530923\n"
     ]
    }
   ],
   "source": [
    "# Grab all columns that are under the 70,000 nan limit\n",
    "nan_limit = 70000\n",
    "check_nan = trim_prop_df.isnull().sum()\n",
    "\n",
    "variables_list = check_nan[check_nan<nan_limit].index\n",
    "variables_list = variables_list[variables_list.isin(trim_prop_df.columns[trim_prop_df.dtypes!='object'])]\n",
    "variables_list = variables_list.drop([\n",
    "    'prop_id','py_owner_id','py_addr_zip_cass','prop_val_yr','appraised_val',\n",
    "    'Prior_Mkt_Val','bexar_2015_market_value','bexar_2016_market_value', \n",
    "    'bexar_2017_market_value','bexar_2018_market_value','owner_zip_code',\n",
    "    'property_zip','neighborhood_code'\n",
    "])\n",
    "\n",
    "sub_df = trim_prop_df[variables_list]\n",
    "df_if = sub_df.dropna()\n",
    "print(\"Number of properties after trimming:\", len(df_if))"
   ]
  },
  {
   "cell_type": "code",
   "execution_count": 4,
   "metadata": {
    "ExecuteTime": {
     "end_time": "2020-01-24T01:45:13.091186Z",
     "start_time": "2020-01-24T01:45:12.872317Z"
    }
   },
   "outputs": [
    {
     "name": "stdout",
     "output_type": "stream",
     "text": [
      "Rate is: 0.00885%\n"
     ]
    }
   ],
   "source": [
    "# Get criminal property rate\n",
    "crim_prop_rate = 1 - (len(df_if[df_if['crim_prop']==0]) / len(df_if))\n",
    "print(\"Rate is: {:.5%}\".format(crim_prop_rate))"
   ]
  },
  {
   "cell_type": "code",
   "execution_count": 5,
   "metadata": {
    "ExecuteTime": {
     "end_time": "2020-01-24T01:45:37.309302Z",
     "start_time": "2020-01-24T01:45:37.153477Z"
    }
   },
   "outputs": [
    {
     "name": "stderr",
     "output_type": "stream",
     "text": [
      "/Users/matthewpokorny/anaconda3/envs/property_project_env/lib/python3.7/site-packages/ipykernel_launcher.py:2: SettingWithCopyWarning: \n",
      "A value is trying to be set on a copy of a slice from a DataFrame.\n",
      "Try using .loc[row_indexer,col_indexer] = value instead\n",
      "\n",
      "See the caveats in the documentation: http://pandas.pydata.org/pandas-docs/stable/user_guide/indexing.html#returning-a-view-versus-a-copy\n",
      "  \n"
     ]
    }
   ],
   "source": [
    "# dfSA['binary_target'] = [1 if x==b'normal.' else -1 for x in dfSA[target]]\n",
    "df_if['binary_y'] = [1 if x==0 else -1 for x in df_if.crim_prop]"
   ]
  },
  {
   "cell_type": "code",
   "execution_count": 6,
   "metadata": {
    "ExecuteTime": {
     "end_time": "2020-01-24T01:45:43.362324Z",
     "start_time": "2020-01-24T01:45:43.342199Z"
    }
   },
   "outputs": [
    {
     "data": {
      "text/plain": [
       " 1    530876\n",
       "-1        47\n",
       "Name: binary_y, dtype: int64"
      ]
     },
     "execution_count": 6,
     "metadata": {},
     "output_type": "execute_result"
    }
   ],
   "source": [
    "df_if.binary_y.value_counts()"
   ]
  },
  {
   "cell_type": "code",
   "execution_count": 9,
   "metadata": {
    "ExecuteTime": {
     "end_time": "2020-01-24T01:46:29.387883Z",
     "start_time": "2020-01-24T01:46:28.733381Z"
    }
   },
   "outputs": [],
   "source": [
    "# Normalize\n",
    "X = df_if.iloc[:,:-2]\n",
    "X_norm = preprocessing.normalize(X)\n",
    "\n",
    "y = df_if.binary_y\n",
    "\n",
    "# Split the data into train and test\n",
    "X_train_norm, X_test_norm, y_train_norm, y_test_norm = train_test_split(\n",
    "    X_norm, y, test_size=0.33, random_state=42\n",
    ")"
   ]
  },
  {
   "cell_type": "code",
   "execution_count": 10,
   "metadata": {
    "ExecuteTime": {
     "end_time": "2020-01-24T01:46:36.033378Z",
     "start_time": "2020-01-24T01:46:36.029254Z"
    }
   },
   "outputs": [],
   "source": [
    "clf = IsolationForest(\n",
    "    max_samples=0.2,\n",
    "    n_estimators=100,\n",
    "    contamination=0.01,\n",
    "    random_state=42\n",
    ")"
   ]
  },
  {
   "cell_type": "code",
   "execution_count": 11,
   "metadata": {
    "ExecuteTime": {
     "end_time": "2020-01-24T01:47:22.745830Z",
     "start_time": "2020-01-24T01:46:42.627499Z"
    }
   },
   "outputs": [
    {
     "name": "stdout",
     "output_type": "stream",
     "text": [
      "CPU times: user 34.5 s, sys: 5.05 s, total: 39.6 s\n",
      "Wall time: 40.1 s\n"
     ]
    }
   ],
   "source": [
    "%%time\n",
    "# Fit the model\n",
    "clf.fit(X_train_norm,y_train_norm)\n",
    "# Predict\n",
    "y_pred_train = clf.predict(X_train_norm)"
   ]
  },
  {
   "cell_type": "code",
   "execution_count": 15,
   "metadata": {
    "ExecuteTime": {
     "end_time": "2020-01-24T01:49:56.529464Z",
     "start_time": "2020-01-24T01:49:56.177779Z"
    }
   },
   "outputs": [
    {
     "name": "stdout",
     "output_type": "stream",
     "text": [
      "                   precision    recall  f1-score   support\n",
      "\n",
      "criminally-linked     0.0017    0.2000    0.0033        30\n",
      "           normal     0.9999    0.9900    0.9949    355688\n",
      "\n",
      "         accuracy                         0.9899    355718\n",
      "        macro avg     0.5008    0.5950    0.4991    355718\n",
      "     weighted avg     0.9998    0.9899    0.9949    355718\n",
      "\n"
     ]
    }
   ],
   "source": [
    "print(classification_report(\n",
    "    y_train_norm,\n",
    "    y_pred_train,\n",
    "    zero_division=0,\n",
    "    digits=4,\n",
    "    target_names=['criminally-linked', 'normal']\n",
    "))"
   ]
  },
  {
   "cell_type": "code",
   "execution_count": 13,
   "metadata": {
    "ExecuteTime": {
     "end_time": "2020-01-24T01:48:36.649181Z",
     "start_time": "2020-01-24T01:48:36.553788Z"
    }
   },
   "outputs": [
    {
     "name": "stdout",
     "output_type": "stream",
     "text": [
      "0.9900137198893412\n"
     ]
    }
   ],
   "source": [
    "print(recall_score(\n",
    "    y_train_norm,\n",
    "    y_pred_train,\n",
    "    zero_division=0\n",
    "))"
   ]
  },
  {
   "cell_type": "code",
   "execution_count": 118,
   "metadata": {
    "ExecuteTime": {
     "end_time": "2020-01-24T02:37:47.715885Z",
     "start_time": "2020-01-24T02:37:47.706328Z"
    }
   },
   "outputs": [],
   "source": [
    "def plot_confusion_matrix(conf_matrix, title, classes=['criminally-linke', 'normal'],\n",
    "                          cmap=plt.cm.Oranges, save=False, saveas=\"MyFigure.png\"):\n",
    "    \n",
    "    # print Confusion matrix with blue gradient colours\n",
    "    \n",
    "    conf_matrix = conf_matrix.astype('float') / conf_matrix.sum(axis=1)[:, np.newaxis]\n",
    "    \n",
    "    plt.figure(figsize=(8,8))\n",
    "    plt.imshow(conf_matrix, interpolation='nearest', cmap=cmap)\n",
    "    plt.title(title,fontsize=18)\n",
    "    plt.colorbar()\n",
    "    tick_marks = np.arange(len(classes))\n",
    "    plt.xticks(tick_marks, classes, rotation=45,fontsize=11)\n",
    "    plt.yticks(tick_marks, classes, rotation=45, fontsize=11)\n",
    "\n",
    "    fmt = '.1%'\n",
    "    thresh = conf_matrix.max() / 2.\n",
    "    for i, j in itertools.product(range(conf_matrix.shape[0]), range(conf_matrix.shape[1])):\n",
    "        plt.text(j, i, format(conf_matrix[i, j], fmt),\n",
    "                 horizontalalignment=\"center\",\n",
    "                 verticalalignment=\"top\",\n",
    "                 fontsize=16,\n",
    "                 color=\"white\" if conf_matrix[i, j] > thresh else \"black\")\n",
    "\n",
    "    plt.tight_layout()\n",
    "    plt.ylabel('True label',fontsize=14, rotation=0)\n",
    "    plt.xlabel('Predicted label',fontsize=14)\n",
    "    \n",
    "    if save:\n",
    "        plt.savefig(saveas, dpi=100)"
   ]
  },
  {
   "cell_type": "code",
   "execution_count": 119,
   "metadata": {
    "ExecuteTime": {
     "end_time": "2020-01-24T02:37:55.840950Z",
     "start_time": "2020-01-24T02:37:55.305885Z"
    }
   },
   "outputs": [
    {
     "data": {
      "image/png": "[encoded data removed]",
      "text/plain": [
       "<Figure size 576x576 with 2 Axes>"
      ]
     },
     "metadata": {},
     "output_type": "display_data"
    }
   ],
   "source": [
    "conf_matrix = confusion_matrix(y_train_norm, y_pred_train)\n",
    "plot_confusion_matrix(conf_matrix, title='Isolation Forest Confusion Matrix',save=False)"
   ]
  },
  {
   "cell_type": "code",
   "execution_count": 120,
   "metadata": {
    "ExecuteTime": {
     "end_time": "2020-01-24T02:38:08.900623Z",
     "start_time": "2020-01-24T02:38:02.711471Z"
    }
   },
   "outputs": [
    {
     "data": {
      "image/png": "[encoded data removed]",
      "text/plain": [
       "<Figure size 576x576 with 2 Axes>"
      ]
     },
     "metadata": {},
     "output_type": "display_data"
    }
   ],
   "source": [
    "# Predict on test\n",
    "y_pred_test = clf.predict(X_test_norm)\n",
    "\n",
    "# Plot the results\n",
    "conf_matrix = confusion_matrix(y_test_norm, y_pred_test)\n",
    "plot_confusion_matrix(conf_matrix, title='Isolation Forest Confusion Matrix on Test',save=False)"
   ]
  },
  {
   "cell_type": "code",
   "execution_count": null,
   "metadata": {},
   "outputs": [],
   "source": []
  }
 ],
 "metadata": {
  "kernelspec": {
   "display_name": "Python [conda env:property_project_env] *",
   "language": "python",
   "name": "conda-env-property_project_env-py"
  },
  "language_info": {
   "codemirror_mode": {
    "name": "ipython",
    "version": 3
   },
   "file_extension": ".py",
   "mimetype": "text/x-python",
   "name": "python",
   "nbconvert_exporter": "python",
   "pygments_lexer": "ipython3",
   "version": "3.7.5"
  },
  "toc": {
   "base_numbering": 1,
   "nav_menu": {},
   "number_sections": false,
   "sideBar": true,
   "skip_h1_title": false,
   "title_cell": "Table of Contents",
   "title_sidebar": "Contents",
   "toc_cell": false,
   "toc_position": {},
   "toc_section_display": true,
   "toc_window_display": true
  },
  "varInspector": {
   "cols": {
    "lenName": 16,
    "lenType": 16,
    "lenVar": 40
   },
   "kernels_config": {
    "python": {
     "delete_cmd_postfix": "",
     "delete_cmd_prefix": "del ",
     "library": "var_list.py",
     "varRefreshCmd": "print(var_dic_list())"
    },
    "r": {
     "delete_cmd_postfix": ") ",
     "delete_cmd_prefix": "rm(",
     "library": "var_list.r",
     "varRefreshCmd": "cat(var_dic_list()) "
    }
   },
   "types_to_exclude": [
    "module",
    "function",
    "builtin_function_or_method",
    "instance",
    "_Feature"
   ],
   "window_display": false
  }
 },
 "nbformat": 4,
 "nbformat_minor": 2
}
